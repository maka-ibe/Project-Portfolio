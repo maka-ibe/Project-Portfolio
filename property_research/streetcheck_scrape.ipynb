{
 "cells": [
  {
   "cell_type": "code",
   "execution_count": 1,
   "metadata": {},
   "outputs": [],
   "source": [
    "import requests\n",
    "import pandas as pd\n",
    "from selenium import webdriver\n",
    "import os\n",
    "import re\n",
    "import pandas as pd"
   ]
  },
  {
   "cell_type": "code",
   "execution_count": 2,
   "metadata": {},
   "outputs": [],
   "source": [
    "url = 'https://www.streetcheck.co.uk/postcode/startingwith/e17'"
   ]
  },
  {
   "cell_type": "code",
   "execution_count": 3,
   "metadata": {},
   "outputs": [
    {
     "name": "stdout",
     "output_type": "stream",
     "text": [
      "chrome driver found\n"
     ]
    }
   ],
   "source": [
    "# Iterate through files to find path of driver \n",
    "\n",
    "is_folder = False\n",
    "\n",
    "start = os.path.dirname(os.path.abspath(os.curdir))\n",
    "chrome_driver_path= None\n",
    "while not is_folder:\n",
    "    if 'Development' in os.listdir(start):\n",
    "        filepath=start\n",
    "        is_folder=True\n",
    "        chrome_driver_path = os.path.join(start,'Development', 'chromedriver')\n",
    "        if 'chromedriver' in os.listdir(os.path.dirname(chrome_driver_path)):\n",
    "            print('chrome driver found')        \n",
    "    else:\n",
    "        start=os.path.dirname(start)"
   ]
  },
  {
   "cell_type": "code",
   "execution_count": 4,
   "metadata": {
    "scrolled": true
   },
   "outputs": [],
   "source": [
    "driver = webdriver.Chrome(executable_path=chrome_driver_path)"
   ]
  },
  {
   "cell_type": "code",
   "execution_count": 5,
   "metadata": {},
   "outputs": [],
   "source": [
    "driver.get(url)"
   ]
  },
  {
   "cell_type": "code",
   "execution_count": 6,
   "metadata": {},
   "outputs": [],
   "source": [
    "address_block = driver.find_element_by_id(\"main_inner\")"
   ]
  },
  {
   "cell_type": "code",
   "execution_count": 8,
   "metadata": {},
   "outputs": [],
   "source": [
    "# case sensitive, i.e. postcode must be upper case and must also contain a space\n",
    "postcode_regex = '([A-Z]{1,2}[0-9R][0-9A-Z]? [0-9][A-Z]{2})'"
   ]
  },
  {
   "cell_type": "code",
   "execution_count": 9,
   "metadata": {},
   "outputs": [],
   "source": [
    "# TODO: Find a way to get all the text that shows \"no longer in use\"? might be able to \n",
    "# eliminate old addresses by using the postcodes.io API\n",
    "\n",
    "addresses = []\n",
    "\n",
    "for i in address_block.find_elements_by_tag_name('p'):\n",
    "    d = {}\n",
    "#         print(i.text)\n",
    "    d['paragraph_text'] = i.text\n",
    "    for j in i.find_elements_by_tag_name('a'):\n",
    "        d['link_text'] = j.text\n",
    "        d['link'] = j.get_attribute('href')\n",
    "        addresses.append(d)\n",
    "#             print(j.text, j.get_attribute('href'))"
   ]
  },
  {
   "cell_type": "code",
   "execution_count": 12,
   "metadata": {},
   "outputs": [],
   "source": [
    "# TODO: Flag postcodes that are no longer in use\n",
    "\n",
    "# remove non address row \n",
    "addresses_cleaned = [a for a in addresses if re.search(postcode_regex, a['paragraph_text'])]\n",
    "\n",
    "for a in addresses_cleaned:\n",
    "    if re.search('no longer in use', a['paragraph_text'].lower()):\n",
    "        a['in_use'] = 0\n",
    "    else:\n",
    "        a['in_use'] = 1"
   ]
  },
  {
   "cell_type": "code",
   "execution_count": 13,
   "metadata": {},
   "outputs": [],
   "source": [
    "# TODO: Convert to list of dicts to data frame\n",
    "df = pd.DataFrame(addresses_cleaned)"
   ]
  },
  {
   "cell_type": "code",
   "execution_count": 14,
   "metadata": {},
   "outputs": [
    {
     "data": {
      "text/html": [
       "<div>\n",
       "<style scoped>\n",
       "    .dataframe tbody tr th:only-of-type {\n",
       "        vertical-align: middle;\n",
       "    }\n",
       "\n",
       "    .dataframe tbody tr th {\n",
       "        vertical-align: top;\n",
       "    }\n",
       "\n",
       "    .dataframe thead th {\n",
       "        text-align: right;\n",
       "    }\n",
       "</style>\n",
       "<table border=\"1\" class=\"dataframe\">\n",
       "  <thead>\n",
       "    <tr style=\"text-align: right;\">\n",
       "      <th></th>\n",
       "      <th>in_use</th>\n",
       "      <th>link</th>\n",
       "      <th>link_text</th>\n",
       "      <th>paragraph_text</th>\n",
       "    </tr>\n",
       "  </thead>\n",
       "  <tbody>\n",
       "    <tr>\n",
       "      <th>30</th>\n",
       "      <td>1</td>\n",
       "      <td>https://www.streetcheck.co.uk/postcode/e170bp</td>\n",
       "      <td>Waltham Forest, London, E17 0BP</td>\n",
       "      <td>Waltham Forest, London, E17 0BP</td>\n",
       "    </tr>\n",
       "    <tr>\n",
       "      <th>103</th>\n",
       "      <td>1</td>\n",
       "      <td>https://www.streetcheck.co.uk/postcode/e170gf</td>\n",
       "      <td>Waltham Forest, London, E17 0GF</td>\n",
       "      <td>Waltham Forest, London, E17 0GF</td>\n",
       "    </tr>\n",
       "    <tr>\n",
       "      <th>115</th>\n",
       "      <td>1</td>\n",
       "      <td>https://www.streetcheck.co.uk/postcode/e170gx</td>\n",
       "      <td>Waltham Forest, London, E17 0GX</td>\n",
       "      <td>Waltham Forest, London, E17 0GX</td>\n",
       "    </tr>\n",
       "    <tr>\n",
       "      <th>129</th>\n",
       "      <td>1</td>\n",
       "      <td>https://www.streetcheck.co.uk/postcode/e170hq</td>\n",
       "      <td>Waltham Forest, London, E17 0HQ</td>\n",
       "      <td>Waltham Forest, London, E17 0HQ</td>\n",
       "    </tr>\n",
       "    <tr>\n",
       "      <th>178</th>\n",
       "      <td>1</td>\n",
       "      <td>https://www.streetcheck.co.uk/postcode/e170nb</td>\n",
       "      <td>Waltham Forest, London, E17 0NB</td>\n",
       "      <td>Waltham Forest, London, E17 0NB</td>\n",
       "    </tr>\n",
       "  </tbody>\n",
       "</table>\n",
       "</div>"
      ],
      "text/plain": [
       "     in_use                                           link  \\\n",
       "30        1  https://www.streetcheck.co.uk/postcode/e170bp   \n",
       "103       1  https://www.streetcheck.co.uk/postcode/e170gf   \n",
       "115       1  https://www.streetcheck.co.uk/postcode/e170gx   \n",
       "129       1  https://www.streetcheck.co.uk/postcode/e170hq   \n",
       "178       1  https://www.streetcheck.co.uk/postcode/e170nb   \n",
       "\n",
       "                           link_text                   paragraph_text  \n",
       "30   Waltham Forest, London, E17 0BP  Waltham Forest, London, E17 0BP  \n",
       "103  Waltham Forest, London, E17 0GF  Waltham Forest, London, E17 0GF  \n",
       "115  Waltham Forest, London, E17 0GX  Waltham Forest, London, E17 0GX  \n",
       "129  Waltham Forest, London, E17 0HQ  Waltham Forest, London, E17 0HQ  \n",
       "178  Waltham Forest, London, E17 0NB  Waltham Forest, London, E17 0NB  "
      ]
     },
     "execution_count": 14,
     "metadata": {},
     "output_type": "execute_result"
    }
   ],
   "source": [
    "df[df['in_use']==1].head()"
   ]
  },
  {
   "cell_type": "code",
   "execution_count": 15,
   "metadata": {},
   "outputs": [
    {
     "data": {
      "text/html": [
       "<div>\n",
       "<style scoped>\n",
       "    .dataframe tbody tr th:only-of-type {\n",
       "        vertical-align: middle;\n",
       "    }\n",
       "\n",
       "    .dataframe tbody tr th {\n",
       "        vertical-align: top;\n",
       "    }\n",
       "\n",
       "    .dataframe thead th {\n",
       "        text-align: right;\n",
       "    }\n",
       "</style>\n",
       "<table border=\"1\" class=\"dataframe\">\n",
       "  <thead>\n",
       "    <tr style=\"text-align: right;\">\n",
       "      <th></th>\n",
       "      <th>in_use</th>\n",
       "    </tr>\n",
       "  </thead>\n",
       "  <tbody>\n",
       "    <tr>\n",
       "      <th>count</th>\n",
       "      <td>2672.000000</td>\n",
       "    </tr>\n",
       "    <tr>\n",
       "      <th>mean</th>\n",
       "      <td>0.555015</td>\n",
       "    </tr>\n",
       "    <tr>\n",
       "      <th>std</th>\n",
       "      <td>0.497057</td>\n",
       "    </tr>\n",
       "    <tr>\n",
       "      <th>min</th>\n",
       "      <td>0.000000</td>\n",
       "    </tr>\n",
       "    <tr>\n",
       "      <th>25%</th>\n",
       "      <td>0.000000</td>\n",
       "    </tr>\n",
       "    <tr>\n",
       "      <th>50%</th>\n",
       "      <td>1.000000</td>\n",
       "    </tr>\n",
       "    <tr>\n",
       "      <th>75%</th>\n",
       "      <td>1.000000</td>\n",
       "    </tr>\n",
       "    <tr>\n",
       "      <th>max</th>\n",
       "      <td>1.000000</td>\n",
       "    </tr>\n",
       "  </tbody>\n",
       "</table>\n",
       "</div>"
      ],
      "text/plain": [
       "            in_use\n",
       "count  2672.000000\n",
       "mean      0.555015\n",
       "std       0.497057\n",
       "min       0.000000\n",
       "25%       0.000000\n",
       "50%       1.000000\n",
       "75%       1.000000\n",
       "max       1.000000"
      ]
     },
     "execution_count": 15,
     "metadata": {},
     "output_type": "execute_result"
    }
   ],
   "source": [
    "df.describe()"
   ]
  },
  {
   "cell_type": "code",
   "execution_count": 16,
   "metadata": {},
   "outputs": [],
   "source": [
    "df.to_csv('e17_addresses.csv', index = False)"
   ]
  },
  {
   "cell_type": "code",
   "execution_count": 17,
   "metadata": {},
   "outputs": [],
   "source": [
    "# driver.close() # this will close a specific tab\n",
    "driver.quit() # this will close the entire browser"
   ]
  },
  {
   "cell_type": "code",
   "execution_count": null,
   "metadata": {},
   "outputs": [],
   "source": [
    "# TODO: geocode all postcodes"
   ]
  }
 ],
 "metadata": {
  "kernelspec": {
   "display_name": "Python 3",
   "language": "python",
   "name": "python3"
  },
  "language_info": {
   "codemirror_mode": {
    "name": "ipython",
    "version": 3
   },
   "file_extension": ".py",
   "mimetype": "text/x-python",
   "name": "python",
   "nbconvert_exporter": "python",
   "pygments_lexer": "ipython3",
   "version": "3.7.3"
  }
 },
 "nbformat": 4,
 "nbformat_minor": 2
}
