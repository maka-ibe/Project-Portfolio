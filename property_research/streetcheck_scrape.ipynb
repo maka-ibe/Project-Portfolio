{
 "cells": [
  {
   "cell_type": "code",
   "execution_count": 1,
   "metadata": {},
   "outputs": [],
   "source": [
    "import requests\n",
    "import pandas as pd\n",
    "# from bs4 import BeautifulSoup\n",
    "from selenium import webdriver\n",
    "import os\n",
    "import re"
   ]
  },
  {
   "cell_type": "code",
   "execution_count": 2,
   "metadata": {},
   "outputs": [],
   "source": [
    "url = 'https://www.streetcheck.co.uk/postcode/startingwith/e17'"
   ]
  },
  {
   "cell_type": "code",
   "execution_count": 3,
   "metadata": {},
   "outputs": [],
   "source": [
    "# r = requests.get(url)"
   ]
  },
  {
   "cell_type": "code",
   "execution_count": 4,
   "metadata": {},
   "outputs": [],
   "source": [
    "# r.status_code\n",
    "# returns 403 error which means The HTTP 403 Forbidden client error status response code indicates that the server understood the request but refuses to authorize it. "
   ]
  },
  {
   "cell_type": "code",
   "execution_count": 5,
   "metadata": {},
   "outputs": [],
   "source": [
    "# os.path.abspath(os.curdir)"
   ]
  },
  {
   "cell_type": "code",
   "execution_count": 6,
   "metadata": {},
   "outputs": [],
   "source": [
    "# os.path.dirname(os.path.abspath(os.curdir))"
   ]
  },
  {
   "cell_type": "code",
   "execution_count": 7,
   "metadata": {},
   "outputs": [],
   "source": [
    "# os.listdir(os.path.dirname(os.path.abspath(os.curdir)))"
   ]
  },
  {
   "cell_type": "code",
   "execution_count": 8,
   "metadata": {},
   "outputs": [
    {
     "name": "stdout",
     "output_type": "stream",
     "text": [
      "chrome driver found\n"
     ]
    }
   ],
   "source": [
    "# want to iterate through several root files if to find  \n",
    "# Development folder which has the chrome driver in it \n",
    "\n",
    "is_folder = False\n",
    "# dir_list = None\n",
    "start = os.path.dirname(os.path.abspath(os.curdir))\n",
    "chrome_driver_path= None\n",
    "while not is_folder:\n",
    "    if 'Development' in os.listdir(start):\n",
    "        filepath=start\n",
    "        is_folder=True\n",
    "#         print(start)\n",
    "#         print(os.listdir(start))\n",
    "#         print(os.path.join(start,'Development'))\n",
    "        chrome_driver_path = os.path.join(start,'Development', 'chromedriver')\n",
    "#         print(chrome_driver_path)\n",
    "        if 'chromedriver' in os.listdir(os.path.dirname(chrome_driver_path)):\n",
    "            print('chrome driver found')        \n",
    "    else:\n",
    "        start=os.path.dirname(start)"
   ]
  },
  {
   "cell_type": "code",
   "execution_count": 49,
   "metadata": {
    "scrolled": true
   },
   "outputs": [],
   "source": [
    "driver = webdriver.Chrome(executable_path=chrome_driver_path)"
   ]
  },
  {
   "cell_type": "code",
   "execution_count": 50,
   "metadata": {},
   "outputs": [],
   "source": [
    "driver.get(url)"
   ]
  },
  {
   "cell_type": "code",
   "execution_count": 51,
   "metadata": {},
   "outputs": [],
   "source": [
    "address_block = driver.find_element_by_id(\"main_inner\")"
   ]
  },
  {
   "cell_type": "code",
   "execution_count": 12,
   "metadata": {},
   "outputs": [],
   "source": [
    "# address_list = []\n",
    "# for i in addresses.find_elements_by_tag_name('a'):\n",
    "#     address_list.append((i.text, i.get_attribute('href')))\n",
    "# #     print(i.text)\n",
    "# #     print(i.get_attribute('href'))"
   ]
  },
  {
   "cell_type": "code",
   "execution_count": 34,
   "metadata": {},
   "outputs": [],
   "source": [
    "# case sensitive, i.e. postcode must be upper case and must also contain a space\n",
    "# postcode_regex = '([A-Z]{1,2}[0-9R][0-9A-Z]? [0-9][A-Z]{2})'"
   ]
  },
  {
   "cell_type": "code",
   "execution_count": 27,
   "metadata": {},
   "outputs": [
    {
     "data": {
      "text/plain": [
       "<re.Match object; span=(0, 7), match='N18 2AH'>"
      ]
     },
     "execution_count": 27,
     "metadata": {},
     "output_type": "execute_result"
    }
   ],
   "source": [
    "# re.search(postcode_regex, 'N18 2AH ggbfhdd')"
   ]
  },
  {
   "cell_type": "code",
   "execution_count": 13,
   "metadata": {
    "scrolled": false
   },
   "outputs": [],
   "source": [
    "# address_list[:10]"
   ]
  },
  {
   "cell_type": "code",
   "execution_count": 52,
   "metadata": {},
   "outputs": [],
   "source": [
    "# TODO: Find a way to get all the text that shows \"no longer in use\"? might be able to \n",
    "# eliminate old addresses by using the postcodes.io API\n",
    "\n",
    "addresses = []\n",
    "\n",
    "for i in address_block.find_elements_by_tag_name('p'):\n",
    "    d = {}\n",
    "#         print(i.text)\n",
    "    d['paragraph_text'] = i.text\n",
    "    for j in i.find_elements_by_tag_name('a'):\n",
    "        d['link_text'] = j.text\n",
    "        d['link'] = j.get_attribute('href')\n",
    "        addresses.append(d)\n",
    "#             print(j.text, j.get_attribute('href'))\n",
    "#     address_list.append((i.text, i.get_attribute('href')))\n",
    "#     print(i.text)\n",
    "#     print(i.get_attribute('href'))"
   ]
  },
  {
   "cell_type": "code",
   "execution_count": 55,
   "metadata": {},
   "outputs": [
    {
     "name": "stdout",
     "output_type": "stream",
     "text": [
      "{'paragraph_text': 'Below are all of the active postcodes that we currently have on file for the E17 postcode district. The list also includes expired postcodes that we may have data for (those that have been discontinued by Royal Mail). We maintain several years of data on expired codes. Click here to view demographic information about E17 as a whole.', 'link_text': 'Click here to view demographic information about E17 as a whole', 'link': 'https://www.streetcheck.co.uk/postcodedistrict/e17'} \\n ---------------\n",
      "{'paragraph_text': 'London, E17 0AA (No Longer In Use)', 'link_text': 'London, E17 0AA', 'link': 'https://www.streetcheck.co.uk/postcode/e170aa'} \\n ---------------\n",
      "{'paragraph_text': 'London, E17 0AB (No Longer In Use)', 'link_text': 'London, E17 0AB', 'link': 'https://www.streetcheck.co.uk/postcode/e170ab'} \\n ---------------\n",
      "{'paragraph_text': 'London, E17 0AD (No Longer In Use)', 'link_text': 'London, E17 0AD', 'link': 'https://www.streetcheck.co.uk/postcode/e170ad'} \\n ---------------\n",
      "{'paragraph_text': 'London, E17 0AE (No Longer In Use)', 'link_text': 'London, E17 0AE', 'link': 'https://www.streetcheck.co.uk/postcode/e170ae'} \\n ---------------\n"
     ]
    }
   ],
   "source": [
    "for i in addresses[:5]:\n",
    "    print(i, r'\\n ---------------')"
   ]
  },
  {
   "cell_type": "code",
   "execution_count": null,
   "metadata": {},
   "outputs": [],
   "source": [
    "# TODO: Remove postcodes that are no longer in use\n",
    "# TODO: Convert to list of dicts to data frame"
   ]
  },
  {
   "cell_type": "code",
   "execution_count": null,
   "metadata": {},
   "outputs": [],
   "source": [
    "# addr = driver.find_element_by_class_name('')"
   ]
  },
  {
   "cell_type": "code",
   "execution_count": 48,
   "metadata": {},
   "outputs": [],
   "source": [
    "# driver.close() # this will close a specific tab\n",
    "driver.quit() # this will close the entire browser"
   ]
  },
  {
   "cell_type": "code",
   "execution_count": null,
   "metadata": {},
   "outputs": [],
   "source": []
  }
 ],
 "metadata": {
  "kernelspec": {
   "display_name": "Python 3",
   "language": "python",
   "name": "python3"
  },
  "language_info": {
   "codemirror_mode": {
    "name": "ipython",
    "version": 3
   },
   "file_extension": ".py",
   "mimetype": "text/x-python",
   "name": "python",
   "nbconvert_exporter": "python",
   "pygments_lexer": "ipython3",
   "version": "3.7.3"
  }
 },
 "nbformat": 4,
 "nbformat_minor": 2
}
