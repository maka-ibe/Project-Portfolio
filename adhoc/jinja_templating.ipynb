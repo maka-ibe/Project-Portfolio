{
 "cells": [
  {
   "cell_type": "code",
   "execution_count": 1,
   "metadata": {},
   "outputs": [],
   "source": [
    "from jinja2 import Template"
   ]
  },
  {
   "cell_type": "code",
   "execution_count": 7,
   "metadata": {},
   "outputs": [
    {
     "name": "stdout",
     "output_type": "stream",
     "text": [
      "\n",
      "SELECT\n",
      "    date_,\n",
      "    SUM(CASE WHEN event_type = 'send' THEN 1 END) AS num_send,\n",
      "    SUM(CASE WHEN event_type = 'deliver' THEN 1 END) AS num_deliver,\n",
      "    SUM(CASE WHEN event_type = 'open' THEN 1 END) AS num_open,\n",
      "    SUM(CASE WHEN event_type = 'click' THEN 1 END) AS num_click\n",
      "FROM raw_events\n",
      "GROUP BY 1\n",
      "ORDER BY 1 ASC\n"
     ]
    }
   ],
   "source": [
    "sql = \"\"\"\n",
    "SELECT\n",
    "    date_,\n",
    "    {%- for event in events %}\n",
    "    SUM(CASE WHEN event_type = '{{event}}' THEN 1 END) AS num_{{event}}\n",
    "    {%- if not loop.last -%}\n",
    "        , \n",
    "    {%- endif -%}\n",
    "    {%- endfor %}\n",
    "FROM raw_events\n",
    "GROUP BY 1\n",
    "ORDER BY 1 ASC\n",
    "\"\"\"\n",
    "\n",
    "print(Template(sql).render(events=['send', 'deliver', 'open', 'click']))"
   ]
  },
  {
   "cell_type": "code",
   "execution_count": 8,
   "metadata": {},
   "outputs": [
    {
     "name": "stdout",
     "output_type": "stream",
     "text": [
      "\n",
      "SELECT\n",
      "    date_,\n",
      "    SUM(CASE WHEN business = 'amazon' THEN 1 END) AS num_amazon,\n",
      "    SUM(CASE WHEN business = 'netflix' THEN 1 END) AS num_netflix,\n",
      "    SUM(CASE WHEN business = 'facebook' THEN 1 END) AS num_facebook,\n",
      "    SUM(CASE WHEN business = 'google' THEN 1 END) AS num_google,\n",
      "    SUM(CASE WHEN business = 'spotify' THEN 1 END) AS num_spotify\n",
      "FROM businesses\n",
      "GROUP BY 1\n",
      "ORDER BY 1 ASC\n"
     ]
    }
   ],
   "source": [
    "sql = \"\"\"\n",
    "SELECT\n",
    "    date_,\n",
    "    {%- for b in business %}\n",
    "    SUM(CASE WHEN business = '{{b}}' THEN 1 END) AS num_{{b}}\n",
    "    {%- if not loop.last -%}\n",
    "        , \n",
    "    {%- endif -%}\n",
    "    {%- endfor %}\n",
    "FROM businesses\n",
    "GROUP BY 1\n",
    "ORDER BY 1 ASC\n",
    "\"\"\"\n",
    "\n",
    "print(Template(sql).render(business=['amazon'\n",
    "                                     , 'netflix'\n",
    "                                     , 'facebook'\n",
    "                                     , 'google'\n",
    "                                     , 'spotify']))"
   ]
  },
  {
   "cell_type": "code",
   "execution_count": null,
   "metadata": {},
   "outputs": [],
   "source": []
  }
 ],
 "metadata": {
  "kernelspec": {
   "display_name": "Python 3",
   "language": "python",
   "name": "python3"
  },
  "language_info": {
   "codemirror_mode": {
    "name": "ipython",
    "version": 3
   },
   "file_extension": ".py",
   "mimetype": "text/x-python",
   "name": "python",
   "nbconvert_exporter": "python",
   "pygments_lexer": "ipython3",
   "version": "3.7.3"
  }
 },
 "nbformat": 4,
 "nbformat_minor": 2
}
