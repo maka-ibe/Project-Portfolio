{
 "cells": [
  {
   "cell_type": "code",
   "execution_count": null,
   "metadata": {},
   "outputs": [],
   "source": [
    "import pandas as pd"
   ]
  },
  {
   "cell_type": "code",
   "execution_count": 1,
   "metadata": {},
   "outputs": [],
   "source": [
    "#TODO 1. Create a dictionary in this format:\n",
    "{\"A\": \"Alfa\", \"B\": \"Bravo\"}"
   ]
  },
  {
   "cell_type": "code",
   "execution_count": 2,
   "metadata": {},
   "outputs": [
    {
     "data": {
      "text/html": [
       "<div>\n",
       "<style scoped>\n",
       "    .dataframe tbody tr th:only-of-type {\n",
       "        vertical-align: middle;\n",
       "    }\n",
       "\n",
       "    .dataframe tbody tr th {\n",
       "        vertical-align: top;\n",
       "    }\n",
       "\n",
       "    .dataframe thead th {\n",
       "        text-align: right;\n",
       "    }\n",
       "</style>\n",
       "<table border=\"1\" class=\"dataframe\">\n",
       "  <thead>\n",
       "    <tr style=\"text-align: right;\">\n",
       "      <th></th>\n",
       "      <th>letter</th>\n",
       "      <th>code</th>\n",
       "    </tr>\n",
       "  </thead>\n",
       "  <tbody>\n",
       "    <tr>\n",
       "      <th>0</th>\n",
       "      <td>A</td>\n",
       "      <td>Alfa</td>\n",
       "    </tr>\n",
       "    <tr>\n",
       "      <th>1</th>\n",
       "      <td>B</td>\n",
       "      <td>Bravo</td>\n",
       "    </tr>\n",
       "    <tr>\n",
       "      <th>2</th>\n",
       "      <td>C</td>\n",
       "      <td>Charlie</td>\n",
       "    </tr>\n",
       "    <tr>\n",
       "      <th>3</th>\n",
       "      <td>D</td>\n",
       "      <td>Delta</td>\n",
       "    </tr>\n",
       "    <tr>\n",
       "      <th>4</th>\n",
       "      <td>E</td>\n",
       "      <td>Echo</td>\n",
       "    </tr>\n",
       "  </tbody>\n",
       "</table>\n",
       "</div>"
      ],
      "text/plain": [
       "  letter     code\n",
       "0      A     Alfa\n",
       "1      B    Bravo\n",
       "2      C  Charlie\n",
       "3      D    Delta\n",
       "4      E     Echo"
      ]
     },
     "execution_count": 2,
     "metadata": {},
     "output_type": "execute_result"
    }
   ],
   "source": [
    "# read in data\n",
    "nato_alph = pd.read_csv('./nato_phonetic_alphabet.csv')\n",
    "nato_alph.head()"
   ]
  },
  {
   "cell_type": "code",
   "execution_count": 9,
   "metadata": {},
   "outputs": [
    {
     "name": "stdout",
     "output_type": "stream",
     "text": [
      "A Alfa\n",
      "B Bravo\n",
      "C Charlie\n",
      "D Delta\n",
      "E Echo\n",
      "F Foxtrot\n",
      "G Golf\n",
      "H Hotel\n",
      "I India\n",
      "J Juliet\n",
      "K Kilo\n",
      "L Lima\n",
      "M Mike\n",
      "N November\n",
      "O Oscar\n",
      "P Papa\n",
      "Q Quebec\n",
      "R Romeo\n",
      "S Sierra\n",
      "T Tango\n",
      "U Uniform\n",
      "V Victor\n",
      "W Whiskey\n",
      "X X-ray\n",
      "Y Yankee\n",
      "Z Zulu\n"
     ]
    }
   ],
   "source": [
    "# set what .itertuples returns\n",
    "for letter, code in nato_alph.itertuples(index=False):\n",
    "    print(letter, code)"
   ]
  },
  {
   "cell_type": "code",
   "execution_count": 11,
   "metadata": {},
   "outputs": [
    {
     "data": {
      "text/plain": [
       "{'A': 'Alfa',\n",
       " 'B': 'Bravo',\n",
       " 'C': 'Charlie',\n",
       " 'D': 'Delta',\n",
       " 'E': 'Echo',\n",
       " 'F': 'Foxtrot',\n",
       " 'G': 'Golf',\n",
       " 'H': 'Hotel',\n",
       " 'I': 'India',\n",
       " 'J': 'Juliet',\n",
       " 'K': 'Kilo',\n",
       " 'L': 'Lima',\n",
       " 'M': 'Mike',\n",
       " 'N': 'November',\n",
       " 'O': 'Oscar',\n",
       " 'P': 'Papa',\n",
       " 'Q': 'Quebec',\n",
       " 'R': 'Romeo',\n",
       " 'S': 'Sierra',\n",
       " 'T': 'Tango',\n",
       " 'U': 'Uniform',\n",
       " 'V': 'Victor',\n",
       " 'W': 'Whiskey',\n",
       " 'X': 'X-ray',\n",
       " 'Y': 'Yankee',\n",
       " 'Z': 'Zulu'}"
      ]
     },
     "execution_count": 11,
     "metadata": {},
     "output_type": "execute_result"
    }
   ],
   "source": [
    "nato_dict = {letter:code for letter, code in nato_alph.itertuples(index=False)}\n",
    "nato_dict"
   ]
  },
  {
   "cell_type": "code",
   "execution_count": null,
   "metadata": {},
   "outputs": [],
   "source": [
    "#TODO 2. Create a list of the phonetic code words from a word that the user inputs."
   ]
  },
  {
   "cell_type": "code",
   "execution_count": 20,
   "metadata": {},
   "outputs": [
    {
     "name": "stdout",
     "output_type": "stream",
     "text": [
      "Enter a word: \n",
      "Jennifer\n"
     ]
    }
   ],
   "source": [
    "user_input = input(\"Enter a word: \\n\")"
   ]
  },
  {
   "cell_type": "code",
   "execution_count": 23,
   "metadata": {},
   "outputs": [],
   "source": [
    "def get_nato_alph():\n",
    "    text = [letter.upper() for letter in user_input]\n",
    "    output = [nato_dict[letter] for letter in text]\n",
    "    return output"
   ]
  },
  {
   "cell_type": "code",
   "execution_count": 24,
   "metadata": {},
   "outputs": [
    {
     "data": {
      "text/plain": [
       "['Juliet', 'Echo', 'November', 'November', 'India', 'Foxtrot', 'Echo', 'Romeo']"
      ]
     },
     "execution_count": 24,
     "metadata": {},
     "output_type": "execute_result"
    }
   ],
   "source": [
    "get_nato_alph()"
   ]
  }
 ],
 "metadata": {
  "kernelspec": {
   "display_name": "Python 3",
   "language": "python",
   "name": "python3"
  },
  "language_info": {
   "codemirror_mode": {
    "name": "ipython",
    "version": 3
   },
   "file_extension": ".py",
   "mimetype": "text/x-python",
   "name": "python",
   "nbconvert_exporter": "python",
   "pygments_lexer": "ipython3",
   "version": "3.7.3"
  }
 },
 "nbformat": 4,
 "nbformat_minor": 2
}
