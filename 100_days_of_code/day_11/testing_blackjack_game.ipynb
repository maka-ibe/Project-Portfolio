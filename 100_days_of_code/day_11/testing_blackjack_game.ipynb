{
 "cells": [
  {
   "cell_type": "code",
   "execution_count": 1,
   "metadata": {},
   "outputs": [
    {
     "name": "stdout",
     "output_type": "stream",
     "text": [
      "Do you want to play a game of Blackjack? Type 'y' or 'n':\n",
      "y\n",
      "y\n"
     ]
    }
   ],
   "source": [
    "start_game = input(\"Do you want to play a game of Blackjack? Type 'y' or 'n':\\n\")\n",
    "print(start_game)"
   ]
  },
  {
   "cell_type": "code",
   "execution_count": 2,
   "metadata": {},
   "outputs": [],
   "source": [
    "cards = [11, 2, 3, 4, 5, 6, 7, 8, 9, 10, 10, 10, 10]\n",
    "import random\n",
    "def deal_card():\n",
    "    output = random.choice(cards)\n",
    "    return output"
   ]
  },
  {
   "cell_type": "code",
   "execution_count": 3,
   "metadata": {},
   "outputs": [
    {
     "name": "stdout",
     "output_type": "stream",
     "text": [
      "[7, 10]\n",
      "[5, 3]\n"
     ]
    }
   ],
   "source": [
    "user_cards = []\n",
    "computer_cards = []\n",
    "\n",
    "for i in range(2):\n",
    "\tuser_cards.append(deal_card())\n",
    "\tcomputer_cards.append(deal_card())\n",
    "\n",
    "print(user_cards)\n",
    "print(computer_cards)"
   ]
  },
  {
   "cell_type": "code",
   "execution_count": 10,
   "metadata": {},
   "outputs": [],
   "source": [
    "msg = f\"Your cards: {user_cards}, current score: {sum(user_cards)} \\nComputer's first card: {computer_cards[0]}\""
   ]
  },
  {
   "cell_type": "code",
   "execution_count": 11,
   "metadata": {},
   "outputs": [
    {
     "name": "stdout",
     "output_type": "stream",
     "text": [
      "Your cards: [7, 10], current score: 17 \n",
      "Computer's first card: 5\n"
     ]
    }
   ],
   "source": [
    "print(msg)"
   ]
  },
  {
   "cell_type": "code",
   "execution_count": null,
   "metadata": {},
   "outputs": [],
   "source": []
  }
 ],
 "metadata": {
  "kernelspec": {
   "display_name": "Python 3",
   "language": "python",
   "name": "python3"
  },
  "language_info": {
   "codemirror_mode": {
    "name": "ipython",
    "version": 3
   },
   "file_extension": ".py",
   "mimetype": "text/x-python",
   "name": "python",
   "nbconvert_exporter": "python",
   "pygments_lexer": "ipython3",
   "version": "3.7.3"
  }
 },
 "nbformat": 4,
 "nbformat_minor": 2
}
