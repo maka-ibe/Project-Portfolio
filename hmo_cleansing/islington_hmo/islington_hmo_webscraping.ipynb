{
 "cells": [
  {
   "cell_type": "code",
   "execution_count": 1,
   "metadata": {},
   "outputs": [],
   "source": [
    "from bs4 import BeautifulSoup\n",
    "import re\n",
    "import pandas as pd\n",
    "import requests\n",
    "import time\n",
    "from concurrent.futures import ProcessPoolExecutor, as_completed\n",
    "import os\n",
    "import datetime as dt"
   ]
  },
  {
   "cell_type": "code",
   "execution_count": 3,
   "metadata": {},
   "outputs": [
    {
     "name": "stdout",
     "output_type": "stream",
     "text": [
      "https://planning.islington.gov.uk/Northgate/Online/EGov/License_Registers/StdResults.aspx?PT=M3%20Licensing%20Online&SC=Licence%20Type%20is%20RL01&FT=Licence%20Registers%20Search%20Results&XMLSIDE=/Northgate/SiteFiles/OnlineMenus/Licensing/Licensing.xml&XSLTemplate=/Northgate/SiteFiles/Skins/Islington/xslt/Licensing/LicenceRegistersSearchResults.xsl&PS=10&XMLLoc=/Northgate/Online/generic/XMLtemp/idgenv55c5v3bg45p5ojly55/3d283e8f-cdec-4983-9a90-859ce8d4da1f.xml\n"
     ]
    }
   ],
   "source": [
    "original_url = ('http://planning.islington.gov.uk/Northgate/Online/EGov/License_Registers/'\n",
    "'StdResults.aspx?PT=M3%20Licensing%20Online&PS=10&XMLLoc=/Northgate/Online/generic/XMLtemp/'\n",
    "'ipjvhjv1cueqf355kvdo4j45/dc52ccf4-f60d-4796-8726-75d4fd896398.xml&FT=Licence%20Registers%20Search%20'\n",
    "'Results&XSLTemplate=/Northgate/SiteFiles/Skins/Islington/xslt/Licensing/LicenceRegistersSearchResults.xsl&p=0')\n",
    "print(original_url)"
   ]
  },
  {
   "cell_type": "code",
   "execution_count": 6,
   "metadata": {},
   "outputs": [
    {
     "data": {
      "text/plain": [
       "'https://planning.islington.gov.uk/Northgate/Online/EGov/License_Registers/StdResults.aspx?PT=M3%20Licensing%20Online&SC=Licence%20Type%20is%20RL01&FT=Licence%20Registers%20Search%20Results&XMLSIDE=/Northgate/SiteFiles/OnlineMenus/Licensing/Licensing.xml&XSLTemplate=/Northgate/SiteFiles/Skins/Islington/xslt/Licensing/LicenceRegistersSearchResults.xsl&PS=10&XMLLoc=/Northgate/Online/generic/XMLtemp/idgenv55c5v3bg45p5ojly55/3d283e8f-cdec-4983-9a90-859ce8d4da1f.xml'"
      ]
     },
     "execution_count": 6,
     "metadata": {},
     "output_type": "execute_result"
    }
   ],
   "source": [
    "original_url = ('https://planning.islington.gov.uk/Northgate/Online/EGov/License_Registers/StdResults.aspx?PT=M3%20Licensing%20Online&SC=Licence%20Type%20is%20RL01&FT=Licence%20Registers%20Search%20Results&XMLSIDE=/Northgate/SiteFiles/OnlineMenus/Licensing/Licensing.xml&XSLTemplate=/Northgate/SiteFiles/Skins/Islington/xslt/Licensing/LicenceRegistersSearchResults.xsl&PS=10&XMLLoc=/Northgate/Online/generic/XMLtemp/idgenv55c5v3bg45p5ojly55/3d283e8f-cdec-4983-9a90-859ce8d4da1f.xml')\n",
    "original_url"
   ]
  },
  {
   "cell_type": "code",
   "execution_count": 7,
   "metadata": {},
   "outputs": [
    {
     "name": "stdout",
     "output_type": "stream",
     "text": [
      "https://planning.islington.gov.uk/Northgate/Online/EGov/License_Registers/StdResults.aspx?PT=M3%20Licensing%20Online&SC=Licence%20Type%20is%20RL01&FT=Licence%20Registers%20Search%20Results&XMLSIDE=/Northgate/SiteFiles/OnlineMenus/Licensing/Licensing.xml&XSLTemplate=/Northgate/SiteFiles/Skins/Islington/xslt/Licensing/LicenceRegistersSearchResults.xsl&PS=\n"
     ]
    }
   ],
   "source": [
    "first_part = original_url[:original_url.find('PS=10')+3]\n",
    "print(first_part)"
   ]
  },
  {
   "cell_type": "code",
   "execution_count": 8,
   "metadata": {
    "scrolled": true
   },
   "outputs": [
    {
     "name": "stdout",
     "output_type": "stream",
     "text": [
      "\n"
     ]
    }
   ],
   "source": [
    "third_part = original_url[original_url.find('PS=10')+5:original_url.find('.xsl&p=0')+7]\n",
    "print(third_part)"
   ]
  },
  {
   "cell_type": "code",
   "execution_count": 9,
   "metadata": {},
   "outputs": [],
   "source": [
    "link_template = 'http://planning.islington.gov.uk/Northgate/Online/EGov/License_Registers/'"
   ]
  },
  {
   "cell_type": "code",
   "execution_count": 17,
   "metadata": {},
   "outputs": [],
   "source": [
    "def make_soup(url):\n",
    "    html = requests.get(url)\n",
    "    return BeautifulSoup(html.text, 'lxml')"
   ]
  },
  {
   "cell_type": "code",
   "execution_count": 15,
   "metadata": {},
   "outputs": [],
   "source": [
    "soup = make_soup(original_url)"
   ]
  },
  {
   "cell_type": "code",
   "execution_count": 16,
   "metadata": {},
   "outputs": [
    {
     "data": {
      "text/plain": [
       "<?xml version=\"1.0\" encoding=\"utf-8\"?>\n",
       "<html>\n",
       "<head>\n",
       "<title>Input string was not in a correct format.</title>\n",
       "<style>\n",
       "         body {font-family:\"Verdana\";font-weight:normal;font-size: .7em;color:black;} \n",
       "         p {font-family:\"Verdana\";font-weight:normal;color:black;margin-top: -5px}\n",
       "         b {font-family:\"Verdana\";font-weight:bold;color:black;margin-top: -5px}\n",
       "         H1 { font-family:\"Verdana\";font-weight:normal;font-size:18pt;color:red }\n",
       "         H2 { font-family:\"Verdana\";font-weight:normal;font-size:14pt;color:maroon }\n",
       "         pre {font-family:\"Lucida Console\";font-size: .9em}\n",
       "         .marker {font-weight: bold; color: black;text-decoration: none;}\n",
       "         .version {color: gray;}\n",
       "         .error {margin-bottom: 10px;}\n",
       "         .expandable { text-decoration:underline; font-weight:bold; color:navy; cursor:hand; }\n",
       "        </style>\n",
       "</head>\n",
       "<body bgcolor=\"white\">\n",
       "<span><H1>Server Error in '/Northgate/Online/EGov/License_Registers' Application.<hr>100% size=1 color=silver&gt;</hr>\n",
       "<h2> <i>Input string was not in a correct format.</i> </h2></H1>\n",
       "<font face=\"Arial, Helvetica, Geneva, SunSans-Regular, sans-serif \">\n",
       "<b> Description: </b>An unhandled exception occurred during the execution of the current web request. Please review the stack trace for more information about the error and where it originated in the code.\n",
       "\n",
       "            <br/><br/>\n",
       "<b> Exception Details: </b>System.FormatException: Input string was not in a correct format.<br/><br/>\n",
       "<b>Source Error:</b> <br/><br/>\n",
       "<table>100% bgcolor=\"#ffffcc\"&gt;\n",
       "               <tr>\n",
       "<td>\n",
       "<code>\n",
       "\n",
       "An unhandled exception was generated during the execution of the current web request. Information regarding the origin and location of the exception can be identified using the exception stack trace below.</code>\n",
       "</td>\n",
       "</tr>\n",
       "</table>\n",
       "<br/>\n",
       "<b>Stack Trace:</b> <br/><br/>\n",
       "<table>100% bgcolor=\"#ffffcc\"&gt;\n",
       "               <tr>\n",
       "<td>\n",
       "<code><pre>\n",
       "\n",
       "[FormatException: Input string was not in a correct format.]\n",
       "   System.Number.StringToNumber(String str, NumberStyles options, NumberBuffer number, NumberFormatInfo info, Boolean parseDecimal) +10185683\n",
       "   System.Number.ParseInt32(String s, NumberStyles style, NumberFormatInfo info) +207\n",
       "   System.Convert.ToInt32(String value) +46\n",
       "   MVM.Online.Generic.StdResults.DoTransform() +234\n",
       "   MVM.Online.Generic.StdResults.Page_Load(Object sender, EventArgs e) +1076\n",
       "   System.Web.UI.Control.OnLoad(EventArgs e) +132\n",
       "   System.Web.UI.Control.LoadRecursive() +66\n",
       "   System.Web.UI.Page.ProcessRequestMain(Boolean includeStagesBeforeAsyncPoint, Boolean includeStagesAfterAsyncPoint) +2428\n",
       "</pre></code>\n",
       "</td>\n",
       "</tr>\n",
       "</table>\n",
       "<br/>\n",
       "<hr>100% size=1 color=silver&gt;\n",
       "\n",
       "            <b>Version Information:</b>Microsoft .NET Framework Version:2.0.50727.8810; ASP.NET Version:2.0.50727.8762\n",
       "\n",
       "            </hr>\n",
       "</font>\n",
       "</span>\n",
       "<!-- \n",
       "[FormatException]: Input string was not in a correct format.\n",
       "   at System.Number.StringToNumber(String str, NumberStyles options, NumberBuffer& number, NumberFormatInfo info, Boolean parseDecimal)\n",
       "   at System.Number.ParseInt32(String s, NumberStyles style, NumberFormatInfo info)\n",
       "   at System.Convert.ToInt32(String value)\n",
       "   at MVM.Online.Generic.StdResults.DoTransform()\n",
       "   at MVM.Online.Generic.StdResults.Page_Load(Object sender, EventArgs e)\n",
       "   at System.Web.UI.Control.OnLoad(EventArgs e)\n",
       "   at System.Web.UI.Control.LoadRecursive()\n",
       "   at System.Web.UI.Page.ProcessRequestMain(Boolean includeStagesBeforeAsyncPoint, Boolean includeStagesAfterAsyncPoint)\n",
       "[HttpUnhandledException]: Exception of type 'System.Web.HttpUnhandledException' was thrown.\n",
       "   at System.Web.UI.Page.HandleError(Exception e)\n",
       "   at System.Web.UI.Page.ProcessRequestMain(Boolean includeStagesBeforeAsyncPoint, Boolean includeStagesAfterAsyncPoint)\n",
       "   at System.Web.UI.Page.ProcessRequest(Boolean includeStagesBeforeAsyncPoint, Boolean includeStagesAfterAsyncPoint)\n",
       "   at System.Web.UI.Page.ProcessRequest()\n",
       "   at System.Web.UI.Page.ProcessRequest(HttpContext context)\n",
       "   at ASP.stdresults_aspx.ProcessRequest(HttpContext context)\n",
       "   at System.Web.HttpApplication.CallHandlerExecutionStep.System.Web.HttpApplication.IExecutionStep.Execute()\n",
       "   at System.Web.HttpApplication.ExecuteStep(IExecutionStep step, Boolean& completedSynchronously)\n",
       "--><!-- \n",
       "This error page might contain sensitive information because ASP.NET is configured to show verbose error messages using &lt;customErrors mode=\"Off\"/&gt;. Consider using &lt;customErrors mode=\"On\"/&gt; or &lt;customErrors mode=\"RemoteOnly\"/&gt; in production environments.--></body></html>"
      ]
     },
     "execution_count": 16,
     "metadata": {},
     "output_type": "execute_result"
    }
   ],
   "source": [
    "soup"
   ]
  },
  {
   "cell_type": "code",
   "execution_count": 12,
   "metadata": {},
   "outputs": [
    {
     "ename": "IndexError",
     "evalue": "list index out of range",
     "output_type": "error",
     "traceback": [
      "\u001b[0;31m---------------------------------------------------------------------------\u001b[0m",
      "\u001b[0;31mIndexError\u001b[0m                                Traceback (most recent call last)",
      "\u001b[0;32m<ipython-input-12-1d4a726abc17>\u001b[0m in \u001b[0;36m<module>\u001b[0;34m\u001b[0m\n\u001b[0;32m----> 1\u001b[0;31m \u001b[0mlast_page\u001b[0m \u001b[0;34m=\u001b[0m \u001b[0msoup\u001b[0m\u001b[0;34m.\u001b[0m\u001b[0mfind_all\u001b[0m\u001b[0;34m(\u001b[0m\u001b[0;34m'a'\u001b[0m\u001b[0;34m,\u001b[0m \u001b[0;34m'noborder'\u001b[0m\u001b[0;34m)\u001b[0m\u001b[0;34m[\u001b[0m\u001b[0;36m1\u001b[0m\u001b[0;34m]\u001b[0m\u001b[0;34m\u001b[0m\u001b[0;34m\u001b[0m\u001b[0m\n\u001b[0m\u001b[1;32m      2\u001b[0m \u001b[0mprint\u001b[0m\u001b[0;34m(\u001b[0m\u001b[0mlast_page\u001b[0m\u001b[0;34m)\u001b[0m\u001b[0;34m\u001b[0m\u001b[0;34m\u001b[0m\u001b[0m\n",
      "\u001b[0;31mIndexError\u001b[0m: list index out of range"
     ]
    }
   ],
   "source": [
    "last_page = soup.find_all('a', 'noborder')[1]\n",
    "print(last_page)"
   ]
  },
  {
   "cell_type": "code",
   "execution_count": 10,
   "metadata": {},
   "outputs": [
    {
     "name": "stdout",
     "output_type": "stream",
     "text": [
      "StdResults.aspx?PT=M3 Licensing Online&PS=10&XMLLoc=/Northgate/Online/generic/XMLtemp/ipjvhjv1cueqf355kvdo4j45/dc52ccf4-f60d-4796-8726-75d4fd896398.xml&FT=Licence Registers Search Results&XSLTemplate=/Northgate/SiteFiles/Skins/Islington/xslt/Licensing/LicenceRegistersSearchResults.xsl&p=320\n"
     ]
    }
   ],
   "source": [
    "last_pg_link = last_page.get('href')\n",
    "print(last_pg_link)"
   ]
  },
  {
   "cell_type": "code",
   "execution_count": 11,
   "metadata": {},
   "outputs": [
    {
     "name": "stdout",
     "output_type": "stream",
     "text": [
      "330\n"
     ]
    }
   ],
   "source": [
    "second_part = int(last_pg_link[last_pg_link.find('.xsl&p=')+7:len(last_pg_link)]) + 10 \n",
    "print(second_part)"
   ]
  },
  {
   "cell_type": "code",
   "execution_count": 12,
   "metadata": {},
   "outputs": [
    {
     "name": "stdout",
     "output_type": "stream",
     "text": [
      "http://planning.islington.gov.uk/Northgate/Online/EGov/License_Registers/StdResults.aspx?PT=M3%20Licensing%20Online&PS=330&XMLLoc=/Northgate/Online/generic/XMLtemp/ipjvhjv1cueqf355kvdo4j45/dc52ccf4-f60d-4796-8726-75d4fd896398.xml&FT=Licence%20Registers%20Search%20Results&XSLTemplate=/Northgate/SiteFiles/Skins/Islington/xslt/Licensing/LicenceRegistersSearchResults.xsl&p=0\n"
     ]
    }
   ],
   "source": [
    "custom_url = first_part + str(second_part) + third_part + '0'\n",
    "print(custom_url)"
   ]
  },
  {
   "cell_type": "code",
   "execution_count": 13,
   "metadata": {},
   "outputs": [],
   "source": [
    "custom_soup = make_soup(custom_url)"
   ]
  },
  {
   "cell_type": "code",
   "execution_count": 45,
   "metadata": {},
   "outputs": [],
   "source": [
    "#print(custom_soup.prettify())"
   ]
  },
  {
   "cell_type": "code",
   "execution_count": 16,
   "metadata": {},
   "outputs": [
    {
     "name": "stdout",
     "output_type": "stream",
     "text": [
      "322\n"
     ]
    }
   ],
   "source": [
    "all_links = custom_soup.find_all('a')\n",
    "print(len(all_links))"
   ]
  },
  {
   "cell_type": "code",
   "execution_count": 19,
   "metadata": {},
   "outputs": [],
   "source": [
    "def url_remove_whitespace(link):\n",
    "    link = re.sub(r'\\s', '', link)\n",
    "    return link"
   ]
  },
  {
   "cell_type": "code",
   "execution_count": 41,
   "metadata": {},
   "outputs": [],
   "source": [
    "from typing import List\n",
    "\n",
    "cleanURLs: List[str] = [url_remove_whitespace(link_template + link.get('href')) for link in all_links]"
   ]
  },
  {
   "cell_type": "code",
   "execution_count": 22,
   "metadata": {},
   "outputs": [],
   "source": [
    "def extract_header(html_text):\n",
    "    \n",
    "    html_text = str(html_text)\n",
    "    \n",
    "    if re.search(r'<span class', html_text) == None:\n",
    "        start_pos = re.search(r'<span>', html_text).end()\n",
    "        end_pos = re.search(r'</span>', html_text).start()\n",
    "        output = html_text[start_pos:end_pos]\n",
    "        output = str.strip(re.sub(r'\\t|\\r|\\n|\\:|\\xa0', '', output))\n",
    "        output = re.sub(r'&amp;', '&', output)\n",
    "        return output\n",
    "    else:\n",
    "        start_pos = re.search(r'<span class=\"data_header width_\\d{2}\">', html_text).end()\n",
    "        end_pos = re.search(r'</span>', html_text).start()\n",
    "        output = html_text[start_pos:end_pos]\n",
    "        output = str.strip(re.sub(r'\\t|\\r|\\n|\\:|\\xa0', '', output))\n",
    "        output = re.sub(r'&amp;', '&', output)\n",
    "        return output"
   ]
  },
  {
   "cell_type": "code",
   "execution_count": 23,
   "metadata": {},
   "outputs": [],
   "source": [
    "def url_get_list_tags(soup_page, num_of_fields):\n",
    "    tag_list = []\n",
    "    for col in soup_page.find_all('li'):\n",
    "        temp = col.findAll('div')\n",
    "        tag_list.extend(temp)\n",
    "    return tag_list[0:num_of_fields]"
   ]
  },
  {
   "cell_type": "code",
   "execution_count": 24,
   "metadata": {},
   "outputs": [],
   "source": [
    "def url_get_headers(headers_list):\n",
    "    wanted_headers = []\n",
    "    for header in headers_list:\n",
    "        if extract_header(header) != '':\n",
    "            wanted_headers.append(extract_header(header))\n",
    "    return wanted_headers"
   ]
  },
  {
   "cell_type": "code",
   "execution_count": 25,
   "metadata": {},
   "outputs": [],
   "source": [
    "def url_get_text(soup_page, num_of_fields):\n",
    "    page_data = []\n",
    "    for li in soup_page.findAll('li'):\n",
    "        if li.getText() != '\\xa0':\n",
    "            name = li.getText()\n",
    "            name = str.strip(re.sub(r'\\t|\\r|\\n|\\:', '', name))\n",
    "            page_data.append(name)\n",
    "    return page_data[0:num_of_fields]"
   ]
  },
  {
   "cell_type": "code",
   "execution_count": 26,
   "metadata": {},
   "outputs": [],
   "source": [
    "def url_get_data(headers, text):\n",
    "    output = re.sub(headers, '', text)\n",
    "    if output == '':\n",
    "        output = 'NA'\n",
    "    else: output\n",
    "    return (headers, output)"
   ]
  },
  {
   "cell_type": "code",
   "execution_count": 27,
   "metadata": {},
   "outputs": [],
   "source": [
    "def create_dict(headers, text):\n",
    "    hmo_dict = []\n",
    "    for i, data in enumerate(text):\n",
    "        output = url_get_data(headers[i], data)\n",
    "        hmo_dict.append(output)\n",
    "    return dict((x, y) for x,y in hmo_dict)"
   ]
  },
  {
   "cell_type": "code",
   "execution_count": 29,
   "metadata": {},
   "outputs": [],
   "source": [
    "def scraping_function(url):\n",
    "    soup_test = make_soup(url)\n",
    "    headers_test = url_get_headers(url_get_list_tags(soup_test ,21))\n",
    "    soup_test = url_get_text(soup_test, 21)\n",
    "    temp_dict = create_dict(headers_test, soup_test)\n",
    "    temp_dict['url'] = url\n",
    "    return temp_dict"
   ]
  },
  {
   "cell_type": "code",
   "execution_count": 30,
   "metadata": {},
   "outputs": [
    {
     "name": "stdout",
     "output_type": "stream",
     "text": [
      "Time Taken: 861.325767s\n"
     ]
    }
   ],
   "source": [
    "URLs = cleanURLs\n",
    "\n",
    "with ProcessPoolExecutor(max_workers = 4) as executor:\n",
    "    start = time.time()\n",
    "    futures = [ executor.submit(scraping_function, url) for url in URLs ]\n",
    "    results = []\n",
    "    for result in as_completed(futures):\n",
    "        results.append(result)\n",
    "    end = time.time()\n",
    "    print(\"Time Taken: {:.6f}s\".format(end-start))\n"
   ]
  },
  {
   "cell_type": "code",
   "execution_count": 33,
   "metadata": {
    "scrolled": true
   },
   "outputs": [
    {
     "name": "stdout",
     "output_type": "stream",
     "text": [
      "16  failed\n",
      "52  failed\n",
      "79  failed\n",
      "91  failed\n",
      "94  failed\n",
      "96  failed\n",
      "123  failed\n",
      "215  failed\n",
      "231  failed\n",
      "234  failed\n",
      "245  failed\n",
      "276  failed\n",
      "299  failed\n"
     ]
    }
   ],
   "source": [
    "hmo_data_dict = []\n",
    "errors = []\n",
    "for i, d in enumerate(as_completed(results)):\n",
    "    try:\n",
    "        hmo_data_dict.append(d.result())\n",
    "    except IndexError:\n",
    "        print(i, ' failed')"
   ]
  },
  {
   "cell_type": "code",
   "execution_count": 51,
   "metadata": {},
   "outputs": [],
   "source": [
    "df = pd.DataFrame(hmo_data_dict)"
   ]
  },
  {
   "cell_type": "code",
   "execution_count": 52,
   "metadata": {},
   "outputs": [
    {
     "data": {
      "text/html": [
       "<div>\n",
       "<style scoped>\n",
       "    .dataframe tbody tr th:only-of-type {\n",
       "        vertical-align: middle;\n",
       "    }\n",
       "\n",
       "    .dataframe tbody tr th {\n",
       "        vertical-align: top;\n",
       "    }\n",
       "\n",
       "    .dataframe thead th {\n",
       "        text-align: right;\n",
       "    }\n",
       "</style>\n",
       "<table border=\"1\" class=\"dataframe\">\n",
       "  <thead>\n",
       "    <tr style=\"text-align: right;\">\n",
       "      <th></th>\n",
       "      <th>Amenities</th>\n",
       "      <th>Applicant</th>\n",
       "      <th>Bathrooms &amp; Shower Rooms</th>\n",
       "      <th>Description</th>\n",
       "      <th>Expiry</th>\n",
       "      <th>Floors in Property</th>\n",
       "      <th>Kitchens</th>\n",
       "      <th>Licence Date</th>\n",
       "      <th>Licence Type</th>\n",
       "      <th>Licence for</th>\n",
       "      <th>...</th>\n",
       "      <th>Max Households</th>\n",
       "      <th>Max Persons</th>\n",
       "      <th>Non-Self Contained</th>\n",
       "      <th>Rooms</th>\n",
       "      <th>Self Contained</th>\n",
       "      <th>Sinks</th>\n",
       "      <th>Sleeping Accommodation</th>\n",
       "      <th>Toilets &amp; Wash Basins</th>\n",
       "      <th>Units / Flats</th>\n",
       "      <th>url</th>\n",
       "    </tr>\n",
       "  </thead>\n",
       "  <tbody>\n",
       "    <tr>\n",
       "      <th>0</th>\n",
       "      <td>NA</td>\n",
       "      <td>Mr Rajesh Kurma Patel</td>\n",
       "      <td>1 (shared = 1)</td>\n",
       "      <td>Built1919 to 1944Terraced, Converted from Resi...</td>\n",
       "      <td>13th March 2023</td>\n",
       "      <td>0 to 2</td>\n",
       "      <td>1 (shared = 1)</td>\n",
       "      <td>14th March 2018</td>\n",
       "      <td>HMO Licensing</td>\n",
       "      <td>95A, 95 Grosvenor Avenue, Islington, London, N...</td>\n",
       "      <td>...</td>\n",
       "      <td>5</td>\n",
       "      <td>5</td>\n",
       "      <td>5</td>\n",
       "      <td>NA</td>\n",
       "      <td>0</td>\n",
       "      <td>1 (shared = 1)</td>\n",
       "      <td>5</td>\n",
       "      <td>2 (shared = 2)</td>\n",
       "      <td>NA</td>\n",
       "      <td>http://planning.islington.gov.uk/Northgate/Onl...</td>\n",
       "    </tr>\n",
       "    <tr>\n",
       "      <th>1</th>\n",
       "      <td>NA</td>\n",
       "      <td>Mr Anthony Joseph Mccarthy</td>\n",
       "      <td>5 (shared = 2)</td>\n",
       "      <td>Built1918Terraced, .</td>\n",
       "      <td>7th September 2019</td>\n",
       "      <td>0 to 2</td>\n",
       "      <td>7 (shared = 0)</td>\n",
       "      <td>8th September 2014</td>\n",
       "      <td>HMO Licensing</td>\n",
       "      <td>30 Bickerton Road, Islington, London</td>\n",
       "      <td>...</td>\n",
       "      <td>7</td>\n",
       "      <td>8</td>\n",
       "      <td>6</td>\n",
       "      <td>NA</td>\n",
       "      <td>1</td>\n",
       "      <td>7 (shared = 0)</td>\n",
       "      <td>7</td>\n",
       "      <td>2 (shared = 2)</td>\n",
       "      <td>NA</td>\n",
       "      <td>http://planning.islington.gov.uk/Northgate/Onl...</td>\n",
       "    </tr>\n",
       "    <tr>\n",
       "      <th>2</th>\n",
       "      <td>NA</td>\n",
       "      <td>Mr Suresh Patel</td>\n",
       "      <td>2 (shared = 2)</td>\n",
       "      <td>BuiltPre 1919Terraced, Converted from Resident...</td>\n",
       "      <td>16th January 2019</td>\n",
       "      <td>0 to 3</td>\n",
       "      <td>2 (shared = 2)</td>\n",
       "      <td>17th January 2014</td>\n",
       "      <td>HMO Licensing</td>\n",
       "      <td>Flat B, 156 Blackstock Road, Islington, London...</td>\n",
       "      <td>...</td>\n",
       "      <td>5</td>\n",
       "      <td>5</td>\n",
       "      <td>5</td>\n",
       "      <td>NA</td>\n",
       "      <td>0</td>\n",
       "      <td>2 (shared = 2)</td>\n",
       "      <td>5</td>\n",
       "      <td>2 (shared = 2)</td>\n",
       "      <td>NA</td>\n",
       "      <td>http://planning.islington.gov.uk/Northgate/Onl...</td>\n",
       "    </tr>\n",
       "    <tr>\n",
       "      <th>3</th>\n",
       "      <td>NA</td>\n",
       "      <td>Paul Williams</td>\n",
       "      <td>2 (shared = 2)</td>\n",
       "      <td>BuiltPre 1919Terraced, .</td>\n",
       "      <td>4th December 2022</td>\n",
       "      <td>1 to 3</td>\n",
       "      <td>1 (shared = 1)</td>\n",
       "      <td>5th December 2017</td>\n",
       "      <td>HMO Licensing</td>\n",
       "      <td>94-96 Upper Street, Islington, London</td>\n",
       "      <td>...</td>\n",
       "      <td>5</td>\n",
       "      <td>5</td>\n",
       "      <td>5</td>\n",
       "      <td>NA</td>\n",
       "      <td>0</td>\n",
       "      <td>0 (shared = 0)</td>\n",
       "      <td>5</td>\n",
       "      <td>1 (shared = 1)</td>\n",
       "      <td>NA</td>\n",
       "      <td>http://planning.islington.gov.uk/Northgate/Onl...</td>\n",
       "    </tr>\n",
       "    <tr>\n",
       "      <th>4</th>\n",
       "      <td>NA</td>\n",
       "      <td>Mr M Mark Forrest</td>\n",
       "      <td>1 (shared = 1)</td>\n",
       "      <td>BuiltPre 1919Terraced, Converted from Resident...</td>\n",
       "      <td>22nd March 2022</td>\n",
       "      <td>-1 to 2</td>\n",
       "      <td>4 (shared = 1)</td>\n",
       "      <td>23rd March 2017</td>\n",
       "      <td>HMO Licensing</td>\n",
       "      <td>66 St Thomas's Road, Islington, London</td>\n",
       "      <td>...</td>\n",
       "      <td>5</td>\n",
       "      <td>5</td>\n",
       "      <td>5</td>\n",
       "      <td>NA</td>\n",
       "      <td>0</td>\n",
       "      <td>0 (shared = 0)</td>\n",
       "      <td>5</td>\n",
       "      <td>1 (shared = 1)</td>\n",
       "      <td>NA</td>\n",
       "      <td>http://planning.islington.gov.uk/Northgate/Onl...</td>\n",
       "    </tr>\n",
       "  </tbody>\n",
       "</table>\n",
       "<p>5 rows × 22 columns</p>\n",
       "</div>"
      ],
      "text/plain": [
       "  Amenities                   Applicant Bathrooms & Shower Rooms  \\\n",
       "0        NA       Mr Rajesh Kurma Patel           1 (shared = 1)   \n",
       "1        NA  Mr Anthony Joseph Mccarthy           5 (shared = 2)   \n",
       "2        NA             Mr Suresh Patel           2 (shared = 2)   \n",
       "3        NA               Paul Williams           2 (shared = 2)   \n",
       "4        NA           Mr M Mark Forrest           1 (shared = 1)   \n",
       "\n",
       "                                         Description              Expiry  \\\n",
       "0  Built1919 to 1944Terraced, Converted from Resi...     13th March 2023   \n",
       "1                               Built1918Terraced, .  7th September 2019   \n",
       "2  BuiltPre 1919Terraced, Converted from Resident...   16th January 2019   \n",
       "3                           BuiltPre 1919Terraced, .   4th December 2022   \n",
       "4  BuiltPre 1919Terraced, Converted from Resident...     22nd March 2022   \n",
       "\n",
       "  Floors in Property        Kitchens        Licence Date   Licence Type  \\\n",
       "0             0 to 2  1 (shared = 1)     14th March 2018  HMO Licensing   \n",
       "1             0 to 2  7 (shared = 0)  8th September 2014  HMO Licensing   \n",
       "2             0 to 3  2 (shared = 2)   17th January 2014  HMO Licensing   \n",
       "3             1 to 3  1 (shared = 1)   5th December 2017  HMO Licensing   \n",
       "4            -1 to 2  4 (shared = 1)     23rd March 2017  HMO Licensing   \n",
       "\n",
       "                                         Licence for  \\\n",
       "0  95A, 95 Grosvenor Avenue, Islington, London, N...   \n",
       "1               30 Bickerton Road, Islington, London   \n",
       "2  Flat B, 156 Blackstock Road, Islington, London...   \n",
       "3              94-96 Upper Street, Islington, London   \n",
       "4             66 St Thomas's Road, Islington, London   \n",
       "\n",
       "                         ...                         Max Households  \\\n",
       "0                        ...                                      5   \n",
       "1                        ...                                      7   \n",
       "2                        ...                                      5   \n",
       "3                        ...                                      5   \n",
       "4                        ...                                      5   \n",
       "\n",
       "  Max Persons Non-Self Contained Rooms Self Contained           Sinks  \\\n",
       "0           5                  5    NA              0  1 (shared = 1)   \n",
       "1           8                  6    NA              1  7 (shared = 0)   \n",
       "2           5                  5    NA              0  2 (shared = 2)   \n",
       "3           5                  5    NA              0  0 (shared = 0)   \n",
       "4           5                  5    NA              0  0 (shared = 0)   \n",
       "\n",
       "  Sleeping Accommodation Toilets & Wash Basins Units / Flats  \\\n",
       "0                      5        2 (shared = 2)            NA   \n",
       "1                      7        2 (shared = 2)            NA   \n",
       "2                      5        2 (shared = 2)            NA   \n",
       "3                      5        1 (shared = 1)            NA   \n",
       "4                      5        1 (shared = 1)            NA   \n",
       "\n",
       "                                                 url  \n",
       "0  http://planning.islington.gov.uk/Northgate/Onl...  \n",
       "1  http://planning.islington.gov.uk/Northgate/Onl...  \n",
       "2  http://planning.islington.gov.uk/Northgate/Onl...  \n",
       "3  http://planning.islington.gov.uk/Northgate/Onl...  \n",
       "4  http://planning.islington.gov.uk/Northgate/Onl...  \n",
       "\n",
       "[5 rows x 22 columns]"
      ]
     },
     "execution_count": 52,
     "metadata": {},
     "output_type": "execute_result"
    }
   ],
   "source": [
    "df.head()"
   ]
  },
  {
   "cell_type": "code",
   "execution_count": 60,
   "metadata": {},
   "outputs": [],
   "source": [
    "now = str(dt.datetime.now().strftime(\"%d-%m-%Y\"))\n",
    "df.to_csv(\"islington_hmo_data_\"+ now +\".csv\", index = False)"
   ]
  }
 ],
 "metadata": {
  "kernelspec": {
   "display_name": "Python 3",
   "language": "python",
   "name": "python3"
  },
  "language_info": {
   "codemirror_mode": {
    "name": "ipython",
    "version": 3
   },
   "file_extension": ".py",
   "mimetype": "text/x-python",
   "name": "python",
   "nbconvert_exporter": "python",
   "pygments_lexer": "ipython3",
   "version": "3.7.3"
  }
 },
 "nbformat": 4,
 "nbformat_minor": 4
}
