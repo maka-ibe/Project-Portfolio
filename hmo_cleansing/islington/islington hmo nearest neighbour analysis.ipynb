{
 "cells": [
  {
   "cell_type": "code",
   "execution_count": 1,
   "metadata": {},
   "outputs": [],
   "source": [
    "import pandas as pd"
   ]
  },
  {
   "cell_type": "code",
   "execution_count": 2,
   "metadata": {},
   "outputs": [],
   "source": [
    "data = pd.read_csv(\"islington_hmo_data_19-08-2018.csv\")"
   ]
  },
  {
   "cell_type": "code",
   "execution_count": 3,
   "metadata": {},
   "outputs": [
    {
     "data": {
      "text/html": [
       "<div>\n",
       "<style scoped>\n",
       "    .dataframe tbody tr th:only-of-type {\n",
       "        vertical-align: middle;\n",
       "    }\n",
       "\n",
       "    .dataframe tbody tr th {\n",
       "        vertical-align: top;\n",
       "    }\n",
       "\n",
       "    .dataframe thead th {\n",
       "        text-align: right;\n",
       "    }\n",
       "</style>\n",
       "<table border=\"1\" class=\"dataframe\">\n",
       "  <thead>\n",
       "    <tr style=\"text-align: right;\">\n",
       "      <th></th>\n",
       "      <th>Amenities</th>\n",
       "      <th>Applicant</th>\n",
       "      <th>Bathrooms &amp; Shower Rooms</th>\n",
       "      <th>Description</th>\n",
       "      <th>Expiry</th>\n",
       "      <th>Floors in Property</th>\n",
       "      <th>Kitchens</th>\n",
       "      <th>Licence Date</th>\n",
       "      <th>Licence Type</th>\n",
       "      <th>Licence for</th>\n",
       "      <th>...</th>\n",
       "      <th>Max Households</th>\n",
       "      <th>Max Persons</th>\n",
       "      <th>Non-Self Contained</th>\n",
       "      <th>Rooms</th>\n",
       "      <th>Self Contained</th>\n",
       "      <th>Sinks</th>\n",
       "      <th>Sleeping Accommodation</th>\n",
       "      <th>Toilets &amp; Wash Basins</th>\n",
       "      <th>Units / Flats</th>\n",
       "      <th>url</th>\n",
       "    </tr>\n",
       "  </thead>\n",
       "  <tbody>\n",
       "    <tr>\n",
       "      <th>0</th>\n",
       "      <td>NaN</td>\n",
       "      <td>Mr Rajesh Kurma Patel</td>\n",
       "      <td>1 (shared = 1)</td>\n",
       "      <td>Built1919 to 1944Terraced, Converted from Resi...</td>\n",
       "      <td>13th March 2023</td>\n",
       "      <td>0 to 2</td>\n",
       "      <td>1 (shared = 1)</td>\n",
       "      <td>14th March 2018</td>\n",
       "      <td>HMO Licensing</td>\n",
       "      <td>95A, 95 Grosvenor Avenue, Islington, London, N...</td>\n",
       "      <td>...</td>\n",
       "      <td>5</td>\n",
       "      <td>5</td>\n",
       "      <td>5.0</td>\n",
       "      <td>NaN</td>\n",
       "      <td>0.0</td>\n",
       "      <td>1 (shared = 1)</td>\n",
       "      <td>5</td>\n",
       "      <td>2 (shared = 2)</td>\n",
       "      <td>NaN</td>\n",
       "      <td>http://planning.islington.gov.uk/Northgate/Onl...</td>\n",
       "    </tr>\n",
       "    <tr>\n",
       "      <th>1</th>\n",
       "      <td>NaN</td>\n",
       "      <td>Mr Anthony Joseph Mccarthy</td>\n",
       "      <td>5 (shared = 2)</td>\n",
       "      <td>Built1918Terraced, .</td>\n",
       "      <td>7th September 2019</td>\n",
       "      <td>0 to 2</td>\n",
       "      <td>7 (shared = 0)</td>\n",
       "      <td>8th September 2014</td>\n",
       "      <td>HMO Licensing</td>\n",
       "      <td>30 Bickerton Road, Islington, London</td>\n",
       "      <td>...</td>\n",
       "      <td>7</td>\n",
       "      <td>8</td>\n",
       "      <td>6.0</td>\n",
       "      <td>NaN</td>\n",
       "      <td>1.0</td>\n",
       "      <td>7 (shared = 0)</td>\n",
       "      <td>7</td>\n",
       "      <td>2 (shared = 2)</td>\n",
       "      <td>NaN</td>\n",
       "      <td>http://planning.islington.gov.uk/Northgate/Onl...</td>\n",
       "    </tr>\n",
       "    <tr>\n",
       "      <th>2</th>\n",
       "      <td>NaN</td>\n",
       "      <td>Mr Suresh Patel</td>\n",
       "      <td>2 (shared = 2)</td>\n",
       "      <td>BuiltPre 1919Terraced, Converted from Resident...</td>\n",
       "      <td>16th January 2019</td>\n",
       "      <td>0 to 3</td>\n",
       "      <td>2 (shared = 2)</td>\n",
       "      <td>17th January 2014</td>\n",
       "      <td>HMO Licensing</td>\n",
       "      <td>Flat B, 156 Blackstock Road, Islington, London...</td>\n",
       "      <td>...</td>\n",
       "      <td>5</td>\n",
       "      <td>5</td>\n",
       "      <td>5.0</td>\n",
       "      <td>NaN</td>\n",
       "      <td>0.0</td>\n",
       "      <td>2 (shared = 2)</td>\n",
       "      <td>5</td>\n",
       "      <td>2 (shared = 2)</td>\n",
       "      <td>NaN</td>\n",
       "      <td>http://planning.islington.gov.uk/Northgate/Onl...</td>\n",
       "    </tr>\n",
       "    <tr>\n",
       "      <th>3</th>\n",
       "      <td>NaN</td>\n",
       "      <td>Paul Williams</td>\n",
       "      <td>2 (shared = 2)</td>\n",
       "      <td>BuiltPre 1919Terraced, .</td>\n",
       "      <td>4th December 2022</td>\n",
       "      <td>1 to 3</td>\n",
       "      <td>1 (shared = 1)</td>\n",
       "      <td>5th December 2017</td>\n",
       "      <td>HMO Licensing</td>\n",
       "      <td>94-96 Upper Street, Islington, London</td>\n",
       "      <td>...</td>\n",
       "      <td>5</td>\n",
       "      <td>5</td>\n",
       "      <td>5.0</td>\n",
       "      <td>NaN</td>\n",
       "      <td>0.0</td>\n",
       "      <td>0 (shared = 0)</td>\n",
       "      <td>5</td>\n",
       "      <td>1 (shared = 1)</td>\n",
       "      <td>NaN</td>\n",
       "      <td>http://planning.islington.gov.uk/Northgate/Onl...</td>\n",
       "    </tr>\n",
       "    <tr>\n",
       "      <th>4</th>\n",
       "      <td>NaN</td>\n",
       "      <td>Mr M Mark Forrest</td>\n",
       "      <td>1 (shared = 1)</td>\n",
       "      <td>BuiltPre 1919Terraced, Converted from Resident...</td>\n",
       "      <td>22nd March 2022</td>\n",
       "      <td>-1 to 2</td>\n",
       "      <td>4 (shared = 1)</td>\n",
       "      <td>23rd March 2017</td>\n",
       "      <td>HMO Licensing</td>\n",
       "      <td>66 St Thomas's Road, Islington, London</td>\n",
       "      <td>...</td>\n",
       "      <td>5</td>\n",
       "      <td>5</td>\n",
       "      <td>5.0</td>\n",
       "      <td>NaN</td>\n",
       "      <td>0.0</td>\n",
       "      <td>0 (shared = 0)</td>\n",
       "      <td>5</td>\n",
       "      <td>1 (shared = 1)</td>\n",
       "      <td>NaN</td>\n",
       "      <td>http://planning.islington.gov.uk/Northgate/Onl...</td>\n",
       "    </tr>\n",
       "  </tbody>\n",
       "</table>\n",
       "<p>5 rows × 22 columns</p>\n",
       "</div>"
      ],
      "text/plain": [
       "   Amenities                   Applicant Bathrooms & Shower Rooms  \\\n",
       "0        NaN       Mr Rajesh Kurma Patel           1 (shared = 1)   \n",
       "1        NaN  Mr Anthony Joseph Mccarthy           5 (shared = 2)   \n",
       "2        NaN             Mr Suresh Patel           2 (shared = 2)   \n",
       "3        NaN               Paul Williams           2 (shared = 2)   \n",
       "4        NaN           Mr M Mark Forrest           1 (shared = 1)   \n",
       "\n",
       "                                         Description              Expiry  \\\n",
       "0  Built1919 to 1944Terraced, Converted from Resi...     13th March 2023   \n",
       "1                               Built1918Terraced, .  7th September 2019   \n",
       "2  BuiltPre 1919Terraced, Converted from Resident...   16th January 2019   \n",
       "3                           BuiltPre 1919Terraced, .   4th December 2022   \n",
       "4  BuiltPre 1919Terraced, Converted from Resident...     22nd March 2022   \n",
       "\n",
       "  Floors in Property        Kitchens        Licence Date   Licence Type  \\\n",
       "0             0 to 2  1 (shared = 1)     14th March 2018  HMO Licensing   \n",
       "1             0 to 2  7 (shared = 0)  8th September 2014  HMO Licensing   \n",
       "2             0 to 3  2 (shared = 2)   17th January 2014  HMO Licensing   \n",
       "3             1 to 3  1 (shared = 1)   5th December 2017  HMO Licensing   \n",
       "4            -1 to 2  4 (shared = 1)     23rd March 2017  HMO Licensing   \n",
       "\n",
       "                                         Licence for  \\\n",
       "0  95A, 95 Grosvenor Avenue, Islington, London, N...   \n",
       "1               30 Bickerton Road, Islington, London   \n",
       "2  Flat B, 156 Blackstock Road, Islington, London...   \n",
       "3              94-96 Upper Street, Islington, London   \n",
       "4             66 St Thomas's Road, Islington, London   \n",
       "\n",
       "                         ...                          Max Households  \\\n",
       "0                        ...                                       5   \n",
       "1                        ...                                       7   \n",
       "2                        ...                                       5   \n",
       "3                        ...                                       5   \n",
       "4                        ...                                       5   \n",
       "\n",
       "  Max Persons  Non-Self Contained  Rooms  Self Contained           Sinks  \\\n",
       "0           5                 5.0    NaN             0.0  1 (shared = 1)   \n",
       "1           8                 6.0    NaN             1.0  7 (shared = 0)   \n",
       "2           5                 5.0    NaN             0.0  2 (shared = 2)   \n",
       "3           5                 5.0    NaN             0.0  0 (shared = 0)   \n",
       "4           5                 5.0    NaN             0.0  0 (shared = 0)   \n",
       "\n",
       "   Sleeping Accommodation Toilets & Wash Basins  Units / Flats  \\\n",
       "0                       5        2 (shared = 2)            NaN   \n",
       "1                       7        2 (shared = 2)            NaN   \n",
       "2                       5        2 (shared = 2)            NaN   \n",
       "3                       5        1 (shared = 1)            NaN   \n",
       "4                       5        1 (shared = 1)            NaN   \n",
       "\n",
       "                                                 url  \n",
       "0  http://planning.islington.gov.uk/Northgate/Onl...  \n",
       "1  http://planning.islington.gov.uk/Northgate/Onl...  \n",
       "2  http://planning.islington.gov.uk/Northgate/Onl...  \n",
       "3  http://planning.islington.gov.uk/Northgate/Onl...  \n",
       "4  http://planning.islington.gov.uk/Northgate/Onl...  \n",
       "\n",
       "[5 rows x 22 columns]"
      ]
     },
     "execution_count": 3,
     "metadata": {},
     "output_type": "execute_result"
    }
   ],
   "source": [
    "data.head()"
   ]
  },
  {
   "cell_type": "code",
   "execution_count": 5,
   "metadata": {},
   "outputs": [
    {
     "data": {
      "text/plain": [
       "0    95A, 95 Grosvenor Avenue, Islington, London, N...\n",
       "1                 30 Bickerton Road, Islington, London\n",
       "2    Flat B, 156 Blackstock Road, Islington, London...\n",
       "3                94-96 Upper Street, Islington, London\n",
       "4               66 St Thomas's Road, Islington, London\n",
       "Name: Licence for, dtype: object"
      ]
     },
     "execution_count": 5,
     "metadata": {},
     "output_type": "execute_result"
    }
   ],
   "source": [
    "data['Licence for'].head()"
   ]
  },
  {
   "cell_type": "code",
   "execution_count": 6,
   "metadata": {},
   "outputs": [
    {
     "data": {
      "text/plain": [
       "'95A, 95 Grosvenor Avenue, Islington, London, N5 2NL'"
      ]
     },
     "execution_count": 6,
     "metadata": {},
     "output_type": "execute_result"
    }
   ],
   "source": [
    "# separate out postcode\n",
    "data['Licence for'][0]"
   ]
  },
  {
   "cell_type": "code",
   "execution_count": 7,
   "metadata": {},
   "outputs": [
    {
     "data": {
      "text/plain": [
       "['95A', ' 95 Grosvenor Avenue', ' Islington', ' London', ' N5 2NL']"
      ]
     },
     "execution_count": 7,
     "metadata": {},
     "output_type": "execute_result"
    }
   ],
   "source": [
    "data['Licence for'][0].split(',')"
   ]
  },
  {
   "cell_type": "code",
   "execution_count": 8,
   "metadata": {},
   "outputs": [
    {
     "data": {
      "text/plain": [
       "' N5 2NL'"
      ]
     },
     "execution_count": 8,
     "metadata": {},
     "output_type": "execute_result"
    }
   ],
   "source": [
    "data['Licence for'][0].split(',')[-1]"
   ]
  },
  {
   "cell_type": "code",
   "execution_count": 11,
   "metadata": {},
   "outputs": [
    {
     "data": {
      "text/plain": [
       "'N5 2NL'"
      ]
     },
     "execution_count": 11,
     "metadata": {},
     "output_type": "execute_result"
    }
   ],
   "source": [
    "data['Licence for'][0].split(',')[-1].strip()"
   ]
  },
  {
   "cell_type": "code",
   "execution_count": 12,
   "metadata": {},
   "outputs": [],
   "source": [
    "def get_postcode(x):\n",
    "    result = x.split(',')[-1].strip()\n",
    "    return result"
   ]
  },
  {
   "cell_type": "code",
   "execution_count": 15,
   "metadata": {},
   "outputs": [
    {
     "data": {
      "text/plain": [
       "'N4 2DY'"
      ]
     },
     "execution_count": 15,
     "metadata": {},
     "output_type": "execute_result"
    }
   ],
   "source": [
    "get_postcode(data['Licence for'][2])"
   ]
  },
  {
   "cell_type": "code",
   "execution_count": 14,
   "metadata": {},
   "outputs": [
    {
     "data": {
      "text/plain": [
       "'30 Bickerton Road, Islington, London'"
      ]
     },
     "execution_count": 14,
     "metadata": {},
     "output_type": "execute_result"
    }
   ],
   "source": [
    "data['Licence for'][1]"
   ]
  },
  {
   "cell_type": "code",
   "execution_count": null,
   "metadata": {},
   "outputs": [],
   "source": []
  }
 ],
 "metadata": {
  "kernelspec": {
   "display_name": "Python 3",
   "language": "python",
   "name": "python3"
  },
  "language_info": {
   "codemirror_mode": {
    "name": "ipython",
    "version": 3
   },
   "file_extension": ".py",
   "mimetype": "text/x-python",
   "name": "python",
   "nbconvert_exporter": "python",
   "pygments_lexer": "ipython3",
   "version": "3.7.3"
  }
 },
 "nbformat": 4,
 "nbformat_minor": 4
}
