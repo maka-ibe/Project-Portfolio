{
 "cells": [
  {
   "cell_type": "code",
   "execution_count": 1,
   "metadata": {},
   "outputs": [],
   "source": [
    "import pandas as pd\n",
    "from sodapy import Socrata\n",
    "import os\n",
    "import re\n",
    "# from ..mapping import NearestStation"
   ]
  },
  {
   "cell_type": "code",
   "execution_count": 2,
   "metadata": {},
   "outputs": [],
   "source": [
    "my_app_token = os.environ.get(\"SOCRATA_APP_TOKEN\")\n",
    "username = os.environ.get(\"EMAIL_1\")\n",
    "password = os.environ.get(\"SOCRATA_PASSWORD\")"
   ]
  },
  {
   "cell_type": "code",
   "execution_count": 3,
   "metadata": {},
   "outputs": [
    {
     "name": "stderr",
     "output_type": "stream",
     "text": [
      "WARNING:root:Requests made without an app_token will be subject to strict throttling limits.\n"
     ]
    }
   ],
   "source": [
    "# Set up client to get results\n",
    "client = Socrata(\"opendata.camden.gov.uk\",\n",
    "                 my_app_token,\n",
    "                 username=username,\n",
    "                 password=password)"
   ]
  },
  {
   "cell_type": "code",
   "execution_count": 4,
   "metadata": {},
   "outputs": [],
   "source": [
    "results = []\n",
    "not_empty = True\n",
    "limit = 1000\n",
    "offset = 0\n",
    "\n",
    "# Get all results from api\n",
    "while not_empty:\n",
    "    data = client.get(\"x43g-c2rf\", limit=limit, offset=offset, order=\"licence_number\")\n",
    "    if data:\n",
    "        results.extend(data)\n",
    "        offset += 1000\n",
    "    else:\n",
    "        not_empty = False"
   ]
  },
  {
   "cell_type": "code",
   "execution_count": 5,
   "metadata": {},
   "outputs": [
    {
     "data": {
      "text/plain": [
       "4036"
      ]
     },
     "execution_count": 5,
     "metadata": {},
     "output_type": "execute_result"
    }
   ],
   "source": [
    "len(results)"
   ]
  },
  {
   "cell_type": "code",
   "execution_count": 6,
   "metadata": {},
   "outputs": [],
   "source": [
    "# Convert to pandas DataFrame\n",
    "results_df = pd.DataFrame.from_records(results)"
   ]
  },
  {
   "cell_type": "code",
   "execution_count": 7,
   "metadata": {},
   "outputs": [
    {
     "data": {
      "text/html": [
       "<div>\n",
       "<style scoped>\n",
       "    .dataframe tbody tr th:only-of-type {\n",
       "        vertical-align: middle;\n",
       "    }\n",
       "\n",
       "    .dataframe tbody tr th {\n",
       "        vertical-align: top;\n",
       "    }\n",
       "\n",
       "    .dataframe thead th {\n",
       "        text-align: right;\n",
       "    }\n",
       "</style>\n",
       "<table border=\"1\" class=\"dataframe\">\n",
       "  <thead>\n",
       "    <tr style=\"text-align: right;\">\n",
       "      <th></th>\n",
       "      <th>address_of_licence_holder</th>\n",
       "      <th>address_of_manager</th>\n",
       "      <th>commencement_date</th>\n",
       "      <th>duration_in_years</th>\n",
       "      <th>easting</th>\n",
       "      <th>end_date</th>\n",
       "      <th>last_uploaded</th>\n",
       "      <th>latitude</th>\n",
       "      <th>licence_number</th>\n",
       "      <th>location</th>\n",
       "      <th>...</th>\n",
       "      <th>number_of_shared_showers</th>\n",
       "      <th>number_of_shared_sinks</th>\n",
       "      <th>number_of_shared_wcs</th>\n",
       "      <th>number_of_shared_whbs</th>\n",
       "      <th>organisation_uri</th>\n",
       "      <th>property_address</th>\n",
       "      <th>spatial_accuracy</th>\n",
       "      <th>status</th>\n",
       "      <th>storeys_of_hmo</th>\n",
       "      <th>type_of_licence</th>\n",
       "    </tr>\n",
       "  </thead>\n",
       "  <tbody>\n",
       "    <tr>\n",
       "      <th>0</th>\n",
       "      <td>1 Tanza Road London NW3 2UA</td>\n",
       "      <td>NaN</td>\n",
       "      <td>2016-02-03T00:00:00.000</td>\n",
       "      <td>5</td>\n",
       "      <td>527491</td>\n",
       "      <td>2021-02-02T00:00:00.000</td>\n",
       "      <td>2021-02-06T08:35:17.000</td>\n",
       "      <td>51.558033</td>\n",
       "      <td>47755</td>\n",
       "      <td>{'latitude': '51.558033', 'longitude': '-0.162...</td>\n",
       "      <td>...</td>\n",
       "      <td>1</td>\n",
       "      <td>0</td>\n",
       "      <td>1</td>\n",
       "      <td>2</td>\n",
       "      <td>{'url': 'http://opendatacommunities.org/id/lon...</td>\n",
       "      <td>65 Parliament Hill London NW3 2TB</td>\n",
       "      <td>Postcode Level</td>\n",
       "      <td>Licence Granted - In Force</td>\n",
       "      <td>3</td>\n",
       "      <td>HMO Mandatory Licensing</td>\n",
       "    </tr>\n",
       "    <tr>\n",
       "      <th>1</th>\n",
       "      <td>255 High Street Acton London W3 9BY</td>\n",
       "      <td>Ashley Sameuel Ltd 69 Broadfields Avenue Londo...</td>\n",
       "      <td>2016-10-20T00:00:00.000</td>\n",
       "      <td>5</td>\n",
       "      <td>524543</td>\n",
       "      <td>2021-10-19T00:00:00.000</td>\n",
       "      <td>2021-02-06T08:35:19.000</td>\n",
       "      <td>51.549578</td>\n",
       "      <td>48328</td>\n",
       "      <td>{'latitude': '51.549578', 'longitude': '-0.205...</td>\n",
       "      <td>...</td>\n",
       "      <td>11</td>\n",
       "      <td>2</td>\n",
       "      <td>0</td>\n",
       "      <td>0</td>\n",
       "      <td>{'url': 'http://opendatacommunities.org/id/lon...</td>\n",
       "      <td>9 Kingscroft Road NW2 3QE</td>\n",
       "      <td>Postcode Level</td>\n",
       "      <td>Licence Granted - In Force</td>\n",
       "      <td>3</td>\n",
       "      <td>HMO Mandatory Licensing</td>\n",
       "    </tr>\n",
       "    <tr>\n",
       "      <th>2</th>\n",
       "      <td>The Office Inglewood Mansions 289 West End Lan...</td>\n",
       "      <td>NaN</td>\n",
       "      <td>2016-05-24T00:00:00.000</td>\n",
       "      <td>5</td>\n",
       "      <td>525464</td>\n",
       "      <td>2021-05-23T00:00:00.000</td>\n",
       "      <td>2021-02-06T08:35:19.000</td>\n",
       "      <td>51.551031</td>\n",
       "      <td>50681</td>\n",
       "      <td>{'latitude': '51.551031', 'longitude': '-0.191...</td>\n",
       "      <td>...</td>\n",
       "      <td>NaN</td>\n",
       "      <td>NaN</td>\n",
       "      <td>NaN</td>\n",
       "      <td>NaN</td>\n",
       "      <td>{'url': 'http://opendatacommunities.org/id/lon...</td>\n",
       "      <td>Inglewood Mansions 287 West End Lane London Gr...</td>\n",
       "      <td>Postcode Level</td>\n",
       "      <td>Licence Granted - In Force</td>\n",
       "      <td>NaN</td>\n",
       "      <td>HMO Mandatory Licensing</td>\n",
       "    </tr>\n",
       "    <tr>\n",
       "      <th>3</th>\n",
       "      <td>Bank House 209 Merton Road London SW19 1EE</td>\n",
       "      <td>NaN</td>\n",
       "      <td>2017-01-27T00:00:00.000</td>\n",
       "      <td>4</td>\n",
       "      <td>530423</td>\n",
       "      <td>2022-01-26T00:00:00.000</td>\n",
       "      <td>2021-02-06T08:35:19.000</td>\n",
       "      <td>51.52654</td>\n",
       "      <td>51193</td>\n",
       "      <td>{'latitude': '51.52654', 'longitude': '-0.1213...</td>\n",
       "      <td>...</td>\n",
       "      <td>0</td>\n",
       "      <td>3</td>\n",
       "      <td>0</td>\n",
       "      <td>3</td>\n",
       "      <td>{'url': 'http://opendatacommunities.org/id/lon...</td>\n",
       "      <td>Flat B 16 Regent Square London WC1H 8HZ</td>\n",
       "      <td>Postcode Level</td>\n",
       "      <td>Licence Granted - In Force</td>\n",
       "      <td>3</td>\n",
       "      <td>HMO Mandatory Licensing</td>\n",
       "    </tr>\n",
       "    <tr>\n",
       "      <th>4</th>\n",
       "      <td>53 Exeter Road London NW2 4SE</td>\n",
       "      <td>NaN</td>\n",
       "      <td>2016-08-16T00:00:00.000</td>\n",
       "      <td>5</td>\n",
       "      <td>527743</td>\n",
       "      <td>2021-08-15T00:00:00.000</td>\n",
       "      <td>2021-02-06T08:35:19.000</td>\n",
       "      <td>51.553177</td>\n",
       "      <td>51525</td>\n",
       "      <td>{'latitude': '51.553177', 'longitude': '-0.158...</td>\n",
       "      <td>...</td>\n",
       "      <td>0</td>\n",
       "      <td>1</td>\n",
       "      <td>0</td>\n",
       "      <td>2</td>\n",
       "      <td>{'url': 'http://opendatacommunities.org/id/lon...</td>\n",
       "      <td>Flat A 2 Fleet Road London NW3 2QS</td>\n",
       "      <td>Postcode Level</td>\n",
       "      <td>Licence Granted - In Force</td>\n",
       "      <td>3</td>\n",
       "      <td>HMO Mandatory Licensing</td>\n",
       "    </tr>\n",
       "  </tbody>\n",
       "</table>\n",
       "<p>5 rows × 33 columns</p>\n",
       "</div>"
      ],
      "text/plain": [
       "                           address_of_licence_holder  \\\n",
       "0                        1 Tanza Road London NW3 2UA   \n",
       "1                255 High Street Acton London W3 9BY   \n",
       "2  The Office Inglewood Mansions 289 West End Lan...   \n",
       "3         Bank House 209 Merton Road London SW19 1EE   \n",
       "4                      53 Exeter Road London NW2 4SE   \n",
       "\n",
       "                                  address_of_manager        commencement_date  \\\n",
       "0                                                NaN  2016-02-03T00:00:00.000   \n",
       "1  Ashley Sameuel Ltd 69 Broadfields Avenue Londo...  2016-10-20T00:00:00.000   \n",
       "2                                                NaN  2016-05-24T00:00:00.000   \n",
       "3                                                NaN  2017-01-27T00:00:00.000   \n",
       "4                                                NaN  2016-08-16T00:00:00.000   \n",
       "\n",
       "  duration_in_years easting                 end_date            last_uploaded  \\\n",
       "0                 5  527491  2021-02-02T00:00:00.000  2021-02-06T08:35:17.000   \n",
       "1                 5  524543  2021-10-19T00:00:00.000  2021-02-06T08:35:19.000   \n",
       "2                 5  525464  2021-05-23T00:00:00.000  2021-02-06T08:35:19.000   \n",
       "3                 4  530423  2022-01-26T00:00:00.000  2021-02-06T08:35:19.000   \n",
       "4                 5  527743  2021-08-15T00:00:00.000  2021-02-06T08:35:19.000   \n",
       "\n",
       "    latitude licence_number  \\\n",
       "0  51.558033          47755   \n",
       "1  51.549578          48328   \n",
       "2  51.551031          50681   \n",
       "3   51.52654          51193   \n",
       "4  51.553177          51525   \n",
       "\n",
       "                                            location  ...  \\\n",
       "0  {'latitude': '51.558033', 'longitude': '-0.162...  ...   \n",
       "1  {'latitude': '51.549578', 'longitude': '-0.205...  ...   \n",
       "2  {'latitude': '51.551031', 'longitude': '-0.191...  ...   \n",
       "3  {'latitude': '51.52654', 'longitude': '-0.1213...  ...   \n",
       "4  {'latitude': '51.553177', 'longitude': '-0.158...  ...   \n",
       "\n",
       "  number_of_shared_showers number_of_shared_sinks number_of_shared_wcs  \\\n",
       "0                        1                      0                    1   \n",
       "1                       11                      2                    0   \n",
       "2                      NaN                    NaN                  NaN   \n",
       "3                        0                      3                    0   \n",
       "4                        0                      1                    0   \n",
       "\n",
       "  number_of_shared_whbs                                   organisation_uri  \\\n",
       "0                     2  {'url': 'http://opendatacommunities.org/id/lon...   \n",
       "1                     0  {'url': 'http://opendatacommunities.org/id/lon...   \n",
       "2                   NaN  {'url': 'http://opendatacommunities.org/id/lon...   \n",
       "3                     3  {'url': 'http://opendatacommunities.org/id/lon...   \n",
       "4                     2  {'url': 'http://opendatacommunities.org/id/lon...   \n",
       "\n",
       "                                    property_address spatial_accuracy  \\\n",
       "0                  65 Parliament Hill London NW3 2TB   Postcode Level   \n",
       "1                          9 Kingscroft Road NW2 3QE   Postcode Level   \n",
       "2  Inglewood Mansions 287 West End Lane London Gr...   Postcode Level   \n",
       "3            Flat B 16 Regent Square London WC1H 8HZ   Postcode Level   \n",
       "4                 Flat A 2 Fleet Road London NW3 2QS   Postcode Level   \n",
       "\n",
       "                       status storeys_of_hmo          type_of_licence  \n",
       "0  Licence Granted - In Force              3  HMO Mandatory Licensing  \n",
       "1  Licence Granted - In Force              3  HMO Mandatory Licensing  \n",
       "2  Licence Granted - In Force            NaN  HMO Mandatory Licensing  \n",
       "3  Licence Granted - In Force              3  HMO Mandatory Licensing  \n",
       "4  Licence Granted - In Force              3  HMO Mandatory Licensing  \n",
       "\n",
       "[5 rows x 33 columns]"
      ]
     },
     "execution_count": 7,
     "metadata": {},
     "output_type": "execute_result"
    }
   ],
   "source": [
    "results_df.head()"
   ]
  },
  {
   "cell_type": "code",
   "execution_count": 8,
   "metadata": {},
   "outputs": [
    {
     "data": {
      "text/plain": [
       "('51.558033', '-0.162331')"
      ]
     },
     "execution_count": 8,
     "metadata": {},
     "output_type": "execute_result"
    }
   ],
   "source": [
    "(results_df['location'][0]['latitude'], results_df['location'][0]['longitude'])"
   ]
  },
  {
   "cell_type": "code",
   "execution_count": 9,
   "metadata": {},
   "outputs": [],
   "source": [
    "# NearestStation.extract_postcode(results_df['address_of_licence_holder'][0])"
   ]
  },
  {
   "cell_type": "code",
   "execution_count": null,
   "metadata": {},
   "outputs": [],
   "source": []
  }
 ],
 "metadata": {
  "kernelspec": {
   "display_name": "Python 3",
   "language": "python",
   "name": "python3"
  },
  "language_info": {
   "codemirror_mode": {
    "name": "ipython",
    "version": 3
   },
   "file_extension": ".py",
   "mimetype": "text/x-python",
   "name": "python",
   "nbconvert_exporter": "python",
   "pygments_lexer": "ipython3",
   "version": "3.7.3"
  }
 },
 "nbformat": 4,
 "nbformat_minor": 2
}
