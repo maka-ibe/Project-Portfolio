{
 "cells": [
  {
   "cell_type": "code",
   "execution_count": 3,
   "metadata": {},
   "outputs": [],
   "source": [
    "import tabula"
   ]
  },
  {
   "cell_type": "code",
   "execution_count": 5,
   "metadata": {},
   "outputs": [],
   "source": [
    "# Change pdf name\n",
    "df = tabula.read_pdf(\"20201126 Waltham Forest Privated Public Register November 2020.pdf\", pages='all')"
   ]
  },
  {
   "cell_type": "code",
   "execution_count": 11,
   "metadata": {},
   "outputs": [
    {
     "data": {
      "text/html": [
       "<div>\n",
       "<style scoped>\n",
       "    .dataframe tbody tr th:only-of-type {\n",
       "        vertical-align: middle;\n",
       "    }\n",
       "\n",
       "    .dataframe tbody tr th {\n",
       "        vertical-align: top;\n",
       "    }\n",
       "\n",
       "    .dataframe thead th {\n",
       "        text-align: right;\n",
       "    }\n",
       "</style>\n",
       "<table border=\"1\" class=\"dataframe\">\n",
       "  <thead>\n",
       "    <tr style=\"text-align: right;\">\n",
       "      <th></th>\n",
       "      <th>Ref.No.</th>\n",
       "      <th>Property Address Licence Holder</th>\n",
       "      <th>Unnamed: 0</th>\n",
       "      <th>Start Date</th>\n",
       "      <th>End Date</th>\n",
       "    </tr>\n",
       "  </thead>\n",
       "  <tbody>\n",
       "    <tr>\n",
       "      <th>0</th>\n",
       "      <td>14531</td>\n",
       "      <td>43 Chester Road, Walthamstow, E17 7HP Mr Lahri...</td>\n",
       "      <td>NaN</td>\n",
       "      <td>15/03/2018</td>\n",
       "      <td>15/03/2023</td>\n",
       "    </tr>\n",
       "    <tr>\n",
       "      <th>1</th>\n",
       "      <td>20502</td>\n",
       "      <td>Flat 1, 8 Goldsmith Road, Leyton, E10 5HA Mr L...</td>\n",
       "      <td>NaN</td>\n",
       "      <td>12/05/2017</td>\n",
       "      <td>12/05/2022</td>\n",
       "    </tr>\n",
       "    <tr>\n",
       "      <th>2</th>\n",
       "      <td>20881</td>\n",
       "      <td>Flat 2, 79 Park Road, Leyton, E10 7BZ Mr Lahri...</td>\n",
       "      <td>NaN</td>\n",
       "      <td>01/11/2018</td>\n",
       "      <td>01/11/2023</td>\n",
       "    </tr>\n",
       "    <tr>\n",
       "      <th>3</th>\n",
       "      <td>20932</td>\n",
       "      <td>Ground Floor Flat, 23 Cornwallis Road, Waltham...</td>\n",
       "      <td>NaN</td>\n",
       "      <td>26/10/2018</td>\n",
       "      <td>26/10/2023</td>\n",
       "    </tr>\n",
       "    <tr>\n",
       "      <th>4</th>\n",
       "      <td>21254</td>\n",
       "      <td>Flat 3, 62 St James Street, Walthamstow, E17 7...</td>\n",
       "      <td>NaN</td>\n",
       "      <td>26/10/2018</td>\n",
       "      <td>26/10/2023</td>\n",
       "    </tr>\n",
       "    <tr>\n",
       "      <th>5</th>\n",
       "      <td>21484</td>\n",
       "      <td>Flat 1, 165 Sinclair Road, Chingford, E4 8PP M...</td>\n",
       "      <td>NaN</td>\n",
       "      <td>22/06/2016</td>\n",
       "      <td>22/06/2021</td>\n",
       "    </tr>\n",
       "    <tr>\n",
       "      <th>6</th>\n",
       "      <td>22965</td>\n",
       "      <td>24 Mayfield Road, Walthamstow, E17 5RH Mr Davi...</td>\n",
       "      <td>NaN</td>\n",
       "      <td>04/01/2016</td>\n",
       "      <td>04/01/2021</td>\n",
       "    </tr>\n",
       "    <tr>\n",
       "      <th>7</th>\n",
       "      <td>24877</td>\n",
       "      <td>Ground Floor Flat, 174 Blackhorse Lane, Waltha...</td>\n",
       "      <td>NaN</td>\n",
       "      <td>05/11/2018</td>\n",
       "      <td>05/11/2023</td>\n",
       "    </tr>\n",
       "    <tr>\n",
       "      <th>8</th>\n",
       "      <td>25327</td>\n",
       "      <td>Ground Floor Studio Flat, 110 Markhouse Road, ...</td>\n",
       "      <td>NaN</td>\n",
       "      <td>13/05/2019</td>\n",
       "      <td>13/05/2024</td>\n",
       "    </tr>\n",
       "    <tr>\n",
       "      <th>9</th>\n",
       "      <td>25335</td>\n",
       "      <td>Ground Floor Rear Flat, 110 Markhouse Road, Wa...</td>\n",
       "      <td>NaN</td>\n",
       "      <td>18/04/2019</td>\n",
       "      <td>18/04/2024</td>\n",
       "    </tr>\n",
       "    <tr>\n",
       "      <th>10</th>\n",
       "      <td>25972</td>\n",
       "      <td>24a Wood Street, Walthamstow, E17 3HT Mr Jasim...</td>\n",
       "      <td>NaN</td>\n",
       "      <td>22/02/2016</td>\n",
       "      <td>22/02/2021</td>\n",
       "    </tr>\n",
       "    <tr>\n",
       "      <th>11</th>\n",
       "      <td>25981</td>\n",
       "      <td>24b Wood Street, Walthamstow, E17 3HT Mr Jasim...</td>\n",
       "      <td>NaN</td>\n",
       "      <td>22/02/2016</td>\n",
       "      <td>22/02/2021</td>\n",
       "    </tr>\n",
       "    <tr>\n",
       "      <th>12</th>\n",
       "      <td>26207</td>\n",
       "      <td>Ground Floor Flat, 42 Gainsford Road, Walthams...</td>\n",
       "      <td>NaN</td>\n",
       "      <td>17/07/2017</td>\n",
       "      <td>17/07/2022</td>\n",
       "    </tr>\n",
       "    <tr>\n",
       "      <th>13</th>\n",
       "      <td>26211</td>\n",
       "      <td>Flat 4, 33 Cleveland Park Avenue, Walthamstow,...</td>\n",
       "      <td>NaN</td>\n",
       "      <td>26/10/2018</td>\n",
       "      <td>26/10/2023</td>\n",
       "    </tr>\n",
       "    <tr>\n",
       "      <th>14</th>\n",
       "      <td>26244</td>\n",
       "      <td>First Floor Flat, 28 Gainsford Road, Walthamst...</td>\n",
       "      <td>NaN</td>\n",
       "      <td>27/03/2018</td>\n",
       "      <td>27/03/2023</td>\n",
       "    </tr>\n",
       "    <tr>\n",
       "      <th>15</th>\n",
       "      <td>26274</td>\n",
       "      <td>Ground Floor Flat, 28 Gainsford Road, Walthams...</td>\n",
       "      <td>NaN</td>\n",
       "      <td>13/09/2017</td>\n",
       "      <td>13/09/2022</td>\n",
       "    </tr>\n",
       "    <tr>\n",
       "      <th>16</th>\n",
       "      <td>26347</td>\n",
       "      <td>Flat A, 642 Lea Bridge Road, Leyton, E10 6AP M...</td>\n",
       "      <td>NaN</td>\n",
       "      <td>24/12/2018</td>\n",
       "      <td>24/12/2023</td>\n",
       "    </tr>\n",
       "    <tr>\n",
       "      <th>17</th>\n",
       "      <td>26352</td>\n",
       "      <td>642 Lea Bridge Road, Leyton, E10 6AP Mr Lahrie...</td>\n",
       "      <td>NaN</td>\n",
       "      <td>26/10/2018</td>\n",
       "      <td>26/10/2023</td>\n",
       "    </tr>\n",
       "  </tbody>\n",
       "</table>\n",
       "</div>"
      ],
      "text/plain": [
       "    Ref.No.                    Property Address Licence Holder  Unnamed: 0  \\\n",
       "0     14531  43 Chester Road, Walthamstow, E17 7HP Mr Lahri...         NaN   \n",
       "1     20502  Flat 1, 8 Goldsmith Road, Leyton, E10 5HA Mr L...         NaN   \n",
       "2     20881  Flat 2, 79 Park Road, Leyton, E10 7BZ Mr Lahri...         NaN   \n",
       "3     20932  Ground Floor Flat, 23 Cornwallis Road, Waltham...         NaN   \n",
       "4     21254  Flat 3, 62 St James Street, Walthamstow, E17 7...         NaN   \n",
       "5     21484  Flat 1, 165 Sinclair Road, Chingford, E4 8PP M...         NaN   \n",
       "6     22965  24 Mayfield Road, Walthamstow, E17 5RH Mr Davi...         NaN   \n",
       "7     24877  Ground Floor Flat, 174 Blackhorse Lane, Waltha...         NaN   \n",
       "8     25327  Ground Floor Studio Flat, 110 Markhouse Road, ...         NaN   \n",
       "9     25335  Ground Floor Rear Flat, 110 Markhouse Road, Wa...         NaN   \n",
       "10    25972  24a Wood Street, Walthamstow, E17 3HT Mr Jasim...         NaN   \n",
       "11    25981  24b Wood Street, Walthamstow, E17 3HT Mr Jasim...         NaN   \n",
       "12    26207  Ground Floor Flat, 42 Gainsford Road, Walthams...         NaN   \n",
       "13    26211  Flat 4, 33 Cleveland Park Avenue, Walthamstow,...         NaN   \n",
       "14    26244  First Floor Flat, 28 Gainsford Road, Walthamst...         NaN   \n",
       "15    26274  Ground Floor Flat, 28 Gainsford Road, Walthams...         NaN   \n",
       "16    26347  Flat A, 642 Lea Bridge Road, Leyton, E10 6AP M...         NaN   \n",
       "17    26352  642 Lea Bridge Road, Leyton, E10 6AP Mr Lahrie...         NaN   \n",
       "\n",
       "    Start Date    End Date  \n",
       "0   15/03/2018  15/03/2023  \n",
       "1   12/05/2017  12/05/2022  \n",
       "2   01/11/2018  01/11/2023  \n",
       "3   26/10/2018  26/10/2023  \n",
       "4   26/10/2018  26/10/2023  \n",
       "5   22/06/2016  22/06/2021  \n",
       "6   04/01/2016  04/01/2021  \n",
       "7   05/11/2018  05/11/2023  \n",
       "8   13/05/2019  13/05/2024  \n",
       "9   18/04/2019  18/04/2024  \n",
       "10  22/02/2016  22/02/2021  \n",
       "11  22/02/2016  22/02/2021  \n",
       "12  17/07/2017  17/07/2022  \n",
       "13  26/10/2018  26/10/2023  \n",
       "14  27/03/2018  27/03/2023  \n",
       "15  13/09/2017  13/09/2022  \n",
       "16  24/12/2018  24/12/2023  \n",
       "17  26/10/2018  26/10/2023  "
      ]
     },
     "execution_count": 11,
     "metadata": {},
     "output_type": "execute_result"
    }
   ],
   "source": [
    "df[0]"
   ]
  },
  {
   "cell_type": "code",
   "execution_count": 17,
   "metadata": {},
   "outputs": [
    {
     "data": {
      "text/plain": [
       "'43 Chester Road, Walthamstow, E17 7HP Mr Lahrie Mohamed'"
      ]
     },
     "execution_count": 17,
     "metadata": {},
     "output_type": "execute_result"
    }
   ],
   "source": [
    "df[0]['Property Address Licence Holder'][0]"
   ]
  },
  {
   "cell_type": "code",
   "execution_count": 18,
   "metadata": {},
   "outputs": [
    {
     "data": {
      "text/plain": [
       "'Flat 1, 8 Goldsmith Road, Leyton, E10 5HA Mr Lahrie Mohamed'"
      ]
     },
     "execution_count": 18,
     "metadata": {},
     "output_type": "execute_result"
    }
   ],
   "source": [
    "df[0]['Property Address Licence Holder'][1]"
   ]
  },
  {
   "cell_type": "code",
   "execution_count": 26,
   "metadata": {},
   "outputs": [
    {
     "data": {
      "text/html": [
       "<div>\n",
       "<style scoped>\n",
       "    .dataframe tbody tr th:only-of-type {\n",
       "        vertical-align: middle;\n",
       "    }\n",
       "\n",
       "    .dataframe tbody tr th {\n",
       "        vertical-align: top;\n",
       "    }\n",
       "\n",
       "    .dataframe thead th {\n",
       "        text-align: right;\n",
       "    }\n",
       "</style>\n",
       "<table border=\"1\" class=\"dataframe\">\n",
       "  <thead>\n",
       "    <tr style=\"text-align: right;\">\n",
       "      <th></th>\n",
       "      <th>Ref.No.</th>\n",
       "      <th>Property Address Licence Holder</th>\n",
       "      <th>Unnamed: 0</th>\n",
       "      <th>Start Date</th>\n",
       "      <th>End Date</th>\n",
       "    </tr>\n",
       "  </thead>\n",
       "  <tbody>\n",
       "    <tr>\n",
       "      <th>8</th>\n",
       "      <td>25327</td>\n",
       "      <td>Ground Floor Studio Flat, 110 Markhouse Road, ...</td>\n",
       "      <td>NaN</td>\n",
       "      <td>13/05/2019</td>\n",
       "      <td>13/05/2024</td>\n",
       "    </tr>\n",
       "  </tbody>\n",
       "</table>\n",
       "</div>"
      ],
      "text/plain": [
       "   Ref.No.                    Property Address Licence Holder  Unnamed: 0  \\\n",
       "8    25327  Ground Floor Studio Flat, 110 Markhouse Road, ...         NaN   \n",
       "\n",
       "   Start Date    End Date  \n",
       "8  13/05/2019  13/05/2024  "
      ]
     },
     "execution_count": 26,
     "metadata": {},
     "output_type": "execute_result"
    }
   ],
   "source": [
    "# spot check\n",
    "df[0][df[0]['Ref.No.']==25327]"
   ]
  },
  {
   "cell_type": "code",
   "execution_count": 14,
   "metadata": {},
   "outputs": [
    {
     "name": "stdout",
     "output_type": "stream",
     "text": [
      "2257\n"
     ]
    }
   ],
   "source": [
    "hmo_count = 0\n",
    "for page in df:\n",
    "    hmo_count += len(page)\n",
    "print(hmo_count)"
   ]
  },
  {
   "cell_type": "code",
   "execution_count": 15,
   "metadata": {},
   "outputs": [],
   "source": [
    "# TODO concat all dfs"
   ]
  },
  {
   "cell_type": "code",
   "execution_count": null,
   "metadata": {},
   "outputs": [],
   "source": [
    "# split the property address and licence holder name into two parts"
   ]
  }
 ],
 "metadata": {
  "kernelspec": {
   "display_name": "Python 3",
   "language": "python",
   "name": "python3"
  },
  "language_info": {
   "codemirror_mode": {
    "name": "ipython",
    "version": 3
   },
   "file_extension": ".py",
   "mimetype": "text/x-python",
   "name": "python",
   "nbconvert_exporter": "python",
   "pygments_lexer": "ipython3",
   "version": "3.7.3"
  }
 },
 "nbformat": 4,
 "nbformat_minor": 2
}
