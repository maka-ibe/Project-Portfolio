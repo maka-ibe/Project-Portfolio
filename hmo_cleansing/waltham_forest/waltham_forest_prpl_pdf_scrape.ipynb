{
 "cells": [
  {
   "cell_type": "code",
   "execution_count": 1,
   "metadata": {},
   "outputs": [],
   "source": [
    "import tabula\n",
    "import re\n",
    "import pandas as pd"
   ]
  },
  {
   "cell_type": "code",
   "execution_count": 2,
   "metadata": {},
   "outputs": [],
   "source": [
    "# Change pdf name\n",
    "df = tabula.read_pdf(\"20201126 Waltham Forest Privated Public Register November 2020.pdf\"\n",
    "                     , pages='all'\n",
    "                     , pandas_options = {'header': None})"
   ]
  },
  {
   "cell_type": "code",
   "execution_count": 3,
   "metadata": {},
   "outputs": [
    {
     "data": {
      "text/plain": [
       "76"
      ]
     },
     "execution_count": 3,
     "metadata": {},
     "output_type": "execute_result"
    }
   ],
   "source": [
    "len(df) #should total the amount of pages in the document"
   ]
  },
  {
   "cell_type": "code",
   "execution_count": 4,
   "metadata": {},
   "outputs": [],
   "source": [
    "class SplitFields:\n",
    "    def __init__(self, field):\n",
    "        self.field = field\n",
    "    \n",
    "    @property\n",
    "    def split_list(self):\n",
    "        return re.split(r'([A-Z]{1,2}[0-9R][0-9A-Z]? [0-9][A-Z]{2})', self.field)\n",
    "    \n",
    "    @property\n",
    "    def property_address(self):\n",
    "        return ''.join(self.split_list[:len(self.split_list)-1])\n",
    "    \n",
    "    @property\n",
    "    def licence_holder(self):\n",
    "        return self.split_list[-1]\n",
    "        "
   ]
  },
  {
   "cell_type": "code",
   "execution_count": 5,
   "metadata": {
    "scrolled": true
   },
   "outputs": [],
   "source": [
    "complete_register = pd.concat(df, ignore_index=True)\n",
    "\n",
    "# remove first line which contains header data\n",
    "complete_register.drop([0], inplace=True)\n",
    "\n",
    "# reset index after dropping row\n",
    "complete_register.reset_index(drop=True, inplace=True)\n",
    "\n",
    "# get property address from field\n",
    "complete_register[5] = complete_register[1].apply(lambda x: SplitFields(x).property_address)\n",
    "\n",
    "# get licence holder from field\n",
    "complete_register[6] = complete_register.apply(lambda x: SplitFields(x[1]).licence_holder if pd.isnull(x[2]) else x[2], axis=1)"
   ]
  },
  {
   "cell_type": "code",
   "execution_count": 6,
   "metadata": {},
   "outputs": [],
   "source": [
    "# created a df with columns to keep\n",
    "final_df = complete_register[[0,5,6,3,4]].copy()"
   ]
  },
  {
   "cell_type": "code",
   "execution_count": 7,
   "metadata": {},
   "outputs": [],
   "source": [
    "# rename columns\n",
    "final_df.columns = ['ref_no', 'property_address', 'licence_holder', 'start_date', 'end_date']"
   ]
  },
  {
   "cell_type": "code",
   "execution_count": 8,
   "metadata": {},
   "outputs": [
    {
     "data": {
      "text/html": [
       "<div>\n",
       "<style scoped>\n",
       "    .dataframe tbody tr th:only-of-type {\n",
       "        vertical-align: middle;\n",
       "    }\n",
       "\n",
       "    .dataframe tbody tr th {\n",
       "        vertical-align: top;\n",
       "    }\n",
       "\n",
       "    .dataframe thead th {\n",
       "        text-align: right;\n",
       "    }\n",
       "</style>\n",
       "<table border=\"1\" class=\"dataframe\">\n",
       "  <thead>\n",
       "    <tr style=\"text-align: right;\">\n",
       "      <th></th>\n",
       "      <th>ref_no</th>\n",
       "      <th>property_address</th>\n",
       "      <th>licence_holder</th>\n",
       "      <th>start_date</th>\n",
       "      <th>end_date</th>\n",
       "    </tr>\n",
       "  </thead>\n",
       "  <tbody>\n",
       "    <tr>\n",
       "      <th>0</th>\n",
       "      <td>14531</td>\n",
       "      <td>43 Chester Road, Walthamstow, E17 7HP</td>\n",
       "      <td>Mr Lahrie Mohamed</td>\n",
       "      <td>15/03/2018</td>\n",
       "      <td>15/03/2023</td>\n",
       "    </tr>\n",
       "    <tr>\n",
       "      <th>1</th>\n",
       "      <td>20502</td>\n",
       "      <td>Flat 1, 8 Goldsmith Road, Leyton, E10 5HA</td>\n",
       "      <td>Mr Lahrie Mohamed</td>\n",
       "      <td>12/05/2017</td>\n",
       "      <td>12/05/2022</td>\n",
       "    </tr>\n",
       "    <tr>\n",
       "      <th>2</th>\n",
       "      <td>20881</td>\n",
       "      <td>Flat 2, 79 Park Road, Leyton, E10 7BZ</td>\n",
       "      <td>Mr Lahrie Mohamed</td>\n",
       "      <td>01/11/2018</td>\n",
       "      <td>01/11/2023</td>\n",
       "    </tr>\n",
       "    <tr>\n",
       "      <th>3</th>\n",
       "      <td>20932</td>\n",
       "      <td>Ground Floor Flat, 23 Cornwallis Road, Waltham...</td>\n",
       "      <td>Mr Lahrie Mohamed</td>\n",
       "      <td>26/10/2018</td>\n",
       "      <td>26/10/2023</td>\n",
       "    </tr>\n",
       "    <tr>\n",
       "      <th>4</th>\n",
       "      <td>21254</td>\n",
       "      <td>Flat 3, 62 St James Street, Walthamstow, E17 7PE</td>\n",
       "      <td>Mr Lahrie Mohamed</td>\n",
       "      <td>26/10/2018</td>\n",
       "      <td>26/10/2023</td>\n",
       "    </tr>\n",
       "  </tbody>\n",
       "</table>\n",
       "</div>"
      ],
      "text/plain": [
       "  ref_no                                   property_address  \\\n",
       "0  14531              43 Chester Road, Walthamstow, E17 7HP   \n",
       "1  20502          Flat 1, 8 Goldsmith Road, Leyton, E10 5HA   \n",
       "2  20881              Flat 2, 79 Park Road, Leyton, E10 7BZ   \n",
       "3  20932  Ground Floor Flat, 23 Cornwallis Road, Waltham...   \n",
       "4  21254   Flat 3, 62 St James Street, Walthamstow, E17 7PE   \n",
       "\n",
       "       licence_holder  start_date    end_date  \n",
       "0   Mr Lahrie Mohamed  15/03/2018  15/03/2023  \n",
       "1   Mr Lahrie Mohamed  12/05/2017  12/05/2022  \n",
       "2   Mr Lahrie Mohamed  01/11/2018  01/11/2023  \n",
       "3   Mr Lahrie Mohamed  26/10/2018  26/10/2023  \n",
       "4   Mr Lahrie Mohamed  26/10/2018  26/10/2023  "
      ]
     },
     "execution_count": 8,
     "metadata": {},
     "output_type": "execute_result"
    }
   ],
   "source": [
    "final_df.head()"
   ]
  },
  {
   "cell_type": "code",
   "execution_count": 9,
   "metadata": {},
   "outputs": [
    {
     "data": {
      "text/plain": [
       "2332"
      ]
     },
     "execution_count": 9,
     "metadata": {},
     "output_type": "execute_result"
    }
   ],
   "source": [
    "len(final_df)"
   ]
  }
 ],
 "metadata": {
  "kernelspec": {
   "display_name": "Python 3",
   "language": "python",
   "name": "python3"
  },
  "language_info": {
   "codemirror_mode": {
    "name": "ipython",
    "version": 3
   },
   "file_extension": ".py",
   "mimetype": "text/x-python",
   "name": "python",
   "nbconvert_exporter": "python",
   "pygments_lexer": "ipython3",
   "version": "3.7.3"
  }
 },
 "nbformat": 4,
 "nbformat_minor": 2
}
