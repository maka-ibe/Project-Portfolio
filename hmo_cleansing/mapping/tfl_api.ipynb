{
 "cells": [
  {
   "cell_type": "code",
   "execution_count": 10,
   "metadata": {},
   "outputs": [],
   "source": [
    "import requests\n",
    "import os"
   ]
  },
  {
   "cell_type": "code",
   "execution_count": 11,
   "metadata": {},
   "outputs": [],
   "source": [
    "# r = requests.get('https://api.tfl.gov.uk/StopPoint/Meta/Modes')"
   ]
  },
  {
   "cell_type": "code",
   "execution_count": 12,
   "metadata": {},
   "outputs": [],
   "source": [
    "# r.status_code"
   ]
  },
  {
   "cell_type": "code",
   "execution_count": 13,
   "metadata": {},
   "outputs": [],
   "source": [
    "# r.json()"
   ]
  },
  {
   "cell_type": "code",
   "execution_count": 14,
   "metadata": {},
   "outputs": [],
   "source": [
    "# get list of all possible modes\n",
    "# for item in r.json():\n",
    "#     print(item['modeName'])\n",
    "#     for key in item:\n",
    "#         print(key)\n",
    "# interested in dlr,national-rail, overground, tflrail, tube"
   ]
  },
  {
   "cell_type": "code",
   "execution_count": 15,
   "metadata": {},
   "outputs": [],
   "source": [
    "modes = ['dlr', 'national-rail', 'overground', 'tflrail', 'tube']"
   ]
  },
  {
   "cell_type": "code",
   "execution_count": 16,
   "metadata": {},
   "outputs": [
    {
     "data": {
      "text/plain": [
       "['dlr', 'national-rail', 'overground', 'tflrail', 'tube']"
      ]
     },
     "execution_count": 16,
     "metadata": {},
     "output_type": "execute_result"
    }
   ],
   "source": [
    "modes"
   ]
  },
  {
   "cell_type": "code",
   "execution_count": 17,
   "metadata": {},
   "outputs": [],
   "source": [
    "class TflStopPoint:\n",
    "    def __init__(self,mode):\n",
    "        self.mode = mode\n",
    "        \n",
    "    @property\n",
    "    def endpoint(self):\n",
    "        return f\"https://api.tfl.gov.uk/StopPoint/Mode/{self.mode}\"\n",
    "    \n",
    "    @property\n",
    "    def stopPoint_json(self):\n",
    "        return requests.get(self.endpoint).json()\n",
    "    \n",
    "    def stopPoint_data(self):\n",
    "        stopPoint_dict = {}\n",
    "        keys = ['indicator', 'naptanId', 'stationNaptan', 'lines', 'lineGroup', 'placeType'\n",
    "               , 'stopType', 'commonName', 'modes', 'lat', 'lon']\n",
    "        \n",
    "        for i in range(0, len(stopPoint['stopPoints'])):\n",
    "            stopPoint_dict['indicator'] = a.json()['stopPoints'][i]['indicator']\n",
    "            stopPoint_dict['naptan_id'] = a.json()['stopPoints'][i]['naptanId']\n",
    "            stopPoint_dict['station_naptan'] = a.json()['stopPoints'][i]['stationNaptan']\n",
    "            stopPoint_dict['lines'] = a.json()['stopPoints'][i]['lines']\n",
    "            stopPoint_dict['line_group'] = a.json()['stopPoints'][i]['lineGroup']\n",
    "            stopPoint_dict['place_type'] = a.json()['stopPoints'][i]['placeType']\n",
    "            stopPoint_dict['stop_type'] = a.json()['stopPoints'][i]['stopType']\n",
    "            stopPoint_dict['common_name'] = a.json()['stopPoints'][i]['commonName']\n",
    "            stopPoint_dict['modes'] = a.json()['stopPoints'][i]['modes']\n",
    "            stopPoint_dict['lat'] = a.json()['stopPoints'][i]['lat']\n",
    "            stopPoint_dict['lon'] = a.json()['stopPoints'][i]['lon']\n",
    "\n",
    "        for dict_obj in a.json()['stopPoints'][0]['additionalProperties']:\n",
    "            for key in dict_obj:\n",
    "                if key == 'key':\n",
    "                    stopPoint_dict[dict_obj[key]] = {'value' : dict_obj['value'], 'category' : dict_obj['category']}\n",
    "    "
   ]
  },
  {
   "cell_type": "code",
   "execution_count": 18,
   "metadata": {},
   "outputs": [],
   "source": [
    "x = TflStopPoint('tube')"
   ]
  },
  {
   "cell_type": "code",
   "execution_count": 19,
   "metadata": {},
   "outputs": [
    {
     "data": {
      "text/plain": [
       "'https://api.tfl.gov.uk/StopPoint/Mode/tube'"
      ]
     },
     "execution_count": 19,
     "metadata": {},
     "output_type": "execute_result"
    }
   ],
   "source": [
    "x.endpoint"
   ]
  },
  {
   "cell_type": "code",
   "execution_count": 22,
   "metadata": {},
   "outputs": [],
   "source": [
    "# TODO Create class and give option to paginate or not, and option to chose a mode\n",
    "a = requests.get('https://api.tfl.gov.uk/StopPoint/Mode/tube')"
   ]
  },
  {
   "cell_type": "code",
   "execution_count": 9,
   "metadata": {},
   "outputs": [],
   "source": [
    "# a.json()"
   ]
  },
  {
   "cell_type": "code",
   "execution_count": 23,
   "metadata": {},
   "outputs": [
    {
     "data": {
      "text/plain": [
       "1698"
      ]
     },
     "execution_count": 23,
     "metadata": {},
     "output_type": "execute_result"
    }
   ],
   "source": [
    "len(a.json()['stopPoints'])"
   ]
  },
  {
   "cell_type": "code",
   "execution_count": 24,
   "metadata": {},
   "outputs": [
    {
     "data": {
      "text/plain": [
       "{'$type': 'Tfl.Api.Presentation.Entities.StopPoint, Tfl.Api.Presentation.Entities',\n",
       " 'naptanId': '0400ZZLUAMS0',\n",
       " 'indicator': 'main entrance',\n",
       " 'stopLetter': 'entrance',\n",
       " 'modes': ['tube'],\n",
       " 'icsCode': '1000006',\n",
       " 'stopType': 'NaptanMetroEntrance',\n",
       " 'stationNaptan': '940GZZLUAMS',\n",
       " 'hubNaptanCode': 'HUBAMR',\n",
       " 'lines': [],\n",
       " 'lineGroup': [],\n",
       " 'lineModeGroups': [],\n",
       " 'status': True,\n",
       " 'id': '0400ZZLUAMS0',\n",
       " 'commonName': 'Amersham Underground Station',\n",
       " 'placeType': 'StopPoint',\n",
       " 'additionalProperties': [{'$type': 'Tfl.Api.Presentation.Entities.AdditionalProperties, Tfl.Api.Presentation.Entities',\n",
       "   'category': 'Accessibility',\n",
       "   'key': 'TaxiRankOutsideStation',\n",
       "   'sourceSystemKey': 'LRAD',\n",
       "   'value': 'No'},\n",
       "  {'$type': 'Tfl.Api.Presentation.Entities.AdditionalProperties, Tfl.Api.Presentation.Entities',\n",
       "   'category': 'Accessibility',\n",
       "   'key': 'Toilet',\n",
       "   'sourceSystemKey': 'LRAD',\n",
       "   'value': 'Yes'},\n",
       "  {'$type': 'Tfl.Api.Presentation.Entities.AdditionalProperties, Tfl.Api.Presentation.Entities',\n",
       "   'category': 'Accessibility',\n",
       "   'key': 'ToiletNote',\n",
       "   'sourceSystemKey': 'LRAD',\n",
       "   'value': 'female only, southbound platform'},\n",
       "  {'$type': 'Tfl.Api.Presentation.Entities.AdditionalProperties, Tfl.Api.Presentation.Entities',\n",
       "   'category': 'Facility',\n",
       "   'key': 'Car park',\n",
       "   'sourceSystemKey': 'StaticObjects',\n",
       "   'value': 'yes'},\n",
       "  {'$type': 'Tfl.Api.Presentation.Entities.AdditionalProperties, Tfl.Api.Presentation.Entities',\n",
       "   'category': 'Facility',\n",
       "   'key': 'Payphones',\n",
       "   'sourceSystemKey': 'StaticObjects',\n",
       "   'value': '1'},\n",
       "  {'$type': 'Tfl.Api.Presentation.Entities.AdditionalProperties, Tfl.Api.Presentation.Entities',\n",
       "   'category': 'Facility',\n",
       "   'key': 'Photo Booths',\n",
       "   'sourceSystemKey': 'StaticObjects',\n",
       "   'value': '0'},\n",
       "  {'$type': 'Tfl.Api.Presentation.Entities.AdditionalProperties, Tfl.Api.Presentation.Entities',\n",
       "   'category': 'Facility',\n",
       "   'key': 'Waiting Room',\n",
       "   'sourceSystemKey': 'StaticObjects',\n",
       "   'value': 'yes'},\n",
       "  {'$type': 'Tfl.Api.Presentation.Entities.AdditionalProperties, Tfl.Api.Presentation.Entities',\n",
       "   'category': 'Address',\n",
       "   'key': 'Address',\n",
       "   'sourceSystemKey': 'StaticObjects',\n",
       "   'value': 'Amersham Station,Stn Approach,Amersham,Bucks HP6 5AZ'},\n",
       "  {'$type': 'Tfl.Api.Presentation.Entities.AdditionalProperties, Tfl.Api.Presentation.Entities',\n",
       "   'category': 'Geo',\n",
       "   'key': 'Zone',\n",
       "   'sourceSystemKey': 'StaticObjects',\n",
       "   'value': '9'},\n",
       "  {'$type': 'Tfl.Api.Presentation.Entities.AdditionalProperties, Tfl.Api.Presentation.Entities',\n",
       "   'category': 'Facility',\n",
       "   'key': 'Boarding Ramp',\n",
       "   'sourceSystemKey': 'StaticObjects',\n",
       "   'value': 'yes'},\n",
       "  {'$type': 'Tfl.Api.Presentation.Entities.AdditionalProperties, Tfl.Api.Presentation.Entities',\n",
       "   'category': 'Facility',\n",
       "   'key': 'Cash Machines',\n",
       "   'sourceSystemKey': 'StaticObjects',\n",
       "   'value': '2'},\n",
       "  {'$type': 'Tfl.Api.Presentation.Entities.AdditionalProperties, Tfl.Api.Presentation.Entities',\n",
       "   'category': 'Facility',\n",
       "   'key': 'Escalators',\n",
       "   'sourceSystemKey': 'StaticObjects',\n",
       "   'value': '0'},\n",
       "  {'$type': 'Tfl.Api.Presentation.Entities.AdditionalProperties, Tfl.Api.Presentation.Entities',\n",
       "   'category': 'Facility',\n",
       "   'key': 'Help Points',\n",
       "   'sourceSystemKey': 'StaticObjects',\n",
       "   'value': '0 on platforms, 0 in ticket halls, 0 elsewhere'},\n",
       "  {'$type': 'Tfl.Api.Presentation.Entities.AdditionalProperties, Tfl.Api.Presentation.Entities',\n",
       "   'category': 'Facility',\n",
       "   'key': 'Other Facilities',\n",
       "   'sourceSystemKey': 'StaticObjects',\n",
       "   'value': 'post office style queuing for tickets.'},\n",
       "  {'$type': 'Tfl.Api.Presentation.Entities.AdditionalProperties, Tfl.Api.Presentation.Entities',\n",
       "   'category': 'Facility',\n",
       "   'key': 'Ticket Halls',\n",
       "   'sourceSystemKey': 'StaticObjects',\n",
       "   'value': '1'},\n",
       "  {'$type': 'Tfl.Api.Presentation.Entities.AdditionalProperties, Tfl.Api.Presentation.Entities',\n",
       "   'category': 'Facility',\n",
       "   'key': 'Bridge',\n",
       "   'sourceSystemKey': 'StaticObjects',\n",
       "   'value': 'yes'},\n",
       "  {'$type': 'Tfl.Api.Presentation.Entities.AdditionalProperties, Tfl.Api.Presentation.Entities',\n",
       "   'category': 'Facility',\n",
       "   'key': 'Lifts',\n",
       "   'sourceSystemKey': 'StaticObjects',\n",
       "   'value': '0'},\n",
       "  {'$type': 'Tfl.Api.Presentation.Entities.AdditionalProperties, Tfl.Api.Presentation.Entities',\n",
       "   'category': 'Address',\n",
       "   'key': 'PhoneNo',\n",
       "   'sourceSystemKey': 'StaticObjects',\n",
       "   'value': '0845 330 9880'},\n",
       "  {'$type': 'Tfl.Api.Presentation.Entities.AdditionalProperties, Tfl.Api.Presentation.Entities',\n",
       "   'category': 'Facility',\n",
       "   'key': 'Euro Cash Machines',\n",
       "   'sourceSystemKey': 'StaticObjects',\n",
       "   'value': 'yes'},\n",
       "  {'$type': 'Tfl.Api.Presentation.Entities.AdditionalProperties, Tfl.Api.Presentation.Entities',\n",
       "   'category': 'Facility',\n",
       "   'key': 'Gates',\n",
       "   'sourceSystemKey': 'StaticObjects',\n",
       "   'value': '4'},\n",
       "  {'$type': 'Tfl.Api.Presentation.Entities.AdditionalProperties, Tfl.Api.Presentation.Entities',\n",
       "   'category': 'Facility',\n",
       "   'key': 'Toilets',\n",
       "   'sourceSystemKey': 'StaticObjects',\n",
       "   'value': 'yes'},\n",
       "  {'$type': 'Tfl.Api.Presentation.Entities.AdditionalProperties, Tfl.Api.Presentation.Entities',\n",
       "   'category': 'Accessibility',\n",
       "   'key': 'BlueBadgeCarParkSpaces',\n",
       "   'sourceSystemKey': 'LRAD',\n",
       "   'value': '0'},\n",
       "  {'$type': 'Tfl.Api.Presentation.Entities.AdditionalProperties, Tfl.Api.Presentation.Entities',\n",
       "   'category': 'Accessibility',\n",
       "   'key': 'LimitedCapacityLift',\n",
       "   'sourceSystemKey': 'LRAD',\n",
       "   'value': 'No'},\n",
       "  {'$type': 'Tfl.Api.Presentation.Entities.AdditionalProperties, Tfl.Api.Presentation.Entities',\n",
       "   'category': 'Accessibility',\n",
       "   'key': 'SpecificEntranceRequired',\n",
       "   'sourceSystemKey': 'LRAD',\n",
       "   'value': 'No'},\n",
       "  {'$type': 'Tfl.Api.Presentation.Entities.AdditionalProperties, Tfl.Api.Presentation.Entities',\n",
       "   'category': 'Facility',\n",
       "   'key': 'WiFi',\n",
       "   'sourceSystemKey': 'StaticObjects',\n",
       "   'value': 'yes'},\n",
       "  {'$type': 'Tfl.Api.Presentation.Entities.AdditionalProperties, Tfl.Api.Presentation.Entities',\n",
       "   'category': 'Accessibility',\n",
       "   'key': 'AccessViaLift',\n",
       "   'sourceSystemKey': 'LRAD',\n",
       "   'value': 'No'},\n",
       "  {'$type': 'Tfl.Api.Presentation.Entities.AdditionalProperties, Tfl.Api.Presentation.Entities',\n",
       "   'category': 'Accessibility',\n",
       "   'key': 'AddtionalInformation',\n",
       "   'sourceSystemKey': 'LRAD',\n",
       "   'value': 'You can only enter and exit the southbound  platform for trains towards Liverpool Street'}],\n",
       " 'children': [],\n",
       " 'lat': 51.674203,\n",
       " 'lon': -0.607365}"
      ]
     },
     "execution_count": 24,
     "metadata": {},
     "output_type": "execute_result"
    }
   ],
   "source": [
    "a.json()['stopPoints'][0]"
   ]
  },
  {
   "cell_type": "code",
   "execution_count": 26,
   "metadata": {},
   "outputs": [
    {
     "name": "stdout",
     "output_type": "stream",
     "text": [
      "main entrance\n",
      "0400ZZLUAMS0\n",
      "940GZZLUAMS\n",
      "StopPoint\n",
      "NaptanMetroEntrance\n",
      "Amersham Underground Station\n",
      "['tube']\n",
      "51.674203\n",
      "-0.607365\n"
     ]
    }
   ],
   "source": [
    "# a.json()['stopPoints'][0]\n",
    "print(a.json()['stopPoints'][0]['indicator'])\n",
    "print(a.json()['stopPoints'][0]['naptanId'])\n",
    "print(a.json()['stopPoints'][0]['stationNaptan'])\n",
    "print(a.json()['stopPoints'][0]['placeType'])\n",
    "print(a.json()['stopPoints'][0]['stopType'])\n",
    "print(a.json()['stopPoints'][0]['commonName'])\n",
    "print(a.json()['stopPoints'][0]['modes'])\n",
    "# print(a.json()['stopPoints'][0]['additionalProperties']) # key: 'Zone' value; '3', key: 'Address' value: ''\n",
    "print(a.json()['stopPoints'][0]['lat'])\n",
    "print(a.json()['stopPoints'][0]['lon'])"
   ]
  },
  {
   "cell_type": "code",
   "execution_count": 27,
   "metadata": {},
   "outputs": [
    {
     "data": {
      "text/plain": [
       "[{'$type': 'Tfl.Api.Presentation.Entities.AdditionalProperties, Tfl.Api.Presentation.Entities',\n",
       "  'category': 'Accessibility',\n",
       "  'key': 'TaxiRankOutsideStation',\n",
       "  'sourceSystemKey': 'LRAD',\n",
       "  'value': 'No'},\n",
       " {'$type': 'Tfl.Api.Presentation.Entities.AdditionalProperties, Tfl.Api.Presentation.Entities',\n",
       "  'category': 'Accessibility',\n",
       "  'key': 'Toilet',\n",
       "  'sourceSystemKey': 'LRAD',\n",
       "  'value': 'Yes'},\n",
       " {'$type': 'Tfl.Api.Presentation.Entities.AdditionalProperties, Tfl.Api.Presentation.Entities',\n",
       "  'category': 'Accessibility',\n",
       "  'key': 'ToiletNote',\n",
       "  'sourceSystemKey': 'LRAD',\n",
       "  'value': 'female only, southbound platform'},\n",
       " {'$type': 'Tfl.Api.Presentation.Entities.AdditionalProperties, Tfl.Api.Presentation.Entities',\n",
       "  'category': 'Facility',\n",
       "  'key': 'Car park',\n",
       "  'sourceSystemKey': 'StaticObjects',\n",
       "  'value': 'yes'},\n",
       " {'$type': 'Tfl.Api.Presentation.Entities.AdditionalProperties, Tfl.Api.Presentation.Entities',\n",
       "  'category': 'Facility',\n",
       "  'key': 'Payphones',\n",
       "  'sourceSystemKey': 'StaticObjects',\n",
       "  'value': '1'},\n",
       " {'$type': 'Tfl.Api.Presentation.Entities.AdditionalProperties, Tfl.Api.Presentation.Entities',\n",
       "  'category': 'Facility',\n",
       "  'key': 'Photo Booths',\n",
       "  'sourceSystemKey': 'StaticObjects',\n",
       "  'value': '0'},\n",
       " {'$type': 'Tfl.Api.Presentation.Entities.AdditionalProperties, Tfl.Api.Presentation.Entities',\n",
       "  'category': 'Facility',\n",
       "  'key': 'Waiting Room',\n",
       "  'sourceSystemKey': 'StaticObjects',\n",
       "  'value': 'yes'},\n",
       " {'$type': 'Tfl.Api.Presentation.Entities.AdditionalProperties, Tfl.Api.Presentation.Entities',\n",
       "  'category': 'Address',\n",
       "  'key': 'Address',\n",
       "  'sourceSystemKey': 'StaticObjects',\n",
       "  'value': 'Amersham Station,Stn Approach,Amersham,Bucks HP6 5AZ'},\n",
       " {'$type': 'Tfl.Api.Presentation.Entities.AdditionalProperties, Tfl.Api.Presentation.Entities',\n",
       "  'category': 'Geo',\n",
       "  'key': 'Zone',\n",
       "  'sourceSystemKey': 'StaticObjects',\n",
       "  'value': '9'},\n",
       " {'$type': 'Tfl.Api.Presentation.Entities.AdditionalProperties, Tfl.Api.Presentation.Entities',\n",
       "  'category': 'Facility',\n",
       "  'key': 'Boarding Ramp',\n",
       "  'sourceSystemKey': 'StaticObjects',\n",
       "  'value': 'yes'},\n",
       " {'$type': 'Tfl.Api.Presentation.Entities.AdditionalProperties, Tfl.Api.Presentation.Entities',\n",
       "  'category': 'Facility',\n",
       "  'key': 'Cash Machines',\n",
       "  'sourceSystemKey': 'StaticObjects',\n",
       "  'value': '2'},\n",
       " {'$type': 'Tfl.Api.Presentation.Entities.AdditionalProperties, Tfl.Api.Presentation.Entities',\n",
       "  'category': 'Facility',\n",
       "  'key': 'Escalators',\n",
       "  'sourceSystemKey': 'StaticObjects',\n",
       "  'value': '0'},\n",
       " {'$type': 'Tfl.Api.Presentation.Entities.AdditionalProperties, Tfl.Api.Presentation.Entities',\n",
       "  'category': 'Facility',\n",
       "  'key': 'Help Points',\n",
       "  'sourceSystemKey': 'StaticObjects',\n",
       "  'value': '0 on platforms, 0 in ticket halls, 0 elsewhere'},\n",
       " {'$type': 'Tfl.Api.Presentation.Entities.AdditionalProperties, Tfl.Api.Presentation.Entities',\n",
       "  'category': 'Facility',\n",
       "  'key': 'Other Facilities',\n",
       "  'sourceSystemKey': 'StaticObjects',\n",
       "  'value': 'post office style queuing for tickets.'},\n",
       " {'$type': 'Tfl.Api.Presentation.Entities.AdditionalProperties, Tfl.Api.Presentation.Entities',\n",
       "  'category': 'Facility',\n",
       "  'key': 'Ticket Halls',\n",
       "  'sourceSystemKey': 'StaticObjects',\n",
       "  'value': '1'},\n",
       " {'$type': 'Tfl.Api.Presentation.Entities.AdditionalProperties, Tfl.Api.Presentation.Entities',\n",
       "  'category': 'Facility',\n",
       "  'key': 'Bridge',\n",
       "  'sourceSystemKey': 'StaticObjects',\n",
       "  'value': 'yes'},\n",
       " {'$type': 'Tfl.Api.Presentation.Entities.AdditionalProperties, Tfl.Api.Presentation.Entities',\n",
       "  'category': 'Facility',\n",
       "  'key': 'Lifts',\n",
       "  'sourceSystemKey': 'StaticObjects',\n",
       "  'value': '0'},\n",
       " {'$type': 'Tfl.Api.Presentation.Entities.AdditionalProperties, Tfl.Api.Presentation.Entities',\n",
       "  'category': 'Address',\n",
       "  'key': 'PhoneNo',\n",
       "  'sourceSystemKey': 'StaticObjects',\n",
       "  'value': '0845 330 9880'},\n",
       " {'$type': 'Tfl.Api.Presentation.Entities.AdditionalProperties, Tfl.Api.Presentation.Entities',\n",
       "  'category': 'Facility',\n",
       "  'key': 'Euro Cash Machines',\n",
       "  'sourceSystemKey': 'StaticObjects',\n",
       "  'value': 'yes'},\n",
       " {'$type': 'Tfl.Api.Presentation.Entities.AdditionalProperties, Tfl.Api.Presentation.Entities',\n",
       "  'category': 'Facility',\n",
       "  'key': 'Gates',\n",
       "  'sourceSystemKey': 'StaticObjects',\n",
       "  'value': '4'},\n",
       " {'$type': 'Tfl.Api.Presentation.Entities.AdditionalProperties, Tfl.Api.Presentation.Entities',\n",
       "  'category': 'Facility',\n",
       "  'key': 'Toilets',\n",
       "  'sourceSystemKey': 'StaticObjects',\n",
       "  'value': 'yes'},\n",
       " {'$type': 'Tfl.Api.Presentation.Entities.AdditionalProperties, Tfl.Api.Presentation.Entities',\n",
       "  'category': 'Accessibility',\n",
       "  'key': 'BlueBadgeCarParkSpaces',\n",
       "  'sourceSystemKey': 'LRAD',\n",
       "  'value': '0'},\n",
       " {'$type': 'Tfl.Api.Presentation.Entities.AdditionalProperties, Tfl.Api.Presentation.Entities',\n",
       "  'category': 'Accessibility',\n",
       "  'key': 'LimitedCapacityLift',\n",
       "  'sourceSystemKey': 'LRAD',\n",
       "  'value': 'No'},\n",
       " {'$type': 'Tfl.Api.Presentation.Entities.AdditionalProperties, Tfl.Api.Presentation.Entities',\n",
       "  'category': 'Accessibility',\n",
       "  'key': 'SpecificEntranceRequired',\n",
       "  'sourceSystemKey': 'LRAD',\n",
       "  'value': 'No'},\n",
       " {'$type': 'Tfl.Api.Presentation.Entities.AdditionalProperties, Tfl.Api.Presentation.Entities',\n",
       "  'category': 'Facility',\n",
       "  'key': 'WiFi',\n",
       "  'sourceSystemKey': 'StaticObjects',\n",
       "  'value': 'yes'},\n",
       " {'$type': 'Tfl.Api.Presentation.Entities.AdditionalProperties, Tfl.Api.Presentation.Entities',\n",
       "  'category': 'Accessibility',\n",
       "  'key': 'AccessViaLift',\n",
       "  'sourceSystemKey': 'LRAD',\n",
       "  'value': 'No'},\n",
       " {'$type': 'Tfl.Api.Presentation.Entities.AdditionalProperties, Tfl.Api.Presentation.Entities',\n",
       "  'category': 'Accessibility',\n",
       "  'key': 'AddtionalInformation',\n",
       "  'sourceSystemKey': 'LRAD',\n",
       "  'value': 'You can only enter and exit the southbound  platform for trains towards Liverpool Street'}]"
      ]
     },
     "execution_count": 27,
     "metadata": {},
     "output_type": "execute_result"
    }
   ],
   "source": [
    "a.json()['stopPoints'][0]['additionalProperties']"
   ]
  },
  {
   "cell_type": "code",
   "execution_count": 35,
   "metadata": {},
   "outputs": [],
   "source": [
    "# TODO turn this into method within class and create a df from data\n",
    "# TODO create a dict\n",
    "stopPoint_dict = {}\n",
    "\n",
    "stopPoint_dict['indicator'] = a.json()['stopPoints'][0]['indicator']\n",
    "stopPoint_dict['naptan_id'] = a.json()['stopPoints'][0]['naptanId']\n",
    "stopPoint_dict['station_naptan'] = a.json()['stopPoints'][0]['stationNaptan']\n",
    "stopPoint_dict['lines'] = a.json()['stopPoints'][0]['lines']\n",
    "stopPoint_dict['line_group'] = a.json()['stopPoints'][0]['lineGroup']\n",
    "stopPoint_dict['place_type'] = a.json()['stopPoints'][0]['placeType']\n",
    "stopPoint_dict['stop_type'] = a.json()['stopPoints'][0]['stopType']\n",
    "stopPoint_dict['common_name'] = a.json()['stopPoints'][0]['commonName']\n",
    "stopPoint_dict['modes'] = a.json()['stopPoints'][0]['modes']\n",
    "stopPoint_dict['lat'] = a.json()['stopPoints'][0]['lat']\n",
    "stopPoint_dict['lon'] = a.json()['stopPoints'][0]['lon']\n",
    "\n",
    "for dict_obj in a.json()['stopPoints'][0]['additionalProperties']:\n",
    "    for key in dict_obj:\n",
    "        if key == 'key':\n",
    "            stopPoint_dict[dict_obj[key]] = {'value' : dict_obj['value'], 'category' : dict_obj['category']}\n",
    "            "
   ]
  },
  {
   "cell_type": "code",
   "execution_count": 36,
   "metadata": {},
   "outputs": [
    {
     "data": {
      "text/plain": [
       "{'indicator': 'main entrance',\n",
       " 'naptan_id': '0400ZZLUAMS0',\n",
       " 'station_naptan': '940GZZLUAMS',\n",
       " 'lines': [],\n",
       " 'line_group': [],\n",
       " 'place_type': 'StopPoint',\n",
       " 'stop_type': 'NaptanMetroEntrance',\n",
       " 'common_name': 'Amersham Underground Station',\n",
       " 'modes': ['tube'],\n",
       " 'lat': 51.674203,\n",
       " 'lon': -0.607365,\n",
       " 'TaxiRankOutsideStation': {'value': 'No', 'category': 'Accessibility'},\n",
       " 'Toilet': {'value': 'Yes', 'category': 'Accessibility'},\n",
       " 'ToiletNote': {'value': 'female only, southbound platform',\n",
       "  'category': 'Accessibility'},\n",
       " 'Car park': {'value': 'yes', 'category': 'Facility'},\n",
       " 'Payphones': {'value': '1', 'category': 'Facility'},\n",
       " 'Photo Booths': {'value': '0', 'category': 'Facility'},\n",
       " 'Waiting Room': {'value': 'yes', 'category': 'Facility'},\n",
       " 'Address': {'value': 'Amersham Station,Stn Approach,Amersham,Bucks HP6 5AZ',\n",
       "  'category': 'Address'},\n",
       " 'Zone': {'value': '9', 'category': 'Geo'},\n",
       " 'Boarding Ramp': {'value': 'yes', 'category': 'Facility'},\n",
       " 'Cash Machines': {'value': '2', 'category': 'Facility'},\n",
       " 'Escalators': {'value': '0', 'category': 'Facility'},\n",
       " 'Help Points': {'value': '0 on platforms, 0 in ticket halls, 0 elsewhere',\n",
       "  'category': 'Facility'},\n",
       " 'Other Facilities': {'value': 'post office style queuing for tickets.',\n",
       "  'category': 'Facility'},\n",
       " 'Ticket Halls': {'value': '1', 'category': 'Facility'},\n",
       " 'Bridge': {'value': 'yes', 'category': 'Facility'},\n",
       " 'Lifts': {'value': '0', 'category': 'Facility'},\n",
       " 'PhoneNo': {'value': '0845 330 9880', 'category': 'Address'},\n",
       " 'Euro Cash Machines': {'value': 'yes', 'category': 'Facility'},\n",
       " 'Gates': {'value': '4', 'category': 'Facility'},\n",
       " 'Toilets': {'value': 'yes', 'category': 'Facility'},\n",
       " 'BlueBadgeCarParkSpaces': {'value': '0', 'category': 'Accessibility'},\n",
       " 'LimitedCapacityLift': {'value': 'No', 'category': 'Accessibility'},\n",
       " 'SpecificEntranceRequired': {'value': 'No', 'category': 'Accessibility'},\n",
       " 'WiFi': {'value': 'yes', 'category': 'Facility'},\n",
       " 'AccessViaLift': {'value': 'No', 'category': 'Accessibility'},\n",
       " 'AddtionalInformation': {'value': 'You can only enter and exit the southbound  platform for trains towards Liverpool Street',\n",
       "  'category': 'Accessibility'}}"
      ]
     },
     "execution_count": 36,
     "metadata": {},
     "output_type": "execute_result"
    }
   ],
   "source": [
    "stopPoint_dict"
   ]
  },
  {
   "cell_type": "code",
   "execution_count": 24,
   "metadata": {
    "scrolled": true
   },
   "outputs": [
    {
     "data": {
      "text/plain": [
       "{'$type': 'Tfl.Api.Presentation.Entities.StopPointsResponse, Tfl.Api.Presentation.Entities',\n",
       " 'stopPoints': [],\n",
       " 'pageSize': 0,\n",
       " 'total': 1698,\n",
       " 'page': 4}"
      ]
     },
     "execution_count": 24,
     "metadata": {},
     "output_type": "execute_result"
    }
   ],
   "source": [
    "# TODO this will be useful to check when you've reached the last page\n",
    "requests.get('https://api.tfl.gov.uk/StopPoint/Mode/tube?page=4', headers = headers).json()"
   ]
  },
  {
   "cell_type": "code",
   "execution_count": 66,
   "metadata": {},
   "outputs": [],
   "source": [
    "keys = ['indicator', 'naptanId', 'stationNaptan', 'lines', 'lineGroup', 'placeType'\n",
    "               , 'stopType', 'commonName', 'modes', 'lat', 'lon']\n",
    "\n",
    "test = a.json()['stopPoints'][:5]\n",
    "# new_dict = {}\n",
    "new_list=[]\n",
    "for i,value in enumerate(test):\n",
    "#     print(i, value, \"-----\")\n",
    "    new_dict = {}\n",
    "    for key in keys:\n",
    "        new_dict[key] = value[key]\n",
    "    new_list.append(new_dict)"
   ]
  },
  {
   "cell_type": "code",
   "execution_count": 67,
   "metadata": {},
   "outputs": [
    {
     "data": {
      "text/plain": [
       "5"
      ]
     },
     "execution_count": 67,
     "metadata": {},
     "output_type": "execute_result"
    }
   ],
   "source": [
    "len(new_list)"
   ]
  },
  {
   "cell_type": "code",
   "execution_count": 70,
   "metadata": {},
   "outputs": [
    {
     "data": {
      "text/plain": [
       "{'indicator': 'main entrance',\n",
       " 'naptanId': '0400ZZLUAMS0',\n",
       " 'stationNaptan': '940GZZLUAMS',\n",
       " 'lines': [],\n",
       " 'lineGroup': [],\n",
       " 'placeType': 'StopPoint',\n",
       " 'stopType': 'NaptanMetroEntrance',\n",
       " 'commonName': 'Amersham Underground Station',\n",
       " 'modes': ['tube'],\n",
       " 'lat': 51.674203,\n",
       " 'lon': -0.607365}"
      ]
     },
     "execution_count": 70,
     "metadata": {},
     "output_type": "execute_result"
    }
   ],
   "source": [
    "new_list[0]"
   ]
  },
  {
   "cell_type": "code",
   "execution_count": 72,
   "metadata": {},
   "outputs": [
    {
     "name": "stdout",
     "output_type": "stream",
     "text": [
      "Amersham Underground Station\n",
      "Chalfont & Latimer Underground Station\n",
      "Chalfont & Latimer Underground Station\n",
      "Chesham Underground Station\n",
      "Buckhurst Hill Underground Station\n"
     ]
    }
   ],
   "source": [
    "for name in new_list:\n",
    "    print(name['commonName'])"
   ]
  },
  {
   "cell_type": "code",
   "execution_count": 63,
   "metadata": {},
   "outputs": [
    {
     "data": {
      "text/plain": [
       "{'$type': 'Tfl.Api.Presentation.Entities.StopPoint, Tfl.Api.Presentation.Entities',\n",
       " 'naptanId': '1500ZZLUBKH1',\n",
       " 'indicator': 'east entrance',\n",
       " 'stopLetter': 'entrance',\n",
       " 'modes': ['tube'],\n",
       " 'icsCode': '1000033',\n",
       " 'stopType': 'NaptanMetroEntrance',\n",
       " 'stationNaptan': '940GZZLUBKH',\n",
       " 'lines': [],\n",
       " 'lineGroup': [],\n",
       " 'lineModeGroups': [],\n",
       " 'status': True,\n",
       " 'id': '1500ZZLUBKH1',\n",
       " 'commonName': 'Buckhurst Hill Underground Station',\n",
       " 'placeType': 'StopPoint',\n",
       " 'additionalProperties': [{'$type': 'Tfl.Api.Presentation.Entities.AdditionalProperties, Tfl.Api.Presentation.Entities',\n",
       "   'category': 'Facility',\n",
       "   'key': 'Cash Machines',\n",
       "   'sourceSystemKey': 'StaticObjects',\n",
       "   'value': '0'},\n",
       "  {'$type': 'Tfl.Api.Presentation.Entities.AdditionalProperties, Tfl.Api.Presentation.Entities',\n",
       "   'category': 'Facility',\n",
       "   'key': 'Bridge',\n",
       "   'sourceSystemKey': 'StaticObjects',\n",
       "   'value': 'yes'},\n",
       "  {'$type': 'Tfl.Api.Presentation.Entities.AdditionalProperties, Tfl.Api.Presentation.Entities',\n",
       "   'category': 'Facility',\n",
       "   'key': 'Gates',\n",
       "   'sourceSystemKey': 'StaticObjects',\n",
       "   'value': '3'},\n",
       "  {'$type': 'Tfl.Api.Presentation.Entities.AdditionalProperties, Tfl.Api.Presentation.Entities',\n",
       "   'category': 'Facility',\n",
       "   'key': 'Other Facilities',\n",
       "   'sourceSystemKey': 'StaticObjects',\n",
       "   'value': 'post office style queuing for tickets.'},\n",
       "  {'$type': 'Tfl.Api.Presentation.Entities.AdditionalProperties, Tfl.Api.Presentation.Entities',\n",
       "   'category': 'Facility',\n",
       "   'key': 'Car park',\n",
       "   'sourceSystemKey': 'StaticObjects',\n",
       "   'value': 'yes'},\n",
       "  {'$type': 'Tfl.Api.Presentation.Entities.AdditionalProperties, Tfl.Api.Presentation.Entities',\n",
       "   'category': 'Facility',\n",
       "   'key': 'Escalators',\n",
       "   'sourceSystemKey': 'StaticObjects',\n",
       "   'value': '0'},\n",
       "  {'$type': 'Tfl.Api.Presentation.Entities.AdditionalProperties, Tfl.Api.Presentation.Entities',\n",
       "   'category': 'Facility',\n",
       "   'key': 'Payphones',\n",
       "   'sourceSystemKey': 'StaticObjects',\n",
       "   'value': '1'},\n",
       "  {'$type': 'Tfl.Api.Presentation.Entities.AdditionalProperties, Tfl.Api.Presentation.Entities',\n",
       "   'category': 'Address',\n",
       "   'key': 'PhoneNo',\n",
       "   'sourceSystemKey': 'StaticObjects',\n",
       "   'value': '0845 330 9880'},\n",
       "  {'$type': 'Tfl.Api.Presentation.Entities.AdditionalProperties, Tfl.Api.Presentation.Entities',\n",
       "   'category': 'Geo',\n",
       "   'key': 'Zone',\n",
       "   'sourceSystemKey': 'StaticObjects',\n",
       "   'value': '5'},\n",
       "  {'$type': 'Tfl.Api.Presentation.Entities.AdditionalProperties, Tfl.Api.Presentation.Entities',\n",
       "   'category': 'Address',\n",
       "   'key': 'Address',\n",
       "   'sourceSystemKey': 'StaticObjects',\n",
       "   'value': 'Buckhurst Hill Station,London Underground Ltd.,Victoria Rd,Buckhurst Hill,Essex,IG9 5ET'},\n",
       "  {'$type': 'Tfl.Api.Presentation.Entities.AdditionalProperties, Tfl.Api.Presentation.Entities',\n",
       "   'category': 'Facility',\n",
       "   'key': 'Toilets',\n",
       "   'sourceSystemKey': 'StaticObjects',\n",
       "   'value': 'yes'},\n",
       "  {'$type': 'Tfl.Api.Presentation.Entities.AdditionalProperties, Tfl.Api.Presentation.Entities',\n",
       "   'category': 'Facility',\n",
       "   'key': 'WiFi',\n",
       "   'sourceSystemKey': 'StaticObjects',\n",
       "   'value': 'yes'},\n",
       "  {'$type': 'Tfl.Api.Presentation.Entities.AdditionalProperties, Tfl.Api.Presentation.Entities',\n",
       "   'category': 'Facility',\n",
       "   'key': 'Ticket Halls',\n",
       "   'sourceSystemKey': 'StaticObjects',\n",
       "   'value': '1'},\n",
       "  {'$type': 'Tfl.Api.Presentation.Entities.AdditionalProperties, Tfl.Api.Presentation.Entities',\n",
       "   'category': 'Facility',\n",
       "   'key': 'Help Points',\n",
       "   'sourceSystemKey': 'StaticObjects',\n",
       "   'value': '0 on platforms, 0 in ticket halls, 0 elsewhere'},\n",
       "  {'$type': 'Tfl.Api.Presentation.Entities.AdditionalProperties, Tfl.Api.Presentation.Entities',\n",
       "   'category': 'Facility',\n",
       "   'key': 'Photo Booths',\n",
       "   'sourceSystemKey': 'StaticObjects',\n",
       "   'value': '0'},\n",
       "  {'$type': 'Tfl.Api.Presentation.Entities.AdditionalProperties, Tfl.Api.Presentation.Entities',\n",
       "   'category': 'Facility',\n",
       "   'key': 'Lifts',\n",
       "   'sourceSystemKey': 'StaticObjects',\n",
       "   'value': '0'},\n",
       "  {'$type': 'Tfl.Api.Presentation.Entities.AdditionalProperties, Tfl.Api.Presentation.Entities',\n",
       "   'category': 'Facility',\n",
       "   'key': 'Waiting Room',\n",
       "   'sourceSystemKey': 'StaticObjects',\n",
       "   'value': 'yes'}],\n",
       " 'children': [],\n",
       " 'lat': 51.625233,\n",
       " 'lon': 0.047042}"
      ]
     },
     "execution_count": 63,
     "metadata": {},
     "output_type": "execute_result"
    }
   ],
   "source": [
    "a.json()['stopPoints'][5]"
   ]
  },
  {
   "cell_type": "code",
   "execution_count": null,
   "metadata": {},
   "outputs": [],
   "source": []
  }
 ],
 "metadata": {
  "kernelspec": {
   "display_name": "Python 3",
   "language": "python",
   "name": "python3"
  },
  "language_info": {
   "codemirror_mode": {
    "name": "ipython",
    "version": 3
   },
   "file_extension": ".py",
   "mimetype": "text/x-python",
   "name": "python",
   "nbconvert_exporter": "python",
   "pygments_lexer": "ipython3",
   "version": "3.7.3"
  }
 },
 "nbformat": 4,
 "nbformat_minor": 2
}
