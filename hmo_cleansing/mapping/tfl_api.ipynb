{
 "cells": [
  {
   "cell_type": "code",
   "execution_count": 16,
   "metadata": {},
   "outputs": [],
   "source": [
    "import requests\n",
    "import os"
   ]
  },
  {
   "cell_type": "code",
   "execution_count": 17,
   "metadata": {},
   "outputs": [],
   "source": [
    "api_id = os.environ.get(\"TFL_API_ID\")\n",
    "api_key = os.environ.get(\"TFL_API_KEY\")"
   ]
  },
  {
   "cell_type": "code",
   "execution_count": 18,
   "metadata": {},
   "outputs": [],
   "source": [
    "headers = {'api_id': api_id,'api_key': api_key}"
   ]
  },
  {
   "cell_type": "code",
   "execution_count": 19,
   "metadata": {},
   "outputs": [],
   "source": [
    "r = requests.get('https://api.tfl.gov.uk/StopPoint/Meta/Modes', headers = headers)"
   ]
  },
  {
   "cell_type": "code",
   "execution_count": 20,
   "metadata": {},
   "outputs": [
    {
     "data": {
      "text/plain": [
       "200"
      ]
     },
     "execution_count": 20,
     "metadata": {},
     "output_type": "execute_result"
    }
   ],
   "source": [
    "r.status_code"
   ]
  },
  {
   "cell_type": "code",
   "execution_count": 21,
   "metadata": {},
   "outputs": [
    {
     "data": {
      "text/plain": [
       "[{'$type': 'Tfl.Api.Presentation.Entities.Mode, Tfl.Api.Presentation.Entities',\n",
       "  'isTflService': True,\n",
       "  'isFarePaying': True,\n",
       "  'isScheduledService': True,\n",
       "  'modeName': 'bus'},\n",
       " {'$type': 'Tfl.Api.Presentation.Entities.Mode, Tfl.Api.Presentation.Entities',\n",
       "  'isTflService': True,\n",
       "  'isFarePaying': True,\n",
       "  'isScheduledService': True,\n",
       "  'modeName': 'cable-car'},\n",
       " {'$type': 'Tfl.Api.Presentation.Entities.Mode, Tfl.Api.Presentation.Entities',\n",
       "  'isTflService': False,\n",
       "  'isFarePaying': True,\n",
       "  'isScheduledService': True,\n",
       "  'modeName': 'coach'},\n",
       " {'$type': 'Tfl.Api.Presentation.Entities.Mode, Tfl.Api.Presentation.Entities',\n",
       "  'isTflService': False,\n",
       "  'isFarePaying': False,\n",
       "  'isScheduledService': False,\n",
       "  'modeName': 'cycle'},\n",
       " {'$type': 'Tfl.Api.Presentation.Entities.Mode, Tfl.Api.Presentation.Entities',\n",
       "  'isTflService': True,\n",
       "  'isFarePaying': True,\n",
       "  'isScheduledService': False,\n",
       "  'modeName': 'cycle-hire'},\n",
       " {'$type': 'Tfl.Api.Presentation.Entities.Mode, Tfl.Api.Presentation.Entities',\n",
       "  'isTflService': True,\n",
       "  'isFarePaying': True,\n",
       "  'isScheduledService': True,\n",
       "  'modeName': 'dlr'},\n",
       " {'$type': 'Tfl.Api.Presentation.Entities.Mode, Tfl.Api.Presentation.Entities',\n",
       "  'isTflService': False,\n",
       "  'isFarePaying': False,\n",
       "  'isScheduledService': False,\n",
       "  'modeName': 'interchange-keep-sitting'},\n",
       " {'$type': 'Tfl.Api.Presentation.Entities.Mode, Tfl.Api.Presentation.Entities',\n",
       "  'isTflService': False,\n",
       "  'isFarePaying': False,\n",
       "  'isScheduledService': False,\n",
       "  'modeName': 'interchange-secure'},\n",
       " {'$type': 'Tfl.Api.Presentation.Entities.Mode, Tfl.Api.Presentation.Entities',\n",
       "  'isTflService': False,\n",
       "  'isFarePaying': True,\n",
       "  'isScheduledService': True,\n",
       "  'modeName': 'national-rail'},\n",
       " {'$type': 'Tfl.Api.Presentation.Entities.Mode, Tfl.Api.Presentation.Entities',\n",
       "  'isTflService': True,\n",
       "  'isFarePaying': True,\n",
       "  'isScheduledService': True,\n",
       "  'modeName': 'overground'},\n",
       " {'$type': 'Tfl.Api.Presentation.Entities.Mode, Tfl.Api.Presentation.Entities',\n",
       "  'isTflService': True,\n",
       "  'isFarePaying': True,\n",
       "  'isScheduledService': True,\n",
       "  'modeName': 'replacement-bus'},\n",
       " {'$type': 'Tfl.Api.Presentation.Entities.Mode, Tfl.Api.Presentation.Entities',\n",
       "  'isTflService': True,\n",
       "  'isFarePaying': True,\n",
       "  'isScheduledService': True,\n",
       "  'modeName': 'river-bus'},\n",
       " {'$type': 'Tfl.Api.Presentation.Entities.Mode, Tfl.Api.Presentation.Entities',\n",
       "  'isTflService': True,\n",
       "  'isFarePaying': True,\n",
       "  'isScheduledService': True,\n",
       "  'modeName': 'river-tour'},\n",
       " {'$type': 'Tfl.Api.Presentation.Entities.Mode, Tfl.Api.Presentation.Entities',\n",
       "  'isTflService': False,\n",
       "  'isFarePaying': False,\n",
       "  'isScheduledService': False,\n",
       "  'modeName': 'taxi'},\n",
       " {'$type': 'Tfl.Api.Presentation.Entities.Mode, Tfl.Api.Presentation.Entities',\n",
       "  'isTflService': True,\n",
       "  'isFarePaying': True,\n",
       "  'isScheduledService': True,\n",
       "  'modeName': 'tflrail'},\n",
       " {'$type': 'Tfl.Api.Presentation.Entities.Mode, Tfl.Api.Presentation.Entities',\n",
       "  'isTflService': True,\n",
       "  'isFarePaying': True,\n",
       "  'isScheduledService': True,\n",
       "  'modeName': 'tram'},\n",
       " {'$type': 'Tfl.Api.Presentation.Entities.Mode, Tfl.Api.Presentation.Entities',\n",
       "  'isTflService': True,\n",
       "  'isFarePaying': True,\n",
       "  'isScheduledService': True,\n",
       "  'modeName': 'tube'},\n",
       " {'$type': 'Tfl.Api.Presentation.Entities.Mode, Tfl.Api.Presentation.Entities',\n",
       "  'isTflService': False,\n",
       "  'isFarePaying': False,\n",
       "  'isScheduledService': False,\n",
       "  'modeName': 'walking'}]"
      ]
     },
     "execution_count": 21,
     "metadata": {},
     "output_type": "execute_result"
    }
   ],
   "source": [
    "r.json()"
   ]
  },
  {
   "cell_type": "code",
   "execution_count": 25,
   "metadata": {},
   "outputs": [
    {
     "name": "stdout",
     "output_type": "stream",
     "text": [
      "bus\n",
      "cable-car\n",
      "coach\n",
      "cycle\n",
      "cycle-hire\n",
      "dlr\n",
      "interchange-keep-sitting\n",
      "interchange-secure\n",
      "national-rail\n",
      "overground\n",
      "replacement-bus\n",
      "river-bus\n",
      "river-tour\n",
      "taxi\n",
      "tflrail\n",
      "tram\n",
      "tube\n",
      "walking\n"
     ]
    }
   ],
   "source": [
    "for item in r.json():\n",
    "    print(item['modeName'])\n",
    "#     for key in item:\n",
    "#         print(key)"
   ]
  },
  {
   "cell_type": "code",
   "execution_count": 6,
   "metadata": {},
   "outputs": [
    {
     "name": "stdout",
     "output_type": "stream",
     "text": [
      "[Errno {0}] {1}\n"
     ]
    }
   ],
   "source": [
    "headers = {\n",
    "# Request headers\n",
    "'api-key': '7382ede908e84a0cbf01fca6771d83ee',\n",
    "}\n",
    "\n",
    "params = urllib.parse.urlencode({\n",
    "})\n",
    "\n",
    "try:\n",
    "    conn.request(\"GET\", \"?%s\" % params, headers)\n",
    "    response = conn.getresponse()\n",
    "    data = response.read()\n",
    "    print(data)\n",
    "    conn.close()\n",
    "except Exception as e:\n",
    "    print(\"[Errno {0}] {1}\")"
   ]
  },
  {
   "cell_type": "code",
   "execution_count": null,
   "metadata": {},
   "outputs": [],
   "source": []
  }
 ],
 "metadata": {
  "kernelspec": {
   "display_name": "Python 3",
   "language": "python",
   "name": "python3"
  },
  "language_info": {
   "codemirror_mode": {
    "name": "ipython",
    "version": 3
   },
   "file_extension": ".py",
   "mimetype": "text/x-python",
   "name": "python",
   "nbconvert_exporter": "python",
   "pygments_lexer": "ipython3",
   "version": "3.7.3"
  }
 },
 "nbformat": 4,
 "nbformat_minor": 2
}
