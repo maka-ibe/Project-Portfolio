{
 "cells": [
  {
   "cell_type": "code",
   "execution_count": 1,
   "metadata": {},
   "outputs": [],
   "source": [
    "import requests\n",
    "import os\n",
    "import pandas as pd"
   ]
  },
  {
   "cell_type": "code",
   "execution_count": 2,
   "metadata": {},
   "outputs": [],
   "source": [
    "modes = ['dlr', 'national-rail', 'overground', 'tflrail', 'tube']"
   ]
  },
  {
   "cell_type": "code",
   "execution_count": 10,
   "metadata": {},
   "outputs": [],
   "source": [
    "class TflStopPoint:\n",
    "    def __init__(self,mode):\n",
    "        self.mode = mode\n",
    "        \n",
    "    @property\n",
    "    def endpoint(self):\n",
    "        return f\"https://api.tfl.gov.uk/StopPoint/Mode/{self.mode}\"\n",
    "    \n",
    "    @property\n",
    "    def stopPoint_json(self):\n",
    "        return requests.get(self.endpoint).json()\n",
    "    \n",
    "    @property\n",
    "    def stopPoint_df(self):\n",
    "        # dict items to retrieve\n",
    "        desired_keys = [ 'indicator','naptanId', 'stationNaptan', 'lines', 'lineGroup', 'placeType'\n",
    "                       , 'stopType', 'commonName', 'modes', 'lat', 'lon']\n",
    "\n",
    "        data=[]\n",
    "        for i, value in enumerate(self.stopPoint_json['stopPoints']):\n",
    "            \n",
    "            stopPoint = {}\n",
    "\n",
    "            for key in desired_keys:\n",
    "                if key in value:\n",
    "                    stopPoint[key] = value[key]\n",
    "                else:\n",
    "                    stopPoint[key] = None\n",
    "            data.append(stopPoint)\n",
    "        return pd.DataFrame(data)\n"
   ]
  },
  {
   "cell_type": "code",
   "execution_count": null,
   "metadata": {},
   "outputs": [],
   "source": [
    "# create list of dfs "
   ]
  },
  {
   "cell_type": "code",
   "execution_count": 11,
   "metadata": {},
   "outputs": [],
   "source": [
    "x = TflStopPoint('tube')"
   ]
  },
  {
   "cell_type": "code",
   "execution_count": 12,
   "metadata": {},
   "outputs": [
    {
     "data": {
      "text/plain": [
       "'https://api.tfl.gov.uk/StopPoint/Mode/tube'"
      ]
     },
     "execution_count": 12,
     "metadata": {},
     "output_type": "execute_result"
    }
   ],
   "source": [
    "x.endpoint"
   ]
  },
  {
   "cell_type": "code",
   "execution_count": 13,
   "metadata": {},
   "outputs": [
    {
     "data": {
      "text/html": [
       "<div>\n",
       "<style scoped>\n",
       "    .dataframe tbody tr th:only-of-type {\n",
       "        vertical-align: middle;\n",
       "    }\n",
       "\n",
       "    .dataframe tbody tr th {\n",
       "        vertical-align: top;\n",
       "    }\n",
       "\n",
       "    .dataframe thead th {\n",
       "        text-align: right;\n",
       "    }\n",
       "</style>\n",
       "<table border=\"1\" class=\"dataframe\">\n",
       "  <thead>\n",
       "    <tr style=\"text-align: right;\">\n",
       "      <th></th>\n",
       "      <th>commonName</th>\n",
       "      <th>indicator</th>\n",
       "      <th>lat</th>\n",
       "      <th>lineGroup</th>\n",
       "      <th>lines</th>\n",
       "      <th>lon</th>\n",
       "      <th>modes</th>\n",
       "      <th>naptanId</th>\n",
       "      <th>placeType</th>\n",
       "      <th>stationNaptan</th>\n",
       "      <th>stopType</th>\n",
       "    </tr>\n",
       "  </thead>\n",
       "  <tbody>\n",
       "    <tr>\n",
       "      <th>0</th>\n",
       "      <td>Amersham Underground Station</td>\n",
       "      <td>main entrance</td>\n",
       "      <td>51.674203</td>\n",
       "      <td>[]</td>\n",
       "      <td>[]</td>\n",
       "      <td>-0.607365</td>\n",
       "      <td>[tube]</td>\n",
       "      <td>0400ZZLUAMS0</td>\n",
       "      <td>StopPoint</td>\n",
       "      <td>940GZZLUAMS</td>\n",
       "      <td>NaptanMetroEntrance</td>\n",
       "    </tr>\n",
       "    <tr>\n",
       "      <th>1</th>\n",
       "      <td>Chalfont &amp; Latimer Underground Station</td>\n",
       "      <td>South Entrance</td>\n",
       "      <td>51.667912</td>\n",
       "      <td>[]</td>\n",
       "      <td>[]</td>\n",
       "      <td>-0.560619</td>\n",
       "      <td>[tube]</td>\n",
       "      <td>0400ZZLUCAL0</td>\n",
       "      <td>StopPoint</td>\n",
       "      <td>940GZZLUCAL</td>\n",
       "      <td>NaptanMetroEntrance</td>\n",
       "    </tr>\n",
       "    <tr>\n",
       "      <th>2</th>\n",
       "      <td>Chalfont &amp; Latimer Underground Station</td>\n",
       "      <td>North Entrance</td>\n",
       "      <td>51.668119</td>\n",
       "      <td>[]</td>\n",
       "      <td>[]</td>\n",
       "      <td>-0.560627</td>\n",
       "      <td>[tube]</td>\n",
       "      <td>0400ZZLUCAL1</td>\n",
       "      <td>StopPoint</td>\n",
       "      <td>940GZZLUCAL</td>\n",
       "      <td>NaptanMetroEntrance</td>\n",
       "    </tr>\n",
       "    <tr>\n",
       "      <th>3</th>\n",
       "      <td>Chesham Underground Station</td>\n",
       "      <td>main entrance</td>\n",
       "      <td>51.705224</td>\n",
       "      <td>[]</td>\n",
       "      <td>[]</td>\n",
       "      <td>-0.611116</td>\n",
       "      <td>[tube]</td>\n",
       "      <td>0400ZZLUCSM0</td>\n",
       "      <td>StopPoint</td>\n",
       "      <td>940GZZLUCSM</td>\n",
       "      <td>NaptanMetroEntrance</td>\n",
       "    </tr>\n",
       "    <tr>\n",
       "      <th>4</th>\n",
       "      <td>Buckhurst Hill Underground Station</td>\n",
       "      <td>entrance</td>\n",
       "      <td>51.626627</td>\n",
       "      <td>[]</td>\n",
       "      <td>[]</td>\n",
       "      <td>0.046498</td>\n",
       "      <td>[tube]</td>\n",
       "      <td>1500ZZLUBKH0</td>\n",
       "      <td>StopPoint</td>\n",
       "      <td>940GZZLUBKH</td>\n",
       "      <td>NaptanMetroEntrance</td>\n",
       "    </tr>\n",
       "  </tbody>\n",
       "</table>\n",
       "</div>"
      ],
      "text/plain": [
       "                               commonName       indicator        lat  \\\n",
       "0            Amersham Underground Station   main entrance  51.674203   \n",
       "1  Chalfont & Latimer Underground Station  South Entrance  51.667912   \n",
       "2  Chalfont & Latimer Underground Station  North Entrance  51.668119   \n",
       "3             Chesham Underground Station   main entrance  51.705224   \n",
       "4      Buckhurst Hill Underground Station        entrance  51.626627   \n",
       "\n",
       "  lineGroup lines       lon   modes      naptanId  placeType stationNaptan  \\\n",
       "0        []    [] -0.607365  [tube]  0400ZZLUAMS0  StopPoint   940GZZLUAMS   \n",
       "1        []    [] -0.560619  [tube]  0400ZZLUCAL0  StopPoint   940GZZLUCAL   \n",
       "2        []    [] -0.560627  [tube]  0400ZZLUCAL1  StopPoint   940GZZLUCAL   \n",
       "3        []    [] -0.611116  [tube]  0400ZZLUCSM0  StopPoint   940GZZLUCSM   \n",
       "4        []    []  0.046498  [tube]  1500ZZLUBKH0  StopPoint   940GZZLUBKH   \n",
       "\n",
       "              stopType  \n",
       "0  NaptanMetroEntrance  \n",
       "1  NaptanMetroEntrance  \n",
       "2  NaptanMetroEntrance  \n",
       "3  NaptanMetroEntrance  \n",
       "4  NaptanMetroEntrance  "
      ]
     },
     "execution_count": 13,
     "metadata": {},
     "output_type": "execute_result"
    }
   ],
   "source": [
    "x.stopPoint_df.head()"
   ]
  },
  {
   "cell_type": "code",
   "execution_count": 14,
   "metadata": {},
   "outputs": [],
   "source": [
    "# x.stopPoint_json['stopPoints'][0]"
   ]
  },
  {
   "cell_type": "code",
   "execution_count": null,
   "metadata": {},
   "outputs": [],
   "source": []
  }
 ],
 "metadata": {
  "kernelspec": {
   "display_name": "Python 3",
   "language": "python",
   "name": "python3"
  },
  "language_info": {
   "codemirror_mode": {
    "name": "ipython",
    "version": 3
   },
   "file_extension": ".py",
   "mimetype": "text/x-python",
   "name": "python",
   "nbconvert_exporter": "python",
   "pygments_lexer": "ipython3",
   "version": "3.7.3"
  }
 },
 "nbformat": 4,
 "nbformat_minor": 2
}
