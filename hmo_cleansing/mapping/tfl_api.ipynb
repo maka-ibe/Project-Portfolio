{
 "cells": [
  {
   "cell_type": "code",
   "execution_count": 1,
   "metadata": {},
   "outputs": [],
   "source": [
    "import requests\n",
    "import os\n",
    "import pandas as pd\n",
    "import time\n",
    "import concurrent.futures\n",
    "from collections import namedtuple"
   ]
  },
  {
   "cell_type": "code",
   "execution_count": 2,
   "metadata": {},
   "outputs": [],
   "source": [
    "# TODO Documentation\n",
    "\n",
    "class TflStopPoint:\n",
    "    def __init__(self,mode):\n",
    "        self.mode = mode\n",
    "        \n",
    "    @property\n",
    "    def endpoint(self):\n",
    "        return f\"https://api.tfl.gov.uk/StopPoint/Mode/{self.mode}\"\n",
    "    \n",
    "    @property\n",
    "    def stopPoint_json(self):\n",
    "        try:\n",
    "            r = requests.get(self.endpoint, timeout = 30)\n",
    "        except:\n",
    "            return None\n",
    "            \n",
    "        if r.status_code == 200:\n",
    "            return r.json()\n",
    "        else:\n",
    "            return None\n",
    "    \n",
    "    @property\n",
    "    def stopPoint_df(self):\n",
    "        # dict keys of items to retrieve from json\n",
    "        desired_keys = [ 'indicator','naptanId', 'stationNaptan', 'lines', 'lineGroup', 'placeType'\n",
    "                       , 'stopType', 'commonName', 'modes', 'lat', 'lon']\n",
    "\n",
    "        data=[]\n",
    "        if self.stopPoint_json != None:\n",
    "            for i, value in enumerate(self.stopPoint_json['stopPoints']):\n",
    "\n",
    "                stopPoint = {}\n",
    "\n",
    "                for key in desired_keys:\n",
    "                    if key in value:\n",
    "                        stopPoint[key] = value[key]\n",
    "                    else:\n",
    "                        stopPoint[key] = None\n",
    "                data.append(stopPoint)\n",
    "        else:\n",
    "            return None\n",
    "            \n",
    "        return pd.DataFrame(data)\n"
   ]
  },
  {
   "cell_type": "code",
   "execution_count": 3,
   "metadata": {},
   "outputs": [],
   "source": [
    "tfl_modes = ['dlr', 'national-rail', 'overground', 'tflrail', 'tube']"
   ]
  },
  {
   "cell_type": "code",
   "execution_count": 4,
   "metadata": {},
   "outputs": [],
   "source": [
    "def get_stopPoint_df(mode):\n",
    "    return TflStopPoint(mode).stopPoint_df"
   ]
  },
  {
   "cell_type": "code",
   "execution_count": 5,
   "metadata": {},
   "outputs": [
    {
     "name": "stdout",
     "output_type": "stream",
     "text": [
      "Time Taken: 30.112368s\n"
     ]
    }
   ],
   "source": [
    "# TODO currently takes 60 seconds to do, can we optimise?\n",
    "# Got it down to 30 seconds, can you further reduce that?\n",
    "\n",
    "start = time.time()\n",
    "\n",
    "futures = []\n",
    "results = []\n",
    "\n",
    "with concurrent.futures.ThreadPoolExecutor() as executor:\n",
    "    \n",
    "    for mode in tfl_modes:\n",
    "        futures.append(executor.submit(get_stopPoint_df, mode=mode))\n",
    "        \n",
    "    for future in concurrent.futures.as_completed(futures):\n",
    "        results.append(future.result())\n",
    "\n",
    "end = time.time()\n",
    "\n",
    "print(\"Time Taken: {:.6f}s\".format(end-start))"
   ]
  },
  {
   "cell_type": "code",
   "execution_count": 6,
   "metadata": {},
   "outputs": [
    {
     "data": {
      "text/plain": [
       "5"
      ]
     },
     "execution_count": 6,
     "metadata": {},
     "output_type": "execute_result"
    }
   ],
   "source": [
    "len(results)"
   ]
  },
  {
   "cell_type": "code",
   "execution_count": 7,
   "metadata": {},
   "outputs": [],
   "source": [
    "# Remove none type from from results\n",
    "results = [x for x in results if x is not None]"
   ]
  },
  {
   "cell_type": "code",
   "execution_count": 8,
   "metadata": {},
   "outputs": [
    {
     "data": {
      "text/plain": [
       "4"
      ]
     },
     "execution_count": 8,
     "metadata": {},
     "output_type": "execute_result"
    }
   ],
   "source": [
    "len(results)"
   ]
  },
  {
   "cell_type": "code",
   "execution_count": 23,
   "metadata": {},
   "outputs": [],
   "source": [
    "df = pd.concat(results, ignore_index=True)"
   ]
  },
  {
   "cell_type": "code",
   "execution_count": 24,
   "metadata": {},
   "outputs": [
    {
     "data": {
      "text/plain": [
       "True"
      ]
     },
     "execution_count": 24,
     "metadata": {},
     "output_type": "execute_result"
    }
   ],
   "source": [
    "# Check total df len is equal to that of the individual results\n",
    "sum([len(x) for x in results]) == len(df)"
   ]
  },
  {
   "cell_type": "code",
   "execution_count": 25,
   "metadata": {
    "scrolled": true
   },
   "outputs": [
    {
     "data": {
      "text/html": [
       "<div>\n",
       "<style scoped>\n",
       "    .dataframe tbody tr th:only-of-type {\n",
       "        vertical-align: middle;\n",
       "    }\n",
       "\n",
       "    .dataframe tbody tr th {\n",
       "        vertical-align: top;\n",
       "    }\n",
       "\n",
       "    .dataframe thead th {\n",
       "        text-align: right;\n",
       "    }\n",
       "</style>\n",
       "<table border=\"1\" class=\"dataframe\">\n",
       "  <thead>\n",
       "    <tr style=\"text-align: right;\">\n",
       "      <th></th>\n",
       "      <th>commonName</th>\n",
       "      <th>indicator</th>\n",
       "      <th>lat</th>\n",
       "      <th>lineGroup</th>\n",
       "      <th>lines</th>\n",
       "      <th>lon</th>\n",
       "      <th>modes</th>\n",
       "      <th>naptanId</th>\n",
       "      <th>placeType</th>\n",
       "      <th>stationNaptan</th>\n",
       "      <th>stopType</th>\n",
       "    </tr>\n",
       "  </thead>\n",
       "  <tbody>\n",
       "    <tr>\n",
       "      <th>2558</th>\n",
       "      <td>Westminster</td>\n",
       "      <td>None</td>\n",
       "      <td>51.501603</td>\n",
       "      <td>[{'$type': 'Tfl.Api.Presentation.Entities.Line...</td>\n",
       "      <td>[{'$type': 'Tfl.Api.Presentation.Entities.Iden...</td>\n",
       "      <td>-0.125984</td>\n",
       "      <td>[bus, tube]</td>\n",
       "      <td>HUBWSM</td>\n",
       "      <td>StopPoint</td>\n",
       "      <td>None</td>\n",
       "      <td>TransportInterchange</td>\n",
       "    </tr>\n",
       "    <tr>\n",
       "      <th>2559</th>\n",
       "      <td>Canada Water</td>\n",
       "      <td>None</td>\n",
       "      <td>51.498053</td>\n",
       "      <td>[{'$type': 'Tfl.Api.Presentation.Entities.Line...</td>\n",
       "      <td>[{'$type': 'Tfl.Api.Presentation.Entities.Iden...</td>\n",
       "      <td>-0.049667</td>\n",
       "      <td>[bus, overground, tube]</td>\n",
       "      <td>HUBZCW</td>\n",
       "      <td>StopPoint</td>\n",
       "      <td>None</td>\n",
       "      <td>TransportInterchange</td>\n",
       "    </tr>\n",
       "    <tr>\n",
       "      <th>2560</th>\n",
       "      <td>Farringdon</td>\n",
       "      <td>None</td>\n",
       "      <td>51.520214</td>\n",
       "      <td>[{'$type': 'Tfl.Api.Presentation.Entities.Line...</td>\n",
       "      <td>[{'$type': 'Tfl.Api.Presentation.Entities.Iden...</td>\n",
       "      <td>-0.105054</td>\n",
       "      <td>[tube, national-rail, bus]</td>\n",
       "      <td>HUBZFD</td>\n",
       "      <td>StopPoint</td>\n",
       "      <td>None</td>\n",
       "      <td>TransportInterchange</td>\n",
       "    </tr>\n",
       "    <tr>\n",
       "      <th>2561</th>\n",
       "      <td>Moorgate</td>\n",
       "      <td>None</td>\n",
       "      <td>51.518338</td>\n",
       "      <td>[{'$type': 'Tfl.Api.Presentation.Entities.Line...</td>\n",
       "      <td>[{'$type': 'Tfl.Api.Presentation.Entities.Iden...</td>\n",
       "      <td>-0.088627</td>\n",
       "      <td>[tube, bus, national-rail]</td>\n",
       "      <td>HUBZMG</td>\n",
       "      <td>StopPoint</td>\n",
       "      <td>None</td>\n",
       "      <td>TransportInterchange</td>\n",
       "    </tr>\n",
       "    <tr>\n",
       "      <th>2562</th>\n",
       "      <td>Whitechapel</td>\n",
       "      <td>None</td>\n",
       "      <td>51.519498</td>\n",
       "      <td>[{'$type': 'Tfl.Api.Presentation.Entities.Line...</td>\n",
       "      <td>[{'$type': 'Tfl.Api.Presentation.Entities.Iden...</td>\n",
       "      <td>-0.059858</td>\n",
       "      <td>[bus, overground, tube]</td>\n",
       "      <td>HUBZWL</td>\n",
       "      <td>StopPoint</td>\n",
       "      <td>None</td>\n",
       "      <td>TransportInterchange</td>\n",
       "    </tr>\n",
       "  </tbody>\n",
       "</table>\n",
       "</div>"
      ],
      "text/plain": [
       "        commonName indicator        lat  \\\n",
       "2558   Westminster      None  51.501603   \n",
       "2559  Canada Water      None  51.498053   \n",
       "2560    Farringdon      None  51.520214   \n",
       "2561      Moorgate      None  51.518338   \n",
       "2562   Whitechapel      None  51.519498   \n",
       "\n",
       "                                              lineGroup  \\\n",
       "2558  [{'$type': 'Tfl.Api.Presentation.Entities.Line...   \n",
       "2559  [{'$type': 'Tfl.Api.Presentation.Entities.Line...   \n",
       "2560  [{'$type': 'Tfl.Api.Presentation.Entities.Line...   \n",
       "2561  [{'$type': 'Tfl.Api.Presentation.Entities.Line...   \n",
       "2562  [{'$type': 'Tfl.Api.Presentation.Entities.Line...   \n",
       "\n",
       "                                                  lines       lon  \\\n",
       "2558  [{'$type': 'Tfl.Api.Presentation.Entities.Iden... -0.125984   \n",
       "2559  [{'$type': 'Tfl.Api.Presentation.Entities.Iden... -0.049667   \n",
       "2560  [{'$type': 'Tfl.Api.Presentation.Entities.Iden... -0.105054   \n",
       "2561  [{'$type': 'Tfl.Api.Presentation.Entities.Iden... -0.088627   \n",
       "2562  [{'$type': 'Tfl.Api.Presentation.Entities.Iden... -0.059858   \n",
       "\n",
       "                           modes naptanId  placeType stationNaptan  \\\n",
       "2558                 [bus, tube]   HUBWSM  StopPoint          None   \n",
       "2559     [bus, overground, tube]   HUBZCW  StopPoint          None   \n",
       "2560  [tube, national-rail, bus]   HUBZFD  StopPoint          None   \n",
       "2561  [tube, bus, national-rail]   HUBZMG  StopPoint          None   \n",
       "2562     [bus, overground, tube]   HUBZWL  StopPoint          None   \n",
       "\n",
       "                  stopType  \n",
       "2558  TransportInterchange  \n",
       "2559  TransportInterchange  \n",
       "2560  TransportInterchange  \n",
       "2561  TransportInterchange  \n",
       "2562  TransportInterchange  "
      ]
     },
     "execution_count": 25,
     "metadata": {},
     "output_type": "execute_result"
    }
   ],
   "source": [
    "df.tail()"
   ]
  },
  {
   "cell_type": "code",
   "execution_count": 15,
   "metadata": {},
   "outputs": [],
   "source": [
    "# created a named tuple object\n",
    "Station = namedtuple('Station', ['station_name', 'latitude', 'longitude'])"
   ]
  },
  {
   "cell_type": "code",
   "execution_count": 20,
   "metadata": {},
   "outputs": [
    {
     "data": {
      "text/plain": [
       "Station(station_name=0                 Acton Main Line\n",
       "0             Bushey Rail Station\n",
       "0          Abbey Road DLR Station\n",
       "0    Amersham Underground Station\n",
       "Name: commonName, dtype: object, latitude=0    51.517069\n",
       "0    51.645629\n",
       "0    51.532087\n",
       "0    51.674203\n",
       "Name: lat, dtype: float64, longitude=0   -0.267121\n",
       "0   -0.385600\n",
       "0    0.003830\n",
       "0   -0.607365\n",
       "Name: lon, dtype: float64)"
      ]
     },
     "execution_count": 20,
     "metadata": {},
     "output_type": "execute_result"
    }
   ],
   "source": [
    "Station(df['commonName'][0], df['lat'][0], df['lon'][0])"
   ]
  },
  {
   "cell_type": "code",
   "execution_count": 17,
   "metadata": {},
   "outputs": [],
   "source": [
    "# TODO create array for use in the finding nearest stations script\n",
    "LONDON_STATIONS = [Station(s[0], s[1], s[2]) for s in df[['commonName', 'lat', 'lon']]]"
   ]
  },
  {
   "cell_type": "code",
   "execution_count": 18,
   "metadata": {},
   "outputs": [
    {
     "data": {
      "text/plain": [
       "3"
      ]
     },
     "execution_count": 18,
     "metadata": {},
     "output_type": "execute_result"
    }
   ],
   "source": [
    "len(LONDON_STATIONS)"
   ]
  },
  {
   "cell_type": "code",
   "execution_count": 19,
   "metadata": {},
   "outputs": [
    {
     "data": {
      "text/plain": [
       "Station(station_name='c', latitude='o', longitude='m')"
      ]
     },
     "execution_count": 19,
     "metadata": {},
     "output_type": "execute_result"
    }
   ],
   "source": [
    "LONDON_STATIONS[0]"
   ]
  },
  {
   "cell_type": "code",
   "execution_count": null,
   "metadata": {},
   "outputs": [],
   "source": []
  }
 ],
 "metadata": {
  "kernelspec": {
   "display_name": "Python 3",
   "language": "python",
   "name": "python3"
  },
  "language_info": {
   "codemirror_mode": {
    "name": "ipython",
    "version": 3
   },
   "file_extension": ".py",
   "mimetype": "text/x-python",
   "name": "python",
   "nbconvert_exporter": "python",
   "pygments_lexer": "ipython3",
   "version": "3.7.3"
  }
 },
 "nbformat": 4,
 "nbformat_minor": 2
}
