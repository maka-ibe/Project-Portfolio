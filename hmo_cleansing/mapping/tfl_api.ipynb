{
 "cells": [
  {
   "cell_type": "code",
   "execution_count": 1,
   "metadata": {},
   "outputs": [],
   "source": [
    "import requests\n",
    "import os\n",
    "import pandas as pd\n",
    "import time\n",
    "import concurrent.futures\n",
    "from collections import namedtuple"
   ]
  },
  {
   "cell_type": "code",
   "execution_count": 2,
   "metadata": {},
   "outputs": [],
   "source": [
    "# TODO Documentation\n",
    "\n",
    "class TflStopPoint:\n",
    "    def __init__(self,mode):\n",
    "        self.mode = mode\n",
    "        \n",
    "    @property\n",
    "    def endpoint(self):\n",
    "        return f\"https://api.tfl.gov.uk/StopPoint/Mode/{self.mode}\"\n",
    "    \n",
    "    @property\n",
    "    def stopPoint_json(self):\n",
    "        try:\n",
    "            r = requests.get(self.endpoint, timeout = 30)\n",
    "        except:\n",
    "            return None\n",
    "            \n",
    "        if r.status_code == 200:\n",
    "            return r.json()\n",
    "        else:\n",
    "            return None\n",
    "    \n",
    "    @property\n",
    "    def stopPoint_df(self):\n",
    "        # dict keys of items to retrieve from json\n",
    "        desired_keys = [ 'indicator','naptanId', 'stationNaptan', 'lines', 'lineGroup', 'placeType'\n",
    "                       , 'stopType', 'commonName', 'modes', 'lat', 'lon']\n",
    "\n",
    "        data=[]\n",
    "        if self.stopPoint_json != None:\n",
    "            for i, value in enumerate(self.stopPoint_json['stopPoints']):\n",
    "\n",
    "                stopPoint = {}\n",
    "\n",
    "                for key in desired_keys:\n",
    "                    if key in value:\n",
    "                        stopPoint[key] = value[key]\n",
    "                    else:\n",
    "                        stopPoint[key] = None\n",
    "                data.append(stopPoint)\n",
    "        else:\n",
    "            return None\n",
    "            \n",
    "        return pd.DataFrame(data)\n"
   ]
  },
  {
   "cell_type": "code",
   "execution_count": 3,
   "metadata": {},
   "outputs": [],
   "source": [
    "tfl_modes = ['dlr', 'national-rail', 'overground', 'tflrail', 'tube']"
   ]
  },
  {
   "cell_type": "code",
   "execution_count": 4,
   "metadata": {},
   "outputs": [],
   "source": [
    "def get_stopPoint_df(mode):\n",
    "    return TflStopPoint(mode).stopPoint_df"
   ]
  },
  {
   "cell_type": "code",
   "execution_count": 5,
   "metadata": {},
   "outputs": [
    {
     "name": "stdout",
     "output_type": "stream",
     "text": [
      "Time Taken: 30.207344s\n"
     ]
    }
   ],
   "source": [
    "# TODO currently takes 60 seconds to do, can we optimise?\n",
    "# Got it down to 30 seconds, can you further reduce that?\n",
    "\n",
    "start = time.time()\n",
    "\n",
    "futures = []\n",
    "results = []\n",
    "\n",
    "with concurrent.futures.ThreadPoolExecutor() as executor:\n",
    "    \n",
    "    for mode in tfl_modes:\n",
    "        futures.append(executor.submit(get_stopPoint_df, mode=mode))\n",
    "        \n",
    "    for future in concurrent.futures.as_completed(futures):\n",
    "        results.append(future.result())\n",
    "\n",
    "end = time.time()\n",
    "\n",
    "print(\"Time Taken: {:.6f}s\".format(end-start))"
   ]
  },
  {
   "cell_type": "code",
   "execution_count": 6,
   "metadata": {},
   "outputs": [
    {
     "data": {
      "text/plain": [
       "5"
      ]
     },
     "execution_count": 6,
     "metadata": {},
     "output_type": "execute_result"
    }
   ],
   "source": [
    "len(results)"
   ]
  },
  {
   "cell_type": "code",
   "execution_count": 7,
   "metadata": {},
   "outputs": [],
   "source": [
    "# Remove none type from from results\n",
    "results = [x for x in results if x is not None]"
   ]
  },
  {
   "cell_type": "code",
   "execution_count": 8,
   "metadata": {},
   "outputs": [
    {
     "data": {
      "text/plain": [
       "4"
      ]
     },
     "execution_count": 8,
     "metadata": {},
     "output_type": "execute_result"
    }
   ],
   "source": [
    "len(results)"
   ]
  },
  {
   "cell_type": "code",
   "execution_count": 9,
   "metadata": {},
   "outputs": [],
   "source": [
    "df = pd.concat(results, ignore_index=True)"
   ]
  },
  {
   "cell_type": "code",
   "execution_count": 10,
   "metadata": {},
   "outputs": [
    {
     "data": {
      "text/plain": [
       "True"
      ]
     },
     "execution_count": 10,
     "metadata": {},
     "output_type": "execute_result"
    }
   ],
   "source": [
    "# Check total df len is equal to that of the individual results\n",
    "sum([len(x) for x in results]) == len(df)"
   ]
  },
  {
   "cell_type": "code",
   "execution_count": 11,
   "metadata": {
    "scrolled": true
   },
   "outputs": [
    {
     "data": {
      "text/html": [
       "<div>\n",
       "<style scoped>\n",
       "    .dataframe tbody tr th:only-of-type {\n",
       "        vertical-align: middle;\n",
       "    }\n",
       "\n",
       "    .dataframe tbody tr th {\n",
       "        vertical-align: top;\n",
       "    }\n",
       "\n",
       "    .dataframe thead th {\n",
       "        text-align: right;\n",
       "    }\n",
       "</style>\n",
       "<table border=\"1\" class=\"dataframe\">\n",
       "  <thead>\n",
       "    <tr style=\"text-align: right;\">\n",
       "      <th></th>\n",
       "      <th>commonName</th>\n",
       "      <th>indicator</th>\n",
       "      <th>lat</th>\n",
       "      <th>lineGroup</th>\n",
       "      <th>lines</th>\n",
       "      <th>lon</th>\n",
       "      <th>modes</th>\n",
       "      <th>naptanId</th>\n",
       "      <th>placeType</th>\n",
       "      <th>stationNaptan</th>\n",
       "      <th>stopType</th>\n",
       "    </tr>\n",
       "  </thead>\n",
       "  <tbody>\n",
       "    <tr>\n",
       "      <th>2557</th>\n",
       "      <td>Shadwell</td>\n",
       "      <td>None</td>\n",
       "      <td>51.511492</td>\n",
       "      <td>[{'$type': 'Tfl.Api.Presentation.Entities.Line...</td>\n",
       "      <td>[{'$type': 'Tfl.Api.Presentation.Entities.Iden...</td>\n",
       "      <td>-0.056782</td>\n",
       "      <td>[bus, dlr, overground]</td>\n",
       "      <td>HUBSDE</td>\n",
       "      <td>StopPoint</td>\n",
       "      <td>None</td>\n",
       "      <td>TransportInterchange</td>\n",
       "    </tr>\n",
       "    <tr>\n",
       "      <th>2558</th>\n",
       "      <td>Stratford</td>\n",
       "      <td>None</td>\n",
       "      <td>51.541508</td>\n",
       "      <td>[{'$type': 'Tfl.Api.Presentation.Entities.Line...</td>\n",
       "      <td>[{'$type': 'Tfl.Api.Presentation.Entities.Iden...</td>\n",
       "      <td>-0.002410</td>\n",
       "      <td>[bus, dlr, international-rail, national-rail, ...</td>\n",
       "      <td>HUBSRA</td>\n",
       "      <td>StopPoint</td>\n",
       "      <td>None</td>\n",
       "      <td>TransportInterchange</td>\n",
       "    </tr>\n",
       "    <tr>\n",
       "      <th>2559</th>\n",
       "      <td>Tower Gateway</td>\n",
       "      <td>None</td>\n",
       "      <td>51.510621</td>\n",
       "      <td>[{'$type': 'Tfl.Api.Presentation.Entities.Line...</td>\n",
       "      <td>[{'$type': 'Tfl.Api.Presentation.Entities.Iden...</td>\n",
       "      <td>-0.074813</td>\n",
       "      <td>[bus, dlr]</td>\n",
       "      <td>HUBTOG</td>\n",
       "      <td>StopPoint</td>\n",
       "      <td>None</td>\n",
       "      <td>TransportInterchange</td>\n",
       "    </tr>\n",
       "    <tr>\n",
       "      <th>2560</th>\n",
       "      <td>West Ham</td>\n",
       "      <td>None</td>\n",
       "      <td>51.528178</td>\n",
       "      <td>[{'$type': 'Tfl.Api.Presentation.Entities.Line...</td>\n",
       "      <td>[{'$type': 'Tfl.Api.Presentation.Entities.Iden...</td>\n",
       "      <td>0.004997</td>\n",
       "      <td>[bus, dlr, national-rail, tube]</td>\n",
       "      <td>HUBWEH</td>\n",
       "      <td>StopPoint</td>\n",
       "      <td>None</td>\n",
       "      <td>TransportInterchange</td>\n",
       "    </tr>\n",
       "    <tr>\n",
       "      <th>2561</th>\n",
       "      <td>Woolwich Arsenal</td>\n",
       "      <td>None</td>\n",
       "      <td>51.489962</td>\n",
       "      <td>[{'$type': 'Tfl.Api.Presentation.Entities.Line...</td>\n",
       "      <td>[{'$type': 'Tfl.Api.Presentation.Entities.Iden...</td>\n",
       "      <td>0.069170</td>\n",
       "      <td>[bus, dlr, national-rail]</td>\n",
       "      <td>HUBWWA</td>\n",
       "      <td>StopPoint</td>\n",
       "      <td>None</td>\n",
       "      <td>TransportInterchange</td>\n",
       "    </tr>\n",
       "  </tbody>\n",
       "</table>\n",
       "</div>"
      ],
      "text/plain": [
       "            commonName indicator        lat  \\\n",
       "2557          Shadwell      None  51.511492   \n",
       "2558         Stratford      None  51.541508   \n",
       "2559     Tower Gateway      None  51.510621   \n",
       "2560          West Ham      None  51.528178   \n",
       "2561  Woolwich Arsenal      None  51.489962   \n",
       "\n",
       "                                              lineGroup  \\\n",
       "2557  [{'$type': 'Tfl.Api.Presentation.Entities.Line...   \n",
       "2558  [{'$type': 'Tfl.Api.Presentation.Entities.Line...   \n",
       "2559  [{'$type': 'Tfl.Api.Presentation.Entities.Line...   \n",
       "2560  [{'$type': 'Tfl.Api.Presentation.Entities.Line...   \n",
       "2561  [{'$type': 'Tfl.Api.Presentation.Entities.Line...   \n",
       "\n",
       "                                                  lines       lon  \\\n",
       "2557  [{'$type': 'Tfl.Api.Presentation.Entities.Iden... -0.056782   \n",
       "2558  [{'$type': 'Tfl.Api.Presentation.Entities.Iden... -0.002410   \n",
       "2559  [{'$type': 'Tfl.Api.Presentation.Entities.Iden... -0.074813   \n",
       "2560  [{'$type': 'Tfl.Api.Presentation.Entities.Iden...  0.004997   \n",
       "2561  [{'$type': 'Tfl.Api.Presentation.Entities.Iden...  0.069170   \n",
       "\n",
       "                                                  modes naptanId  placeType  \\\n",
       "2557                             [bus, dlr, overground]   HUBSDE  StopPoint   \n",
       "2558  [bus, dlr, international-rail, national-rail, ...   HUBSRA  StopPoint   \n",
       "2559                                         [bus, dlr]   HUBTOG  StopPoint   \n",
       "2560                    [bus, dlr, national-rail, tube]   HUBWEH  StopPoint   \n",
       "2561                          [bus, dlr, national-rail]   HUBWWA  StopPoint   \n",
       "\n",
       "     stationNaptan              stopType  \n",
       "2557          None  TransportInterchange  \n",
       "2558          None  TransportInterchange  \n",
       "2559          None  TransportInterchange  \n",
       "2560          None  TransportInterchange  \n",
       "2561          None  TransportInterchange  "
      ]
     },
     "execution_count": 11,
     "metadata": {},
     "output_type": "execute_result"
    }
   ],
   "source": [
    "df.tail()"
   ]
  },
  {
   "cell_type": "code",
   "execution_count": 12,
   "metadata": {},
   "outputs": [],
   "source": [
    "# created a named tuple object\n",
    "Station = namedtuple('Station', ['name', 'lat_lon'])"
   ]
  },
  {
   "cell_type": "code",
   "execution_count": 13,
   "metadata": {},
   "outputs": [],
   "source": [
    "# TODO create array for use in the finding nearest stations script\n",
    "LONDON_STATIONS = [Station(s[0], (s[1], s[2])) for s in df[['commonName', 'lat', 'lon']].values]"
   ]
  },
  {
   "cell_type": "code",
   "execution_count": 14,
   "metadata": {},
   "outputs": [
    {
     "data": {
      "text/plain": [
       "True"
      ]
     },
     "execution_count": 14,
     "metadata": {},
     "output_type": "execute_result"
    }
   ],
   "source": [
    "# check lengths match\n",
    "len(LONDON_STATIONS) == len(df)"
   ]
  },
  {
   "cell_type": "code",
   "execution_count": 15,
   "metadata": {},
   "outputs": [
    {
     "data": {
      "text/plain": [
       "Station(name='Bushey Rail Station', lat_lon=(51.645629, -0.3856))"
      ]
     },
     "execution_count": 15,
     "metadata": {},
     "output_type": "execute_result"
    }
   ],
   "source": [
    "LONDON_STATIONS[0]"
   ]
  },
  {
   "cell_type": "code",
   "execution_count": 16,
   "metadata": {},
   "outputs": [
    {
     "data": {
      "text/plain": [
       "'Bushey Rail Station'"
      ]
     },
     "execution_count": 16,
     "metadata": {},
     "output_type": "execute_result"
    }
   ],
   "source": [
    "LONDON_STATIONS[0].name"
   ]
  },
  {
   "cell_type": "code",
   "execution_count": 17,
   "metadata": {},
   "outputs": [
    {
     "data": {
      "text/plain": [
       "'Bushey Rail Station'"
      ]
     },
     "execution_count": 17,
     "metadata": {},
     "output_type": "execute_result"
    }
   ],
   "source": [
    "LONDON_STATIONS[0][0]"
   ]
  },
  {
   "cell_type": "code",
   "execution_count": 20,
   "metadata": {},
   "outputs": [
    {
     "name": "stdout",
     "output_type": "stream",
     "text": [
      "Bushey Rail Station\n",
      "(51.645629, -0.3856)\n",
      "Bushey Rail Station\n",
      "(51.645756, -0.384367)\n",
      "Bushey Rail Station\n",
      "(51.645693, -0.384355)\n",
      "Bushey Rail Station\n",
      "(51.645692, -0.385612)\n",
      "Cheshunt Rail Station\n",
      "(51.702951, -0.024101)\n"
     ]
    }
   ],
   "source": [
    "for station in LONDON_STATIONS[:5]:\n",
    "    print(station.name)\n",
    "    print(station.lat_lon)\n",
    "#     print(station.longitude)\n",
    "#     print('\\n')"
   ]
  },
  {
   "cell_type": "code",
   "execution_count": null,
   "metadata": {},
   "outputs": [],
   "source": []
  }
 ],
 "metadata": {
  "kernelspec": {
   "display_name": "Python 3",
   "language": "python",
   "name": "python3"
  },
  "language_info": {
   "codemirror_mode": {
    "name": "ipython",
    "version": 3
   },
   "file_extension": ".py",
   "mimetype": "text/x-python",
   "name": "python",
   "nbconvert_exporter": "python",
   "pygments_lexer": "ipython3",
   "version": "3.7.3"
  }
 },
 "nbformat": 4,
 "nbformat_minor": 2
}
