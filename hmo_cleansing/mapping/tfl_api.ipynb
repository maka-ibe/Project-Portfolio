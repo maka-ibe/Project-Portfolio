{
 "cells": [
  {
   "cell_type": "code",
   "execution_count": 1,
   "metadata": {},
   "outputs": [],
   "source": [
    "import requests\n",
    "import os\n",
    "import pandas as pd\n",
    "import time\n",
    "import concurrent.futures\n",
    "from collections import namedtuple"
   ]
  },
  {
   "cell_type": "code",
   "execution_count": 2,
   "metadata": {},
   "outputs": [],
   "source": [
    "# TODO Documentation\n",
    "\n",
    "class TflStopPoint:\n",
    "    def __init__(self,mode):\n",
    "        self.mode = mode\n",
    "        \n",
    "    @property\n",
    "    def endpoint(self):\n",
    "        return f\"https://api.tfl.gov.uk/StopPoint/Mode/{self.mode}\"\n",
    "    \n",
    "    @property\n",
    "    def stopPoint_json(self):\n",
    "        try:\n",
    "            r = requests.get(self.endpoint, timeout = 30)\n",
    "        except:\n",
    "            return None\n",
    "            \n",
    "        if r.status_code == 200:\n",
    "            return r.json()\n",
    "        else:\n",
    "            return None\n",
    "    \n",
    "    @property\n",
    "    def stopPoint_df(self):\n",
    "        # dict keys of items to retrieve from json\n",
    "        desired_keys = [ 'indicator','naptanId', 'stationNaptan', 'lines', 'lineGroup', 'placeType'\n",
    "                       , 'stopType', 'commonName', 'modes', 'lat', 'lon']\n",
    "\n",
    "        data=[]\n",
    "        if self.stopPoint_json != None:\n",
    "            for i, value in enumerate(self.stopPoint_json['stopPoints']):\n",
    "\n",
    "                stopPoint = {}\n",
    "\n",
    "                for key in desired_keys:\n",
    "                    if key in value:\n",
    "                        stopPoint[key] = value[key]\n",
    "                    else:\n",
    "                        stopPoint[key] = None\n",
    "                data.append(stopPoint)\n",
    "        else:\n",
    "            return None\n",
    "            \n",
    "        return pd.DataFrame(data)\n"
   ]
  },
  {
   "cell_type": "code",
   "execution_count": 3,
   "metadata": {},
   "outputs": [],
   "source": [
    "tfl_modes = ['dlr', 'national-rail', 'overground', 'tflrail', 'tube']"
   ]
  },
  {
   "cell_type": "code",
   "execution_count": 4,
   "metadata": {},
   "outputs": [],
   "source": [
    "def get_stopPoint_df(mode):\n",
    "    return TflStopPoint(mode).stopPoint_df"
   ]
  },
  {
   "cell_type": "code",
   "execution_count": 5,
   "metadata": {},
   "outputs": [
    {
     "name": "stdout",
     "output_type": "stream",
     "text": [
      "Time Taken: 30.145397s\n"
     ]
    }
   ],
   "source": [
    "# TODO currently takes 60 seconds to do, can we optimise?\n",
    "# Got it down to 30 seconds, can you further reduce that?\n",
    "\n",
    "start = time.time()\n",
    "\n",
    "futures = []\n",
    "results = []\n",
    "\n",
    "with concurrent.futures.ThreadPoolExecutor() as executor:\n",
    "    \n",
    "    for mode in tfl_modes:\n",
    "        futures.append(executor.submit(get_stopPoint_df, mode=mode))\n",
    "        \n",
    "    for future in concurrent.futures.as_completed(futures):\n",
    "        results.append(future.result())\n",
    "\n",
    "end = time.time()\n",
    "\n",
    "print(\"Time Taken: {:.6f}s\".format(end-start))"
   ]
  },
  {
   "cell_type": "code",
   "execution_count": 6,
   "metadata": {},
   "outputs": [
    {
     "data": {
      "text/plain": [
       "5"
      ]
     },
     "execution_count": 6,
     "metadata": {},
     "output_type": "execute_result"
    }
   ],
   "source": [
    "len(results)"
   ]
  },
  {
   "cell_type": "code",
   "execution_count": 7,
   "metadata": {},
   "outputs": [],
   "source": [
    "# Remove none type from from results\n",
    "results = [x for x in results if x is not None]"
   ]
  },
  {
   "cell_type": "code",
   "execution_count": 8,
   "metadata": {},
   "outputs": [
    {
     "data": {
      "text/plain": [
       "3"
      ]
     },
     "execution_count": 8,
     "metadata": {},
     "output_type": "execute_result"
    }
   ],
   "source": [
    "len(results)"
   ]
  },
  {
   "cell_type": "code",
   "execution_count": 9,
   "metadata": {},
   "outputs": [],
   "source": [
    "df = pd.concat(results, ignore_index=True)"
   ]
  },
  {
   "cell_type": "code",
   "execution_count": 10,
   "metadata": {},
   "outputs": [
    {
     "data": {
      "text/plain": [
       "True"
      ]
     },
     "execution_count": 10,
     "metadata": {},
     "output_type": "execute_result"
    }
   ],
   "source": [
    "# Check total df len is equal to that of the individual results\n",
    "sum([len(x) for x in results]) == len(df)"
   ]
  },
  {
   "cell_type": "code",
   "execution_count": 11,
   "metadata": {
    "scrolled": true
   },
   "outputs": [
    {
     "data": {
      "text/html": [
       "<div>\n",
       "<style scoped>\n",
       "    .dataframe tbody tr th:only-of-type {\n",
       "        vertical-align: middle;\n",
       "    }\n",
       "\n",
       "    .dataframe tbody tr th {\n",
       "        vertical-align: top;\n",
       "    }\n",
       "\n",
       "    .dataframe thead th {\n",
       "        text-align: right;\n",
       "    }\n",
       "</style>\n",
       "<table border=\"1\" class=\"dataframe\">\n",
       "  <thead>\n",
       "    <tr style=\"text-align: right;\">\n",
       "      <th></th>\n",
       "      <th>commonName</th>\n",
       "      <th>indicator</th>\n",
       "      <th>lat</th>\n",
       "      <th>lineGroup</th>\n",
       "      <th>lines</th>\n",
       "      <th>lon</th>\n",
       "      <th>modes</th>\n",
       "      <th>naptanId</th>\n",
       "      <th>placeType</th>\n",
       "      <th>stationNaptan</th>\n",
       "      <th>stopType</th>\n",
       "    </tr>\n",
       "  </thead>\n",
       "  <tbody>\n",
       "    <tr>\n",
       "      <th>860</th>\n",
       "      <td>West Hampstead</td>\n",
       "      <td>None</td>\n",
       "      <td>51.547533</td>\n",
       "      <td>[{'$type': 'Tfl.Api.Presentation.Entities.Line...</td>\n",
       "      <td>[{'$type': 'Tfl.Api.Presentation.Entities.Iden...</td>\n",
       "      <td>-0.191357</td>\n",
       "      <td>[bus, national-rail, overground, tube]</td>\n",
       "      <td>HUBWHD</td>\n",
       "      <td>StopPoint</td>\n",
       "      <td>None</td>\n",
       "      <td>TransportInterchange</td>\n",
       "    </tr>\n",
       "    <tr>\n",
       "      <th>861</th>\n",
       "      <td>Willesden Junction</td>\n",
       "      <td>None</td>\n",
       "      <td>51.532556</td>\n",
       "      <td>[{'$type': 'Tfl.Api.Presentation.Entities.Line...</td>\n",
       "      <td>[{'$type': 'Tfl.Api.Presentation.Entities.Iden...</td>\n",
       "      <td>-0.243006</td>\n",
       "      <td>[bus, overground, tube]</td>\n",
       "      <td>HUBWIJ</td>\n",
       "      <td>StopPoint</td>\n",
       "      <td>None</td>\n",
       "      <td>TransportInterchange</td>\n",
       "    </tr>\n",
       "    <tr>\n",
       "      <th>862</th>\n",
       "      <td>Wembley Central</td>\n",
       "      <td>None</td>\n",
       "      <td>51.552320</td>\n",
       "      <td>[{'$type': 'Tfl.Api.Presentation.Entities.Line...</td>\n",
       "      <td>[{'$type': 'Tfl.Api.Presentation.Entities.Iden...</td>\n",
       "      <td>-0.296642</td>\n",
       "      <td>[bus, national-rail, overground, tube]</td>\n",
       "      <td>HUBWMB</td>\n",
       "      <td>StopPoint</td>\n",
       "      <td>None</td>\n",
       "      <td>TransportInterchange</td>\n",
       "    </tr>\n",
       "    <tr>\n",
       "      <th>863</th>\n",
       "      <td>Canada Water</td>\n",
       "      <td>None</td>\n",
       "      <td>51.498053</td>\n",
       "      <td>[{'$type': 'Tfl.Api.Presentation.Entities.Line...</td>\n",
       "      <td>[{'$type': 'Tfl.Api.Presentation.Entities.Iden...</td>\n",
       "      <td>-0.049667</td>\n",
       "      <td>[bus, overground, tube]</td>\n",
       "      <td>HUBZCW</td>\n",
       "      <td>StopPoint</td>\n",
       "      <td>None</td>\n",
       "      <td>TransportInterchange</td>\n",
       "    </tr>\n",
       "    <tr>\n",
       "      <th>864</th>\n",
       "      <td>Whitechapel</td>\n",
       "      <td>None</td>\n",
       "      <td>51.519498</td>\n",
       "      <td>[{'$type': 'Tfl.Api.Presentation.Entities.Line...</td>\n",
       "      <td>[{'$type': 'Tfl.Api.Presentation.Entities.Iden...</td>\n",
       "      <td>-0.059858</td>\n",
       "      <td>[bus, overground, tube]</td>\n",
       "      <td>HUBZWL</td>\n",
       "      <td>StopPoint</td>\n",
       "      <td>None</td>\n",
       "      <td>TransportInterchange</td>\n",
       "    </tr>\n",
       "  </tbody>\n",
       "</table>\n",
       "</div>"
      ],
      "text/plain": [
       "             commonName indicator        lat  \\\n",
       "860      West Hampstead      None  51.547533   \n",
       "861  Willesden Junction      None  51.532556   \n",
       "862     Wembley Central      None  51.552320   \n",
       "863        Canada Water      None  51.498053   \n",
       "864         Whitechapel      None  51.519498   \n",
       "\n",
       "                                             lineGroup  \\\n",
       "860  [{'$type': 'Tfl.Api.Presentation.Entities.Line...   \n",
       "861  [{'$type': 'Tfl.Api.Presentation.Entities.Line...   \n",
       "862  [{'$type': 'Tfl.Api.Presentation.Entities.Line...   \n",
       "863  [{'$type': 'Tfl.Api.Presentation.Entities.Line...   \n",
       "864  [{'$type': 'Tfl.Api.Presentation.Entities.Line...   \n",
       "\n",
       "                                                 lines       lon  \\\n",
       "860  [{'$type': 'Tfl.Api.Presentation.Entities.Iden... -0.191357   \n",
       "861  [{'$type': 'Tfl.Api.Presentation.Entities.Iden... -0.243006   \n",
       "862  [{'$type': 'Tfl.Api.Presentation.Entities.Iden... -0.296642   \n",
       "863  [{'$type': 'Tfl.Api.Presentation.Entities.Iden... -0.049667   \n",
       "864  [{'$type': 'Tfl.Api.Presentation.Entities.Iden... -0.059858   \n",
       "\n",
       "                                      modes naptanId  placeType stationNaptan  \\\n",
       "860  [bus, national-rail, overground, tube]   HUBWHD  StopPoint          None   \n",
       "861                 [bus, overground, tube]   HUBWIJ  StopPoint          None   \n",
       "862  [bus, national-rail, overground, tube]   HUBWMB  StopPoint          None   \n",
       "863                 [bus, overground, tube]   HUBZCW  StopPoint          None   \n",
       "864                 [bus, overground, tube]   HUBZWL  StopPoint          None   \n",
       "\n",
       "                 stopType  \n",
       "860  TransportInterchange  \n",
       "861  TransportInterchange  \n",
       "862  TransportInterchange  \n",
       "863  TransportInterchange  \n",
       "864  TransportInterchange  "
      ]
     },
     "execution_count": 11,
     "metadata": {},
     "output_type": "execute_result"
    }
   ],
   "source": [
    "df.tail()"
   ]
  },
  {
   "cell_type": "code",
   "execution_count": 12,
   "metadata": {},
   "outputs": [],
   "source": [
    "# created a named tuple object\n",
    "Station = namedtuple('Station', ['name', 'latitude', 'longitude'])"
   ]
  },
  {
   "cell_type": "code",
   "execution_count": 13,
   "metadata": {},
   "outputs": [],
   "source": [
    "# TODO create array for use in the finding nearest stations script\n",
    "LONDON_STATIONS = [Station(s[0], s[1], s[2]) for s in df[['commonName', 'lat', 'lon']].values]"
   ]
  },
  {
   "cell_type": "code",
   "execution_count": 14,
   "metadata": {},
   "outputs": [
    {
     "data": {
      "text/plain": [
       "True"
      ]
     },
     "execution_count": 14,
     "metadata": {},
     "output_type": "execute_result"
    }
   ],
   "source": [
    "# check lengths match\n",
    "len(LONDON_STATIONS) == len(df)"
   ]
  },
  {
   "cell_type": "code",
   "execution_count": 15,
   "metadata": {},
   "outputs": [
    {
     "data": {
      "text/plain": [
       "Station(name='Acton Main Line', latitude=51.517069, longitude=-0.267121)"
      ]
     },
     "execution_count": 15,
     "metadata": {},
     "output_type": "execute_result"
    }
   ],
   "source": [
    "LONDON_STATIONS[0]"
   ]
  },
  {
   "cell_type": "code",
   "execution_count": 16,
   "metadata": {},
   "outputs": [
    {
     "data": {
      "text/plain": [
       "'Acton Main Line'"
      ]
     },
     "execution_count": 16,
     "metadata": {},
     "output_type": "execute_result"
    }
   ],
   "source": [
    "LONDON_STATIONS[0].name"
   ]
  },
  {
   "cell_type": "code",
   "execution_count": 17,
   "metadata": {},
   "outputs": [
    {
     "data": {
      "text/plain": [
       "'Acton Main Line'"
      ]
     },
     "execution_count": 17,
     "metadata": {},
     "output_type": "execute_result"
    }
   ],
   "source": [
    "LONDON_STATIONS[0][0]"
   ]
  },
  {
   "cell_type": "code",
   "execution_count": 19,
   "metadata": {},
   "outputs": [
    {
     "name": "stdout",
     "output_type": "stream",
     "text": [
      "Acton Main Line\n",
      "51.517069\n",
      "-0.267121\n",
      "\n",
      "\n",
      "Burnham (Berks) Rail Station\n",
      "51.523506\n",
      "-0.646374\n",
      "\n",
      "\n",
      "Brentwood Rail Station\n",
      "51.613684\n",
      "0.300153\n",
      "\n",
      "\n",
      "Chadwell Heath\n",
      "51.568094\n",
      "0.129394\n",
      "\n",
      "\n",
      "Ealing Broadway\n",
      "51.514643\n",
      "-0.30173\n",
      "\n",
      "\n"
     ]
    }
   ],
   "source": [
    "for station in LONDON_STATIONS[:5]:\n",
    "    print(station.name)\n",
    "    print(station.latitude)\n",
    "    print(station.longitude)\n",
    "    print('\\n')"
   ]
  },
  {
   "cell_type": "code",
   "execution_count": null,
   "metadata": {},
   "outputs": [],
   "source": []
  }
 ],
 "metadata": {
  "kernelspec": {
   "display_name": "Python 3",
   "language": "python",
   "name": "python3"
  },
  "language_info": {
   "codemirror_mode": {
    "name": "ipython",
    "version": 3
   },
   "file_extension": ".py",
   "mimetype": "text/x-python",
   "name": "python",
   "nbconvert_exporter": "python",
   "pygments_lexer": "ipython3",
   "version": "3.7.3"
  }
 },
 "nbformat": 4,
 "nbformat_minor": 2
}
