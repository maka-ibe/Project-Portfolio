{
 "cells": [
  {
   "cell_type": "code",
   "execution_count": 1,
   "metadata": {},
   "outputs": [],
   "source": [
    "import requests\n",
    "import os\n",
    "import pandas as pd\n",
    "import time\n",
    "import concurrent.futures\n",
    "from collections import namedtuple"
   ]
  },
  {
   "cell_type": "code",
   "execution_count": 2,
   "metadata": {},
   "outputs": [],
   "source": [
    "# TODO Documentation\n",
    "\n",
    "class TflStopPoint:\n",
    "    def __init__(self,mode):\n",
    "        self.mode = mode\n",
    "        \n",
    "    @property\n",
    "    def endpoint(self):\n",
    "        return f\"https://api.tfl.gov.uk/StopPoint/Mode/{self.mode}\"\n",
    "    \n",
    "    @property\n",
    "    def stopPoint_json(self):\n",
    "        try:\n",
    "            r = requests.get(self.endpoint, timeout = 30)\n",
    "        except:\n",
    "            return None\n",
    "            \n",
    "        if r.status_code == 200:\n",
    "            return r.json()\n",
    "        else:\n",
    "            return None\n",
    "    \n",
    "    @property\n",
    "    def stopPoint_df(self):\n",
    "        # dict keys of items to retrieve from json\n",
    "        desired_keys = [ 'indicator','naptanId', 'stationNaptan', 'lines', 'lineGroup', 'placeType'\n",
    "                       , 'stopType', 'commonName', 'modes', 'lat', 'lon']\n",
    "\n",
    "        data=[]\n",
    "        if self.stopPoint_json != None:\n",
    "            for i, value in enumerate(self.stopPoint_json['stopPoints']):\n",
    "\n",
    "                stopPoint = {}\n",
    "\n",
    "                for key in desired_keys:\n",
    "                    if key in value:\n",
    "                        stopPoint[key] = value[key]\n",
    "                    else:\n",
    "                        stopPoint[key] = None\n",
    "                data.append(stopPoint)\n",
    "        else:\n",
    "            return None\n",
    "            \n",
    "        return pd.DataFrame(data)\n"
   ]
  },
  {
   "cell_type": "code",
   "execution_count": 3,
   "metadata": {},
   "outputs": [],
   "source": [
    "tfl_modes = ['dlr', 'national-rail', 'overground', 'tflrail', 'tube']"
   ]
  },
  {
   "cell_type": "code",
   "execution_count": 4,
   "metadata": {},
   "outputs": [],
   "source": [
    "def get_stopPoint_df(mode):\n",
    "    return TflStopPoint(mode).stopPoint_df"
   ]
  },
  {
   "cell_type": "code",
   "execution_count": 5,
   "metadata": {},
   "outputs": [
    {
     "name": "stdout",
     "output_type": "stream",
     "text": [
      "Time Taken: 30.149075s\n"
     ]
    }
   ],
   "source": [
    "# TODO currently takes 60 seconds to do, can we optimise?\n",
    "# Got it down to 30 seconds, can you further reduce that?\n",
    "\n",
    "start = time.time()\n",
    "\n",
    "futures = []\n",
    "results = []\n",
    "\n",
    "with concurrent.futures.ThreadPoolExecutor() as executor:\n",
    "    \n",
    "    for mode in tfl_modes:\n",
    "        futures.append(executor.submit(get_stopPoint_df, mode=mode))\n",
    "        \n",
    "    for future in concurrent.futures.as_completed(futures):\n",
    "        results.append(future.result())\n",
    "\n",
    "end = time.time()\n",
    "\n",
    "print(\"Time Taken: {:.6f}s\".format(end-start))"
   ]
  },
  {
   "cell_type": "code",
   "execution_count": 6,
   "metadata": {},
   "outputs": [
    {
     "data": {
      "text/plain": [
       "5"
      ]
     },
     "execution_count": 6,
     "metadata": {},
     "output_type": "execute_result"
    }
   ],
   "source": [
    "len(results)"
   ]
  },
  {
   "cell_type": "code",
   "execution_count": 7,
   "metadata": {},
   "outputs": [],
   "source": [
    "# Remove none type from from results\n",
    "results = [x for x in results if x is not None]"
   ]
  },
  {
   "cell_type": "code",
   "execution_count": 8,
   "metadata": {},
   "outputs": [
    {
     "data": {
      "text/plain": [
       "3"
      ]
     },
     "execution_count": 8,
     "metadata": {},
     "output_type": "execute_result"
    }
   ],
   "source": [
    "len(results)"
   ]
  },
  {
   "cell_type": "code",
   "execution_count": 9,
   "metadata": {},
   "outputs": [],
   "source": [
    "df = pd.concat(results, ignore_index=True)"
   ]
  },
  {
   "cell_type": "code",
   "execution_count": 10,
   "metadata": {},
   "outputs": [
    {
     "data": {
      "text/plain": [
       "True"
      ]
     },
     "execution_count": 10,
     "metadata": {},
     "output_type": "execute_result"
    }
   ],
   "source": [
    "# Check total df len is equal to that of the individual results\n",
    "sum((len(x) for x in results)) == len(df)"
   ]
  },
  {
   "cell_type": "code",
   "execution_count": 11,
   "metadata": {
    "scrolled": true
   },
   "outputs": [
    {
     "data": {
      "text/html": [
       "<div>\n",
       "<style scoped>\n",
       "    .dataframe tbody tr th:only-of-type {\n",
       "        vertical-align: middle;\n",
       "    }\n",
       "\n",
       "    .dataframe tbody tr th {\n",
       "        vertical-align: top;\n",
       "    }\n",
       "\n",
       "    .dataframe thead th {\n",
       "        text-align: right;\n",
       "    }\n",
       "</style>\n",
       "<table border=\"1\" class=\"dataframe\">\n",
       "  <thead>\n",
       "    <tr style=\"text-align: right;\">\n",
       "      <th></th>\n",
       "      <th>indicator</th>\n",
       "      <th>naptanId</th>\n",
       "      <th>stationNaptan</th>\n",
       "      <th>lines</th>\n",
       "      <th>lineGroup</th>\n",
       "      <th>placeType</th>\n",
       "      <th>stopType</th>\n",
       "      <th>commonName</th>\n",
       "      <th>modes</th>\n",
       "      <th>lat</th>\n",
       "      <th>lon</th>\n",
       "    </tr>\n",
       "  </thead>\n",
       "  <tbody>\n",
       "    <tr>\n",
       "      <th>856</th>\n",
       "      <td>None</td>\n",
       "      <td>HUBWHD</td>\n",
       "      <td>None</td>\n",
       "      <td>[{'$type': 'Tfl.Api.Presentation.Entities.Iden...</td>\n",
       "      <td>[{'$type': 'Tfl.Api.Presentation.Entities.Line...</td>\n",
       "      <td>StopPoint</td>\n",
       "      <td>TransportInterchange</td>\n",
       "      <td>West Hampstead</td>\n",
       "      <td>[bus, national-rail, overground, tube]</td>\n",
       "      <td>51.547533</td>\n",
       "      <td>-0.191357</td>\n",
       "    </tr>\n",
       "    <tr>\n",
       "      <th>857</th>\n",
       "      <td>None</td>\n",
       "      <td>HUBWIJ</td>\n",
       "      <td>None</td>\n",
       "      <td>[{'$type': 'Tfl.Api.Presentation.Entities.Iden...</td>\n",
       "      <td>[{'$type': 'Tfl.Api.Presentation.Entities.Line...</td>\n",
       "      <td>StopPoint</td>\n",
       "      <td>TransportInterchange</td>\n",
       "      <td>Willesden Junction</td>\n",
       "      <td>[bus, overground, tube]</td>\n",
       "      <td>51.532556</td>\n",
       "      <td>-0.243006</td>\n",
       "    </tr>\n",
       "    <tr>\n",
       "      <th>858</th>\n",
       "      <td>None</td>\n",
       "      <td>HUBWMB</td>\n",
       "      <td>None</td>\n",
       "      <td>[{'$type': 'Tfl.Api.Presentation.Entities.Iden...</td>\n",
       "      <td>[{'$type': 'Tfl.Api.Presentation.Entities.Line...</td>\n",
       "      <td>StopPoint</td>\n",
       "      <td>TransportInterchange</td>\n",
       "      <td>Wembley Central</td>\n",
       "      <td>[bus, national-rail, overground, tube]</td>\n",
       "      <td>51.552320</td>\n",
       "      <td>-0.296642</td>\n",
       "    </tr>\n",
       "    <tr>\n",
       "      <th>859</th>\n",
       "      <td>None</td>\n",
       "      <td>HUBZCW</td>\n",
       "      <td>None</td>\n",
       "      <td>[{'$type': 'Tfl.Api.Presentation.Entities.Iden...</td>\n",
       "      <td>[{'$type': 'Tfl.Api.Presentation.Entities.Line...</td>\n",
       "      <td>StopPoint</td>\n",
       "      <td>TransportInterchange</td>\n",
       "      <td>Canada Water</td>\n",
       "      <td>[bus, overground, tube]</td>\n",
       "      <td>51.498053</td>\n",
       "      <td>-0.049667</td>\n",
       "    </tr>\n",
       "    <tr>\n",
       "      <th>860</th>\n",
       "      <td>None</td>\n",
       "      <td>HUBZWL</td>\n",
       "      <td>None</td>\n",
       "      <td>[{'$type': 'Tfl.Api.Presentation.Entities.Iden...</td>\n",
       "      <td>[{'$type': 'Tfl.Api.Presentation.Entities.Line...</td>\n",
       "      <td>StopPoint</td>\n",
       "      <td>TransportInterchange</td>\n",
       "      <td>Whitechapel</td>\n",
       "      <td>[bus, overground, tube]</td>\n",
       "      <td>51.519498</td>\n",
       "      <td>-0.059858</td>\n",
       "    </tr>\n",
       "  </tbody>\n",
       "</table>\n",
       "</div>"
      ],
      "text/plain": [
       "    indicator naptanId stationNaptan  \\\n",
       "856      None   HUBWHD          None   \n",
       "857      None   HUBWIJ          None   \n",
       "858      None   HUBWMB          None   \n",
       "859      None   HUBZCW          None   \n",
       "860      None   HUBZWL          None   \n",
       "\n",
       "                                                 lines  \\\n",
       "856  [{'$type': 'Tfl.Api.Presentation.Entities.Iden...   \n",
       "857  [{'$type': 'Tfl.Api.Presentation.Entities.Iden...   \n",
       "858  [{'$type': 'Tfl.Api.Presentation.Entities.Iden...   \n",
       "859  [{'$type': 'Tfl.Api.Presentation.Entities.Iden...   \n",
       "860  [{'$type': 'Tfl.Api.Presentation.Entities.Iden...   \n",
       "\n",
       "                                             lineGroup  placeType  \\\n",
       "856  [{'$type': 'Tfl.Api.Presentation.Entities.Line...  StopPoint   \n",
       "857  [{'$type': 'Tfl.Api.Presentation.Entities.Line...  StopPoint   \n",
       "858  [{'$type': 'Tfl.Api.Presentation.Entities.Line...  StopPoint   \n",
       "859  [{'$type': 'Tfl.Api.Presentation.Entities.Line...  StopPoint   \n",
       "860  [{'$type': 'Tfl.Api.Presentation.Entities.Line...  StopPoint   \n",
       "\n",
       "                 stopType          commonName  \\\n",
       "856  TransportInterchange      West Hampstead   \n",
       "857  TransportInterchange  Willesden Junction   \n",
       "858  TransportInterchange     Wembley Central   \n",
       "859  TransportInterchange        Canada Water   \n",
       "860  TransportInterchange         Whitechapel   \n",
       "\n",
       "                                      modes        lat       lon  \n",
       "856  [bus, national-rail, overground, tube]  51.547533 -0.191357  \n",
       "857                 [bus, overground, tube]  51.532556 -0.243006  \n",
       "858  [bus, national-rail, overground, tube]  51.552320 -0.296642  \n",
       "859                 [bus, overground, tube]  51.498053 -0.049667  \n",
       "860                 [bus, overground, tube]  51.519498 -0.059858  "
      ]
     },
     "execution_count": 11,
     "metadata": {},
     "output_type": "execute_result"
    }
   ],
   "source": [
    "df.tail()"
   ]
  },
  {
   "cell_type": "code",
   "execution_count": 22,
   "metadata": {
    "scrolled": true
   },
   "outputs": [
    {
     "data": {
      "text/html": [
       "<div>\n",
       "<style scoped>\n",
       "    .dataframe tbody tr th:only-of-type {\n",
       "        vertical-align: middle;\n",
       "    }\n",
       "\n",
       "    .dataframe tbody tr th {\n",
       "        vertical-align: top;\n",
       "    }\n",
       "\n",
       "    .dataframe thead th {\n",
       "        text-align: right;\n",
       "    }\n",
       "</style>\n",
       "<table border=\"1\" class=\"dataframe\">\n",
       "  <thead>\n",
       "    <tr style=\"text-align: right;\">\n",
       "      <th></th>\n",
       "      <th>indicator</th>\n",
       "      <th>naptanId</th>\n",
       "      <th>stationNaptan</th>\n",
       "      <th>lines</th>\n",
       "      <th>lineGroup</th>\n",
       "      <th>placeType</th>\n",
       "      <th>stopType</th>\n",
       "      <th>modes</th>\n",
       "      <th>lat</th>\n",
       "      <th>lon</th>\n",
       "    </tr>\n",
       "    <tr>\n",
       "      <th>commonName</th>\n",
       "      <th></th>\n",
       "      <th></th>\n",
       "      <th></th>\n",
       "      <th></th>\n",
       "      <th></th>\n",
       "      <th></th>\n",
       "      <th></th>\n",
       "      <th></th>\n",
       "      <th></th>\n",
       "      <th></th>\n",
       "    </tr>\n",
       "  </thead>\n",
       "  <tbody>\n",
       "    <tr>\n",
       "      <th>Abbey Road DLR Station</th>\n",
       "      <td>4</td>\n",
       "      <td>6</td>\n",
       "      <td>6</td>\n",
       "      <td>6</td>\n",
       "      <td>6</td>\n",
       "      <td>6</td>\n",
       "      <td>6</td>\n",
       "      <td>6</td>\n",
       "      <td>6</td>\n",
       "      <td>6</td>\n",
       "    </tr>\n",
       "    <tr>\n",
       "      <th>Acton Central Rail Station</th>\n",
       "      <td>2</td>\n",
       "      <td>3</td>\n",
       "      <td>3</td>\n",
       "      <td>3</td>\n",
       "      <td>3</td>\n",
       "      <td>3</td>\n",
       "      <td>3</td>\n",
       "      <td>3</td>\n",
       "      <td>3</td>\n",
       "      <td>3</td>\n",
       "    </tr>\n",
       "    <tr>\n",
       "      <th>Acton Central Station</th>\n",
       "      <td>0</td>\n",
       "      <td>2</td>\n",
       "      <td>2</td>\n",
       "      <td>2</td>\n",
       "      <td>2</td>\n",
       "      <td>2</td>\n",
       "      <td>2</td>\n",
       "      <td>2</td>\n",
       "      <td>2</td>\n",
       "      <td>2</td>\n",
       "    </tr>\n",
       "    <tr>\n",
       "      <th>Acton Main Line</th>\n",
       "      <td>0</td>\n",
       "      <td>1</td>\n",
       "      <td>1</td>\n",
       "      <td>1</td>\n",
       "      <td>1</td>\n",
       "      <td>1</td>\n",
       "      <td>1</td>\n",
       "      <td>1</td>\n",
       "      <td>1</td>\n",
       "      <td>1</td>\n",
       "    </tr>\n",
       "    <tr>\n",
       "      <th>Acton Main Line Rail Station</th>\n",
       "      <td>0</td>\n",
       "      <td>1</td>\n",
       "      <td>1</td>\n",
       "      <td>1</td>\n",
       "      <td>1</td>\n",
       "      <td>1</td>\n",
       "      <td>1</td>\n",
       "      <td>1</td>\n",
       "      <td>1</td>\n",
       "      <td>1</td>\n",
       "    </tr>\n",
       "  </tbody>\n",
       "</table>\n",
       "</div>"
      ],
      "text/plain": [
       "                              indicator  naptanId  stationNaptan  lines  \\\n",
       "commonName                                                                \n",
       "Abbey Road DLR Station                4         6              6      6   \n",
       "Acton Central Rail Station            2         3              3      3   \n",
       "Acton Central Station                 0         2              2      2   \n",
       "Acton Main Line                       0         1              1      1   \n",
       "Acton Main Line Rail Station          0         1              1      1   \n",
       "\n",
       "                              lineGroup  placeType  stopType  modes  lat  lon  \n",
       "commonName                                                                     \n",
       "Abbey Road DLR Station                6          6         6      6    6    6  \n",
       "Acton Central Rail Station            3          3         3      3    3    3  \n",
       "Acton Central Station                 2          2         2      2    2    2  \n",
       "Acton Main Line                       1          1         1      1    1    1  \n",
       "Acton Main Line Rail Station          1          1         1      1    1    1  "
      ]
     },
     "execution_count": 22,
     "metadata": {},
     "output_type": "execute_result"
    }
   ],
   "source": [
    "df.groupby(['commonName']).count().head()"
   ]
  },
  {
   "cell_type": "code",
   "execution_count": 26,
   "metadata": {
    "scrolled": true
   },
   "outputs": [
    {
     "data": {
      "text/plain": [
       "4"
      ]
     },
     "execution_count": 26,
     "metadata": {},
     "output_type": "execute_result"
    }
   ],
   "source": [
    "df.groupby(['commonName']).count().loc['Bushey Rail Station']['naptanId']"
   ]
  },
  {
   "cell_type": "code",
   "execution_count": 27,
   "metadata": {},
   "outputs": [],
   "source": [
    "df_deduped = df.drop_duplicates(subset=['commonName'], ignore_index=True)"
   ]
  },
  {
   "cell_type": "code",
   "execution_count": 28,
   "metadata": {},
   "outputs": [
    {
     "data": {
      "text/plain": [
       "1"
      ]
     },
     "execution_count": 28,
     "metadata": {},
     "output_type": "execute_result"
    }
   ],
   "source": [
    "df_deduped.groupby(['commonName']).count().loc['Bushey Rail Station']['naptanId']"
   ]
  },
  {
   "cell_type": "code",
   "execution_count": 12,
   "metadata": {},
   "outputs": [],
   "source": [
    "# created a named tuple object\n",
    "Station = namedtuple('Station', ['name', 'lat_lon'])"
   ]
  },
  {
   "cell_type": "code",
   "execution_count": 13,
   "metadata": {},
   "outputs": [],
   "source": [
    "# TODO create array for use in the finding nearest stations script\n",
    "LONDON_STATIONS = [Station(s[0], (s[1], s[2])) for s in df[['commonName', 'lat', 'lon']].values]"
   ]
  },
  {
   "cell_type": "code",
   "execution_count": 14,
   "metadata": {},
   "outputs": [
    {
     "data": {
      "text/plain": [
       "True"
      ]
     },
     "execution_count": 14,
     "metadata": {},
     "output_type": "execute_result"
    }
   ],
   "source": [
    "# check lengths match\n",
    "len(LONDON_STATIONS) == len(df)"
   ]
  },
  {
   "cell_type": "code",
   "execution_count": 15,
   "metadata": {},
   "outputs": [
    {
     "data": {
      "text/plain": [
       "Station(name='Bushey Rail Station', lat_lon=(51.645629, -0.3856))"
      ]
     },
     "execution_count": 15,
     "metadata": {},
     "output_type": "execute_result"
    }
   ],
   "source": [
    "LONDON_STATIONS[0]"
   ]
  },
  {
   "cell_type": "code",
   "execution_count": 16,
   "metadata": {},
   "outputs": [
    {
     "data": {
      "text/plain": [
       "'Bushey Rail Station'"
      ]
     },
     "execution_count": 16,
     "metadata": {},
     "output_type": "execute_result"
    }
   ],
   "source": [
    "LONDON_STATIONS[0].name"
   ]
  },
  {
   "cell_type": "code",
   "execution_count": 17,
   "metadata": {},
   "outputs": [
    {
     "data": {
      "text/plain": [
       "'Bushey Rail Station'"
      ]
     },
     "execution_count": 17,
     "metadata": {},
     "output_type": "execute_result"
    }
   ],
   "source": [
    "LONDON_STATIONS[0][0]"
   ]
  },
  {
   "cell_type": "code",
   "execution_count": 20,
   "metadata": {},
   "outputs": [
    {
     "name": "stdout",
     "output_type": "stream",
     "text": [
      "Bushey Rail Station\n",
      "(51.645629, -0.3856)\n",
      "Bushey Rail Station\n",
      "(51.645756, -0.384367)\n",
      "Bushey Rail Station\n",
      "(51.645693, -0.384355)\n",
      "Bushey Rail Station\n",
      "(51.645692, -0.385612)\n",
      "Cheshunt Rail Station\n",
      "(51.702951, -0.024101)\n"
     ]
    }
   ],
   "source": [
    "for station in LONDON_STATIONS[:5]:\n",
    "    print(station.name)\n",
    "    print(station.lat_lon)\n",
    "#     print(station.longitude)\n",
    "#     print('\\n')"
   ]
  },
  {
   "cell_type": "code",
   "execution_count": null,
   "metadata": {},
   "outputs": [],
   "source": []
  }
 ],
 "metadata": {
  "kernelspec": {
   "display_name": "Python 3",
   "language": "python",
   "name": "python3"
  },
  "language_info": {
   "codemirror_mode": {
    "name": "ipython",
    "version": 3
   },
   "file_extension": ".py",
   "mimetype": "text/x-python",
   "name": "python",
   "nbconvert_exporter": "python",
   "pygments_lexer": "ipython3",
   "version": "3.7.3"
  }
 },
 "nbformat": 4,
 "nbformat_minor": 2
}
