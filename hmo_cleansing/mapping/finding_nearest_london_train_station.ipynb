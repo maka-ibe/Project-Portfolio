{
 "cells": [
  {
   "cell_type": "markdown",
   "metadata": {},
   "source": [
    "# Finding the nearest train/tube station\n",
    "\n",
    "The purpose of this project is to create module that takes a London postcode input e.g. N4 4AF and will output the nearest train station to it."
   ]
  },
  {
   "cell_type": "code",
   "execution_count": 1,
   "metadata": {},
   "outputs": [],
   "source": [
    "import pandas as pd\n",
    "import requests\n",
    "from geopy import distance\n",
    "import re\n",
    "from collections import namedtuple"
   ]
  },
  {
   "cell_type": "code",
   "execution_count": 3,
   "metadata": {},
   "outputs": [],
   "source": [
    "from pip._internal.utils.misc import get_installed_distributions\n",
    "import sys\n",
    "#import numpy as np # imported to test whether numpy shows up, which it does!\n",
    "\n",
    "def get_imported_packages():\n",
    "    p = get_installed_distributions()\n",
    "    p = {package.key:package.version for package in p}\n",
    "\n",
    "    imported_modules = set(sys.modules.keys())\n",
    "    \n",
    "    imported_modules.remove('pip')\n",
    "\n",
    "    modules = [(m, p[m]) for m in imported_modules if p.get(m, False)]\n",
    "\n",
    "    return modules\n",
    "\n",
    "\n",
    "def generate_requirements(filepath:str, modules):\n",
    "    with open(filepath, 'w') as f:\n",
    "        for module, version in modules:\n",
    "            f.write(f\"{module}=={version}\\n\")\n",
    "\n",
    "\n",
    "generate_requirements('requirements.txt', get_imported_packages())"
   ]
  },
  {
   "cell_type": "code",
   "execution_count": 2,
   "metadata": {},
   "outputs": [],
   "source": [
    "# A csv file of london stations can be downloaded from this link\n",
    "# https://www.doogal.co.uk/london_stations.php\n",
    "\n",
    "# TODO join station data to tube line data using TFL api to get info\n",
    "# Also replace hard coded file with retrieving lat/lon from TFL api\n",
    "london_stations_df = pd.read_csv('london_stations.csv')"
   ]
  },
  {
   "cell_type": "code",
   "execution_count": 2,
   "metadata": {},
   "outputs": [],
   "source": [
    "# LONDON_STATIONS = tfl_api.LONDON_STATIONS"
   ]
  },
  {
   "cell_type": "code",
   "execution_count": 3,
   "metadata": {},
   "outputs": [],
   "source": [
    "Station = namedtuple('Station', ['name', 'lat_lon'])"
   ]
  },
  {
   "cell_type": "code",
   "execution_count": 5,
   "metadata": {},
   "outputs": [],
   "source": [
    "# TODO change to tfl_api.LONDON_STATIONS\n",
    "LONDON_STATIONS = [Station(s[0], (s[1], s[2])) for s in london_stations_df[['Station', 'Latitude', 'Longitude']].values]\n",
    "# for x in london_stations_df[['Station', 'Latitude', 'Longitude']].values:\n",
    "#     LONDON_STATIONS.append((x[0],(x[1],x[2])))\n",
    "\n"
   ]
  },
  {
   "cell_type": "code",
   "execution_count": 6,
   "metadata": {},
   "outputs": [
    {
     "data": {
      "text/plain": [
       "Station(name='Abbey Road', lat_lon=(51.5319519867171, 0.00372337109717115))"
      ]
     },
     "execution_count": 6,
     "metadata": {},
     "output_type": "execute_result"
    }
   ],
   "source": [
    "LONDON_STATIONS[0]"
   ]
  },
  {
   "cell_type": "code",
   "execution_count": 7,
   "metadata": {},
   "outputs": [],
   "source": [
    "# TODO refactor - use less code\n",
    "# TODO Add documentation\n",
    "class NearestStation:\n",
    "        \n",
    "    def __init__(self, postcode, unit='m', stations=LONDON_STATIONS):\n",
    "        self.postcode = postcode.lower()\n",
    "        self.lat_lon = self.geo_dict['lat_lon']\n",
    "        self._unit = unit\n",
    "        self.stations = stations\n",
    "     \n",
    "    @staticmethod\n",
    "    def extract_postcode(postcode):\n",
    "        postcode = postcode\n",
    "        regex_str = r'[A-Z]{1,2}[0-9R][0-9A-Z]? [0-9][A-Z]{2}'\n",
    "        return re.findall(regex_str, postcode, flags=re.IGNORECASE)[0]\n",
    "    \n",
    "    @staticmethod\n",
    "    def nearest_station(lat_lon, unit='m', n=1, stations=LONDON_STATIONS):\n",
    "        if unit == 'm':\n",
    "            distances = [(s.name, round(distance.distance(lat_lon, s.lat_lon).miles,1)) for s in stations]\n",
    "            distances.sort(key=lambda x:x[1])\n",
    "            return distances[:n]\n",
    "        elif unit == 'km':\n",
    "            distances = [(s.name, round(distance.distance(lat_lon, s.lat_lon).km,1)) for s in stations]\n",
    "            distances.sort(key=lambda x:x[1])\n",
    "            return distances[:n]\n",
    "    \n",
    "    @property\n",
    "    def unit(self):\n",
    "        return self._unit\n",
    "    \n",
    "    @unit.setter\n",
    "    def unit(self, new_unit):\n",
    "        if new_unit in ['m', 'km']:\n",
    "            self._unit = new_unit\n",
    "        else:\n",
    "            raise ValueError('Enter \"m\" for miles or \"km\" for kilometers')\n",
    "        \n",
    "    @property\n",
    "    def endpoint(self):\n",
    "        pc = self.postcode.replace(' ','')\n",
    "        return f'http://api.postcodes.io/postcodes/{pc}'\n",
    "    \n",
    "    @property\n",
    "    def geo_dict(self):\n",
    "        geocoded_dict = {}\n",
    "        r = requests.get(self.endpoint)\n",
    "        geocoded_dict['postcode'] = r.json()['result']['postcode']\n",
    "        geocoded_dict['lat_lon'] = (r.json()['result']['latitude'], r.json()['result']['longitude'])\n",
    "        return geocoded_dict\n",
    "    \n",
    "    @property\n",
    "    def distances(self):\n",
    "        if self._unit == 'm':\n",
    "            distances = [(s.name, round(distance.distance(self.lat_lon, s.lat_lon).miles,1)) for s in self.stations]\n",
    "            distances.sort(key=lambda x:x[1])\n",
    "            return distances\n",
    "        elif self._unit == 'km':\n",
    "            distances = [(s.name, round(distance.distance(self.lat_lon, s.lat_lon).km,1)) for s in self.stations]\n",
    "            distances.sort(key=lambda x:x[1])\n",
    "            return distances\n",
    "        \n",
    "    def find_nearest_station(self): \n",
    "        return (self.distances[0])\n",
    "\n",
    "    def find_nearest_n_stations(self,n):\n",
    "        return (self.distances[:n])\n",
    "    \n",
    "    def find_stations_with_x_radius(self, n):\n",
    "        return [x for x in self.distances if x[1] <= n]"
   ]
  },
  {
   "cell_type": "code",
   "execution_count": 8,
   "metadata": {},
   "outputs": [
    {
     "data": {
      "text/plain": [
       "[('Hampstead Heath', 0.2),\n",
       " ('Belsize Park', 0.5),\n",
       " ('Gospel Oak', 0.5),\n",
       " ('Hampstead', 0.7),\n",
       " ('Chalk Farm', 1.0)]"
      ]
     },
     "execution_count": 8,
     "metadata": {},
     "output_type": "execute_result"
    }
   ],
   "source": [
    "NearestStation.nearest_station(('51.558033', '-0.162331'), n=5)"
   ]
  },
  {
   "cell_type": "code",
   "execution_count": 14,
   "metadata": {
    "scrolled": true
   },
   "outputs": [
    {
     "data": {
      "text/plain": [
       "'n17 3ss'"
      ]
     },
     "execution_count": 14,
     "metadata": {},
     "output_type": "execute_result"
    }
   ],
   "source": [
    "NearestStation.extract_postcode('48 antil road n17 3ss')"
   ]
  },
  {
   "cell_type": "code",
   "execution_count": 6,
   "metadata": {},
   "outputs": [],
   "source": [
    "x = NearestStation('N4 4AF')"
   ]
  },
  {
   "cell_type": "code",
   "execution_count": 7,
   "metadata": {},
   "outputs": [
    {
     "data": {
      "text/plain": [
       "('Harringay', 0.3)"
      ]
     },
     "execution_count": 7,
     "metadata": {},
     "output_type": "execute_result"
    }
   ],
   "source": [
    "x.find_nearest_station()"
   ]
  },
  {
   "cell_type": "code",
   "execution_count": 8,
   "metadata": {},
   "outputs": [
    {
     "data": {
      "text/plain": [
       "[('Harringay', 0.3),\n",
       " ('Harringay Green Lanes', 0.4),\n",
       " ('Crouch Hill', 0.5),\n",
       " ('Manor House', 0.5),\n",
       " ('Finsbury Park', 0.6)]"
      ]
     },
     "execution_count": 8,
     "metadata": {},
     "output_type": "execute_result"
    }
   ],
   "source": [
    "x.find_nearest_n_stations(5)"
   ]
  },
  {
   "cell_type": "code",
   "execution_count": 9,
   "metadata": {},
   "outputs": [
    {
     "data": {
      "text/plain": [
       "'m'"
      ]
     },
     "execution_count": 9,
     "metadata": {},
     "output_type": "execute_result"
    }
   ],
   "source": [
    "x.unit"
   ]
  },
  {
   "cell_type": "code",
   "execution_count": 10,
   "metadata": {},
   "outputs": [
    {
     "data": {
      "text/plain": [
       "[('Harringay', 0.3),\n",
       " ('Harringay Green Lanes', 0.4),\n",
       " ('Crouch Hill', 0.5),\n",
       " ('Manor House', 0.5),\n",
       " ('Finsbury Park', 0.6),\n",
       " ('Arsenal', 1.0),\n",
       " ('Hornsey', 1.0)]"
      ]
     },
     "execution_count": 10,
     "metadata": {},
     "output_type": "execute_result"
    }
   ],
   "source": [
    "x.find_stations_with_x_radius(1)"
   ]
  },
  {
   "cell_type": "code",
   "execution_count": 11,
   "metadata": {},
   "outputs": [],
   "source": [
    "test_postcodes = ['N15 3AD', 'N4 4AF', 'N10 3QS', 'N15 4AR', 'N15 4JF']"
   ]
  },
  {
   "cell_type": "code",
   "execution_count": 12,
   "metadata": {},
   "outputs": [
    {
     "name": "stdout",
     "output_type": "stream",
     "text": [
      "n15 3ad\n",
      "[('Harringay Green Lanes', 0.5), ('Turnpike Lane', 0.6), ('Harringay', 0.7), ('Hornsey', 0.8), ('Manor House', 0.9), ('Seven Sisters', 0.9), ('South Tottenham', 0.9), ('Stamford Hill', 0.9)]\n",
      "------------------\n",
      "n4 4af\n",
      "[('Harringay', 0.3), ('Harringay Green Lanes', 0.4), ('Crouch Hill', 0.5), ('Manor House', 0.5), ('Finsbury Park', 0.6), ('Arsenal', 1.0), ('Hornsey', 1.0)]\n",
      "------------------\n",
      "n10 3qs\n",
      "[('Highgate', 0.8), ('East Finchley', 0.9)]\n",
      "------------------\n",
      "n15 4ar\n",
      "[('Seven Sisters', 0.3), ('Tottenham Hale', 0.3), ('Bruce Grove', 0.5), ('South Tottenham', 0.5), ('Stamford Hill', 1.0)]\n",
      "------------------\n",
      "n15 4jf\n",
      "[('Bruce Grove', 0.3), ('Seven Sisters', 0.4), ('South Tottenham', 0.6), ('Tottenham Hale', 0.6)]\n",
      "------------------\n"
     ]
    }
   ],
   "source": [
    "for postcode in test_postcodes:\n",
    "    obj = NearestStation(postcode)\n",
    "    print(obj.postcode)\n",
    "    print(obj.find_stations_with_x_radius(1))\n",
    "    print('------------------')"
   ]
  },
  {
   "cell_type": "code",
   "execution_count": null,
   "metadata": {},
   "outputs": [],
   "source": []
  }
 ],
 "metadata": {
  "kernelspec": {
   "display_name": "Python 3",
   "language": "python",
   "name": "python3"
  },
  "language_info": {
   "codemirror_mode": {
    "name": "ipython",
    "version": 3
   },
   "file_extension": ".py",
   "mimetype": "text/x-python",
   "name": "python",
   "nbconvert_exporter": "python",
   "pygments_lexer": "ipython3",
   "version": "3.7.3"
  }
 },
 "nbformat": 4,
 "nbformat_minor": 2
}
