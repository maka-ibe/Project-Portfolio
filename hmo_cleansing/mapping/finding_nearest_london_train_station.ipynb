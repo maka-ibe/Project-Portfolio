{
 "cells": [
  {
   "cell_type": "markdown",
   "metadata": {},
   "source": [
    "# Finding the nearest train/tube station\n",
    "\n",
    "The purpose of this project is to create module that takes a London postcode input e.g. N4 4AF and will output the nearest train station to it."
   ]
  },
  {
   "cell_type": "code",
   "execution_count": 1,
   "metadata": {},
   "outputs": [],
   "source": [
    "import pandas as pd\n",
    "import requests\n",
    "from geopy import distance"
   ]
  },
  {
   "cell_type": "code",
   "execution_count": 2,
   "metadata": {},
   "outputs": [],
   "source": [
    "# A csv file of london stations can be downloaded from this link\n",
    "# https://www.doogal.co.uk/london_stations.php\n",
    "\n",
    "# TODO join station data to tube line\n",
    "london_stations_df = pd.read_csv('london_stations.csv')"
   ]
  },
  {
   "cell_type": "code",
   "execution_count": 3,
   "metadata": {},
   "outputs": [],
   "source": [
    "LONDON_STATIONS = []\n",
    "for x in london_stations_df[['Station', 'Latitude', 'Longitude']].values:\n",
    "    LONDON_STATIONS.append((x[0],(x[1],x[2])))"
   ]
  },
  {
   "cell_type": "code",
   "execution_count": 4,
   "metadata": {},
   "outputs": [
    {
     "data": {
      "text/plain": [
       "[('Abbey Road', (51.5319519867171, 0.00372337109717115)),\n",
       " ('Abbey Wood', (51.490784095703106, 0.120271969782359)),\n",
       " ('Acton Central', (51.5087577801896, -0.263430199363473)),\n",
       " ('Acton Main Line', (51.5168869310483, -0.267689952184077)),\n",
       " ('Acton Town', (51.503071442963495, -0.28030270140601))]"
      ]
     },
     "execution_count": 4,
     "metadata": {},
     "output_type": "execute_result"
    }
   ],
   "source": [
    "LONDON_STATIONS[:5] #preview data"
   ]
  },
  {
   "cell_type": "code",
   "execution_count": 5,
   "metadata": {},
   "outputs": [],
   "source": [
    "# test_postcodes = ['N15 3AD', 'N4 4AF', 'N10 3QS', 'N15 4AR', 'N15 4JF']"
   ]
  },
  {
   "cell_type": "code",
   "execution_count": 5,
   "metadata": {},
   "outputs": [],
   "source": [
    "# TODO refactor - use less code\n",
    "# TODO Add documentation\n",
    "class NearestStation:\n",
    "        \n",
    "    def __init__(self, postcode, unit='m', stations=LONDON_STATIONS):\n",
    "        self.postcode = postcode.lower()\n",
    "        self.lat_lon = self.geo_dict['lat_lon']\n",
    "        self._unit = unit\n",
    "        self.stations = stations\n",
    "        \n",
    "    @property\n",
    "    def unit(self):\n",
    "        return self._unit\n",
    "    \n",
    "    @unit.setter\n",
    "    def unit(self, new_unit):\n",
    "        if new_unit in ['m', 'km']:\n",
    "            self._unit = new_unit\n",
    "        else:\n",
    "            raise ValueError('Enter \"m\" for miles or \"km\" for kilometers')\n",
    "        \n",
    "    @property\n",
    "    def endpoint(self):\n",
    "        pc = self.postcode.replace(' ','')\n",
    "        return f'http://api.postcodes.io/postcodes/{pc}'\n",
    "    \n",
    "    @property\n",
    "    def geo_dict(self):\n",
    "        geocoded_dict = {}\n",
    "        r = requests.get(self.endpoint)\n",
    "        geocoded_dict['postcode'] = r.json()['result']['postcode']\n",
    "        geocoded_dict['lat_lon'] = (r.json()['result']['latitude'], r.json()['result']['longitude'])\n",
    "        return geocoded_dict\n",
    "    \n",
    "    @property\n",
    "    def distances(self):\n",
    "        if self._unit == 'm':\n",
    "            distances = [(x[0], round(distance.distance(self.lat_lon, x[1]).miles,1)) for x in self.stations]\n",
    "            distances.sort(key=lambda x:x[1])\n",
    "            return distances\n",
    "        elif self._unit == 'km':\n",
    "            distances = [(x[0], round(distance.distance(self.lat_lon, x[1]).km,1)) for x in self.stations]\n",
    "            distances.sort(key=lambda x:x[1])\n",
    "            return distances\n",
    "    \n",
    "    def find_nearest_station(self): \n",
    "        return (self.distances[0])\n",
    "\n",
    "    def find_nearest_n_stations(self,n):\n",
    "        return (self.distances[:n])\n",
    "    \n",
    "    def find_stations_with_x_radius(self, n):\n",
    "        return [x for x in self.distances if x[1] <= n]"
   ]
  },
  {
   "cell_type": "code",
   "execution_count": 10,
   "metadata": {},
   "outputs": [],
   "source": [
    "x = NearestStation('N4 4AF', stations = LONDON_STATIONS[:5])"
   ]
  },
  {
   "cell_type": "code",
   "execution_count": 11,
   "metadata": {},
   "outputs": [
    {
     "data": {
      "text/plain": [
       "{'postcode': 'N4 4AF', 'lat_lon': (51.573188, -0.10576)}"
      ]
     },
     "execution_count": 11,
     "metadata": {},
     "output_type": "execute_result"
    }
   ],
   "source": [
    "x.geo_dict"
   ]
  },
  {
   "cell_type": "code",
   "execution_count": 12,
   "metadata": {},
   "outputs": [
    {
     "data": {
      "text/plain": [
       "(51.573188, -0.10576)"
      ]
     },
     "execution_count": 12,
     "metadata": {},
     "output_type": "execute_result"
    }
   ],
   "source": [
    "x.lat_lon"
   ]
  },
  {
   "cell_type": "code",
   "execution_count": 13,
   "metadata": {},
   "outputs": [
    {
     "data": {
      "text/plain": [
       "'http://api.postcodes.io/postcodes/n44af'"
      ]
     },
     "execution_count": 13,
     "metadata": {},
     "output_type": "execute_result"
    }
   ],
   "source": [
    "x.endpoint"
   ]
  },
  {
   "cell_type": "code",
   "execution_count": 14,
   "metadata": {
    "scrolled": true
   },
   "outputs": [
    {
     "data": {
      "text/plain": [
       "'n4 4af'"
      ]
     },
     "execution_count": 14,
     "metadata": {},
     "output_type": "execute_result"
    }
   ],
   "source": [
    "x.postcode"
   ]
  },
  {
   "cell_type": "code",
   "execution_count": 15,
   "metadata": {
    "scrolled": true
   },
   "outputs": [
    {
     "name": "stdout",
     "output_type": "stream",
     "text": [
      "('Abbey Road', 5.5) \n",
      " m\n"
     ]
    }
   ],
   "source": [
    "print(x.find_nearest_station(), \"\\n\", x.unit)"
   ]
  },
  {
   "cell_type": "code",
   "execution_count": 16,
   "metadata": {
    "scrolled": true
   },
   "outputs": [
    {
     "data": {
      "text/plain": [
       "[('Abbey Road', 5.5),\n",
       " ('Acton Main Line', 8.0),\n",
       " ('Acton Central', 8.1),\n",
       " ('Acton Town', 9.0),\n",
       " ('Abbey Wood', 11.3)]"
      ]
     },
     "execution_count": 16,
     "metadata": {},
     "output_type": "execute_result"
    }
   ],
   "source": [
    "x.distances"
   ]
  },
  {
   "cell_type": "code",
   "execution_count": 14,
   "metadata": {},
   "outputs": [
    {
     "data": {
      "text/plain": [
       "'m'"
      ]
     },
     "execution_count": 14,
     "metadata": {},
     "output_type": "execute_result"
    }
   ],
   "source": [
    "x.unit"
   ]
  },
  {
   "cell_type": "code",
   "execution_count": 15,
   "metadata": {},
   "outputs": [],
   "source": [
    "x.unit ='km' #should change unit"
   ]
  },
  {
   "cell_type": "code",
   "execution_count": 16,
   "metadata": {},
   "outputs": [
    {
     "data": {
      "text/plain": [
       "'km'"
      ]
     },
     "execution_count": 16,
     "metadata": {},
     "output_type": "execute_result"
    }
   ],
   "source": [
    "x.unit"
   ]
  },
  {
   "cell_type": "code",
   "execution_count": 17,
   "metadata": {},
   "outputs": [
    {
     "data": {
      "text/plain": [
       "[('Harringay', 0.5),\n",
       " ('Harringay Green Lanes', 0.7),\n",
       " ('Manor House', 0.7),\n",
       " ('Crouch Hill', 0.8),\n",
       " ('Finsbury Park', 1.0),\n",
       " ('Hornsey', 1.5),\n",
       " ('Arsenal', 1.6),\n",
       " ('Turnpike Lane', 1.9),\n",
       " ('Upper Holloway', 1.9),\n",
       " ('Stamford Hill', 2.0),\n",
       " ('Archway', 2.2),\n",
       " ('Drayton Park', 2.2),\n",
       " ('Holloway Road', 2.3),\n",
       " ('South Tottenham', 2.5),\n",
       " ('Stoke Newington', 2.5),\n",
       " ('Seven Sisters', 2.6),\n",
       " ('Wood Green', 2.7),\n",
       " ('Caledonian Road', 2.9),\n",
       " ('Canonbury', 2.9),\n",
       " ('Highgate', 2.9),\n",
       " ('Tufnell Park', 2.9),\n",
       " ('Alexandra Palace', 3.0),\n",
       " ('Highbury and Islington', 3.0),\n",
       " ('Rectory Road', 3.0),\n",
       " ('Bruce Grove', 3.4),\n",
       " ('Caledonian Road and Barnsbury', 3.4),\n",
       " ('Dalston Kingsland', 3.4),\n",
       " ('Kentish Town', 3.5),\n",
       " ('Clapton', 3.6),\n",
       " ('Tottenham Hale', 3.6),\n",
       " ('Dalston Junction', 3.7),\n",
       " ('Essex Road', 3.7),\n",
       " ('Gospel Oak', 3.7),\n",
       " ('Bowes Park', 3.9),\n",
       " ('Bounds Green', 4.0),\n",
       " ('Hackney Downs', 4.1),\n",
       " ('Kentish Town West', 4.1),\n",
       " ('Camden Road', 4.2),\n",
       " ('White Hart Lane', 4.3),\n",
       " ('East Finchley', 4.4),\n",
       " ('Haggerston', 4.4),\n",
       " ('Angel', 4.5),\n",
       " ('Camden Town', 4.5),\n",
       " ('Hackney Central', 4.5),\n",
       " ('Hampstead Heath', 4.5),\n",
       " ('Chalk Farm', 4.6),\n",
       " ('Belsize Park', 4.8),\n",
       " ('Blackhorse Road', 4.8),\n",
       " ('Lea Bridge', 4.8),\n",
       " ('Northumberland Park', 4.8),\n",
       " (\"King's Cross\", 4.9),\n",
       " ('Kings Cross St. Pancras', 4.9),\n",
       " ('London Fields', 4.9),\n",
       " ('Mornington Crescent', 4.9),\n",
       " ('St Pancras', 4.9),\n",
       " ('Hoxton', 5.1),\n",
       " ('Palmers Green', 5.1),\n",
       " ('St James Street', 5.1),\n",
       " ('Arnos Grove', 5.2),\n",
       " ('New Southgate', 5.2),\n",
       " ('Silver Street', 5.2),\n",
       " ('Euston', 5.3),\n",
       " ('Euston Square', 5.3),\n",
       " ('Hampstead', 5.3),\n",
       " ('Meridian Water', 5.4),\n",
       " ('Old Street', 5.4),\n",
       " ('Homerton', 5.5),\n",
       " ('Cambridge Heath', 5.7),\n",
       " ('Russell Square', 5.7),\n",
       " ('Walthamstow Queens Road', 5.8),\n",
       " ('Angel Road', 5.9),\n",
       " ('Barbican', 5.9),\n",
       " ('Farringdon', 5.9),\n",
       " ('Finchley Road', 5.9),\n",
       " ('Shoreditch High Street', 5.9),\n",
       " ('Swiss Cottage', 5.9),\n",
       " ('Warren Street', 5.9),\n",
       " ('Finchley Road and Frognal', 6.0),\n",
       " ('Walthamstow Central', 6.0),\n",
       " ('Chancery Lane', 6.1),\n",
       " ('Great Portland Street', 6.1),\n",
       " ('Regents Park', 6.1),\n",
       " ('South Hampstead', 6.1),\n",
       " ('Bethnal Green', 6.2),\n",
       " ('Golders Green', 6.2),\n",
       " ('Goodge Street', 6.2),\n",
       " ('Moorgate', 6.2),\n",
       " ('Bethnal Green Rail', 6.3),\n",
       " ('Holborn', 6.3),\n",
       " ('Liverpool Street', 6.4),\n",
       " ('St. Johns Wood', 6.4),\n",
       " ('Edmonton Green', 6.5),\n",
       " ('Hackney Wick', 6.5),\n",
       " ('St. Pauls', 6.5),\n",
       " ('Baker Street', 6.6),\n",
       " ('City Thameslink', 6.6),\n",
       " ('Tottenham Court Road', 6.6),\n",
       " ('West Hampstead', 6.6),\n",
       " ('West Hampstead Thameslink', 6.6),\n",
       " ('Bank', 6.8),\n",
       " ('Covent Garden', 6.8),\n",
       " ('Finchley Central', 6.8),\n",
       " ('Leyton Midland Road', 6.8),\n",
       " ('Mansion House', 6.8),\n",
       " ('Southgate', 6.8),\n",
       " ('Whitechapel', 6.8),\n",
       " ('Winchmore Hill', 6.8),\n",
       " ('Aldgate', 6.9),\n",
       " ('Aldgate East', 6.9),\n",
       " ('Blackfriars', 6.9),\n",
       " ('Marylebone', 6.9),\n",
       " ('Oxford Circus', 6.9),\n",
       " ('Temple', 6.9),\n",
       " ('Cannon Street', 7.0),\n",
       " ('Stepney Green', 7.0),\n",
       " ('West Finchley', 7.0),\n",
       " ('Fenchurch Street', 7.1),\n",
       " ('Kilburn High Road', 7.1),\n",
       " ('Leicester Square', 7.1),\n",
       " ('Leyton', 7.1),\n",
       " ('Monument', 7.1),\n",
       " ('Bond Street', 7.3),\n",
       " ('Charing Cross', 7.3),\n",
       " ('Edgware Road (Circle/District/Hammersmith and City)', 7.3),\n",
       " ('Maida Vale', 7.3),\n",
       " ('Piccadilly Circus', 7.3),\n",
       " ('Tower Gateway', 7.3),\n",
       " ('Tower Hill', 7.3),\n",
       " ('Brondesbury', 7.4),\n",
       " ('Edgware Road (Bakerloo)', 7.4),\n",
       " ('Embankment', 7.4),\n",
       " ('Kilburn Park', 7.4),\n",
       " ('Mile End', 7.4),\n",
       " ('Stratford International', 7.4),\n",
       " ('Wood Street', 7.4),\n",
       " ('Woodside Park', 7.4),\n",
       " ('Brent Cross', 7.5),\n",
       " ('Kilburn', 7.5),\n",
       " ('Marble Arch', 7.5),\n",
       " ('Bow Road', 7.6),\n",
       " ('Cricklewood', 7.6),\n",
       " ('Grange Park', 7.7),\n",
       " ('London Bridge', 7.7),\n",
       " ('Shadwell', 7.7),\n",
       " ('Southwark', 7.7),\n",
       " ('Warwick Avenue', 7.7),\n",
       " ('Waterloo East', 7.7),\n",
       " ('Bow Church', 7.8),\n",
       " ('Green Park', 7.8),\n",
       " ('Pudding Mill Lane', 7.8),\n",
       " ('Waterloo', 7.8),\n",
       " ('Stratford', 7.9),\n",
       " ('Bush Hill Park', 8.0),\n",
       " ('Leytonstone', 8.0),\n",
       " ('Leytonstone High Road', 8.0),\n",
       " ('Borough', 8.1),\n",
       " ('Brondesbury Park', 8.1),\n",
       " ('Paddington', 8.1),\n",
       " ('Queens Park', 8.1),\n",
       " ('Totteridge and Whetstone', 8.1),\n",
       " ('Westminster', 8.1),\n",
       " ('Limehouse', 8.2),\n",
       " ('Mill Hill East', 8.2),\n",
       " ('Stratford High Street', 8.2),\n",
       " ('Devons Road', 8.3),\n",
       " ('Highams Park', 8.3),\n",
       " ('Lambeth North', 8.3),\n",
       " ('Maryland', 8.3),\n",
       " ('Oakleigh Park', 8.3),\n",
       " ('Lancaster Gate', 8.4),\n",
       " ('Royal Oak', 8.4),\n",
       " (\"St. James's Park\", 8.4),\n",
       " ('Wapping', 8.4),\n",
       " ('Bromley-by-Bow', 8.5),\n",
       " ('Hendon Central', 8.5),\n",
       " ('Hyde Park Corner', 8.5),\n",
       " ('Oakwood', 8.5),\n",
       " ('Willesden Green', 8.5),\n",
       " ('Elephant and Castle', 8.6),\n",
       " ('Langdon Park', 8.7),\n",
       " ('Bermondsey', 8.8),\n",
       " ('Rotherhithe', 8.8),\n",
       " ('Westbourne Park', 8.8),\n",
       " ('Abbey Road', 8.9),\n",
       " ('Bayswater', 8.9),\n",
       " ('Enfield Chase', 8.9),\n",
       " ('Knightsbridge', 8.9),\n",
       " ('Snaresbrook', 8.9),\n",
       " ('Victoria', 8.9),\n",
       " ('Enfield Town', 9.0),\n",
       " ('Queensway', 9.0),\n",
       " ('Westferry', 9.0),\n",
       " ('Kensal Rise', 9.1),\n",
       " ('Southbury', 9.1),\n",
       " ('Canada Water', 9.2),\n",
       " ('Hendon', 9.2),\n",
       " ('Ponders End', 9.2),\n",
       " ('West Ham', 9.2),\n",
       " ('Cockfosters', 9.3),\n",
       " ('Wanstead', 9.3),\n",
       " ('Forest Gate', 9.4),\n",
       " ('Kennington', 9.4),\n",
       " ('All Saints', 9.5),\n",
       " ('Dollis Hill', 9.5),\n",
       " ('Kensal Green', 9.5),\n",
       " ('Notting Hill Gate', 9.5),\n",
       " ('Pimlico', 9.5),\n",
       " ('Poplar', 9.5),\n",
       " ('South Woodford', 9.5),\n",
       " ('Wanstead Park', 9.5),\n",
       " ('West India Quay', 9.5),\n",
       " ('Ladbroke Grove', 9.6),\n",
       " ('New Barnet', 9.6),\n",
       " ('Star Lane', 9.6),\n",
       " ('Heron Quays', 9.7),\n",
       " ('Sloane Square', 9.7),\n",
       " ('Canary Wharf', 9.8),\n",
       " ('Plaistow', 9.8),\n",
       " ('Surrey Quays', 9.8),\n",
       " ('Vauxhall', 9.8),\n",
       " ('Blackwall', 10.0),\n",
       " ('High Street Kensington', 10.0),\n",
       " ('South Kensington', 10.0),\n",
       " ('East India', 10.1),\n",
       " ('Gordon Hill', 10.1),\n",
       " ('Holland Park', 10.1),\n",
       " ('South Quay', 10.1),\n",
       " ('Latimer Road', 10.2),\n",
       " ('Neasden', 10.2),\n",
       " ('Oval', 10.2),\n",
       " ('South Bermondsey', 10.2),\n",
       " ('Canning Town', 10.3),\n",
       " ('Colindale', 10.3),\n",
       " ('Gloucester Road', 10.3),\n",
       " ('Chingford', 10.4),\n",
       " ('Woodford', 10.4),\n",
       " ('Brimsdown', 10.5),\n",
       " ('Nine Elms', 10.5),\n",
       " ('Redbridge', 10.5),\n",
       " ('Upton Park', 10.5),\n",
       " ('Willesden Junction', 10.6),\n",
       " ('Battersea Power Station', 10.7),\n",
       " ('Crossharbour and London Arena', 10.7),\n",
       " ('High Barnet', 10.7),\n",
       " ('Manor Park', 10.7),\n",
       " ('White City', 10.7),\n",
       " ('Woodgrange Park', 10.8),\n",
       " ('Mill Hill Broadway', 10.9),\n",
       " ('Shepherds Bush', 10.9),\n",
       " ('Wood Lane', 10.9),\n",
       " ('Earls Court', 11.0),\n",
       " ('Battersea Park', 11.1),\n",
       " ('Kensington (Olympia)', 11.1),\n",
       " ('Mudchute', 11.1),\n",
       " ('North Greenwich', 11.1),\n",
       " ('Royal Victoria', 11.2),\n",
       " ('Harlesden', 11.3),\n",
       " ('Queenstown Road', 11.3),\n",
       " ('Shepherds Bush Market', 11.3),\n",
       " ('Stockwell', 11.3),\n",
       " ('West Brompton', 11.4),\n",
       " ('Burnt Oak', 11.5),\n",
       " ('Custom House', 11.5),\n",
       " ('East Ham', 11.5),\n",
       " ('Queens Road Peckham', 11.5),\n",
       " ('Roding Valley', 11.5),\n",
       " ('Goldhawk Road', 11.6),\n",
       " ('Island Gardens', 11.6),\n",
       " ('West Kensington', 11.6),\n",
       " ('Denmark Hill', 11.7),\n",
       " ('East Acton', 11.7),\n",
       " ('Hadley Wood', 11.7),\n",
       " ('Wandsworth Road', 11.7),\n",
       " ('New Cross Gate', 11.8),\n",
       " ('Peckham Rye', 11.8),\n",
       " ('Turkey Street', 11.8),\n",
       " ('West Silvertown', 11.8),\n",
       " ('Barons Court', 11.9),\n",
       " ('Deptford', 11.9),\n",
       " ('Gants Hill', 11.9),\n",
       " ('Loughborough Junction', 11.9),\n",
       " ('New Cross', 11.9),\n",
       " ('North Acton', 12.0),\n",
       " ('Prince Regent', 12.0),\n",
       " ('Buckhurst Hill', 12.1),\n",
       " ('Clapham High Street', 12.1),\n",
       " ('Cutty Sark for Maritime Greenwich', 12.1),\n",
       " ('Enfield Lock', 12.1),\n",
       " ('Fulham Broadway', 12.1),\n",
       " ('Hammersmith (Met.)', 12.1),\n",
       " ('Kingsbury', 12.1),\n",
       " ('Wembley Park', 12.1),\n",
       " ('Clapham North', 12.2),\n",
       " ('Hammersmith (District)', 12.2),\n",
       " ('Ilford', 12.2),\n",
       " ('Imperial Wharf', 12.2),\n",
       " ('Stonebridge Park', 12.2),\n",
       " ('Brixton', 12.3),\n",
       " ('Crews Hill', 12.4),\n",
       " ('Deptford Bridge', 12.4),\n",
       " ('Greenwich', 12.4),\n",
       " ('Nunhead', 12.4),\n",
       " ('East Dulwich', 12.5),\n",
       " ('Pontoon Dock', 12.5),\n",
       " ('Clapham Common', 12.6),\n",
       " ('Edgware', 12.6),\n",
       " ('Maze Hill', 12.6),\n",
       " ('Ravenscourt Park', 12.6),\n",
       " ('Queensbury', 12.7),\n",
       " ('Royal Albert', 12.7),\n",
       " ('Wembley Stadium', 12.7),\n",
       " ('Parsons Green', 12.8),\n",
       " ('Acton Main Line', 12.9),\n",
       " ('Clapham Junction', 12.9),\n",
       " ('St Johns', 12.9),\n",
       " ('Brockley', 13.0),\n",
       " ('Acton Central', 13.1),\n",
       " ('Preston Road', 13.1),\n",
       " ('Stamford Brook', 13.1),\n",
       " ('Westcombe Park', 13.1),\n",
       " ('Beckton Park', 13.2),\n",
       " ('Elverson Road', 13.2),\n",
       " ('London City Airport', 13.2),\n",
       " ('Beckton', 13.3),\n",
       " ('Herne Hill', 13.3),\n",
       " ('North Dulwich', 13.3),\n",
       " ('Wembley Central', 13.4),\n",
       " ('Barking', 13.5),\n",
       " ('Barkingside', 13.5),\n",
       " ('Charlton', 13.5),\n",
       " ('Loughton', 13.5),\n",
       " ('Park Royal', 13.5),\n",
       " ('Turnham Green', 13.5),\n",
       " ('Canons Park', 13.6),\n",
       " ('Chigwell', 13.6),\n",
       " ('Newbury Park', 13.6),\n",
       " ('Waltham Cross', 13.6),\n",
       " ('West Acton', 13.6),\n",
       " ('Clapham South', 13.7),\n",
       " ('Lewisham', 13.7),\n",
       " ('Putney Bridge', 13.7),\n",
       " ('Wandsworth Town', 13.7),\n",
       " ('Cyprus', 13.8),\n",
       " ('Fairlop', 13.8),\n",
       " ('Hanger Lane', 13.8),\n",
       " ('North Wembley', 13.8),\n",
       " ('Alperton', 13.9),\n",
       " ('Crofton Park', 14.0),\n",
       " ('Seven Kings', 14.0),\n",
       " ('South Acton', 14.0),\n",
       " ('South Kenton', 14.0),\n",
       " ('King George V', 14.1),\n",
       " ('North Ealing', 14.1),\n",
       " ('Theobalds Grove', 14.1),\n",
       " ('Gallions Reach', 14.2),\n",
       " ('Hainault', 14.2),\n",
       " ('Chiswick Park', 14.3),\n",
       " ('Honor Oak Park', 14.3),\n",
       " ('Ladywell', 14.3),\n",
       " ('Acton Town', 14.4),\n",
       " ('Blackheath', 14.4),\n",
       " ('Ealing Common', 14.4),\n",
       " ('Grange Hill', 14.4),\n",
       " ('Woolwich Dockyard', 14.4),\n",
       " ('Kenton', 14.5),\n",
       " ('Stanmore', 14.6),\n",
       " ('East Putney', 14.7),\n",
       " ('Northwick Park', 14.7),\n",
       " ('Putney', 14.7),\n",
       " ('Sudbury and Harrow Road', 14.7),\n",
       " ('Wandsworth Common', 14.7),\n",
       " ('Balham', 14.8),\n",
       " ('Gunnersbury', 14.8),\n",
       " ('Sudbury Town', 14.8),\n",
       " ('Tulse Hill', 14.8),\n",
       " ('West Dulwich', 14.8),\n",
       " ('Upney', 14.9),\n",
       " ('Elstree and Borehamwood', 15.0),\n",
       " ('Barnes', 15.1),\n",
       " ('Ealing Broadway', 15.1),\n",
       " ('Goodmayes', 15.1),\n",
       " ('Streatham Hill', 15.1),\n",
       " ('Barnes Bridge', 15.2),\n",
       " ('Chiswick', 15.2),\n",
       " ('Forest Hill', 15.3),\n",
       " ('Hither Green', 15.3),\n",
       " ('Woolwich', 15.3),\n",
       " ('Woolwich Arsenal', 15.3),\n",
       " ('Catford', 15.4),\n",
       " ('Catford Bridge', 15.4),\n",
       " ('Debden', 15.4),\n",
       " ('Kidbrooke', 15.4),\n",
       " ('Cheshunt', 15.5),\n",
       " ('Earlsfield', 15.6),\n",
       " ('Perivale', 15.6),\n",
       " ('Kew Bridge', 15.7),\n",
       " ('Sydenham Hill', 15.7),\n",
       " ('Tooting Bec', 15.7),\n",
       " ('West Norwood', 15.8),\n",
       " ('Southfields', 15.9),\n",
       " ('Harrow and Wealdstone', 16.0),\n",
       " ('Harrow-on-the-Hill', 16.0),\n",
       " ('Sudbury Hill Harrow', 16.0),\n",
       " ('Lee', 16.1),\n",
       " ('Plumstead', 16.1),\n",
       " ('South Ealing', 16.1),\n",
       " ('Sudbury Hill', 16.1),\n",
       " ('Mortlake', 16.2),\n",
       " ('Chadwell Heath', 16.3),\n",
       " ('West Ealing', 16.3),\n",
       " ('Kew Gardens', 16.4),\n",
       " ('Streatham', 16.5),\n",
       " ('Becontree', 16.6),\n",
       " ('Bellingham', 16.6),\n",
       " ('Castle Bar Park', 16.6),\n",
       " ('Gipsy Hill', 16.6),\n",
       " ('Northfields', 16.6),\n",
       " ('South Greenford', 16.6),\n",
       " ('Sydenham', 16.6),\n",
       " ('Wimbledon Park', 16.7),\n",
       " ('Drayton Green', 16.8),\n",
       " ('Tooting Broadway', 16.8),\n",
       " ('Greenford', 17.0),\n",
       " ('Brentford', 17.1),\n",
       " ('Eltham', 17.1),\n",
       " ('South Harrow', 17.1),\n",
       " ('West Harrow', 17.2),\n",
       " ('Lower Sydenham', 17.3),\n",
       " ('North Sheen', 17.3),\n",
       " ('Streatham Common', 17.3),\n",
       " ('Crystal Palace', 17.4),\n",
       " ('Haydons Road', 17.4),\n",
       " ('Penge East', 17.4),\n",
       " ('Boston Manor', 17.5),\n",
       " ('Hanwell', 17.5),\n",
       " ('Penge West', 17.5),\n",
       " ('Tooting', 17.5),\n",
       " ('Beckenham Hill', 17.7),\n",
       " ('Headstone Lane', 17.7),\n",
       " ('Northolt Park', 17.7),\n",
       " ('Colliers Wood', 17.9),\n",
       " ('Dagenham Heathway', 17.9),\n",
       " ('North Harrow', 17.9),\n",
       " ('Falconwood', 18.0),\n",
       " ('Anerley', 18.1),\n",
       " ('New Beckenham', 18.1),\n",
       " ('Norbury', 18.1),\n",
       " ('Abbey Wood', 18.2),\n",
       " ('Dagenham Dock', 18.2),\n",
       " ('Grove Park', 18.2),\n",
       " ('Theydon Bois', 18.2),\n",
       " ('Kent House', 18.3),\n",
       " ('Richmond', 18.3),\n",
       " ('Wimbledon', 18.3),\n",
       " ('Mottingham', 18.4),\n",
       " ('Northolt', 18.4),\n",
       " ('Rayners Lane', 18.4),\n",
       " ('Syon Lane', 18.4),\n",
       " ('Mitcham Eastfields', 18.6),\n",
       " ('South Wimbledon', 18.6),\n",
       " ('Beckenham Road', 18.7),\n",
       " ('Dundonald Road', 18.7),\n",
       " ('Hatch End', 18.7),\n",
       " ('Welling', 18.8),\n",
       " ('Avenue Road', 18.9),\n",
       " ('Beckenham Junction', 18.9),\n",
       " ('Clock House', 18.9),\n",
       " ('Merton Park', 19.0),\n",
       " ('Ravensbourne', 19.0),\n",
       " ('Birkbeck', 19.1),\n",
       " ('Dagenham East', 19.1),\n",
       " ('Pinner', 19.2),\n",
       " ('Morden Road', 19.3),\n",
       " ('Isleworth', 19.4),\n",
       " ('New Eltham', 19.4),\n",
       " ('Thornton Heath', 19.4),\n",
       " ('Harrington Road', 19.5),\n",
       " ('Phipps Bridge', 19.6),\n",
       " ('Norwood Junction', 19.7),\n",
       " ('Wimbledon Chase', 19.7),\n",
       " ('Belgrave Walk', 19.8),\n",
       " ('Elmers End', 19.8),\n",
       " ('Sundridge Park', 19.8),\n",
       " ('Osterley', 19.9),\n",
       " ('St Margarets', 19.9),\n",
       " ('Belvedere', 20.0),\n",
       " ('Morden', 20.0),\n",
       " ('Romford', 20.0),\n",
       " ('Mitcham', 20.1),\n",
       " ('Shortlands', 20.1),\n",
       " ('South Merton', 20.1),\n",
       " ('Bromley North', 20.2),\n",
       " ('Eastcote', 20.2),\n",
       " ('Raynes Park', 20.2),\n",
       " ('Selhurst', 20.2),\n",
       " ('Carpenders Park', 20.3),\n",
       " ('Elmstead Woods', 20.3),\n",
       " ('Epping', 20.3),\n",
       " ('Broxbourne', 20.4),\n",
       " ('Mitcham Junction', 20.4),\n",
       " ('South Ruislip', 20.4),\n",
       " ('Southall', 20.4),\n",
       " ('Arena', 20.5),\n",
       " ('Beddington Lane', 20.6),\n",
       " ('Bexleyheath', 20.6),\n",
       " ('Hounslow East', 20.6),\n",
       " ('Morden South', 20.7),\n",
       " ('Twickenham', 20.7),\n",
       " ('Bushey', 20.9),\n",
       " ('Therapia Lane', 20.9),\n",
       " ('Woodside', 20.9),\n",
       " ('Eden Park', 21.0),\n",
       " ('Blackhorse Lane', 21.1),\n",
       " ('Bromley South', 21.1),\n",
       " ('Ruislip Gardens', 21.1),\n",
       " ('Elm Park', 21.2),\n",
       " ('Sidcup', 21.2),\n",
       " ('Ampere Way', 21.3),\n",
       " ('Hounslow Central', 21.3),\n",
       " ('Northwood Hills', 21.3),\n",
       " ('Ruislip Manor', 21.3),\n",
       " ('St Helier', 21.4),\n",
       " ('Rainham', 21.5),\n",
       " ('Addiscombe', 21.6),\n",
       " ('Gidea Park', 21.6),\n",
       " ('Hounslow', 21.6),\n",
       " ('New Malden', 21.6),\n",
       " ('Watford High Street', 21.7),\n",
       " ('West Croydon', 21.7),\n",
       " ('Chislehurst', 21.8),\n",
       " ('Norbiton', 21.8),\n",
       " ('Waddon Marsh', 21.8),\n",
       " ('Bickley', 21.9),\n",
       " ('Erith', 21.9),\n",
       " ('Motspur Park', 21.9),\n",
       " ('Ruislip', 21.9),\n",
       " ('Centrale', 22.0),\n",
       " ('East Croydon', 22.0),\n",
       " ('Hackbridge', 22.0),\n",
       " ('Reeves Corner', 22.0),\n",
       " ('Strawberry Hill', 22.0),\n",
       " ('Wellesley Road', 22.0),\n",
       " ('Barnehurst', 22.1),\n",
       " ('Lebanon Road', 22.1),\n",
       " ('Sandilands', 22.1),\n",
       " ('Albany Park', 22.2),\n",
       " ('Church Street', 22.2),\n",
       " ('George Street', 22.2),\n",
       " ('Wandle Park', 22.2),\n",
       " ('Whitton', 22.2),\n",
       " ('West Wickham', 22.3),\n",
       " ('Hounslow West', 22.4),\n",
       " ('Kingston', 22.4),\n",
       " ('Northwood', 22.4),\n",
       " ('Watford Junction', 22.5),\n",
       " ('Emerson Park', 22.6),\n",
       " ('Hornchurch', 22.6),\n",
       " ('Hampton Wick', 22.8),\n",
       " ('Teddington', 22.8),\n",
       " ('Berrylands', 22.9),\n",
       " ('Fulwell', 22.9),\n",
       " ('Sutton Common', 22.9),\n",
       " ('Waddon', 22.9),\n",
       " ('Bexley', 23.0),\n",
       " ('West Ruislip', 23.0),\n",
       " ('Carshalton', 23.2),\n",
       " ('Hayes and Harlington', 23.2),\n",
       " ('Ickenham', 23.3),\n",
       " ('Lloyd Park', 23.3),\n",
       " ('Hayes', 23.4),\n",
       " ('South Croydon', 23.4),\n",
       " ('Moor Park', 23.5),\n",
       " ('Watford', 23.5),\n",
       " ('Worcester Park', 23.5),\n",
       " ('Malden Manor', 23.6),\n",
       " ('Harold Wood', 23.7),\n",
       " ('Slade Green', 23.7),\n",
       " ('Upminster Bridge', 23.7),\n",
       " ('Wallington', 23.9),\n",
       " ('Coombe Lane', 24.0),\n",
       " ('Hillingdon', 24.0),\n",
       " ('West Sutton', 24.0),\n",
       " ('Crayford', 24.1),\n",
       " ('Petts Wood', 24.1),\n",
       " ('Carshalton Beeches', 24.4),\n",
       " ('Surbiton', 24.4),\n",
       " ('Sutton', 24.5),\n",
       " ('Addington Village', 24.7),\n",
       " ('Croxley', 24.7),\n",
       " ('Gravel Hill', 24.7),\n",
       " ('St Mary Cray', 24.8),\n",
       " ('Upminster', 24.8),\n",
       " ('Hatton Cross', 25.0),\n",
       " ('Sanderstead', 25.0),\n",
       " ('Tolworth', 25.0),\n",
       " ('Hampton Court', 25.1),\n",
       " ('Purley Oaks', 25.2),\n",
       " ('Feltham', 25.3),\n",
       " ('Fieldway', 25.3),\n",
       " ('Cheam', 25.4),\n",
       " ('Stoneleigh', 25.4),\n",
       " ('Hampton', 25.5),\n",
       " ('Purfleet', 25.9),\n",
       " ('Uxbridge', 25.9),\n",
       " (\"King Henry's Drive\", 26.0),\n",
       " ('Orpington', 26.0),\n",
       " ('Thames Ditton', 26.1),\n",
       " ('Purley', 26.2),\n",
       " ('Belmont', 26.3),\n",
       " ('New Addington', 26.4),\n",
       " ('West Drayton', 26.4),\n",
       " ('Heathrow Terminals 1 2 3', 26.6),\n",
       " ('Rickmansworth', 26.6),\n",
       " ('Riddlesdown', 26.8),\n",
       " ('Chessington North', 26.9),\n",
       " ('Heathrow Terminal 4', 26.9),\n",
       " ('Reedham', 26.9),\n",
       " ('Ewell West', 27.0),\n",
       " ('Ewell East', 27.1),\n",
       " ('Kenley', 27.7),\n",
       " ('Chessington South', 27.9),\n",
       " ('Coulsdon Town', 28.0),\n",
       " ('Banstead', 28.1),\n",
       " ('Ockendon', 28.1),\n",
       " ('Chelsfield', 28.4),\n",
       " ('Brentwood', 28.5),\n",
       " ('Woodmansterne', 28.5),\n",
       " ('Coulsdon South', 28.7),\n",
       " ('Iver', 28.7),\n",
       " ('Chafford Hundred', 29.0),\n",
       " ('Heathrow Terminal 5', 29.1),\n",
       " ('Epsom Downs', 29.3),\n",
       " ('Whyteleafe', 29.3),\n",
       " ('Upper Warlingham', 29.5),\n",
       " ('Chipstead', 29.7),\n",
       " ('Chorleywood', 30.0),\n",
       " ('Whyteleafe South', 30.1),\n",
       " ('Knockholt', 30.2),\n",
       " ('Shenfield', 30.9),\n",
       " ('Tattenham Corner', 30.9),\n",
       " ('Langley', 31.1),\n",
       " ('Kingswood', 31.8),\n",
       " ('Caterham', 32.4),\n",
       " ('Tadworth', 32.6),\n",
       " ('Chalfont and Latimer', 33.2),\n",
       " ('Slough', 34.4),\n",
       " ('Amersham', 36.5),\n",
       " ('Burnham', 37.9),\n",
       " ('Chesham', 38.0),\n",
       " ('Taplow', 40.3),\n",
       " ('Maidenhead', 43.2),\n",
       " ('Twyford', 53.7),\n",
       " ('Reading', 61.5)]"
      ]
     },
     "execution_count": 17,
     "metadata": {},
     "output_type": "execute_result"
    }
   ],
   "source": [
    "x.distances"
   ]
  },
  {
   "cell_type": "code",
   "execution_count": 18,
   "metadata": {},
   "outputs": [
    {
     "name": "stdout",
     "output_type": "stream",
     "text": [
      "('Harringay', 0.5) \n",
      " km\n"
     ]
    }
   ],
   "source": [
    "print(x.find_nearest_station(), \"\\n\", x.unit)"
   ]
  },
  {
   "cell_type": "code",
   "execution_count": 19,
   "metadata": {
    "scrolled": false
   },
   "outputs": [
    {
     "data": {
      "text/plain": [
       "[('Harringay', 0.5),\n",
       " ('Harringay Green Lanes', 0.7),\n",
       " ('Manor House', 0.7),\n",
       " ('Crouch Hill', 0.8),\n",
       " ('Finsbury Park', 1.0),\n",
       " ('Hornsey', 1.5),\n",
       " ('Arsenal', 1.6),\n",
       " ('Turnpike Lane', 1.9),\n",
       " ('Upper Holloway', 1.9),\n",
       " ('Stamford Hill', 2.0)]"
      ]
     },
     "execution_count": 19,
     "metadata": {},
     "output_type": "execute_result"
    }
   ],
   "source": [
    "# find within 1 mile of station\n",
    "x.find_stations_with_x_radius(2)\n",
    "# [x for x in x.find_nearest_n_stations(10) if x[1]<=1]"
   ]
  },
  {
   "cell_type": "code",
   "execution_count": 20,
   "metadata": {},
   "outputs": [
    {
     "data": {
      "text/plain": [
       "('Wood Street', 0.4)"
      ]
     },
     "execution_count": 20,
     "metadata": {},
     "output_type": "execute_result"
    }
   ],
   "source": [
    "NearestStation('e17 3ss').find_nearest_station()"
   ]
  },
  {
   "cell_type": "code",
   "execution_count": 21,
   "metadata": {},
   "outputs": [
    {
     "data": {
      "text/plain": [
       "[('Wood Street', 0.4),\n",
       " ('Highams Park', 1.1),\n",
       " ('Walthamstow Central', 1.1),\n",
       " ('Snaresbrook', 1.2),\n",
       " ('South Woodford', 1.2),\n",
       " ('Walthamstow Queens Road', 1.3),\n",
       " ('Leyton Midland Road', 1.6),\n",
       " ('St James Street', 1.6),\n",
       " ('Leytonstone', 1.7),\n",
       " ('Wanstead', 1.7)]"
      ]
     },
     "execution_count": 21,
     "metadata": {},
     "output_type": "execute_result"
    }
   ],
   "source": [
    "# Clean station data?\n",
    "NearestStation('e17 3ss').find_nearest_n_stations(10)"
   ]
  },
  {
   "cell_type": "code",
   "execution_count": 22,
   "metadata": {},
   "outputs": [
    {
     "data": {
      "text/plain": [
       "[('Wood Street', 0.4),\n",
       " ('Highams Park', 1.1),\n",
       " ('Walthamstow Central', 1.1),\n",
       " ('Snaresbrook', 1.2),\n",
       " ('South Woodford', 1.2),\n",
       " ('Walthamstow Queens Road', 1.3)]"
      ]
     },
     "execution_count": 22,
     "metadata": {},
     "output_type": "execute_result"
    }
   ],
   "source": [
    "NearestStation('e17 3ss').find_stations_with_x_radius(1.5)"
   ]
  },
  {
   "cell_type": "code",
   "execution_count": null,
   "metadata": {},
   "outputs": [],
   "source": []
  }
 ],
 "metadata": {
  "kernelspec": {
   "display_name": "Python 3",
   "language": "python",
   "name": "python3"
  },
  "language_info": {
   "codemirror_mode": {
    "name": "ipython",
    "version": 3
   },
   "file_extension": ".py",
   "mimetype": "text/x-python",
   "name": "python",
   "nbconvert_exporter": "python",
   "pygments_lexer": "ipython3",
   "version": "3.7.3"
  }
 },
 "nbformat": 4,
 "nbformat_minor": 2
}
