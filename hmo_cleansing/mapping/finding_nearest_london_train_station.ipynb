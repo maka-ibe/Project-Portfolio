{
 "cells": [
  {
   "cell_type": "markdown",
   "metadata": {},
   "source": [
    "# Finding the nearest train/tube station\n",
    "\n",
    "The purpose of this project is to create module that takes a London postcode input e.g. N4 4AF and will output the nearest train station to it."
   ]
  },
  {
   "cell_type": "code",
   "execution_count": 1,
   "metadata": {},
   "outputs": [],
   "source": [
    "import pandas as pd\n",
    "import requests\n",
    "from geopy import distance"
   ]
  },
  {
   "cell_type": "code",
   "execution_count": 2,
   "metadata": {},
   "outputs": [],
   "source": [
    "# A csv file of london stations can be downloaded from this link\n",
    "# https://www.doogal.co.uk/london_stations.php\n",
    "\n",
    "# TODO join station data to tube line\n",
    "gb_stations_df = pd.read_csv('gb_stations.csv')"
   ]
  },
  {
   "cell_type": "code",
   "execution_count": 3,
   "metadata": {},
   "outputs": [],
   "source": [
    "GB_STATIONS = []\n",
    "for x in gb_stations_df[['Station', 'Latitude', 'Longitude']].values:\n",
    "    GB_STATIONS.append((x[0],(x[1],x[2])))"
   ]
  },
  {
   "cell_type": "code",
   "execution_count": 3,
   "metadata": {
    "scrolled": false
   },
   "outputs": [
    {
     "data": {
      "text/html": [
       "<div>\n",
       "<style scoped>\n",
       "    .dataframe tbody tr th:only-of-type {\n",
       "        vertical-align: middle;\n",
       "    }\n",
       "\n",
       "    .dataframe tbody tr th {\n",
       "        vertical-align: top;\n",
       "    }\n",
       "\n",
       "    .dataframe thead th {\n",
       "        text-align: right;\n",
       "    }\n",
       "</style>\n",
       "<table border=\"1\" class=\"dataframe\">\n",
       "  <thead>\n",
       "    <tr style=\"text-align: right;\">\n",
       "      <th></th>\n",
       "      <th>Station</th>\n",
       "      <th>Postcode</th>\n",
       "      <th>Latitude</th>\n",
       "      <th>Longitude</th>\n",
       "      <th>TLC</th>\n",
       "      <th>NLC</th>\n",
       "      <th>Owner</th>\n",
       "      <th>Entries and exits 2020</th>\n",
       "      <th>Entries and exits 2019</th>\n",
       "      <th>Entries and exits 2018</th>\n",
       "      <th>...</th>\n",
       "      <th>Interchanges 2014</th>\n",
       "      <th>Interchanges 2013</th>\n",
       "      <th>Interchanges 2012</th>\n",
       "      <th>Interchanges 2011</th>\n",
       "      <th>Interchanges 2010</th>\n",
       "      <th>Interchanges 2009</th>\n",
       "      <th>Interchanges 2008</th>\n",
       "      <th>Interchanges 2007</th>\n",
       "      <th>Interchanges 2006</th>\n",
       "      <th>Interchanges 2005</th>\n",
       "    </tr>\n",
       "  </thead>\n",
       "  <tbody>\n",
       "    <tr>\n",
       "      <th>0</th>\n",
       "      <td>Abbey Wood</td>\n",
       "      <td>SE2 9RH</td>\n",
       "      <td>51.491061</td>\n",
       "      <td>0.121394</td>\n",
       "      <td>ABW</td>\n",
       "      <td>5131</td>\n",
       "      <td>TfL Rail</td>\n",
       "      <td>3825206</td>\n",
       "      <td>3769402.0</td>\n",
       "      <td>3124856.0</td>\n",
       "      <td>...</td>\n",
       "      <td>0.0</td>\n",
       "      <td>0.0</td>\n",
       "      <td>0.0</td>\n",
       "      <td>0.0</td>\n",
       "      <td>0.0</td>\n",
       "      <td>0.0</td>\n",
       "      <td>0.0</td>\n",
       "      <td>0.0</td>\n",
       "      <td>0.0</td>\n",
       "      <td>0.0</td>\n",
       "    </tr>\n",
       "    <tr>\n",
       "      <th>1</th>\n",
       "      <td>Aber</td>\n",
       "      <td>CF83 1AQ</td>\n",
       "      <td>51.574969</td>\n",
       "      <td>-3.229829</td>\n",
       "      <td>ABE</td>\n",
       "      <td>3813</td>\n",
       "      <td>TfW Rail</td>\n",
       "      <td>228480</td>\n",
       "      <td>245218.0</td>\n",
       "      <td>251108.0</td>\n",
       "      <td>...</td>\n",
       "      <td>0.0</td>\n",
       "      <td>0.0</td>\n",
       "      <td>0.0</td>\n",
       "      <td>0.0</td>\n",
       "      <td>0.0</td>\n",
       "      <td>0.0</td>\n",
       "      <td>0.0</td>\n",
       "      <td>0.0</td>\n",
       "      <td>0.0</td>\n",
       "      <td>0.0</td>\n",
       "    </tr>\n",
       "    <tr>\n",
       "      <th>2</th>\n",
       "      <td>Abercynon</td>\n",
       "      <td>CF45 4SE</td>\n",
       "      <td>51.644712</td>\n",
       "      <td>-3.326989</td>\n",
       "      <td>ACY</td>\n",
       "      <td>3801</td>\n",
       "      <td>TfW Rail</td>\n",
       "      <td>282886</td>\n",
       "      <td>289008.0</td>\n",
       "      <td>298358.0</td>\n",
       "      <td>...</td>\n",
       "      <td>42347.0</td>\n",
       "      <td>35871.0</td>\n",
       "      <td>35304.0</td>\n",
       "      <td>33225.0</td>\n",
       "      <td>29324.0</td>\n",
       "      <td>28775.0</td>\n",
       "      <td>NaN</td>\n",
       "      <td>NaN</td>\n",
       "      <td>NaN</td>\n",
       "      <td>NaN</td>\n",
       "    </tr>\n",
       "    <tr>\n",
       "      <th>3</th>\n",
       "      <td>Aberdare</td>\n",
       "      <td>CF44 0PU</td>\n",
       "      <td>51.715062</td>\n",
       "      <td>-3.443084</td>\n",
       "      <td>ABA</td>\n",
       "      <td>3982</td>\n",
       "      <td>TfW Rail</td>\n",
       "      <td>504622</td>\n",
       "      <td>555780.0</td>\n",
       "      <td>571746.0</td>\n",
       "      <td>...</td>\n",
       "      <td>0.0</td>\n",
       "      <td>0.0</td>\n",
       "      <td>0.0</td>\n",
       "      <td>0.0</td>\n",
       "      <td>0.0</td>\n",
       "      <td>0.0</td>\n",
       "      <td>0.0</td>\n",
       "      <td>0.0</td>\n",
       "      <td>0.0</td>\n",
       "      <td>0.0</td>\n",
       "    </tr>\n",
       "    <tr>\n",
       "      <th>4</th>\n",
       "      <td>Aberdeen</td>\n",
       "      <td>AB11 6LX</td>\n",
       "      <td>57.143706</td>\n",
       "      <td>-2.098685</td>\n",
       "      <td>ABD</td>\n",
       "      <td>8976</td>\n",
       "      <td>ScotRail</td>\n",
       "      <td>2497108</td>\n",
       "      <td>2616142.0</td>\n",
       "      <td>2948186.0</td>\n",
       "      <td>...</td>\n",
       "      <td>219085.0</td>\n",
       "      <td>200864.0</td>\n",
       "      <td>197046.0</td>\n",
       "      <td>148594.0</td>\n",
       "      <td>164299.0</td>\n",
       "      <td>162526.0</td>\n",
       "      <td>119259.0</td>\n",
       "      <td>230788.0</td>\n",
       "      <td>201417.0</td>\n",
       "      <td>187983.0</td>\n",
       "    </tr>\n",
       "  </tbody>\n",
       "</table>\n",
       "<p>5 rows × 39 columns</p>\n",
       "</div>"
      ],
      "text/plain": [
       "      Station  Postcode   Latitude  Longitude  TLC   NLC     Owner  \\\n",
       "0  Abbey Wood   SE2 9RH  51.491061   0.121394  ABW  5131  TfL Rail   \n",
       "1        Aber  CF83 1AQ  51.574969  -3.229829  ABE  3813  TfW Rail   \n",
       "2   Abercynon  CF45 4SE  51.644712  -3.326989  ACY  3801  TfW Rail   \n",
       "3    Aberdare  CF44 0PU  51.715062  -3.443084  ABA  3982  TfW Rail   \n",
       "4    Aberdeen  AB11 6LX  57.143706  -2.098685  ABD  8976  ScotRail   \n",
       "\n",
       "   Entries and exits 2020  Entries and exits 2019  Entries and exits 2018  \\\n",
       "0                 3825206               3769402.0               3124856.0   \n",
       "1                  228480                245218.0                251108.0   \n",
       "2                  282886                289008.0                298358.0   \n",
       "3                  504622                555780.0                571746.0   \n",
       "4                 2497108               2616142.0               2948186.0   \n",
       "\n",
       "   ...  Interchanges 2014  Interchanges 2013  Interchanges 2012  \\\n",
       "0  ...                0.0                0.0                0.0   \n",
       "1  ...                0.0                0.0                0.0   \n",
       "2  ...            42347.0            35871.0            35304.0   \n",
       "3  ...                0.0                0.0                0.0   \n",
       "4  ...           219085.0           200864.0           197046.0   \n",
       "\n",
       "   Interchanges 2011  Interchanges 2010  Interchanges 2009  Interchanges 2008  \\\n",
       "0                0.0                0.0                0.0                0.0   \n",
       "1                0.0                0.0                0.0                0.0   \n",
       "2            33225.0            29324.0            28775.0                NaN   \n",
       "3                0.0                0.0                0.0                0.0   \n",
       "4           148594.0           164299.0           162526.0           119259.0   \n",
       "\n",
       "   Interchanges 2007  Interchanges 2006  Interchanges 2005  \n",
       "0                0.0                0.0                0.0  \n",
       "1                0.0                0.0                0.0  \n",
       "2                NaN                NaN                NaN  \n",
       "3                0.0                0.0                0.0  \n",
       "4           230788.0           201417.0           187983.0  \n",
       "\n",
       "[5 rows x 39 columns]"
      ]
     },
     "execution_count": 3,
     "metadata": {},
     "output_type": "execute_result"
    }
   ],
   "source": [
    "gb_stations_df.head()"
   ]
  },
  {
   "cell_type": "code",
   "execution_count": 5,
   "metadata": {},
   "outputs": [],
   "source": [
    "# test_postcodes = ['N15 3AD', 'N4 4AF', 'N10 3QS', 'N15 4AR', 'N15 4JF']"
   ]
  },
  {
   "cell_type": "code",
   "execution_count": 12,
   "metadata": {},
   "outputs": [],
   "source": [
    "# # TODO Could split this into two functions, one to retrieve an list of stations ranked in order or closeness\n",
    "# # second one, just to grab the nearest\n",
    "# # TODO round to 1 decimal place\n",
    "# def find_nearest_london_station(postcode, stations_list):\n",
    "#     pc_lat_lon = get_long_lat(postcode)['lat_lon']\n",
    "#     distances_in_m = [(x[0],distance.distance(pc_lat_lon, x[1]).miles) for x in stations_list]\n",
    "#     distances_in_m.sort(key=lambda x:x[1])\n",
    "#     return(distances_in_m[0])"
   ]
  },
  {
   "cell_type": "code",
   "execution_count": 13,
   "metadata": {},
   "outputs": [],
   "source": [
    "# find_nearest_london_station('*', gb_stations_tuples_list)"
   ]
  },
  {
   "cell_type": "code",
   "execution_count": 14,
   "metadata": {},
   "outputs": [],
   "source": [
    "# find_nearest_london_station('*', gb_stations_tuples_list)"
   ]
  },
  {
   "cell_type": "code",
   "execution_count": 6,
   "metadata": {},
   "outputs": [],
   "source": [
    "# TODO refactor - use less code\n",
    "class NearestStation:\n",
    "    \n",
    "#     gb_stations = []\n",
    "#     for x in gb_stations_df[['Station', 'Latitude', 'Longitude']].values:\n",
    "#         gb_stations.append((x[0],(x[1],x[2])))\n",
    "        \n",
    "    def __init__(self, postcode):\n",
    "        self.postcode = postcode\n",
    "        self.endpoint = self._create_endpoint()\n",
    "        self.output_dict = self._get_long_lat()\n",
    "        self.pc_lat_lon = self.output_dict['lat_lon']\n",
    "        self.nearest_station = self.find_nearest_station() #nearest_m TODO\n",
    "        #TODO add nearest in km\n",
    "    \n",
    "    def _create_endpoint(self):\n",
    "        pc = self.postcode.replace(' ','').lower()\n",
    "        self.endpoint = f'http://api.postcodes.io/postcodes/{pc}'\n",
    "        return self.endpoint\n",
    "\n",
    "    def _get_long_lat(self):\n",
    "        self.output_dict = {}\n",
    "        r = requests.get(self.endpoint)\n",
    "        self.output_dict['postcode'] = r.json()['result']['postcode']\n",
    "        self.output_dict['lat_lon'] = (r.json()['result']['latitude'], r.json()['result']['longitude'])\n",
    "        return self.output_dict\n",
    "    \n",
    "    def find_nearest_station(self): \n",
    "        #TODO round to 1 decimal place\n",
    "        #TODO give user option of km or miles\n",
    "        distances_in_m = [(x[0],distance.distance(self.pc_lat_lon, x[1]).miles) for x in GB_STATIONS]\n",
    "        distances_in_m.sort(key=lambda x:x[1])\n",
    "        return(distances_in_m[0])\n",
    "    \n",
    "    def find_nearest_n_stations(self,n):\n",
    "        distances_in_m = [(x[0],distance.distance(self.pc_lat_lon, x[1]).miles) for x in GB_STATIONS]\n",
    "        distances_in_m.sort(key=lambda x:x[1])\n",
    "        return(distances_in_m[:n])\n",
    "    "
   ]
  },
  {
   "cell_type": "code",
   "execution_count": 7,
   "metadata": {},
   "outputs": [],
   "source": [
    "x = NearestStation('n4 4af')"
   ]
  },
  {
   "cell_type": "code",
   "execution_count": 8,
   "metadata": {},
   "outputs": [
    {
     "data": {
      "text/plain": [
       "('Harringay', 0.2894493888165714)"
      ]
     },
     "execution_count": 8,
     "metadata": {},
     "output_type": "execute_result"
    }
   ],
   "source": [
    "x.nearest_station"
   ]
  },
  {
   "cell_type": "code",
   "execution_count": 18,
   "metadata": {},
   "outputs": [
    {
     "data": {
      "text/plain": [
       "'http://api.postcodes.io/postcodes/n44af'"
      ]
     },
     "execution_count": 18,
     "metadata": {},
     "output_type": "execute_result"
    }
   ],
   "source": [
    "x.endpoint"
   ]
  },
  {
   "cell_type": "code",
   "execution_count": 19,
   "metadata": {},
   "outputs": [
    {
     "data": {
      "text/plain": [
       "[('Harringay', 0.2894493888165714),\n",
       " ('Harringay Green Lanes', 0.4287554239507669),\n",
       " ('Crouch Hill', 0.5076896853539483),\n",
       " ('Finsbury Park', 0.6148553411677796),\n",
       " ('Hornsey', 0.9557549938824251),\n",
       " ('Upper Holloway', 1.2181689691130957),\n",
       " ('Stamford Hill', 1.2557500321409345),\n",
       " ('Drayton Park', 1.4117167168997369),\n",
       " ('Seven Sisters', 1.4555995491303644),\n",
       " ('Stoke Newington', 1.5193234864059402),\n",
       " ('South Tottenham', 1.5324947553286579),\n",
       " ('Canonbury', 1.789054081159871),\n",
       " ('Alexandra Palace', 1.8200753425205685),\n",
       " ('Highbury and Islington', 1.8694302306857142),\n",
       " ('Rectory Road', 1.9080370252426713),\n",
       " ('Bruce Grove', 2.1098536269315904),\n",
       " ('Caledonian Road and Barnsbury', 2.1372053954643957),\n",
       " ('Dalston Kingsland', 2.162121228154882),\n",
       " ('Kentish Town', 2.164497975870116),\n",
       " ('Tottenham Hale', 2.2337101677745714)]"
      ]
     },
     "execution_count": 19,
     "metadata": {},
     "output_type": "execute_result"
    }
   ],
   "source": [
    "x.find_nearest_n_stations(20)"
   ]
  },
  {
   "cell_type": "code",
   "execution_count": 23,
   "metadata": {},
   "outputs": [
    {
     "data": {
      "text/plain": [
       "('Wood Street', 0.3861582650348817)"
      ]
     },
     "execution_count": 23,
     "metadata": {},
     "output_type": "execute_result"
    }
   ],
   "source": [
    "NearestStation('e17 3ss').nearest_station"
   ]
  },
  {
   "cell_type": "code",
   "execution_count": 24,
   "metadata": {},
   "outputs": [
    {
     "data": {
      "text/plain": [
       "[('Wood Street', 0.3861582650348817),\n",
       " ('Walthamstow Central', 1.073987130513466),\n",
       " ('Highams Park', 1.141697589682547),\n",
       " (\"Walthamstow Queen's Road\", 1.2724699430085868),\n",
       " ('Leyton Midland Road', 1.5738249985800778)]"
      ]
     },
     "execution_count": 24,
     "metadata": {},
     "output_type": "execute_result"
    }
   ],
   "source": [
    "# Clean station data?\n",
    "NearestStation('e17 3ss').find_nearest_n_stations(5)"
   ]
  },
  {
   "cell_type": "code",
   "execution_count": null,
   "metadata": {},
   "outputs": [],
   "source": []
  }
 ],
 "metadata": {
  "kernelspec": {
   "display_name": "Python 3",
   "language": "python",
   "name": "python3"
  },
  "language_info": {
   "codemirror_mode": {
    "name": "ipython",
    "version": 3
   },
   "file_extension": ".py",
   "mimetype": "text/x-python",
   "name": "python",
   "nbconvert_exporter": "python",
   "pygments_lexer": "ipython3",
   "version": "3.7.3"
  }
 },
 "nbformat": 4,
 "nbformat_minor": 2
}
