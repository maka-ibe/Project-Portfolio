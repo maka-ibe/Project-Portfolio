{
 "cells": [
  {
   "cell_type": "markdown",
   "metadata": {},
   "source": [
    "# Finding the nearest train/tube station\n",
    "\n",
    "The purpose of this project is to create module that takes a London postcode input e.g. N4 4AF and will output the nearest train station to it."
   ]
  },
  {
   "cell_type": "code",
   "execution_count": 2,
   "metadata": {},
   "outputs": [],
   "source": [
    "import pandas as pd\n",
    "import requests\n",
    "from geopy import distance"
   ]
  },
  {
   "cell_type": "code",
   "execution_count": 7,
   "metadata": {},
   "outputs": [],
   "source": [
    "# A csv file of london stations can be downloaded from this link\n",
    "# https://www.doogal.co.uk/london_stations.php\n",
    "\n",
    "# TODO join station data to tube line\n",
    "london_stations_df = pd.read_csv('london_stations.csv')"
   ]
  },
  {
   "cell_type": "code",
   "execution_count": 8,
   "metadata": {},
   "outputs": [],
   "source": [
    "LONDON_STATIONS = []\n",
    "for x in london_stations_df[['Station', 'Latitude', 'Longitude']].values:\n",
    "    LONDON_STATIONS.append((x[0],(x[1],x[2])))"
   ]
  },
  {
   "cell_type": "code",
   "execution_count": 5,
   "metadata": {},
   "outputs": [],
   "source": [
    "# test_postcodes = ['N15 3AD', 'N4 4AF', 'N10 3QS', 'N15 4AR', 'N15 4JF']"
   ]
  },
  {
   "cell_type": "code",
   "execution_count": 9,
   "metadata": {},
   "outputs": [],
   "source": [
    "# TODO refactor - use less code\n",
    "# TODO Add documentation\n",
    "# TODO experiment using getters and setters for km?\n",
    "class NearestStation:\n",
    "        \n",
    "    def __init__(self, postcode, unit='m'):\n",
    "        self.postcode = postcode.lower()\n",
    "        self.lat_lon = self.geo_dict['lat_lon']\n",
    "        self._unit = unit\n",
    "        \n",
    "    @property\n",
    "    def unit(self):\n",
    "        return self._unit\n",
    "    \n",
    "    @unit.setter\n",
    "    def unit(self, new_unit):\n",
    "        if new_unit in ['m', 'km']:\n",
    "            self._unit = new_unit\n",
    "        else:\n",
    "            raise ValueError('Enter \"m\" for miles or \"km\" for kilometers')\n",
    "        \n",
    "    @property\n",
    "    def endpoint(self):\n",
    "        pc = self.postcode.replace(' ','')\n",
    "        return f'http://api.postcodes.io/postcodes/{pc}'\n",
    "    \n",
    "    @property\n",
    "    def geo_dict(self):\n",
    "        geocoded_dict = {}\n",
    "        r = requests.get(self.endpoint)\n",
    "        geocoded_dict['postcode'] = r.json()['result']['postcode']\n",
    "        geocoded_dict['lat_lon'] = (r.json()['result']['latitude'], r.json()['result']['longitude'])\n",
    "        return geocoded_dict\n",
    "    \n",
    "    def distance_miles(self, x):\n",
    "        return round(distance.distance(self.lat_lon, x).miles,1)\n",
    "    \n",
    "    def distance_km(self, x):\n",
    "        return round(distance.distance(self.lat_lon, x).km,1)\n",
    "    \n",
    "    def find_nearest_station(self): \n",
    "        #TODO give user option to enter their own list of tuples with locations - new function?\n",
    "        #TODO can you refactor these further so it's even less code\n",
    "        if self._unit == 'm':\n",
    "            distances = [(x[0], self.distance_miles(x[1])) for x in LONDON_STATIONS]\n",
    "            distances.sort(key=lambda x:x[1])\n",
    "            return (distances[0])\n",
    "        elif self._unit == 'km':\n",
    "            distances = [(x[0], self.distance_km(x[1])) for x in LONDON_STATIONS]\n",
    "            distances.sort(key=lambda x:x[1])\n",
    "            return (distances[0])\n",
    "    \n",
    "    def find_nearest_n_stations(self,n):\n",
    "        if self._unit == 'm':\n",
    "            distances = [(x[0], self.distance_miles(x[1])) for x in LONDON_STATIONS]\n",
    "            distances.sort(key=lambda x:x[1])\n",
    "            return (distances[:n])\n",
    "        elif self._unit == 'km':\n",
    "            distances = [(x[0], self.distance_km(x[1])) for x in LONDON_STATIONS]\n",
    "            distances.sort(key=lambda x:x[1])\n",
    "            return (distances[:n])"
   ]
  },
  {
   "cell_type": "code",
   "execution_count": 10,
   "metadata": {},
   "outputs": [],
   "source": [
    "x = NearestStation('N4 4AF')"
   ]
  },
  {
   "cell_type": "code",
   "execution_count": 8,
   "metadata": {},
   "outputs": [
    {
     "data": {
      "text/plain": [
       "{'postcode': 'N4 4AF', 'lat_lon': (51.573188, -0.10576)}"
      ]
     },
     "execution_count": 8,
     "metadata": {},
     "output_type": "execute_result"
    }
   ],
   "source": [
    "x.geo_dict"
   ]
  },
  {
   "cell_type": "code",
   "execution_count": 9,
   "metadata": {},
   "outputs": [
    {
     "data": {
      "text/plain": [
       "(51.573188, -0.10576)"
      ]
     },
     "execution_count": 9,
     "metadata": {},
     "output_type": "execute_result"
    }
   ],
   "source": [
    "x.lat_lon"
   ]
  },
  {
   "cell_type": "code",
   "execution_count": 10,
   "metadata": {},
   "outputs": [
    {
     "data": {
      "text/plain": [
       "'http://api.postcodes.io/postcodes/n44af'"
      ]
     },
     "execution_count": 10,
     "metadata": {},
     "output_type": "execute_result"
    }
   ],
   "source": [
    "x.endpoint"
   ]
  },
  {
   "cell_type": "code",
   "execution_count": 11,
   "metadata": {
    "scrolled": true
   },
   "outputs": [
    {
     "data": {
      "text/plain": [
       "'n4 4af'"
      ]
     },
     "execution_count": 11,
     "metadata": {},
     "output_type": "execute_result"
    }
   ],
   "source": [
    "x.postcode"
   ]
  },
  {
   "cell_type": "code",
   "execution_count": 11,
   "metadata": {
    "scrolled": true
   },
   "outputs": [
    {
     "name": "stdout",
     "output_type": "stream",
     "text": [
      "('Harringay', 0.3) \n",
      " m\n"
     ]
    }
   ],
   "source": [
    "print(x.find_nearest_station(), \"\\n\", x.unit)"
   ]
  },
  {
   "cell_type": "code",
   "execution_count": 13,
   "metadata": {},
   "outputs": [
    {
     "data": {
      "text/plain": [
       "'m'"
      ]
     },
     "execution_count": 13,
     "metadata": {},
     "output_type": "execute_result"
    }
   ],
   "source": [
    "x.unit"
   ]
  },
  {
   "cell_type": "code",
   "execution_count": 14,
   "metadata": {},
   "outputs": [],
   "source": [
    "x.unit ='km' #should change unit"
   ]
  },
  {
   "cell_type": "code",
   "execution_count": 15,
   "metadata": {},
   "outputs": [
    {
     "data": {
      "text/plain": [
       "'km'"
      ]
     },
     "execution_count": 15,
     "metadata": {},
     "output_type": "execute_result"
    }
   ],
   "source": [
    "x.unit"
   ]
  },
  {
   "cell_type": "code",
   "execution_count": 16,
   "metadata": {},
   "outputs": [
    {
     "name": "stdout",
     "output_type": "stream",
     "text": [
      "('Harringay', 0.5) \n",
      " km\n"
     ]
    }
   ],
   "source": [
    "print(x.find_nearest_station(), \"\\n\", x.unit)"
   ]
  },
  {
   "cell_type": "code",
   "execution_count": 14,
   "metadata": {
    "scrolled": false
   },
   "outputs": [
    {
     "data": {
      "text/plain": [
       "[('Harringay', 0.3),\n",
       " ('Harringay Green Lanes', 0.4),\n",
       " ('Crouch Hill', 0.5),\n",
       " ('Manor House', 0.5),\n",
       " ('Finsbury Park', 0.6),\n",
       " ('Arsenal', 1.0),\n",
       " ('Hornsey', 1.0)]"
      ]
     },
     "execution_count": 14,
     "metadata": {},
     "output_type": "execute_result"
    }
   ],
   "source": [
    "# find within 1 mile of station\n",
    "[x for x in x.find_nearest_n_stations(10) if x[1]<=1]"
   ]
  },
  {
   "cell_type": "code",
   "execution_count": 18,
   "metadata": {},
   "outputs": [
    {
     "data": {
      "text/plain": [
       "('Wood Street', 0.4)"
      ]
     },
     "execution_count": 18,
     "metadata": {},
     "output_type": "execute_result"
    }
   ],
   "source": [
    "NearestStation('e17 3ss').find_nearest_station()"
   ]
  },
  {
   "cell_type": "code",
   "execution_count": 19,
   "metadata": {},
   "outputs": [
    {
     "data": {
      "text/plain": [
       "[('Wood Street', 0.4),\n",
       " ('Highams Park', 1.1),\n",
       " ('Walthamstow Central', 1.1),\n",
       " (\"Walthamstow Queen's Road\", 1.3),\n",
       " ('Leyton Midland Road', 1.6)]"
      ]
     },
     "execution_count": 19,
     "metadata": {},
     "output_type": "execute_result"
    }
   ],
   "source": [
    "# Clean station data?\n",
    "NearestStation('e17 3ss').find_nearest_n_stations(5)"
   ]
  },
  {
   "cell_type": "code",
   "execution_count": null,
   "metadata": {},
   "outputs": [],
   "source": []
  }
 ],
 "metadata": {
  "kernelspec": {
   "display_name": "Python 3",
   "language": "python",
   "name": "python3"
  },
  "language_info": {
   "codemirror_mode": {
    "name": "ipython",
    "version": 3
   },
   "file_extension": ".py",
   "mimetype": "text/x-python",
   "name": "python",
   "nbconvert_exporter": "python",
   "pygments_lexer": "ipython3",
   "version": "3.7.3"
  }
 },
 "nbformat": 4,
 "nbformat_minor": 2
}
