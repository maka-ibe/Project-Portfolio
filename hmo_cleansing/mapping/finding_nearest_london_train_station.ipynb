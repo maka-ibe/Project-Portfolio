{
 "cells": [
  {
   "cell_type": "markdown",
   "metadata": {},
   "source": [
    "# Finding the nearest train/tube station\n",
    "\n",
    "The purpose of this project is to create module that takes a London postcode input e.g. N4 4AF and will output the nearest train station to it."
   ]
  },
  {
   "cell_type": "code",
   "execution_count": 1,
   "metadata": {},
   "outputs": [],
   "source": [
    "import pandas as pd\n",
    "import requests\n",
    "from geopy import distance"
   ]
  },
  {
   "cell_type": "code",
   "execution_count": 2,
   "metadata": {},
   "outputs": [],
   "source": [
    "# A csv file of london stations can be downloaded from this link\n",
    "# https://www.doogal.co.uk/london_stations.php\n",
    "\n",
    "# TODO join station data to tube line\n",
    "gb_stations_df = pd.read_csv('gb_stations.csv')"
   ]
  },
  {
   "cell_type": "code",
   "execution_count": 3,
   "metadata": {},
   "outputs": [],
   "source": [
    "GB_STATIONS = []\n",
    "for x in gb_stations_df[['Station', 'Latitude', 'Longitude']].values:\n",
    "    GB_STATIONS.append((x[0],(x[1],x[2])))"
   ]
  },
  {
   "cell_type": "code",
   "execution_count": 4,
   "metadata": {
    "scrolled": false
   },
   "outputs": [
    {
     "data": {
      "text/html": [
       "<div>\n",
       "<style scoped>\n",
       "    .dataframe tbody tr th:only-of-type {\n",
       "        vertical-align: middle;\n",
       "    }\n",
       "\n",
       "    .dataframe tbody tr th {\n",
       "        vertical-align: top;\n",
       "    }\n",
       "\n",
       "    .dataframe thead th {\n",
       "        text-align: right;\n",
       "    }\n",
       "</style>\n",
       "<table border=\"1\" class=\"dataframe\">\n",
       "  <thead>\n",
       "    <tr style=\"text-align: right;\">\n",
       "      <th></th>\n",
       "      <th>Station</th>\n",
       "      <th>Postcode</th>\n",
       "      <th>Latitude</th>\n",
       "      <th>Longitude</th>\n",
       "      <th>TLC</th>\n",
       "      <th>NLC</th>\n",
       "      <th>Owner</th>\n",
       "      <th>Entries and exits 2020</th>\n",
       "      <th>Entries and exits 2019</th>\n",
       "      <th>Entries and exits 2018</th>\n",
       "      <th>...</th>\n",
       "      <th>Interchanges 2014</th>\n",
       "      <th>Interchanges 2013</th>\n",
       "      <th>Interchanges 2012</th>\n",
       "      <th>Interchanges 2011</th>\n",
       "      <th>Interchanges 2010</th>\n",
       "      <th>Interchanges 2009</th>\n",
       "      <th>Interchanges 2008</th>\n",
       "      <th>Interchanges 2007</th>\n",
       "      <th>Interchanges 2006</th>\n",
       "      <th>Interchanges 2005</th>\n",
       "    </tr>\n",
       "  </thead>\n",
       "  <tbody>\n",
       "    <tr>\n",
       "      <th>0</th>\n",
       "      <td>Abbey Wood</td>\n",
       "      <td>SE2 9RH</td>\n",
       "      <td>51.491061</td>\n",
       "      <td>0.121394</td>\n",
       "      <td>ABW</td>\n",
       "      <td>5131</td>\n",
       "      <td>TfL Rail</td>\n",
       "      <td>3825206</td>\n",
       "      <td>3769402.0</td>\n",
       "      <td>3124856.0</td>\n",
       "      <td>...</td>\n",
       "      <td>0.0</td>\n",
       "      <td>0.0</td>\n",
       "      <td>0.0</td>\n",
       "      <td>0.0</td>\n",
       "      <td>0.0</td>\n",
       "      <td>0.0</td>\n",
       "      <td>0.0</td>\n",
       "      <td>0.0</td>\n",
       "      <td>0.0</td>\n",
       "      <td>0.0</td>\n",
       "    </tr>\n",
       "    <tr>\n",
       "      <th>1</th>\n",
       "      <td>Aber</td>\n",
       "      <td>CF83 1AQ</td>\n",
       "      <td>51.574969</td>\n",
       "      <td>-3.229829</td>\n",
       "      <td>ABE</td>\n",
       "      <td>3813</td>\n",
       "      <td>TfW Rail</td>\n",
       "      <td>228480</td>\n",
       "      <td>245218.0</td>\n",
       "      <td>251108.0</td>\n",
       "      <td>...</td>\n",
       "      <td>0.0</td>\n",
       "      <td>0.0</td>\n",
       "      <td>0.0</td>\n",
       "      <td>0.0</td>\n",
       "      <td>0.0</td>\n",
       "      <td>0.0</td>\n",
       "      <td>0.0</td>\n",
       "      <td>0.0</td>\n",
       "      <td>0.0</td>\n",
       "      <td>0.0</td>\n",
       "    </tr>\n",
       "  </tbody>\n",
       "</table>\n",
       "<p>2 rows × 39 columns</p>\n",
       "</div>"
      ],
      "text/plain": [
       "      Station  Postcode   Latitude  Longitude  TLC   NLC     Owner  \\\n",
       "0  Abbey Wood   SE2 9RH  51.491061   0.121394  ABW  5131  TfL Rail   \n",
       "1        Aber  CF83 1AQ  51.574969  -3.229829  ABE  3813  TfW Rail   \n",
       "\n",
       "   Entries and exits 2020  Entries and exits 2019  Entries and exits 2018  \\\n",
       "0                 3825206               3769402.0               3124856.0   \n",
       "1                  228480                245218.0                251108.0   \n",
       "\n",
       "   ...  Interchanges 2014  Interchanges 2013  Interchanges 2012  \\\n",
       "0  ...                0.0                0.0                0.0   \n",
       "1  ...                0.0                0.0                0.0   \n",
       "\n",
       "   Interchanges 2011  Interchanges 2010  Interchanges 2009  Interchanges 2008  \\\n",
       "0                0.0                0.0                0.0                0.0   \n",
       "1                0.0                0.0                0.0                0.0   \n",
       "\n",
       "   Interchanges 2007  Interchanges 2006  Interchanges 2005  \n",
       "0                0.0                0.0                0.0  \n",
       "1                0.0                0.0                0.0  \n",
       "\n",
       "[2 rows x 39 columns]"
      ]
     },
     "execution_count": 4,
     "metadata": {},
     "output_type": "execute_result"
    }
   ],
   "source": [
    "gb_stations_df.head(2)"
   ]
  },
  {
   "cell_type": "code",
   "execution_count": null,
   "metadata": {},
   "outputs": [],
   "source": [
    "# test_postcodes = ['N15 3AD', 'N4 4AF', 'N10 3QS', 'N15 4AR', 'N15 4JF']"
   ]
  },
  {
   "cell_type": "code",
   "execution_count": 5,
   "metadata": {},
   "outputs": [],
   "source": [
    "# TODO refactor - use less code\n",
    "# TODO Add documentation\n",
    "# TODO experiment using getters and setters for km?\n",
    "class NearestStation:\n",
    "        \n",
    "    def __init__(self, postcode, unit='m'):\n",
    "        self.postcode = postcode.lower()\n",
    "        self.lat_lon = self.geo_dict['lat_lon']\n",
    "        self.unit = unit\n",
    "        self.nearest_station = self.find_nearest_station() #nearest_m TODO\n",
    "        #TODO add nearest in km\n",
    "        \n",
    "    @property\n",
    "    def endpoint(self):\n",
    "        pc = self.postcode.replace(' ','')\n",
    "        return f'http://api.postcodes.io/postcodes/{pc}'\n",
    "    \n",
    "    @property\n",
    "    def geo_dict(self):\n",
    "        geocoded_dict = {}\n",
    "        r = requests.get(self.endpoint)\n",
    "        geocoded_dict['postcode'] = r.json()['result']['postcode']\n",
    "        geocoded_dict['lat_lon'] = (r.json()['result']['latitude'], r.json()['result']['longitude'])\n",
    "        return geocoded_dict\n",
    "    \n",
    "    def find_nearest_station(self): \n",
    "        #TODO give user option to enter their own list of tuples with locations - new function?\n",
    "        if self.unit == 'm':\n",
    "            # could split the below into another function to make clearer - use of HIGHER ORDER FUNCTIONS\n",
    "            distances = [(x[0],round(distance.distance(self.lat_lon, x[1]).miles,1)) for x in GB_STATIONS]\n",
    "            distances.sort(key=lambda x:x[1])\n",
    "            return (distances[0])\n",
    "        elif self.unit == 'km':\n",
    "            distances = [(x[0],round(distance.distance(self.lat_lon, x[1]).km,1)) for x in GB_STATIONS]\n",
    "            distances.sort(key=lambda x:x[1])\n",
    "            return (distances[0])\n",
    "    \n",
    "    def find_nearest_n_stations(self,n):\n",
    "        if self.unit == 'm':\n",
    "            distances = [(x[0],round(distance.distance(self.lat_lon, x[1]).miles,1)) for x in GB_STATIONS]\n",
    "            distances.sort(key=lambda x:x[1])\n",
    "            return (distances[:n])\n",
    "        elif self.unit == 'km':\n",
    "            distances = [(x[0],round(distance.distance(self.lat_lon, x[1]).km,1)) for x in GB_STATIONS]\n",
    "            distances.sort(key=lambda x:x[1])\n",
    "            return (distances[:n])"
   ]
  },
  {
   "cell_type": "code",
   "execution_count": 6,
   "metadata": {},
   "outputs": [],
   "source": [
    "x = NearestStation('N4 4AF', 'km')"
   ]
  },
  {
   "cell_type": "code",
   "execution_count": 7,
   "metadata": {},
   "outputs": [
    {
     "data": {
      "text/plain": [
       "{'postcode': 'N4 4AF', 'lat_lon': (51.573188, -0.10576)}"
      ]
     },
     "execution_count": 7,
     "metadata": {},
     "output_type": "execute_result"
    }
   ],
   "source": [
    "x.geo_dict"
   ]
  },
  {
   "cell_type": "code",
   "execution_count": 8,
   "metadata": {},
   "outputs": [
    {
     "data": {
      "text/plain": [
       "(51.573188, -0.10576)"
      ]
     },
     "execution_count": 8,
     "metadata": {},
     "output_type": "execute_result"
    }
   ],
   "source": [
    "x.lat_lon"
   ]
  },
  {
   "cell_type": "code",
   "execution_count": 9,
   "metadata": {
    "scrolled": true
   },
   "outputs": [
    {
     "data": {
      "text/plain": [
       "'n4 4af'"
      ]
     },
     "execution_count": 9,
     "metadata": {},
     "output_type": "execute_result"
    }
   ],
   "source": [
    "x.postcode"
   ]
  },
  {
   "cell_type": "code",
   "execution_count": 10,
   "metadata": {},
   "outputs": [
    {
     "data": {
      "text/plain": [
       "('Harringay', 0.5)"
      ]
     },
     "execution_count": 10,
     "metadata": {},
     "output_type": "execute_result"
    }
   ],
   "source": [
    "x.nearest_station"
   ]
  },
  {
   "cell_type": "code",
   "execution_count": 12,
   "metadata": {},
   "outputs": [
    {
     "data": {
      "text/plain": [
       "'http://api.postcodes.io/postcodes/n44af'"
      ]
     },
     "execution_count": 12,
     "metadata": {},
     "output_type": "execute_result"
    }
   ],
   "source": [
    "x.endpoint"
   ]
  },
  {
   "cell_type": "code",
   "execution_count": 13,
   "metadata": {},
   "outputs": [
    {
     "data": {
      "text/plain": [
       "'km'"
      ]
     },
     "execution_count": 13,
     "metadata": {},
     "output_type": "execute_result"
    }
   ],
   "source": [
    "x.unit"
   ]
  },
  {
   "cell_type": "code",
   "execution_count": 14,
   "metadata": {},
   "outputs": [],
   "source": [
    "x.unit ='m' #should change unit to miles"
   ]
  },
  {
   "cell_type": "code",
   "execution_count": 15,
   "metadata": {},
   "outputs": [
    {
     "data": {
      "text/plain": [
       "('Harringay', 0.5)"
      ]
     },
     "execution_count": 15,
     "metadata": {},
     "output_type": "execute_result"
    }
   ],
   "source": [
    "x.nearest_station #it does not - you need getters and setters!"
   ]
  },
  {
   "cell_type": "code",
   "execution_count": null,
   "metadata": {},
   "outputs": [],
   "source": [
    "x.find_nearest_station('m')"
   ]
  },
  {
   "cell_type": "code",
   "execution_count": null,
   "metadata": {},
   "outputs": [],
   "source": [
    "x.find_nearest_station('km')"
   ]
  },
  {
   "cell_type": "code",
   "execution_count": null,
   "metadata": {
    "scrolled": false
   },
   "outputs": [],
   "source": [
    "x.find_nearest_n_stations(10)"
   ]
  },
  {
   "cell_type": "code",
   "execution_count": null,
   "metadata": {},
   "outputs": [],
   "source": [
    "x.find_nearest_n_stations(10)"
   ]
  },
  {
   "cell_type": "code",
   "execution_count": null,
   "metadata": {},
   "outputs": [],
   "source": [
    "NearestStation('e17 3ss').nearest_station"
   ]
  },
  {
   "cell_type": "code",
   "execution_count": null,
   "metadata": {},
   "outputs": [],
   "source": [
    "# Clean station data?\n",
    "NearestStation('e17 3ss').find_nearest_n_stations(5)"
   ]
  },
  {
   "cell_type": "code",
   "execution_count": null,
   "metadata": {},
   "outputs": [],
   "source": []
  }
 ],
 "metadata": {
  "kernelspec": {
   "display_name": "Python 3",
   "language": "python",
   "name": "python3"
  },
  "language_info": {
   "codemirror_mode": {
    "name": "ipython",
    "version": 3
   },
   "file_extension": ".py",
   "mimetype": "text/x-python",
   "name": "python",
   "nbconvert_exporter": "python",
   "pygments_lexer": "ipython3",
   "version": "3.7.3"
  }
 },
 "nbformat": 4,
 "nbformat_minor": 2
}
