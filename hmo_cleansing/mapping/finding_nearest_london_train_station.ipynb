{
 "cells": [
  {
   "cell_type": "markdown",
   "metadata": {},
   "source": [
    "# Finding the nearest train/tube station\n",
    "\n",
    "The purpose of this project is to create module that takes a London postcode input e.g. N4 4AF and will output the nearest train station to it."
   ]
  },
  {
   "cell_type": "code",
   "execution_count": 18,
   "metadata": {},
   "outputs": [],
   "source": [
    "import pandas as pd\n",
    "import requests\n",
    "from geopy import distance"
   ]
  },
  {
   "cell_type": "code",
   "execution_count": 2,
   "metadata": {},
   "outputs": [],
   "source": [
    "# A csv file of london stations can be downloaded from this link\n",
    "# https://www.doogal.co.uk/london_stations.php\n",
    "# TODO change to all gb stations so it is not london centric\n",
    "\n",
    "london_stations = pd.read_csv('london_stations.csv')"
   ]
  },
  {
   "cell_type": "code",
   "execution_count": 3,
   "metadata": {},
   "outputs": [
    {
     "data": {
      "text/html": [
       "<div>\n",
       "<style scoped>\n",
       "    .dataframe tbody tr th:only-of-type {\n",
       "        vertical-align: middle;\n",
       "    }\n",
       "\n",
       "    .dataframe tbody tr th {\n",
       "        vertical-align: top;\n",
       "    }\n",
       "\n",
       "    .dataframe thead th {\n",
       "        text-align: right;\n",
       "    }\n",
       "</style>\n",
       "<table border=\"1\" class=\"dataframe\">\n",
       "  <thead>\n",
       "    <tr style=\"text-align: right;\">\n",
       "      <th></th>\n",
       "      <th>Station</th>\n",
       "      <th>OS X</th>\n",
       "      <th>OS Y</th>\n",
       "      <th>Latitude</th>\n",
       "      <th>Longitude</th>\n",
       "      <th>Zone</th>\n",
       "      <th>Postcode</th>\n",
       "    </tr>\n",
       "  </thead>\n",
       "  <tbody>\n",
       "    <tr>\n",
       "      <th>0</th>\n",
       "      <td>Abbey Road</td>\n",
       "      <td>539081</td>\n",
       "      <td>183352</td>\n",
       "      <td>51.531952</td>\n",
       "      <td>0.003723</td>\n",
       "      <td>3</td>\n",
       "      <td>E15 3NB</td>\n",
       "    </tr>\n",
       "    <tr>\n",
       "      <th>1</th>\n",
       "      <td>Abbey Wood</td>\n",
       "      <td>547297</td>\n",
       "      <td>179002</td>\n",
       "      <td>51.490784</td>\n",
       "      <td>0.120272</td>\n",
       "      <td>4</td>\n",
       "      <td>SE2 9RH</td>\n",
       "    </tr>\n",
       "    <tr>\n",
       "      <th>2</th>\n",
       "      <td>Acton Central</td>\n",
       "      <td>520613</td>\n",
       "      <td>180299</td>\n",
       "      <td>51.508758</td>\n",
       "      <td>-0.263430</td>\n",
       "      <td>2</td>\n",
       "      <td>W3 6BH</td>\n",
       "    </tr>\n",
       "    <tr>\n",
       "      <th>3</th>\n",
       "      <td>Acton Main Line</td>\n",
       "      <td>520296</td>\n",
       "      <td>181196</td>\n",
       "      <td>51.516887</td>\n",
       "      <td>-0.267690</td>\n",
       "      <td>3</td>\n",
       "      <td>W3 9EH</td>\n",
       "    </tr>\n",
       "    <tr>\n",
       "      <th>4</th>\n",
       "      <td>Acton Town</td>\n",
       "      <td>519457</td>\n",
       "      <td>179639</td>\n",
       "      <td>51.503071</td>\n",
       "      <td>-0.280303</td>\n",
       "      <td>3</td>\n",
       "      <td>W3 8HN</td>\n",
       "    </tr>\n",
       "  </tbody>\n",
       "</table>\n",
       "</div>"
      ],
      "text/plain": [
       "           Station    OS X    OS Y   Latitude  Longitude Zone Postcode\n",
       "0       Abbey Road  539081  183352  51.531952   0.003723    3  E15 3NB\n",
       "1       Abbey Wood  547297  179002  51.490784   0.120272    4  SE2 9RH\n",
       "2    Acton Central  520613  180299  51.508758  -0.263430    2   W3 6BH\n",
       "3  Acton Main Line  520296  181196  51.516887  -0.267690    3   W3 9EH\n",
       "4       Acton Town  519457  179639  51.503071  -0.280303    3   W3 8HN"
      ]
     },
     "execution_count": 3,
     "metadata": {},
     "output_type": "execute_result"
    }
   ],
   "source": [
    "london_stations.head()"
   ]
  },
  {
   "cell_type": "code",
   "execution_count": 4,
   "metadata": {},
   "outputs": [],
   "source": [
    "test_postcodes = ['N15 3AD', 'N4 4AF', 'N10 3QS', 'N15 4AR', 'N15 4JF']"
   ]
  },
  {
   "cell_type": "code",
   "execution_count": 5,
   "metadata": {},
   "outputs": [],
   "source": [
    "# 1. Geocode postcode data using api\n",
    "\n",
    "# create endpoint\n",
    "def create_endpoint(postcode):\n",
    "    postcode = postcode.replace(' ','').lower()\n",
    "    output = f'http://api.postcodes.io/postcodes/{postcode}'\n",
    "    return output"
   ]
  },
  {
   "cell_type": "code",
   "execution_count": 6,
   "metadata": {
    "scrolled": false
   },
   "outputs": [
    {
     "data": {
      "text/plain": [
       "'http://api.postcodes.io/postcodes/n153ad'"
      ]
     },
     "execution_count": 6,
     "metadata": {},
     "output_type": "execute_result"
    }
   ],
   "source": [
    "create_endpoint(test_postcodes[0])"
   ]
  },
  {
   "cell_type": "code",
   "execution_count": 7,
   "metadata": {},
   "outputs": [],
   "source": [
    "# get data from endpoint\n",
    "r = requests.get(create_endpoint(test_postcodes[0]))"
   ]
  },
  {
   "cell_type": "code",
   "execution_count": 8,
   "metadata": {},
   "outputs": [
    {
     "data": {
      "text/plain": [
       "200"
      ]
     },
     "execution_count": 8,
     "metadata": {},
     "output_type": "execute_result"
    }
   ],
   "source": [
    "r.status_code"
   ]
  },
  {
   "cell_type": "code",
   "execution_count": 9,
   "metadata": {},
   "outputs": [
    {
     "data": {
      "text/plain": [
       "{'status': 200,\n",
       " 'result': {'postcode': 'N15 3AD',\n",
       "  'quality': 1,\n",
       "  'eastings': 532236,\n",
       "  'northings': 188920,\n",
       "  'country': 'England',\n",
       "  'nhs_ha': 'London',\n",
       "  'longitude': -0.092808,\n",
       "  'latitude': 51.583631,\n",
       "  'european_electoral_region': 'London',\n",
       "  'primary_care_trust': 'Haringey Teaching',\n",
       "  'region': 'London',\n",
       "  'lsoa': 'Haringey 026A',\n",
       "  'msoa': 'Haringey 026',\n",
       "  'incode': '3AD',\n",
       "  'outcode': 'N15',\n",
       "  'parliamentary_constituency': 'Tottenham',\n",
       "  'admin_district': 'Haringey',\n",
       "  'parish': 'Haringey, unparished area',\n",
       "  'admin_county': None,\n",
       "  'admin_ward': \"St Ann's\",\n",
       "  'ced': None,\n",
       "  'ccg': 'NHS North Central London',\n",
       "  'nuts': 'Haringey and Islington',\n",
       "  'codes': {'admin_district': 'E09000014',\n",
       "   'admin_county': 'E99999999',\n",
       "   'admin_ward': 'E05000277',\n",
       "   'parish': 'E43000204',\n",
       "   'parliamentary_constituency': 'E14001002',\n",
       "   'ccg': 'E38000240',\n",
       "   'ccg_id': '93C',\n",
       "   'ced': 'E99999999',\n",
       "   'nuts': 'UKI43',\n",
       "   'lsoa': 'E01002043',\n",
       "   'msoa': 'E02000422',\n",
       "   'lau2': 'E05000277'}}}"
      ]
     },
     "execution_count": 9,
     "metadata": {},
     "output_type": "execute_result"
    }
   ],
   "source": [
    "r.json()"
   ]
  },
  {
   "cell_type": "code",
   "execution_count": 10,
   "metadata": {},
   "outputs": [
    {
     "data": {
      "text/plain": [
       "'N15 3AD'"
      ]
     },
     "execution_count": 10,
     "metadata": {},
     "output_type": "execute_result"
    }
   ],
   "source": [
    "r.json()['result']['postcode']"
   ]
  },
  {
   "cell_type": "code",
   "execution_count": 11,
   "metadata": {},
   "outputs": [
    {
     "data": {
      "text/plain": [
       "-0.092808"
      ]
     },
     "execution_count": 11,
     "metadata": {},
     "output_type": "execute_result"
    }
   ],
   "source": [
    "r.json()['result']['longitude']"
   ]
  },
  {
   "cell_type": "code",
   "execution_count": 12,
   "metadata": {},
   "outputs": [
    {
     "data": {
      "text/plain": [
       "51.583631"
      ]
     },
     "execution_count": 12,
     "metadata": {},
     "output_type": "execute_result"
    }
   ],
   "source": [
    "r.json()['result']['latitude']"
   ]
  },
  {
   "cell_type": "code",
   "execution_count": 46,
   "metadata": {},
   "outputs": [],
   "source": [
    "# TODO for each postcode request \n",
    "# create a dictionary that looks like {'postcode': 'N15 3AD', 'longitude': -0.092808, 'latitude': 51.583631}\n",
    "# define a function to do this\n",
    "def get_long_lat(endpoint):\n",
    "    output_dict = {}\n",
    "    r = requests.get(endpoint)\n",
    "    output_dict['postcode'] = r.json()['result']['postcode']\n",
    "#     output_dict['longitude'] = r.json()['result']['longitude'] # TODO delete\n",
    "#     output_dict['latitude'] = r.json()['result']['latitude'] #TODO delete\n",
    "    output_dict['lat_lon'] = (r.json()['result']['latitude'], r.json()['result']['longitude'])\n",
    "    return output_dict\n",
    "\n",
    "# Once this is done you will have successfully geocoded the data woohoo!"
   ]
  },
  {
   "cell_type": "code",
   "execution_count": 47,
   "metadata": {},
   "outputs": [],
   "source": [
    "test_dict = get_long_lat(create_endpoint(test_postcodes[0]))"
   ]
  },
  {
   "cell_type": "code",
   "execution_count": 48,
   "metadata": {},
   "outputs": [
    {
     "data": {
      "text/plain": [
       "{'postcode': 'N15 3AD', 'lat_lon': (51.583631, -0.092808)}"
      ]
     },
     "execution_count": 48,
     "metadata": {},
     "output_type": "execute_result"
    }
   ],
   "source": [
    "test_dict"
   ]
  },
  {
   "cell_type": "code",
   "execution_count": 49,
   "metadata": {},
   "outputs": [
    {
     "data": {
      "text/plain": [
       "(51.583631, -0.092808)"
      ]
     },
     "execution_count": 49,
     "metadata": {},
     "output_type": "execute_result"
    }
   ],
   "source": [
    "test_dict['lat_lon']"
   ]
  },
  {
   "cell_type": "code",
   "execution_count": 16,
   "metadata": {},
   "outputs": [],
   "source": [
    "# TODO: Combine endpoint creation with getting long and lat so the get_long_long_lat takes a postcode as an input"
   ]
  },
  {
   "cell_type": "code",
   "execution_count": 55,
   "metadata": {},
   "outputs": [
    {
     "data": {
      "text/html": [
       "<div>\n",
       "<style scoped>\n",
       "    .dataframe tbody tr th:only-of-type {\n",
       "        vertical-align: middle;\n",
       "    }\n",
       "\n",
       "    .dataframe tbody tr th {\n",
       "        vertical-align: top;\n",
       "    }\n",
       "\n",
       "    .dataframe thead th {\n",
       "        text-align: right;\n",
       "    }\n",
       "</style>\n",
       "<table border=\"1\" class=\"dataframe\">\n",
       "  <thead>\n",
       "    <tr style=\"text-align: right;\">\n",
       "      <th></th>\n",
       "      <th>Station</th>\n",
       "      <th>OS X</th>\n",
       "      <th>OS Y</th>\n",
       "      <th>Latitude</th>\n",
       "      <th>Longitude</th>\n",
       "      <th>Zone</th>\n",
       "      <th>Postcode</th>\n",
       "    </tr>\n",
       "  </thead>\n",
       "  <tbody>\n",
       "    <tr>\n",
       "      <th>60</th>\n",
       "      <td>Blackhorse Road</td>\n",
       "      <td>535914</td>\n",
       "      <td>189256</td>\n",
       "      <td>51.585777</td>\n",
       "      <td>-0.039626</td>\n",
       "      <td>3</td>\n",
       "      <td>E17 6JJ</td>\n",
       "    </tr>\n",
       "    <tr>\n",
       "      <th>562</th>\n",
       "      <td>Tottenham Hale</td>\n",
       "      <td>534483</td>\n",
       "      <td>189465</td>\n",
       "      <td>51.587998</td>\n",
       "      <td>-0.060188</td>\n",
       "      <td>3</td>\n",
       "      <td>N17 9LR</td>\n",
       "    </tr>\n",
       "    <tr>\n",
       "      <th>586</th>\n",
       "      <td>Walthamstow Central</td>\n",
       "      <td>537286</td>\n",
       "      <td>188986</td>\n",
       "      <td>51.583018</td>\n",
       "      <td>-0.019941</td>\n",
       "      <td>3</td>\n",
       "      <td>E17 7LP</td>\n",
       "    </tr>\n",
       "  </tbody>\n",
       "</table>\n",
       "</div>"
      ],
      "text/plain": [
       "                 Station    OS X    OS Y   Latitude  Longitude Zone Postcode\n",
       "60       Blackhorse Road  535914  189256  51.585777  -0.039626    3  E17 6JJ\n",
       "562       Tottenham Hale  534483  189465  51.587998  -0.060188    3  N17 9LR\n",
       "586  Walthamstow Central  537286  188986  51.583018  -0.019941    3  E17 7LP"
      ]
     },
     "execution_count": 55,
     "metadata": {},
     "output_type": "execute_result"
    }
   ],
   "source": [
    "london_stations[london_stations['Station'].isin(['Blackhorse Road', 'Walthamstow Central', 'Tottenham Hale'])]"
   ]
  },
  {
   "cell_type": "code",
   "execution_count": 57,
   "metadata": {},
   "outputs": [
    {
     "name": "stdout",
     "output_type": "stream",
     "text": [
      "1.4369277331214914\n",
      "2.3125110257326735\n"
     ]
    }
   ],
   "source": [
    "# measure distance between two points\n",
    "\n",
    "# test with postcode\n",
    "# distance.distance((lat, lon), (lat, lon))\n",
    "\n",
    "print(distance.distance(test_dict['lat_lon'], (51.587998, -0.060188)).miles)\n",
    "print(distance.distance(test_dict['lat_lon'], (51.587998, -0.060188)).km)"
   ]
  },
  {
   "cell_type": "code",
   "execution_count": 36,
   "metadata": {},
   "outputs": [
    {
     "data": {
      "text/plain": [
       "0.9869758121665563"
      ]
     },
     "execution_count": 36,
     "metadata": {},
     "output_type": "execute_result"
    }
   ],
   "source": [
    "distance.distance((51.599983, -0.037353), (51.585777, -0.039626)).miles"
   ]
  },
  {
   "cell_type": "code",
   "execution_count": 37,
   "metadata": {},
   "outputs": [
    {
     "data": {
      "text/plain": [
       "1.5883836014553745"
      ]
     },
     "execution_count": 37,
     "metadata": {},
     "output_type": "execute_result"
    }
   ],
   "source": [
    "distance.distance((51.599983, -0.037353), (51.585777, -0.039626)).km"
   ]
  },
  {
   "cell_type": "code",
   "execution_count": null,
   "metadata": {},
   "outputs": [],
   "source": []
  }
 ],
 "metadata": {
  "kernelspec": {
   "display_name": "Python 3",
   "language": "python",
   "name": "python3"
  },
  "language_info": {
   "codemirror_mode": {
    "name": "ipython",
    "version": 3
   },
   "file_extension": ".py",
   "mimetype": "text/x-python",
   "name": "python",
   "nbconvert_exporter": "python",
   "pygments_lexer": "ipython3",
   "version": "3.7.3"
  }
 },
 "nbformat": 4,
 "nbformat_minor": 2
}
