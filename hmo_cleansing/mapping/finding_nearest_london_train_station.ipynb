{
 "cells": [
  {
   "cell_type": "markdown",
   "metadata": {},
   "source": [
    "# Finding the nearest train/tube station\n",
    "\n",
    "The purpose of this project is to create module that takes a London postcode input e.g. N4 4AF and will output the nearest train station to it."
   ]
  },
  {
   "cell_type": "code",
   "execution_count": 1,
   "metadata": {},
   "outputs": [],
   "source": [
    "import pandas as pd\n",
    "import requests\n",
    "from geopy import distance"
   ]
  },
  {
   "cell_type": "code",
   "execution_count": 2,
   "metadata": {},
   "outputs": [],
   "source": [
    "# A csv file of london stations can be downloaded from this link\n",
    "# https://www.doogal.co.uk/london_stations.php\n",
    "# TODO change to all gb stations so it is not london centric\n",
    "\n",
    "london_stations = pd.read_csv('london_stations.csv')"
   ]
  },
  {
   "cell_type": "code",
   "execution_count": 3,
   "metadata": {},
   "outputs": [
    {
     "data": {
      "text/html": [
       "<div>\n",
       "<style scoped>\n",
       "    .dataframe tbody tr th:only-of-type {\n",
       "        vertical-align: middle;\n",
       "    }\n",
       "\n",
       "    .dataframe tbody tr th {\n",
       "        vertical-align: top;\n",
       "    }\n",
       "\n",
       "    .dataframe thead th {\n",
       "        text-align: right;\n",
       "    }\n",
       "</style>\n",
       "<table border=\"1\" class=\"dataframe\">\n",
       "  <thead>\n",
       "    <tr style=\"text-align: right;\">\n",
       "      <th></th>\n",
       "      <th>Station</th>\n",
       "      <th>OS X</th>\n",
       "      <th>OS Y</th>\n",
       "      <th>Latitude</th>\n",
       "      <th>Longitude</th>\n",
       "      <th>Zone</th>\n",
       "      <th>Postcode</th>\n",
       "    </tr>\n",
       "  </thead>\n",
       "  <tbody>\n",
       "    <tr>\n",
       "      <th>0</th>\n",
       "      <td>Abbey Road</td>\n",
       "      <td>539081</td>\n",
       "      <td>183352</td>\n",
       "      <td>51.531952</td>\n",
       "      <td>0.003723</td>\n",
       "      <td>3</td>\n",
       "      <td>E15 3NB</td>\n",
       "    </tr>\n",
       "    <tr>\n",
       "      <th>1</th>\n",
       "      <td>Abbey Wood</td>\n",
       "      <td>547297</td>\n",
       "      <td>179002</td>\n",
       "      <td>51.490784</td>\n",
       "      <td>0.120272</td>\n",
       "      <td>4</td>\n",
       "      <td>SE2 9RH</td>\n",
       "    </tr>\n",
       "    <tr>\n",
       "      <th>2</th>\n",
       "      <td>Acton Central</td>\n",
       "      <td>520613</td>\n",
       "      <td>180299</td>\n",
       "      <td>51.508758</td>\n",
       "      <td>-0.263430</td>\n",
       "      <td>2</td>\n",
       "      <td>W3 6BH</td>\n",
       "    </tr>\n",
       "    <tr>\n",
       "      <th>3</th>\n",
       "      <td>Acton Main Line</td>\n",
       "      <td>520296</td>\n",
       "      <td>181196</td>\n",
       "      <td>51.516887</td>\n",
       "      <td>-0.267690</td>\n",
       "      <td>3</td>\n",
       "      <td>W3 9EH</td>\n",
       "    </tr>\n",
       "    <tr>\n",
       "      <th>4</th>\n",
       "      <td>Acton Town</td>\n",
       "      <td>519457</td>\n",
       "      <td>179639</td>\n",
       "      <td>51.503071</td>\n",
       "      <td>-0.280303</td>\n",
       "      <td>3</td>\n",
       "      <td>W3 8HN</td>\n",
       "    </tr>\n",
       "  </tbody>\n",
       "</table>\n",
       "</div>"
      ],
      "text/plain": [
       "           Station    OS X    OS Y   Latitude  Longitude Zone Postcode\n",
       "0       Abbey Road  539081  183352  51.531952   0.003723    3  E15 3NB\n",
       "1       Abbey Wood  547297  179002  51.490784   0.120272    4  SE2 9RH\n",
       "2    Acton Central  520613  180299  51.508758  -0.263430    2   W3 6BH\n",
       "3  Acton Main Line  520296  181196  51.516887  -0.267690    3   W3 9EH\n",
       "4       Acton Town  519457  179639  51.503071  -0.280303    3   W3 8HN"
      ]
     },
     "execution_count": 3,
     "metadata": {},
     "output_type": "execute_result"
    }
   ],
   "source": [
    "london_stations.head()"
   ]
  },
  {
   "cell_type": "code",
   "execution_count": 4,
   "metadata": {},
   "outputs": [],
   "source": [
    "test_postcodes = ['N15 3AD', 'N4 4AF', 'N10 3QS', 'N15 4AR', 'N15 4JF']"
   ]
  },
  {
   "cell_type": "code",
   "execution_count": 5,
   "metadata": {},
   "outputs": [],
   "source": [
    "# 1. Geocode postcode data using api\n",
    "\n",
    "# create endpoint\n",
    "def create_endpoint(postcode):\n",
    "    postcode = postcode.replace(' ','').lower()\n",
    "    output = f'http://api.postcodes.io/postcodes/{postcode}'\n",
    "    return output"
   ]
  },
  {
   "cell_type": "code",
   "execution_count": 6,
   "metadata": {
    "scrolled": false
   },
   "outputs": [
    {
     "data": {
      "text/plain": [
       "'http://api.postcodes.io/postcodes/n153ad'"
      ]
     },
     "execution_count": 6,
     "metadata": {},
     "output_type": "execute_result"
    }
   ],
   "source": [
    "create_endpoint(test_postcodes[0])"
   ]
  },
  {
   "cell_type": "code",
   "execution_count": 7,
   "metadata": {},
   "outputs": [],
   "source": [
    "# Get longitude and latitude for the code\n",
    "def get_long_lat(postcode):\n",
    "    endpoint = create_endpoint(postcode)\n",
    "    output_dict = {}\n",
    "    r = requests.get(endpoint)\n",
    "    output_dict['postcode'] = r.json()['result']['postcode']\n",
    "    output_dict['lat_lon'] = (r.json()['result']['latitude'], r.json()['result']['longitude'])\n",
    "    return output_dict"
   ]
  },
  {
   "cell_type": "code",
   "execution_count": 8,
   "metadata": {},
   "outputs": [],
   "source": [
    "test_dict = get_long_lat(test_postcodes[0])"
   ]
  },
  {
   "cell_type": "code",
   "execution_count": 9,
   "metadata": {},
   "outputs": [
    {
     "data": {
      "text/plain": [
       "{'postcode': 'N15 3AD', 'lat_lon': (51.583631, -0.092808)}"
      ]
     },
     "execution_count": 9,
     "metadata": {},
     "output_type": "execute_result"
    }
   ],
   "source": [
    "test_dict"
   ]
  },
  {
   "cell_type": "code",
   "execution_count": 36,
   "metadata": {},
   "outputs": [
    {
     "name": "stdout",
     "output_type": "stream",
     "text": [
      "1.4369277331214914\n",
      "2.3125110257326735\n"
     ]
    }
   ],
   "source": [
    "# measure distance between two points\n",
    "\n",
    "# test with postcode\n",
    "# distance.distance((lat, lon), (lat, lon))\n",
    "\n",
    "print(distance.distance(test_dict['lat_lon'], (51.587998, -0.060188)).miles)\n",
    "print(distance.distance(test_dict['lat_lon'], (51.587998, -0.060188)).km)"
   ]
  },
  {
   "cell_type": "code",
   "execution_count": 50,
   "metadata": {},
   "outputs": [
    {
     "data": {
      "text/html": [
       "<div>\n",
       "<style scoped>\n",
       "    .dataframe tbody tr th:only-of-type {\n",
       "        vertical-align: middle;\n",
       "    }\n",
       "\n",
       "    .dataframe tbody tr th {\n",
       "        vertical-align: top;\n",
       "    }\n",
       "\n",
       "    .dataframe thead th {\n",
       "        text-align: right;\n",
       "    }\n",
       "</style>\n",
       "<table border=\"1\" class=\"dataframe\">\n",
       "  <thead>\n",
       "    <tr style=\"text-align: right;\">\n",
       "      <th></th>\n",
       "      <th>Station</th>\n",
       "      <th>Latitude</th>\n",
       "      <th>Longitude</th>\n",
       "    </tr>\n",
       "  </thead>\n",
       "  <tbody>\n",
       "    <tr>\n",
       "      <th>0</th>\n",
       "      <td>Abbey Road</td>\n",
       "      <td>51.531952</td>\n",
       "      <td>0.003723</td>\n",
       "    </tr>\n",
       "    <tr>\n",
       "      <th>4</th>\n",
       "      <td>Acton Town</td>\n",
       "      <td>51.503071</td>\n",
       "      <td>-0.280303</td>\n",
       "    </tr>\n",
       "    <tr>\n",
       "      <th>60</th>\n",
       "      <td>Blackhorse Road</td>\n",
       "      <td>51.585777</td>\n",
       "      <td>-0.039626</td>\n",
       "    </tr>\n",
       "    <tr>\n",
       "      <th>562</th>\n",
       "      <td>Tottenham Hale</td>\n",
       "      <td>51.587998</td>\n",
       "      <td>-0.060188</td>\n",
       "    </tr>\n",
       "    <tr>\n",
       "      <th>586</th>\n",
       "      <td>Walthamstow Central</td>\n",
       "      <td>51.583018</td>\n",
       "      <td>-0.019941</td>\n",
       "    </tr>\n",
       "  </tbody>\n",
       "</table>\n",
       "</div>"
      ],
      "text/plain": [
       "                 Station   Latitude  Longitude\n",
       "0             Abbey Road  51.531952   0.003723\n",
       "4             Acton Town  51.503071  -0.280303\n",
       "60       Blackhorse Road  51.585777  -0.039626\n",
       "562       Tottenham Hale  51.587998  -0.060188\n",
       "586  Walthamstow Central  51.583018  -0.019941"
      ]
     },
     "execution_count": 50,
     "metadata": {},
     "output_type": "execute_result"
    }
   ],
   "source": [
    "london_stations[['Station', 'Latitude', 'Longitude']][london_stations['Station'].isin(['Abbey Road','Walthamstow Central', 'Tottenham Hale','Blackhorse Road', 'Acton Town'])]"
   ]
  },
  {
   "cell_type": "code",
   "execution_count": 51,
   "metadata": {},
   "outputs": [],
   "source": [
    "test_stations_array = london_stations[['Station', 'Latitude', 'Longitude']][london_stations['Station'].isin(['Abbey Road','Walthamstow Central', 'Tottenham Hale','Blackhorse Road', 'Acton Town'])].values"
   ]
  },
  {
   "cell_type": "code",
   "execution_count": 52,
   "metadata": {},
   "outputs": [
    {
     "data": {
      "text/plain": [
       "array([['Abbey Road', 51.5319519867171, 0.00372337109717115],\n",
       "       ['Acton Town', 51.503071442963495, -0.28030270140601],\n",
       "       ['Blackhorse Road', 51.5857766270677, -0.0396257115532134],\n",
       "       ['Tottenham Hale', 51.587997778177204, -0.0601878226919314],\n",
       "       ['Walthamstow Central', 51.5830181133671, -0.0199405450269344]],\n",
       "      dtype=object)"
      ]
     },
     "execution_count": 52,
     "metadata": {},
     "output_type": "execute_result"
    }
   ],
   "source": [
    "test_stations_array"
   ]
  },
  {
   "cell_type": "code",
   "execution_count": 53,
   "metadata": {},
   "outputs": [],
   "source": [
    "test_stations_list = []\n",
    "for x in test_stations_array:\n",
    "#     print(x)\n",
    "    test_stations_list.append((x[0],(x[1],x[2])))"
   ]
  },
  {
   "cell_type": "code",
   "execution_count": 54,
   "metadata": {},
   "outputs": [
    {
     "data": {
      "text/plain": [
       "[('Abbey Road', (51.5319519867171, 0.00372337109717115)),\n",
       " ('Acton Town', (51.503071442963495, -0.28030270140601)),\n",
       " ('Blackhorse Road', (51.5857766270677, -0.0396257115532134)),\n",
       " ('Tottenham Hale', (51.587997778177204, -0.0601878226919314)),\n",
       " ('Walthamstow Central', (51.5830181133671, -0.0199405450269344))]"
      ]
     },
     "execution_count": 54,
     "metadata": {},
     "output_type": "execute_result"
    }
   ],
   "source": [
    "test_stations_list"
   ]
  },
  {
   "cell_type": "code",
   "execution_count": 55,
   "metadata": {},
   "outputs": [
    {
     "name": "stdout",
     "output_type": "stream",
     "text": [
      "Abbey Road\n",
      "5.025171918618285\n",
      "----------------------\n",
      "Acton Town\n",
      "12.431002035647179\n",
      "----------------------\n",
      "Blackhorse Road\n",
      "0.987000235581216\n",
      "----------------------\n",
      "Tottenham Hale\n",
      "1.2858224644792422\n",
      "----------------------\n",
      "Walthamstow Central\n",
      "1.3920408584392348\n",
      "----------------------\n"
     ]
    }
   ],
   "source": [
    "# TODO Create a function to iterate through a list of stations and return that data\n",
    "for x in test_stations_list:\n",
    "    print(x[0])\n",
    "#     print(distance.distance(test_dict['lat_lon'], x[1]).miles)\n",
    "    print(distance.distance(get_long_lat('e17 5pq')['lat_lon'], x[1]).miles)\n",
    "    print('----------------------')\n",
    "\n",
    "# TODO get distance in km also    \n",
    "# TODO create a list of tuples\n",
    "# TODO Sort list of tuples by second key (which is the distance in miles)\n",
    "# https://stackoverflow.com/questions/8459231/sort-tuples-based-on-second-parameter"
   ]
  },
  {
   "cell_type": "code",
   "execution_count": 56,
   "metadata": {},
   "outputs": [
    {
     "name": "stdout",
     "output_type": "stream",
     "text": [
      "Abbey Road\n",
      "5.025171918618285\n",
      "----------------------\n",
      "Acton Town\n",
      "12.431002035647179\n",
      "----------------------\n",
      "Blackhorse Road\n",
      "0.987000235581216\n",
      "----------------------\n",
      "Tottenham Hale\n",
      "1.2858224644792422\n",
      "----------------------\n",
      "Walthamstow Central\n",
      "1.3920408584392348\n",
      "----------------------\n"
     ]
    }
   ],
   "source": [
    "list_of_distances_in_m = []\n",
    "for x in test_stations_list:\n",
    "    print(x[0])\n",
    "#     print(distance.distance(test_dict['lat_lon'], x[1]).miles)\n",
    "    print(distance.distance(get_long_lat('e17 5pq')['lat_lon'], x[1]).miles)\n",
    "    print('----------------------')\n",
    "    list_of_distances_in_m.append((x[0],distance.distance(get_long_lat('e17 5pq')['lat_lon'], x[1]).miles))\n"
   ]
  },
  {
   "cell_type": "code",
   "execution_count": 57,
   "metadata": {},
   "outputs": [
    {
     "data": {
      "text/plain": [
       "[('Abbey Road', 5.025171918618285),\n",
       " ('Acton Town', 12.431002035647179),\n",
       " ('Blackhorse Road', 0.987000235581216),\n",
       " ('Tottenham Hale', 1.2858224644792422),\n",
       " ('Walthamstow Central', 1.3920408584392348)]"
      ]
     },
     "execution_count": 57,
     "metadata": {},
     "output_type": "execute_result"
    }
   ],
   "source": [
    "list_of_distances_in_m"
   ]
  },
  {
   "cell_type": "code",
   "execution_count": 60,
   "metadata": {},
   "outputs": [],
   "source": [
    "# TODO Get the smallest distance from the list of distances\n",
    "\n",
    "list_of_distances_in_m.sort(key=lambda x:x[1]) #sorts in place"
   ]
  },
  {
   "cell_type": "code",
   "execution_count": 61,
   "metadata": {},
   "outputs": [
    {
     "data": {
      "text/plain": [
       "[('Blackhorse Road', 0.987000235581216),\n",
       " ('Tottenham Hale', 1.2858224644792422),\n",
       " ('Walthamstow Central', 1.3920408584392348),\n",
       " ('Abbey Road', 5.025171918618285),\n",
       " ('Acton Town', 12.431002035647179)]"
      ]
     },
     "execution_count": 61,
     "metadata": {},
     "output_type": "execute_result"
    }
   ],
   "source": [
    "list_of_distances_in_m"
   ]
  },
  {
   "cell_type": "code",
   "execution_count": 62,
   "metadata": {},
   "outputs": [
    {
     "data": {
      "text/plain": [
       "('Blackhorse Road', 0.987000235581216)"
      ]
     },
     "execution_count": 62,
     "metadata": {},
     "output_type": "execute_result"
    }
   ],
   "source": [
    "list_of_distances_in_m[0] #get smallest distance"
   ]
  },
  {
   "cell_type": "code",
   "execution_count": null,
   "metadata": {},
   "outputs": [],
   "source": []
  }
 ],
 "metadata": {
  "kernelspec": {
   "display_name": "Python 3",
   "language": "python",
   "name": "python3"
  },
  "language_info": {
   "codemirror_mode": {
    "name": "ipython",
    "version": 3
   },
   "file_extension": ".py",
   "mimetype": "text/x-python",
   "name": "python",
   "nbconvert_exporter": "python",
   "pygments_lexer": "ipython3",
   "version": "3.7.3"
  }
 },
 "nbformat": 4,
 "nbformat_minor": 2
}
