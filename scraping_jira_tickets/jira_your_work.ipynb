{
 "cells": [
  {
   "cell_type": "code",
   "execution_count": 1,
   "metadata": {},
   "outputs": [],
   "source": [
    "import pandas as pd\n",
    "from bs4 import BeautifulSoup\n",
    "import re"
   ]
  },
  {
   "cell_type": "code",
   "execution_count": 2,
   "metadata": {},
   "outputs": [],
   "source": [
    "class JiraTickets:\n",
    "    def __init__(self, file):\n",
    "        self.file = file\n",
    "        self._tickets_soup = self._make_soup()\n",
    "        self._all_tickets = self._get_all_ticket_info()\n",
    "        self._dict_keys = ['span_class','small_class','title', 'ticket_ref','other','group','status']\n",
    "        self.tickets_df = self._create_tickets_df()\n",
    "        self.tickets_count = len(self.tickets_df)\n",
    "    \n",
    "    def _make_soup(self):\n",
    "        return BeautifulSoup(open(self.file), \"lxml\")\n",
    "    \n",
    "    def _get_all_ticket_info(self):\n",
    "        attr_value_regex = re.compile(r\"global-pages.home.ui.tab-container.tab.item-list.item-link#issue-[0-9]{6}\")\n",
    "        all_tickets = self._tickets_soup.find_all(attrs={\"data-test-id\":attr_value_regex})\n",
    "        return all_tickets\n",
    "    \n",
    "    def _create_ticket_dict(self, x):\n",
    "    #   Find all span tags  \n",
    "        data = x.find_all('span')\n",
    "    #   Flatten list of lists into a single list of string items\n",
    "        flat_data = [str(item) for sublist in data for item in sublist]\n",
    "    #   Create dict\n",
    "        output = dict(zip(self._dict_keys, flat_data))\n",
    "    #     output['url'] = TODO add format url in here e.g. f'https://{domain}.atlassian.net/browse/{ticket_ref}'\n",
    "        return output\n",
    "    \n",
    "    def _create_tickets_df(self):    \n",
    "        dict_output = []\n",
    "        for x in self._all_tickets:\n",
    "            dict_output.append(self._create_ticket_dict(x))\n",
    "        df = pd.DataFrame(dict_output)  \n",
    "        return df[self._dict_keys]\n",
    "    "
   ]
  },
  {
   "cell_type": "code",
   "execution_count": 3,
   "metadata": {},
   "outputs": [],
   "source": [
    "my_file = 'jira_your_work.htm'"
   ]
  },
  {
   "cell_type": "code",
   "execution_count": 4,
   "metadata": {},
   "outputs": [],
   "source": [
    "x = JiraTickets(my_file)"
   ]
  },
  {
   "cell_type": "code",
   "execution_count": 5,
   "metadata": {
    "scrolled": true
   },
   "outputs": [
    {
     "data": {
      "text/plain": [
       "'jira_your_work.htm'"
      ]
     },
     "execution_count": 5,
     "metadata": {},
     "output_type": "execute_result"
    }
   ],
   "source": [
    "x.file"
   ]
  },
  {
   "cell_type": "code",
   "execution_count": 6,
   "metadata": {},
   "outputs": [
    {
     "data": {
      "text/html": [
       "<div>\n",
       "<style scoped>\n",
       "    .dataframe tbody tr th:only-of-type {\n",
       "        vertical-align: middle;\n",
       "    }\n",
       "\n",
       "    .dataframe tbody tr th {\n",
       "        vertical-align: top;\n",
       "    }\n",
       "\n",
       "    .dataframe thead th {\n",
       "        text-align: right;\n",
       "    }\n",
       "</style>\n",
       "<table border=\"1\" class=\"dataframe\">\n",
       "  <thead>\n",
       "    <tr style=\"text-align: right;\">\n",
       "      <th></th>\n",
       "      <th>span_class</th>\n",
       "      <th>small_class</th>\n",
       "      <th>title</th>\n",
       "      <th>ticket_ref</th>\n",
       "      <th>other</th>\n",
       "      <th>group</th>\n",
       "      <th>status</th>\n",
       "    </tr>\n",
       "  </thead>\n",
       "  <tbody>\n",
       "    <tr>\n",
       "      <th>0</th>\n",
       "      <td>&lt;span class=\"sc-iTlrqL biRwIE\"&gt;Analysis into t...</td>\n",
       "      <td>&lt;small class=\"sc-fcLdzD fHVdRH\"&gt;&lt;span&gt;PA-1194&lt;...</td>\n",
       "      <td>Analysis into typing time in Zendesk</td>\n",
       "      <td>PA-1194</td>\n",
       "      <td>·</td>\n",
       "      <td>Product Analytics</td>\n",
       "      <td>On Hold (Action)</td>\n",
       "    </tr>\n",
       "  </tbody>\n",
       "</table>\n",
       "</div>"
      ],
      "text/plain": [
       "                                          span_class  \\\n",
       "0  <span class=\"sc-iTlrqL biRwIE\">Analysis into t...   \n",
       "\n",
       "                                         small_class  \\\n",
       "0  <small class=\"sc-fcLdzD fHVdRH\"><span>PA-1194<...   \n",
       "\n",
       "                                  title ticket_ref other              group  \\\n",
       "0  Analysis into typing time in Zendesk    PA-1194     ·  Product Analytics   \n",
       "\n",
       "             status  \n",
       "0  On Hold (Action)  "
      ]
     },
     "execution_count": 6,
     "metadata": {},
     "output_type": "execute_result"
    }
   ],
   "source": [
    "x.tickets_df.head(1)"
   ]
  },
  {
   "cell_type": "code",
   "execution_count": 9,
   "metadata": {},
   "outputs": [
    {
     "name": "stdout",
     "output_type": "stream",
     "text": [
      "17\n"
     ]
    }
   ],
   "source": [
    "print(x.tickets_count)"
   ]
  }
 ],
 "metadata": {
  "kernelspec": {
   "display_name": "Python 3",
   "language": "python",
   "name": "python3"
  },
  "language_info": {
   "codemirror_mode": {
    "name": "ipython",
    "version": 3
   },
   "file_extension": ".py",
   "mimetype": "text/x-python",
   "name": "python",
   "nbconvert_exporter": "python",
   "pygments_lexer": "ipython3",
   "version": "3.7.3"
  }
 },
 "nbformat": 4,
 "nbformat_minor": 4
}
