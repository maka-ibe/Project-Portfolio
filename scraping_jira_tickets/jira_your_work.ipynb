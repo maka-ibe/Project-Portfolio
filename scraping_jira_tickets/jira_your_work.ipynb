{
 "cells": [
  {
   "cell_type": "code",
   "execution_count": 1,
   "metadata": {},
   "outputs": [],
   "source": [
    "import pandas as pd\n",
    "from bs4 import BeautifulSoup\n",
    "import re\n",
    "import os\n",
    "from tkinter.filedialog import askopenfilename\n",
    "import tkinter as tk\n",
    "from tkinter import Tk\n",
    "import datetime as dt"
   ]
  },
  {
   "cell_type": "code",
   "execution_count": null,
   "metadata": {},
   "outputs": [],
   "source": [
    "print(os.path.dirname(__file__))"
   ]
  },
  {
   "cell_type": "code",
   "execution_count": 2,
   "metadata": {},
   "outputs": [],
   "source": [
    "root = Tk()\n",
    "root.withdraw()\n",
    "filename = askopenfilename(initialdir = os.getcwd())\n",
    "# Check root is destroyed\n",
    "root.destroy()"
   ]
  },
  {
   "cell_type": "code",
   "execution_count": 11,
   "metadata": {},
   "outputs": [
    {
     "data": {
      "text/plain": [
       "'/Users/maka.ibe/Documents/GitHub/project-portfolio/scraping_jira_tickets'"
      ]
     },
     "execution_count": 11,
     "metadata": {},
     "output_type": "execute_result"
    }
   ],
   "source": [
    "# print(os.getcwd())"
   ]
  },
  {
   "cell_type": "code",
   "execution_count": 10,
   "metadata": {
    "scrolled": true
   },
   "outputs": [
    {
     "data": {
      "text/plain": [
       "'/Users/maka.ibe/Documents/GitHub/project-portfolio/scraping_jira_tickets/01_html/2021_02_17_your_work.htm'"
      ]
     },
     "execution_count": 10,
     "metadata": {},
     "output_type": "execute_result"
    }
   ],
   "source": [
    "# print(filename)"
   ]
  },
  {
   "cell_type": "code",
   "execution_count": 3,
   "metadata": {},
   "outputs": [],
   "source": [
    "class JiraTickets:\n",
    "    def __init__(self, file):\n",
    "        self.file = file\n",
    "        self._tickets_soup = self._make_soup()\n",
    "        self._all_tickets = self._get_all_ticket_info()\n",
    "        self._dict_keys = ['span_class','small_class','title', 'ticket_ref','other','group','status']\n",
    "        self.tickets_df = self._create_tickets_df()\n",
    "        self.tickets_count = len(self.tickets_df)\n",
    "    \n",
    "    def _make_soup(self):\n",
    "        return BeautifulSoup(open(self.file), \"lxml\")\n",
    "    \n",
    "    def _get_all_ticket_info(self):\n",
    "        attr_value_regex = re.compile(r\"global-pages.home.ui.tab-container.tab.item-list.item-link#issue-[0-9]{6}\")\n",
    "        all_tickets = self._tickets_soup.find_all(attrs={\"data-test-id\":attr_value_regex})\n",
    "        return all_tickets\n",
    "    \n",
    "    def _create_ticket_dict(self, x):\n",
    "    #   Find all span tags  \n",
    "        data = x.find_all('span')\n",
    "    #   Flatten list of lists into a single list of string items\n",
    "        flat_data = [str(item) for sublist in data for item in sublist]\n",
    "    #   Create dict\n",
    "        output = dict(zip(self._dict_keys, flat_data))\n",
    "        return output\n",
    "    \n",
    "    def _create_tickets_df(self):    \n",
    "        dict_output = []\n",
    "        for x in self._all_tickets:\n",
    "            dict_output.append(self._create_ticket_dict(x))\n",
    "        df = pd.DataFrame(dict_output) \n",
    "        df['url'] = df.ticket_ref.map('https://justeattakeaway.atlassian.net/browse/{}'.format)\n",
    "        columns = self._dict_keys.copy()\n",
    "        columns.append('url')\n",
    "        return df[columns]\n",
    "    "
   ]
  },
  {
   "cell_type": "code",
   "execution_count": 4,
   "metadata": {},
   "outputs": [],
   "source": [
    "my_file = 'jira_your_work.htm'"
   ]
  },
  {
   "cell_type": "code",
   "execution_count": 5,
   "metadata": {},
   "outputs": [],
   "source": [
    "x = JiraTickets(filename)"
   ]
  },
  {
   "cell_type": "code",
   "execution_count": 6,
   "metadata": {
    "scrolled": true
   },
   "outputs": [],
   "source": [
    "# x.file"
   ]
  },
  {
   "cell_type": "code",
   "execution_count": 7,
   "metadata": {},
   "outputs": [
    {
     "data": {
      "text/html": [
       "<div>\n",
       "<style scoped>\n",
       "    .dataframe tbody tr th:only-of-type {\n",
       "        vertical-align: middle;\n",
       "    }\n",
       "\n",
       "    .dataframe tbody tr th {\n",
       "        vertical-align: top;\n",
       "    }\n",
       "\n",
       "    .dataframe thead th {\n",
       "        text-align: right;\n",
       "    }\n",
       "</style>\n",
       "<table border=\"1\" class=\"dataframe\">\n",
       "  <thead>\n",
       "    <tr style=\"text-align: right;\">\n",
       "      <th></th>\n",
       "      <th>span_class</th>\n",
       "      <th>small_class</th>\n",
       "      <th>title</th>\n",
       "      <th>ticket_ref</th>\n",
       "      <th>other</th>\n",
       "      <th>group</th>\n",
       "      <th>status</th>\n",
       "      <th>url</th>\n",
       "    </tr>\n",
       "  </thead>\n",
       "  <tbody>\n",
       "    <tr>\n",
       "      <th>0</th>\n",
       "      <td>&lt;span class=\"sc-kjKmiN iWKWoC\"&gt;Analysis into t...</td>\n",
       "      <td>&lt;small class=\"sc-dwLhYX iVsqEk\"&gt;&lt;span&gt;PA-1194&lt;...</td>\n",
       "      <td>Analysis into typing time in Zendesk</td>\n",
       "      <td>PA-1194</td>\n",
       "      <td>·</td>\n",
       "      <td>Product Analytics</td>\n",
       "      <td>On Hold (Action)</td>\n",
       "      <td>https://justeattakeaway.atlassian.net/browse/P...</td>\n",
       "    </tr>\n",
       "    <tr>\n",
       "      <th>1</th>\n",
       "      <td>&lt;span class=\"sc-kjKmiN iWKWoC\"&gt;Add re-open rat...</td>\n",
       "      <td>&lt;small class=\"sc-dwLhYX iVsqEk\"&gt;&lt;span&gt;BUS-4340...</td>\n",
       "      <td>Add re-open rate view to async contacts dashboard</td>\n",
       "      <td>BUS-4340</td>\n",
       "      <td>·</td>\n",
       "      <td>Business Intelligence</td>\n",
       "      <td>Reopened</td>\n",
       "      <td>https://justeattakeaway.atlassian.net/browse/B...</td>\n",
       "    </tr>\n",
       "    <tr>\n",
       "      <th>2</th>\n",
       "      <td>&lt;span class=\"sc-kjKmiN iWKWoC\"&gt;Interim snapsho...</td>\n",
       "      <td>&lt;small class=\"sc-dwLhYX iVsqEk\"&gt;&lt;span&gt;BUS-4284...</td>\n",
       "      <td>Interim snapshot numbers for offline bad items...</td>\n",
       "      <td>BUS-4284</td>\n",
       "      <td>·</td>\n",
       "      <td>Business Intelligence</td>\n",
       "      <td>Pending</td>\n",
       "      <td>https://justeattakeaway.atlassian.net/browse/B...</td>\n",
       "    </tr>\n",
       "    <tr>\n",
       "      <th>3</th>\n",
       "      <td>&lt;span class=\"sc-kjKmiN iWKWoC\"&gt;Async SLA First...</td>\n",
       "      <td>&lt;small class=\"sc-dwLhYX iVsqEk\"&gt;&lt;span&gt;BUS-4283...</td>\n",
       "      <td>Async SLA First Response Fix and Investigation</td>\n",
       "      <td>BUS-4283</td>\n",
       "      <td>·</td>\n",
       "      <td>Business Intelligence</td>\n",
       "      <td>Work in progress</td>\n",
       "      <td>https://justeattakeaway.atlassian.net/browse/B...</td>\n",
       "    </tr>\n",
       "    <tr>\n",
       "      <th>4</th>\n",
       "      <td>&lt;span class=\"sc-kjKmiN iWKWoC\"&gt;Ingest data for...</td>\n",
       "      <td>&lt;small class=\"sc-dwLhYX iVsqEk\"&gt;&lt;span&gt;BUS-4197...</td>\n",
       "      <td>Ingest data for Offline Queries - Bad &amp; Incorr...</td>\n",
       "      <td>BUS-4197</td>\n",
       "      <td>·</td>\n",
       "      <td>Business Intelligence</td>\n",
       "      <td>Work in progress</td>\n",
       "      <td>https://justeattakeaway.atlassian.net/browse/B...</td>\n",
       "    </tr>\n",
       "  </tbody>\n",
       "</table>\n",
       "</div>"
      ],
      "text/plain": [
       "                                          span_class  \\\n",
       "0  <span class=\"sc-kjKmiN iWKWoC\">Analysis into t...   \n",
       "1  <span class=\"sc-kjKmiN iWKWoC\">Add re-open rat...   \n",
       "2  <span class=\"sc-kjKmiN iWKWoC\">Interim snapsho...   \n",
       "3  <span class=\"sc-kjKmiN iWKWoC\">Async SLA First...   \n",
       "4  <span class=\"sc-kjKmiN iWKWoC\">Ingest data for...   \n",
       "\n",
       "                                         small_class  \\\n",
       "0  <small class=\"sc-dwLhYX iVsqEk\"><span>PA-1194<...   \n",
       "1  <small class=\"sc-dwLhYX iVsqEk\"><span>BUS-4340...   \n",
       "2  <small class=\"sc-dwLhYX iVsqEk\"><span>BUS-4284...   \n",
       "3  <small class=\"sc-dwLhYX iVsqEk\"><span>BUS-4283...   \n",
       "4  <small class=\"sc-dwLhYX iVsqEk\"><span>BUS-4197...   \n",
       "\n",
       "                                               title ticket_ref other  \\\n",
       "0               Analysis into typing time in Zendesk    PA-1194     ·   \n",
       "1  Add re-open rate view to async contacts dashboard   BUS-4340     ·   \n",
       "2  Interim snapshot numbers for offline bad items...   BUS-4284     ·   \n",
       "3     Async SLA First Response Fix and Investigation   BUS-4283     ·   \n",
       "4  Ingest data for Offline Queries - Bad & Incorr...   BUS-4197     ·   \n",
       "\n",
       "                   group            status  \\\n",
       "0      Product Analytics  On Hold (Action)   \n",
       "1  Business Intelligence          Reopened   \n",
       "2  Business Intelligence           Pending   \n",
       "3  Business Intelligence  Work in progress   \n",
       "4  Business Intelligence  Work in progress   \n",
       "\n",
       "                                                 url  \n",
       "0  https://justeattakeaway.atlassian.net/browse/P...  \n",
       "1  https://justeattakeaway.atlassian.net/browse/B...  \n",
       "2  https://justeattakeaway.atlassian.net/browse/B...  \n",
       "3  https://justeattakeaway.atlassian.net/browse/B...  \n",
       "4  https://justeattakeaway.atlassian.net/browse/B...  "
      ]
     },
     "execution_count": 7,
     "metadata": {},
     "output_type": "execute_result"
    }
   ],
   "source": [
    "x.tickets_df.head()"
   ]
  },
  {
   "cell_type": "code",
   "execution_count": 8,
   "metadata": {},
   "outputs": [
    {
     "name": "stdout",
     "output_type": "stream",
     "text": [
      "Number of tickets currently open: 15\n"
     ]
    }
   ],
   "source": [
    "print(f\"Number of tickets currently open: {x.tickets_count}\")"
   ]
  },
  {
   "cell_type": "code",
   "execution_count": 9,
   "metadata": {},
   "outputs": [],
   "source": [
    "x.tickets_df.to_csv(os.path.join(os.getcwd()\n",
    "                                 , '02_csv'\n",
    "                                 , dt.datetime.today().strftime('%Y_%m_%d_%H%M%S')+'jira_tickets.csv'))"
   ]
  }
 ],
 "metadata": {
  "kernelspec": {
   "display_name": "Python 3",
   "language": "python",
   "name": "python3"
  },
  "language_info": {
   "codemirror_mode": {
    "name": "ipython",
    "version": 3
   },
   "file_extension": ".py",
   "mimetype": "text/x-python",
   "name": "python",
   "nbconvert_exporter": "python",
   "pygments_lexer": "ipython3",
   "version": "3.8.3"
  }
 },
 "nbformat": 4,
 "nbformat_minor": 4
}
