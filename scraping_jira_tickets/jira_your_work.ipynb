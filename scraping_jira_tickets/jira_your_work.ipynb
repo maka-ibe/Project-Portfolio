{
 "cells": [
  {
   "cell_type": "code",
   "execution_count": 1,
   "metadata": {},
   "outputs": [],
   "source": [
    "import pandas as pd\n",
    "from bs4 import BeautifulSoup\n",
    "import re"
   ]
  },
  {
   "cell_type": "code",
   "execution_count": 2,
   "metadata": {},
   "outputs": [],
   "source": [
    "def make_soup(filepath):\n",
    "#     html = requests.get(file)\n",
    "    return BeautifulSoup(open(filepath), \"lxml\")"
   ]
  },
  {
   "cell_type": "code",
   "execution_count": 3,
   "metadata": {},
   "outputs": [],
   "source": [
    "file = 'jira_your_work.htm'"
   ]
  },
  {
   "cell_type": "code",
   "execution_count": 4,
   "metadata": {},
   "outputs": [],
   "source": [
    "test = make_soup(file)"
   ]
  },
  {
   "cell_type": "code",
   "execution_count": 5,
   "metadata": {},
   "outputs": [],
   "source": [
    "# len(test.find_all('script'))"
   ]
  },
  {
   "cell_type": "code",
   "execution_count": 6,
   "metadata": {},
   "outputs": [],
   "source": [
    "# test.find_all('script')[0]"
   ]
  },
  {
   "cell_type": "code",
   "execution_count": 7,
   "metadata": {},
   "outputs": [],
   "source": [
    "# type(test.find_all('script')[1])"
   ]
  },
  {
   "cell_type": "code",
   "execution_count": 8,
   "metadata": {},
   "outputs": [],
   "source": [
    "# test.find_all('script')[12].contents[0]"
   ]
  },
  {
   "cell_type": "code",
   "execution_count": 9,
   "metadata": {},
   "outputs": [
    {
     "data": {
      "text/plain": [
       "[<a class=\"sc-eQubti htSXGQ\" data-test-id=\"global-pages.home.ui.tab-container.tab.item-list.item-link#issue-656551\" href=\"/browse/BUS-4411\" target=\"_self\"><div class=\"sc-hycuFf hwReiR\"><img class=\"sc-iEGEut fDdIpv\" src=\"https://justeattakeaway.atlassian.net/secure/viewavatar?size=medium&amp;avatarId=10318&amp;avatarType=issuetype\"/></div><span class=\"sc-fXUGxx bzdxcH\"><span class=\"sc-iTlrqL biRwIE\">Scope work for Conversocial data reports</span><small class=\"sc-fcLdzD fHVdRH\"><span>BUS-4411</span><span>·</span><span>Business Intelligence</span></small></span><span class=\"sc-lmwPYW dJlFHW\">Open</span><div class=\"sc-hQrNYi cAvKoV\"></div></a>]"
      ]
     },
     "execution_count": 9,
     "metadata": {},
     "output_type": "execute_result"
    }
   ],
   "source": [
    "test.find_all(attrs={\"data-test-id\":r\"global-pages.home.ui.tab-container.tab.item-list.item-link#issue-656551\"})"
   ]
  },
  {
   "cell_type": "code",
   "execution_count": 10,
   "metadata": {},
   "outputs": [],
   "source": [
    "attr_value_regex = re.compile(r\"global-pages.home.ui.tab-container.tab.item-list.item-link#issue-[0-9]{6}\")"
   ]
  },
  {
   "cell_type": "code",
   "execution_count": 11,
   "metadata": {},
   "outputs": [],
   "source": [
    "all_tickets = test.find_all(attrs={\"data-test-id\":attr_value_regex})"
   ]
  },
  {
   "cell_type": "code",
   "execution_count": 12,
   "metadata": {},
   "outputs": [
    {
     "data": {
      "text/plain": [
       "17"
      ]
     },
     "execution_count": 12,
     "metadata": {},
     "output_type": "execute_result"
    }
   ],
   "source": [
    "len(all_tickets)"
   ]
  },
  {
   "cell_type": "code",
   "execution_count": 13,
   "metadata": {},
   "outputs": [
    {
     "data": {
      "text/plain": [
       "<a class=\"sc-eQubti htSXGQ\" data-test-id=\"global-pages.home.ui.tab-container.tab.item-list.item-link#issue-560827\" href=\"/browse/PA-1194\" target=\"_self\"><div class=\"sc-hycuFf hwReiR\"><img class=\"sc-iEGEut fDdIpv\" src=\"https://justeattakeaway.atlassian.net/secure/viewavatar?size=medium&amp;avatarId=10300&amp;avatarType=issuetype\"/></div><span class=\"sc-fXUGxx bzdxcH\"><span class=\"sc-iTlrqL biRwIE\">Analysis into typing time in Zendesk</span><small class=\"sc-fcLdzD fHVdRH\"><span>PA-1194</span><span>·</span><span>Product Analytics</span></small></span><span class=\"sc-lmwPYW dJlFHW\">On Hold (Action)</span><div class=\"sc-hQrNYi cAvKoV\"></div></a>"
      ]
     },
     "execution_count": 13,
     "metadata": {},
     "output_type": "execute_result"
    }
   ],
   "source": [
    "all_tickets[0]"
   ]
  },
  {
   "cell_type": "code",
   "execution_count": 14,
   "metadata": {},
   "outputs": [
    {
     "data": {
      "text/plain": [
       "<a class=\"sc-eQubti htSXGQ\" data-test-id=\"global-pages.home.ui.tab-container.tab.item-list.item-link#issue-647205\" href=\"/browse/BUS-4340\" target=\"_self\"><div class=\"sc-hycuFf hwReiR\"><img class=\"sc-iEGEut fDdIpv\" src=\"https://justeattakeaway.atlassian.net/secure/viewavatar?size=medium&amp;avatarId=10318&amp;avatarType=issuetype\"/></div><span class=\"sc-fXUGxx bzdxcH\"><span class=\"sc-iTlrqL biRwIE\">Add re-open rate view to async contacts dashboard</span><small class=\"sc-fcLdzD fHVdRH\"><span>BUS-4340</span><span>·</span><span>Business Intelligence</span></small></span><span class=\"sc-lmwPYW dJlFHW\">Reopened</span><div class=\"sc-hQrNYi cAvKoV\"></div></a>"
      ]
     },
     "execution_count": 14,
     "metadata": {},
     "output_type": "execute_result"
    }
   ],
   "source": [
    "all_tickets[1]"
   ]
  },
  {
   "cell_type": "code",
   "execution_count": 15,
   "metadata": {},
   "outputs": [
    {
     "data": {
      "text/plain": [
       "bs4.element.Tag"
      ]
     },
     "execution_count": 15,
     "metadata": {},
     "output_type": "execute_result"
    }
   ],
   "source": [
    "type(all_tickets[0])"
   ]
  },
  {
   "cell_type": "code",
   "execution_count": 16,
   "metadata": {},
   "outputs": [
    {
     "data": {
      "text/plain": [
       "[<span class=\"sc-fXUGxx bzdxcH\"><span class=\"sc-iTlrqL biRwIE\">Analysis into typing time in Zendesk</span><small class=\"sc-fcLdzD fHVdRH\"><span>PA-1194</span><span>·</span><span>Product Analytics</span></small></span>,\n",
       " <span class=\"sc-iTlrqL biRwIE\">Analysis into typing time in Zendesk</span>,\n",
       " <span>PA-1194</span>,\n",
       " <span>·</span>,\n",
       " <span>Product Analytics</span>,\n",
       " <span class=\"sc-lmwPYW dJlFHW\">On Hold (Action)</span>]"
      ]
     },
     "execution_count": 16,
     "metadata": {},
     "output_type": "execute_result"
    }
   ],
   "source": [
    "all_tickets[0].find_all('span')"
   ]
  },
  {
   "cell_type": "code",
   "execution_count": 27,
   "metadata": {},
   "outputs": [
    {
     "name": "stdout",
     "output_type": "stream",
     "text": [
      "[<span class=\"sc-iTlrqL biRwIE\">Analysis into typing time in Zendesk</span>, <small class=\"sc-fcLdzD fHVdRH\"><span>PA-1194</span><span>·</span><span>Product Analytics</span></small>]\n",
      "------\n",
      "['Analysis into typing time in Zendesk']\n",
      "------\n",
      "['PA-1194']\n",
      "------\n",
      "['·']\n",
      "------\n",
      "['Product Analytics']\n",
      "------\n",
      "['On Hold (Action)']\n",
      "------\n"
     ]
    }
   ],
   "source": [
    "for s in all_tickets[0].find_all('span'):\n",
    "    print(s.contents)\n",
    "    print(\"------\")"
   ]
  },
  {
   "cell_type": "code",
   "execution_count": 25,
   "metadata": {},
   "outputs": [
    {
     "name": "stdout",
     "output_type": "stream",
     "text": [
      "[<span class=\"sc-iTlrqL biRwIE\">Add re-open rate view to async contacts dashboard</span>, <small class=\"sc-fcLdzD fHVdRH\"><span>BUS-4340</span><span>·</span><span>Business Intelligence</span></small>]\n",
      "------\n",
      "['Add re-open rate view to async contacts dashboard']\n",
      "------\n",
      "['BUS-4340']\n",
      "------\n",
      "['·']\n",
      "------\n",
      "['Business Intelligence']\n",
      "------\n",
      "['Reopened']\n",
      "------\n"
     ]
    }
   ],
   "source": [
    "for s in all_tickets[1].find_all('span'):\n",
    "    print(s.contents)\n",
    "    print(\"------\")"
   ]
  },
  {
   "cell_type": "code",
   "execution_count": 22,
   "metadata": {},
   "outputs": [
    {
     "name": "stdout",
     "output_type": "stream",
     "text": [
      "[<span class=\"sc-iTlrqL biRwIE\">Interim snapshot numbers for offline bad items queue</span>, <small class=\"sc-fcLdzD fHVdRH\"><span>BUS-4284</span><span>·</span><span>Business Intelligence</span></small>]\n",
      "------\n",
      "['Interim snapshot numbers for offline bad items queue']\n",
      "------\n",
      "['BUS-4284']\n",
      "------\n",
      "['·']\n",
      "------\n",
      "['Business Intelligence']\n",
      "------\n",
      "['Pending']\n",
      "------\n"
     ]
    }
   ],
   "source": [
    "for s in all_tickets[2].find_all('span'):\n",
    "    print(s.contents)\n",
    "    print(\"------\")"
   ]
  },
  {
   "cell_type": "code",
   "execution_count": null,
   "metadata": {},
   "outputs": [],
   "source": []
  }
 ],
 "metadata": {
  "kernelspec": {
   "display_name": "Python 3",
   "language": "python",
   "name": "python3"
  },
  "language_info": {
   "codemirror_mode": {
    "name": "ipython",
    "version": 3
   },
   "file_extension": ".py",
   "mimetype": "text/x-python",
   "name": "python",
   "nbconvert_exporter": "python",
   "pygments_lexer": "ipython3",
   "version": "3.7.3"
  }
 },
 "nbformat": 4,
 "nbformat_minor": 4
}
