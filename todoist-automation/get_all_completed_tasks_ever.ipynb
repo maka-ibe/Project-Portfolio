{
 "cells": [
  {
   "cell_type": "code",
   "execution_count": 1,
   "metadata": {},
   "outputs": [],
   "source": [
    "from api_token import token\n",
    "import todoist as td\n",
    "import pandas as pd\n",
    "import datetime as dt"
   ]
  },
  {
   "cell_type": "code",
   "execution_count": 2,
   "metadata": {},
   "outputs": [],
   "source": [
    "api = td.TodoistAPI(token)\n",
    "# Sync to API to get latest data\n",
    "api.sync();"
   ]
  },
  {
   "cell_type": "code",
   "execution_count": null,
   "metadata": {},
   "outputs": [],
   "source": [
    "# yday_completed_tasks_dict = api.completed.get_all(since = yday_start, until = yday_end)"
   ]
  },
  {
   "cell_type": "code",
   "execution_count": null,
   "metadata": {},
   "outputs": [],
   "source": [
    "# The API limits 100 activities to be retrieved per call, so a loop is needed\n",
    "\n",
    "# Items are retrieved in descending order by date.\n",
    "# offset indicates how many items should be skipped\n",
    "completed_tasks_list = []\n",
    "limit = 100\n",
    "offset = 0\n",
    "\n",
    "while True:\n",
    "    # API call, retrieving between 0 and 100 activities\n",
    "    completed_tasks = api.completed.get_all(limit=limit, offset=offset)\n",
    "    \n",
    "    if not completed_tasks: # if it returns an empty list, get out of the loop\n",
    "        break\n",
    "    \n",
    "    completed_tasks_list.extend(completed_tasks)\n",
    "    \n",
    "    # set offset to skip the number of rows that were just returned\n",
    "    offset += limit "
   ]
  },
  {
   "cell_type": "code",
   "execution_count": null,
   "metadata": {},
   "outputs": [],
   "source": []
  }
 ],
 "metadata": {
  "kernelspec": {
   "display_name": "Python 3",
   "language": "python",
   "name": "python3"
  },
  "language_info": {
   "codemirror_mode": {
    "name": "ipython",
    "version": 3
   },
   "file_extension": ".py",
   "mimetype": "text/x-python",
   "name": "python",
   "nbconvert_exporter": "python",
   "pygments_lexer": "ipython3",
   "version": "3.7.3"
  }
 },
 "nbformat": 4,
 "nbformat_minor": 2
}
