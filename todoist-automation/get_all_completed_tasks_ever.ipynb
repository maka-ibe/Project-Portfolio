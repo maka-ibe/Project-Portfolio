{
 "cells": [
  {
   "cell_type": "code",
   "execution_count": 1,
   "metadata": {},
   "outputs": [],
   "source": [
    "from api_token import token\n",
    "import todoist as td\n",
    "import pandas as pd\n",
    "import datetime as dt"
   ]
  },
  {
   "cell_type": "code",
   "execution_count": 2,
   "metadata": {},
   "outputs": [],
   "source": [
    "api = td.TodoistAPI(token)\n",
    "# Sync to API to get latest data\n",
    "api.sync();"
   ]
  },
  {
   "cell_type": "code",
   "execution_count": 3,
   "metadata": {},
   "outputs": [],
   "source": [
    "# when the api query has no items (tasks) to report, it returns a dictionary with two empty keys e.g.\n",
    "# {'items':[], 'projects':[]}\n",
    "# Therefore I need to create a function to check if the keys in the dictionary have values\n",
    "\n",
    "def has_values(dictionary):\n",
    "    \n",
    "    # For each key in dictionary, check if keys in dict have values\n",
    "    values = [any(dictionary[key]) for key in dictionary]\n",
    "    \n",
    "    # Create a unique list of values\n",
    "    output = list(set(values))\n",
    "    \n",
    "    return output[0]"
   ]
  },
  {
   "cell_type": "code",
   "execution_count": 4,
   "metadata": {},
   "outputs": [],
   "source": [
    "# The API has a maximum of 200 items that can be returned, use while loop to get all items\n",
    "\n",
    "completed_tasks_list = []\n",
    "limit = 200\n",
    "offset = 0\n",
    "not_empty = True\n",
    "\n",
    "while not_empty:\n",
    "    # API call, retrieving between 0 and 200 items at a time\n",
    "    completed_tasks = api.completed.get_all(limit=limit, offset=offset)\n",
    "    not_empty = has_values(completed_tasks) # if false it will exit the loop\n",
    "    completed_tasks_list.append(completed_tasks) # add items to list\n",
    "    offset += limit # increase offset to get the next set of results\n",
    "    "
   ]
  },
  {
   "cell_type": "code",
   "execution_count": 5,
   "metadata": {},
   "outputs": [],
   "source": [
    "# Create a list of dfs for each result of items\n",
    "completed_dfs = [pd.DataFrame(completed_tasks_list[i]['items']) for i in range(0,len(completed_tasks_list))]"
   ]
  },
  {
   "cell_type": "code",
   "execution_count": 38,
   "metadata": {},
   "outputs": [],
   "source": [
    "# Combine dfs into one large df\n",
    "df = pd.concat(completed_dfs, ignore_index = True)"
   ]
  },
  {
   "cell_type": "code",
   "execution_count": 39,
   "metadata": {},
   "outputs": [
    {
     "data": {
      "text/plain": [
       "(952, 7)"
      ]
     },
     "execution_count": 39,
     "metadata": {},
     "output_type": "execute_result"
    }
   ],
   "source": [
    "# Check num of rows and columns\n",
    "df.shape"
   ]
  },
  {
   "cell_type": "code",
   "execution_count": 40,
   "metadata": {},
   "outputs": [],
   "source": [
    "# Our df doesn't yet have project names, only project ids, we want to add a field with project names\n",
    "td_projects_dict = {}\n",
    "for i,data in enumerate(completed_tasks_list):\n",
    "    for key in data['projects'].keys():\n",
    "        td_projects_dict[int(key)] = data['projects'][key]['name']"
   ]
  },
  {
   "cell_type": "code",
   "execution_count": 41,
   "metadata": {},
   "outputs": [],
   "source": [
    "# Map project names to df\n",
    "df['project_name'] = df['project_id'].map(td_projects_dict)"
   ]
  },
  {
   "cell_type": "code",
   "execution_count": 42,
   "metadata": {},
   "outputs": [
    {
     "data": {
      "text/html": [
       "<div>\n",
       "<style scoped>\n",
       "    .dataframe tbody tr th:only-of-type {\n",
       "        vertical-align: middle;\n",
       "    }\n",
       "\n",
       "    .dataframe tbody tr th {\n",
       "        vertical-align: top;\n",
       "    }\n",
       "\n",
       "    .dataframe thead th {\n",
       "        text-align: right;\n",
       "    }\n",
       "</style>\n",
       "<table border=\"1\" class=\"dataframe\">\n",
       "  <thead>\n",
       "    <tr style=\"text-align: right;\">\n",
       "      <th></th>\n",
       "      <th>completed_date</th>\n",
       "      <th>content</th>\n",
       "      <th>id</th>\n",
       "      <th>meta_data</th>\n",
       "      <th>project_id</th>\n",
       "      <th>task_id</th>\n",
       "      <th>user_id</th>\n",
       "      <th>project_name</th>\n",
       "    </tr>\n",
       "  </thead>\n",
       "  <tbody>\n",
       "    <tr>\n",
       "      <th>0</th>\n",
       "      <td>2021-01-10T20:15:00Z</td>\n",
       "      <td>**02** Daily planning</td>\n",
       "      <td>4188958090</td>\n",
       "      <td>None</td>\n",
       "      <td>2240338076</td>\n",
       "      <td>4476210762</td>\n",
       "      <td>28966387</td>\n",
       "      <td>❶ This Week</td>\n",
       "    </tr>\n",
       "    <tr>\n",
       "      <th>1</th>\n",
       "      <td>2021-01-10T17:41:49Z</td>\n",
       "      <td>Season salmon</td>\n",
       "      <td>4188681118</td>\n",
       "      <td>None</td>\n",
       "      <td>2240338076</td>\n",
       "      <td>4477323176</td>\n",
       "      <td>28966387</td>\n",
       "      <td>❶ This Week</td>\n",
       "    </tr>\n",
       "    <tr>\n",
       "      <th>2</th>\n",
       "      <td>2021-01-10T17:41:44Z</td>\n",
       "      <td>**05a** Make salad</td>\n",
       "      <td>4188680978</td>\n",
       "      <td>None</td>\n",
       "      <td>2240338076</td>\n",
       "      <td>4473977206</td>\n",
       "      <td>28966387</td>\n",
       "      <td>❶ This Week</td>\n",
       "    </tr>\n",
       "    <tr>\n",
       "      <th>3</th>\n",
       "      <td>2021-01-10T17:40:58Z</td>\n",
       "      <td>**05** Cook mince</td>\n",
       "      <td>4188679656</td>\n",
       "      <td>None</td>\n",
       "      <td>2240338076</td>\n",
       "      <td>4473977132</td>\n",
       "      <td>28966387</td>\n",
       "      <td>❶ This Week</td>\n",
       "    </tr>\n",
       "    <tr>\n",
       "      <th>4</th>\n",
       "      <td>2021-01-10T14:28:26Z</td>\n",
       "      <td>Beetroot</td>\n",
       "      <td>4188338814</td>\n",
       "      <td>None</td>\n",
       "      <td>2240717407</td>\n",
       "      <td>4476152624</td>\n",
       "      <td>28966387</td>\n",
       "      <td>⏱ Routines</td>\n",
       "    </tr>\n",
       "  </tbody>\n",
       "</table>\n",
       "</div>"
      ],
      "text/plain": [
       "         completed_date                content          id meta_data  \\\n",
       "0  2021-01-10T20:15:00Z  **02** Daily planning  4188958090      None   \n",
       "1  2021-01-10T17:41:49Z          Season salmon  4188681118      None   \n",
       "2  2021-01-10T17:41:44Z     **05a** Make salad  4188680978      None   \n",
       "3  2021-01-10T17:40:58Z      **05** Cook mince  4188679656      None   \n",
       "4  2021-01-10T14:28:26Z               Beetroot  4188338814      None   \n",
       "\n",
       "   project_id     task_id   user_id project_name  \n",
       "0  2240338076  4476210762  28966387  ❶ This Week  \n",
       "1  2240338076  4477323176  28966387  ❶ This Week  \n",
       "2  2240338076  4473977206  28966387  ❶ This Week  \n",
       "3  2240338076  4473977132  28966387  ❶ This Week  \n",
       "4  2240717407  4476152624  28966387   ⏱ Routines  "
      ]
     },
     "execution_count": 42,
     "metadata": {},
     "output_type": "execute_result"
    }
   ],
   "source": [
    "df.head()"
   ]
  },
  {
   "cell_type": "code",
   "execution_count": 16,
   "metadata": {},
   "outputs": [],
   "source": [
    "# TODO Create statement that prints the following:\n",
    "# You completed XXX tasks in 2020. That’s an average of…\n",
    "# XX per day\n",
    "# XX tasks per week\n",
    "# XX tasks by month"
   ]
  },
  {
   "cell_type": "code",
   "execution_count": 61,
   "metadata": {},
   "outputs": [],
   "source": [
    "# TODO first add a column that will get the year of completion\n",
    "\n",
    "# Create function to extract year\n",
    "def extract_year(date):\n",
    "    date_format = \"%Y-%m-%dT%H:%M:%SZ\"\n",
    "    convert_to_dt_obj = dt.datetime.strptime(date, date_format)\n",
    "    output = convert_to_dt_obj.year\n",
    "    return(output)"
   ]
  },
  {
   "cell_type": "code",
   "execution_count": 58,
   "metadata": {},
   "outputs": [],
   "source": [
    "# Map function"
   ]
  },
  {
   "cell_type": "code",
   "execution_count": null,
   "metadata": {},
   "outputs": [],
   "source": []
  }
 ],
 "metadata": {
  "kernelspec": {
   "display_name": "Python 3",
   "language": "python",
   "name": "python3"
  },
  "language_info": {
   "codemirror_mode": {
    "name": "ipython",
    "version": 3
   },
   "file_extension": ".py",
   "mimetype": "text/x-python",
   "name": "python",
   "nbconvert_exporter": "python",
   "pygments_lexer": "ipython3",
   "version": "3.7.3"
  }
 },
 "nbformat": 4,
 "nbformat_minor": 2
}
