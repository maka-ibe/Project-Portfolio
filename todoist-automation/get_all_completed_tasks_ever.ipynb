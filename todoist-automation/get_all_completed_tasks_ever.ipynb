{
 "cells": [
  {
   "cell_type": "code",
   "execution_count": 1,
   "metadata": {},
   "outputs": [],
   "source": [
    "from api_token import token\n",
    "import todoist as td\n",
    "import pandas as pd\n",
    "import datetime as dt"
   ]
  },
  {
   "cell_type": "code",
   "execution_count": 2,
   "metadata": {},
   "outputs": [],
   "source": [
    "api = td.TodoistAPI(token)\n",
    "# Sync to API to get latest data\n",
    "api.sync();"
   ]
  },
  {
   "cell_type": "code",
   "execution_count": 3,
   "metadata": {},
   "outputs": [],
   "source": [
    "# when the api query has no items (tasks) to report, it returns a dictionary with two empty keys e.g.\n",
    "# {'items':[], 'projects':[]}\n",
    "# Therefore I need to create a function to check if the keys in the dictionary have values\n",
    "\n",
    "def has_values(dictionary):\n",
    "    \n",
    "    # For each key in dictionary, check if keys in dict have values\n",
    "    values = [any(dictionary[key]) for key in dictionary]\n",
    "    \n",
    "    # Create a unique list of values\n",
    "    output = list(set(values))\n",
    "    \n",
    "    return output[0]"
   ]
  },
  {
   "cell_type": "code",
   "execution_count": 4,
   "metadata": {},
   "outputs": [],
   "source": [
    "# The API has a maximum of 200 items that can be returned, use while loop to get all items\n",
    "\n",
    "# Items are retrieved in descending order by date.\n",
    "# offset indicates how many items should be skipped\n",
    "completed_tasks_list = []\n",
    "limit = 200\n",
    "offset = 0\n",
    "not_empty = True\n",
    "\n",
    "while not_empty:\n",
    "    # API call, retrieving between 0 and 200 items at a time\n",
    "    completed_tasks = api.completed.get_all(limit=limit, offset=offset)\n",
    "    not_empty = has_values(completed_tasks) # if false it will exit the loop\n",
    "    completed_tasks_list.append(completed_tasks) # add items to list\n",
    "    offset += limit # increase offset to get the next set of results\n",
    "    "
   ]
  },
  {
   "cell_type": "code",
   "execution_count": 5,
   "metadata": {},
   "outputs": [],
   "source": [
    "# Create a list of dfs for each result of items\n",
    "completed_dfs = [pd.DataFrame(completed_tasks_list[i]['items']) for i in range(0,len(completed_tasks_list))]"
   ]
  },
  {
   "cell_type": "code",
   "execution_count": 6,
   "metadata": {},
   "outputs": [],
   "source": [
    "# Combine dfs into one large df\n",
    "df = pd.concat(completed_dfs)"
   ]
  },
  {
   "cell_type": "code",
   "execution_count": 7,
   "metadata": {},
   "outputs": [
    {
     "data": {
      "text/plain": [
       "(933, 7)"
      ]
     },
     "execution_count": 7,
     "metadata": {},
     "output_type": "execute_result"
    }
   ],
   "source": [
    "# Check num of rows and columns\n",
    "df.shape"
   ]
  },
  {
   "cell_type": "code",
   "execution_count": 8,
   "metadata": {},
   "outputs": [],
   "source": [
    "# df.head()"
   ]
  },
  {
   "cell_type": "code",
   "execution_count": 9,
   "metadata": {},
   "outputs": [],
   "source": [
    "# TODO add project_name field from projects"
   ]
  }
 ],
 "metadata": {
  "kernelspec": {
   "display_name": "Python 3",
   "language": "python",
   "name": "python3"
  },
  "language_info": {
   "codemirror_mode": {
    "name": "ipython",
    "version": 3
   },
   "file_extension": ".py",
   "mimetype": "text/x-python",
   "name": "python",
   "nbconvert_exporter": "python",
   "pygments_lexer": "ipython3",
   "version": "3.7.3"
  }
 },
 "nbformat": 4,
 "nbformat_minor": 2
}
