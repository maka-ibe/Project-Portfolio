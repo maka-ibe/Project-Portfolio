{
 "cells": [
  {
   "cell_type": "code",
   "execution_count": 1,
   "metadata": {},
   "outputs": [],
   "source": [
    "from api_token import token\n",
    "import todoist as td\n",
    "import pandas as pd\n",
    "import datetime as dt"
   ]
  },
  {
   "cell_type": "code",
   "execution_count": 2,
   "metadata": {},
   "outputs": [],
   "source": [
    "api = td.TodoistAPI(token)\n",
    "# Sync to API to get latest data\n",
    "api.sync();"
   ]
  },
  {
   "cell_type": "code",
   "execution_count": 3,
   "metadata": {},
   "outputs": [],
   "source": [
    "# when the api query has no items (tasks) to report, it returns a dictionary with two empty keys e.g.\n",
    "# {'items':[], 'projects':[]}\n",
    "# Therefore I need to create a function to check if the keys in the dictionary have values\n",
    "\n",
    "def has_values(dictionary):\n",
    "    \n",
    "    # For each key in dictionary, check if keys in dict have values\n",
    "    values = [any(dictionary[key]) for key in dictionary]\n",
    "    \n",
    "    # Create a unique list of values\n",
    "    output = list(set(values))\n",
    "    \n",
    "    return output[0]"
   ]
  },
  {
   "cell_type": "code",
   "execution_count": 4,
   "metadata": {},
   "outputs": [],
   "source": [
    "# The API has a maximum of 200 items that can be returned, use while loop to get all items\n",
    "\n",
    "completed_tasks_list = []\n",
    "limit = 200\n",
    "offset = 0\n",
    "not_empty = True\n",
    "\n",
    "while not_empty:\n",
    "    # API call, retrieving between 0 and 200 items at a time\n",
    "    completed_tasks = api.completed.get_all(limit=limit, offset=offset)\n",
    "    not_empty = has_values(completed_tasks) # if false it will exit the loop\n",
    "    completed_tasks_list.append(completed_tasks) # add items to list\n",
    "    offset += limit # increase offset to get the next set of results\n",
    "    "
   ]
  },
  {
   "cell_type": "code",
   "execution_count": 5,
   "metadata": {},
   "outputs": [],
   "source": [
    "# Create a list of dfs for each result of items\n",
    "completed_dfs = [pd.DataFrame(completed_tasks_list[i]['items']) for i in range(0,len(completed_tasks_list))]"
   ]
  },
  {
   "cell_type": "code",
   "execution_count": 6,
   "metadata": {},
   "outputs": [],
   "source": [
    "# Combine dfs into one large df\n",
    "df = pd.concat(completed_dfs, ignore_index = True)"
   ]
  },
  {
   "cell_type": "code",
   "execution_count": 7,
   "metadata": {},
   "outputs": [
    {
     "data": {
      "text/plain": [
       "(1004, 7)"
      ]
     },
     "execution_count": 7,
     "metadata": {},
     "output_type": "execute_result"
    }
   ],
   "source": [
    "# Check num of rows and columns\n",
    "df.shape"
   ]
  },
  {
   "cell_type": "code",
   "execution_count": 8,
   "metadata": {},
   "outputs": [],
   "source": [
    "# Our df doesn't yet have project names, only project ids, we want to add a field with project names\n",
    "td_projects_dict = {}\n",
    "for i,data in enumerate(completed_tasks_list):\n",
    "    for key in data['projects'].keys():\n",
    "        td_projects_dict[int(key)] = data['projects'][key]['name']"
   ]
  },
  {
   "cell_type": "code",
   "execution_count": 9,
   "metadata": {},
   "outputs": [],
   "source": [
    "# Map project names to df\n",
    "df['project_name'] = df['project_id'].map(td_projects_dict)"
   ]
  },
  {
   "cell_type": "code",
   "execution_count": 10,
   "metadata": {},
   "outputs": [],
   "source": [
    "# TODO Create statement that prints the following:\n",
    "# You completed XXX tasks in 2020. That’s an average of…\n",
    "# XX tasks per day\n",
    "# XX tasks per week\n",
    "# XX tasks per month"
   ]
  },
  {
   "cell_type": "code",
   "execution_count": 11,
   "metadata": {},
   "outputs": [],
   "source": [
    "# TODO first add a column that will get the year of completion\n",
    "\n",
    "# Create func to convert time to datetime object\n",
    "def convert_dt_object(date):\n",
    "    date_format = \"%Y-%m-%dT%H:%M:%SZ\"\n",
    "    output = dt.datetime.strptime(date, date_format)\n",
    "    return(output)"
   ]
  },
  {
   "cell_type": "code",
   "execution_count": 12,
   "metadata": {},
   "outputs": [],
   "source": [
    "# Convert date to datetime object\n",
    "df['completed_datetime_object'] = df['completed_date'].map(convert_dt_object)"
   ]
  },
  {
   "cell_type": "code",
   "execution_count": 18,
   "metadata": {},
   "outputs": [],
   "source": [
    "df['completed_date_year'] = df['completed_datetime_object'].map(lambda x: x.year)\n",
    "df['completed_date_month'] = df['completed_datetime_object'].map(lambda x: x.month)\n",
    "df['completed_date_weekday'] = df['completed_datetime_object'].map(lambda x: x.weekday())"
   ]
  },
  {
   "cell_type": "code",
   "execution_count": 15,
   "metadata": {},
   "outputs": [
    {
     "data": {
      "text/html": [
       "<div>\n",
       "<style scoped>\n",
       "    .dataframe tbody tr th:only-of-type {\n",
       "        vertical-align: middle;\n",
       "    }\n",
       "\n",
       "    .dataframe tbody tr th {\n",
       "        vertical-align: top;\n",
       "    }\n",
       "\n",
       "    .dataframe thead th {\n",
       "        text-align: right;\n",
       "    }\n",
       "</style>\n",
       "<table border=\"1\" class=\"dataframe\">\n",
       "  <thead>\n",
       "    <tr style=\"text-align: right;\">\n",
       "      <th></th>\n",
       "      <th>completed_date_year</th>\n",
       "      <th>task_id</th>\n",
       "    </tr>\n",
       "  </thead>\n",
       "  <tbody>\n",
       "    <tr>\n",
       "      <th>0</th>\n",
       "      <td>2020</td>\n",
       "      <td>837</td>\n",
       "    </tr>\n",
       "    <tr>\n",
       "      <th>1</th>\n",
       "      <td>2021</td>\n",
       "      <td>167</td>\n",
       "    </tr>\n",
       "  </tbody>\n",
       "</table>\n",
       "</div>"
      ],
      "text/plain": [
       "   completed_date_year  task_id\n",
       "0                 2020      837\n",
       "1                 2021      167"
      ]
     },
     "execution_count": 15,
     "metadata": {},
     "output_type": "execute_result"
    }
   ],
   "source": [
    "# Get count of tasks completed in each year\n",
    "df.groupby(\"completed_date_year\", as_index=False)[\"task_id\"].count()"
   ]
  },
  {
   "cell_type": "code",
   "execution_count": null,
   "metadata": {},
   "outputs": [],
   "source": [
    "completed_tasks_2020 = df.groupby(\"completed_date_year\")[\"task_id\"].count()[2020]"
   ]
  },
  {
   "cell_type": "code",
   "execution_count": null,
   "metadata": {},
   "outputs": [],
   "source": [
    "print(f\"\"\"You completed {completed_tasks_2020} tasks in 2020. That's an average of...\n",
    "{int(round(completed_tasks_2020/365,0))} tasks per day\n",
    "{int(round(completed_tasks_2020/52,0))} tasks per week\n",
    "{int(round(completed_tasks_2020/12,0))} tasks per month\"\"\")"
   ]
  },
  {
   "cell_type": "code",
   "execution_count": 19,
   "metadata": {
    "scrolled": true
   },
   "outputs": [
    {
     "data": {
      "text/html": [
       "<div>\n",
       "<style scoped>\n",
       "    .dataframe tbody tr th:only-of-type {\n",
       "        vertical-align: middle;\n",
       "    }\n",
       "\n",
       "    .dataframe tbody tr th {\n",
       "        vertical-align: top;\n",
       "    }\n",
       "\n",
       "    .dataframe thead th {\n",
       "        text-align: right;\n",
       "    }\n",
       "</style>\n",
       "<table border=\"1\" class=\"dataframe\">\n",
       "  <thead>\n",
       "    <tr style=\"text-align: right;\">\n",
       "      <th></th>\n",
       "      <th>completed_date</th>\n",
       "      <th>content</th>\n",
       "      <th>id</th>\n",
       "      <th>meta_data</th>\n",
       "      <th>project_id</th>\n",
       "      <th>task_id</th>\n",
       "      <th>user_id</th>\n",
       "      <th>project_name</th>\n",
       "      <th>completed_datetime_object</th>\n",
       "      <th>completed_date_year</th>\n",
       "      <th>completed_date_month</th>\n",
       "      <th>completed_date_weekday</th>\n",
       "    </tr>\n",
       "  </thead>\n",
       "  <tbody>\n",
       "    <tr>\n",
       "      <th>0</th>\n",
       "      <td>2021-01-19T14:10:07Z</td>\n",
       "      <td>Enquire about life insurance</td>\n",
       "      <td>4210159397</td>\n",
       "      <td>None</td>\n",
       "      <td>2240338162</td>\n",
       "      <td>4476148360</td>\n",
       "      <td>28966387</td>\n",
       "      <td>🥓 JET</td>\n",
       "      <td>2021-01-19 14:10:07</td>\n",
       "      <td>2021</td>\n",
       "      <td>1</td>\n",
       "      <td>1</td>\n",
       "    </tr>\n",
       "    <tr>\n",
       "      <th>1</th>\n",
       "      <td>2021-01-19T10:17:34Z</td>\n",
       "      <td>**00** Daily planning</td>\n",
       "      <td>4209670308</td>\n",
       "      <td>None</td>\n",
       "      <td>2240338076</td>\n",
       "      <td>4476210762</td>\n",
       "      <td>28966387</td>\n",
       "      <td>❶ This Week</td>\n",
       "      <td>2021-01-19 10:17:34</td>\n",
       "      <td>2021</td>\n",
       "      <td>1</td>\n",
       "      <td>1</td>\n",
       "    </tr>\n",
       "    <tr>\n",
       "      <th>2</th>\n",
       "      <td>2021-01-19T10:13:49Z</td>\n",
       "      <td>Baby potatoes</td>\n",
       "      <td>4209663482</td>\n",
       "      <td>None</td>\n",
       "      <td>2240338076</td>\n",
       "      <td>4499030537</td>\n",
       "      <td>28966387</td>\n",
       "      <td>❶ This Week</td>\n",
       "      <td>2021-01-19 10:13:49</td>\n",
       "      <td>2021</td>\n",
       "      <td>1</td>\n",
       "      <td>1</td>\n",
       "    </tr>\n",
       "    <tr>\n",
       "      <th>3</th>\n",
       "      <td>2021-01-19T10:13:45Z</td>\n",
       "      <td>Millys bday</td>\n",
       "      <td>4209663366</td>\n",
       "      <td>None</td>\n",
       "      <td>2250738735</td>\n",
       "      <td>4478505218</td>\n",
       "      <td>28966387</td>\n",
       "      <td>❷ Next Week</td>\n",
       "      <td>2021-01-19 10:13:45</td>\n",
       "      <td>2021</td>\n",
       "      <td>1</td>\n",
       "      <td>1</td>\n",
       "    </tr>\n",
       "    <tr>\n",
       "      <th>4</th>\n",
       "      <td>2021-01-18T20:39:00Z</td>\n",
       "      <td>Call Barnes and Partners to make payment  via ...</td>\n",
       "      <td>4208442482</td>\n",
       "      <td>None</td>\n",
       "      <td>2240338076</td>\n",
       "      <td>4481178181</td>\n",
       "      <td>28966387</td>\n",
       "      <td>❶ This Week</td>\n",
       "      <td>2021-01-18 20:39:00</td>\n",
       "      <td>2021</td>\n",
       "      <td>1</td>\n",
       "      <td>0</td>\n",
       "    </tr>\n",
       "  </tbody>\n",
       "</table>\n",
       "</div>"
      ],
      "text/plain": [
       "         completed_date                                            content  \\\n",
       "0  2021-01-19T14:10:07Z                       Enquire about life insurance   \n",
       "1  2021-01-19T10:17:34Z                              **00** Daily planning   \n",
       "2  2021-01-19T10:13:49Z                                      Baby potatoes   \n",
       "3  2021-01-19T10:13:45Z                                        Millys bday   \n",
       "4  2021-01-18T20:39:00Z  Call Barnes and Partners to make payment  via ...   \n",
       "\n",
       "           id meta_data  project_id     task_id   user_id project_name  \\\n",
       "0  4210159397      None  2240338162  4476148360  28966387        🥓 JET   \n",
       "1  4209670308      None  2240338076  4476210762  28966387  ❶ This Week   \n",
       "2  4209663482      None  2240338076  4499030537  28966387  ❶ This Week   \n",
       "3  4209663366      None  2250738735  4478505218  28966387  ❷ Next Week   \n",
       "4  4208442482      None  2240338076  4481178181  28966387  ❶ This Week   \n",
       "\n",
       "  completed_datetime_object  completed_date_year  completed_date_month  \\\n",
       "0       2021-01-19 14:10:07                 2021                     1   \n",
       "1       2021-01-19 10:17:34                 2021                     1   \n",
       "2       2021-01-19 10:13:49                 2021                     1   \n",
       "3       2021-01-19 10:13:45                 2021                     1   \n",
       "4       2021-01-18 20:39:00                 2021                     1   \n",
       "\n",
       "   completed_date_weekday  \n",
       "0                       1  \n",
       "1                       1  \n",
       "2                       1  \n",
       "3                       1  \n",
       "4                       0  "
      ]
     },
     "execution_count": 19,
     "metadata": {},
     "output_type": "execute_result"
    }
   ],
   "source": [
    "df.head()"
   ]
  },
  {
   "cell_type": "code",
   "execution_count": 20,
   "metadata": {},
   "outputs": [
    {
     "data": {
      "text/html": [
       "<div>\n",
       "<style scoped>\n",
       "    .dataframe tbody tr th:only-of-type {\n",
       "        vertical-align: middle;\n",
       "    }\n",
       "\n",
       "    .dataframe tbody tr th {\n",
       "        vertical-align: top;\n",
       "    }\n",
       "\n",
       "    .dataframe thead th {\n",
       "        text-align: right;\n",
       "    }\n",
       "</style>\n",
       "<table border=\"1\" class=\"dataframe\">\n",
       "  <thead>\n",
       "    <tr style=\"text-align: right;\">\n",
       "      <th></th>\n",
       "      <th>completed_date_year</th>\n",
       "      <th>completed_date_month</th>\n",
       "      <th>task_id</th>\n",
       "    </tr>\n",
       "  </thead>\n",
       "  <tbody>\n",
       "    <tr>\n",
       "      <th>0</th>\n",
       "      <td>2020</td>\n",
       "      <td>7</td>\n",
       "      <td>123</td>\n",
       "    </tr>\n",
       "    <tr>\n",
       "      <th>1</th>\n",
       "      <td>2020</td>\n",
       "      <td>8</td>\n",
       "      <td>184</td>\n",
       "    </tr>\n",
       "    <tr>\n",
       "      <th>2</th>\n",
       "      <td>2020</td>\n",
       "      <td>9</td>\n",
       "      <td>79</td>\n",
       "    </tr>\n",
       "    <tr>\n",
       "      <th>3</th>\n",
       "      <td>2020</td>\n",
       "      <td>10</td>\n",
       "      <td>23</td>\n",
       "    </tr>\n",
       "    <tr>\n",
       "      <th>4</th>\n",
       "      <td>2020</td>\n",
       "      <td>11</td>\n",
       "      <td>172</td>\n",
       "    </tr>\n",
       "    <tr>\n",
       "      <th>5</th>\n",
       "      <td>2020</td>\n",
       "      <td>12</td>\n",
       "      <td>256</td>\n",
       "    </tr>\n",
       "    <tr>\n",
       "      <th>6</th>\n",
       "      <td>2021</td>\n",
       "      <td>1</td>\n",
       "      <td>167</td>\n",
       "    </tr>\n",
       "  </tbody>\n",
       "</table>\n",
       "</div>"
      ],
      "text/plain": [
       "   completed_date_year  completed_date_month  task_id\n",
       "0                 2020                     7      123\n",
       "1                 2020                     8      184\n",
       "2                 2020                     9       79\n",
       "3                 2020                    10       23\n",
       "4                 2020                    11      172\n",
       "5                 2020                    12      256\n",
       "6                 2021                     1      167"
      ]
     },
     "execution_count": 20,
     "metadata": {},
     "output_type": "execute_result"
    }
   ],
   "source": [
    "df.groupby([\"completed_date_year\", \"completed_date_month\"], as_index=False)[\"task_id\"].count()"
   ]
  },
  {
   "cell_type": "code",
   "execution_count": 21,
   "metadata": {},
   "outputs": [
    {
     "data": {
      "text/html": [
       "<div>\n",
       "<style scoped>\n",
       "    .dataframe tbody tr th:only-of-type {\n",
       "        vertical-align: middle;\n",
       "    }\n",
       "\n",
       "    .dataframe tbody tr th {\n",
       "        vertical-align: top;\n",
       "    }\n",
       "\n",
       "    .dataframe thead th {\n",
       "        text-align: right;\n",
       "    }\n",
       "</style>\n",
       "<table border=\"1\" class=\"dataframe\">\n",
       "  <thead>\n",
       "    <tr style=\"text-align: right;\">\n",
       "      <th></th>\n",
       "      <th>completed_date_year</th>\n",
       "      <th>completed_date_weekday</th>\n",
       "      <th>task_id</th>\n",
       "    </tr>\n",
       "  </thead>\n",
       "  <tbody>\n",
       "    <tr>\n",
       "      <th>0</th>\n",
       "      <td>2020</td>\n",
       "      <td>0</td>\n",
       "      <td>164</td>\n",
       "    </tr>\n",
       "    <tr>\n",
       "      <th>1</th>\n",
       "      <td>2020</td>\n",
       "      <td>1</td>\n",
       "      <td>114</td>\n",
       "    </tr>\n",
       "    <tr>\n",
       "      <th>2</th>\n",
       "      <td>2020</td>\n",
       "      <td>2</td>\n",
       "      <td>130</td>\n",
       "    </tr>\n",
       "    <tr>\n",
       "      <th>3</th>\n",
       "      <td>2020</td>\n",
       "      <td>3</td>\n",
       "      <td>78</td>\n",
       "    </tr>\n",
       "    <tr>\n",
       "      <th>4</th>\n",
       "      <td>2020</td>\n",
       "      <td>4</td>\n",
       "      <td>108</td>\n",
       "    </tr>\n",
       "    <tr>\n",
       "      <th>5</th>\n",
       "      <td>2020</td>\n",
       "      <td>5</td>\n",
       "      <td>138</td>\n",
       "    </tr>\n",
       "    <tr>\n",
       "      <th>6</th>\n",
       "      <td>2020</td>\n",
       "      <td>6</td>\n",
       "      <td>105</td>\n",
       "    </tr>\n",
       "    <tr>\n",
       "      <th>7</th>\n",
       "      <td>2021</td>\n",
       "      <td>0</td>\n",
       "      <td>34</td>\n",
       "    </tr>\n",
       "    <tr>\n",
       "      <th>8</th>\n",
       "      <td>2021</td>\n",
       "      <td>1</td>\n",
       "      <td>20</td>\n",
       "    </tr>\n",
       "    <tr>\n",
       "      <th>9</th>\n",
       "      <td>2021</td>\n",
       "      <td>2</td>\n",
       "      <td>13</td>\n",
       "    </tr>\n",
       "    <tr>\n",
       "      <th>10</th>\n",
       "      <td>2021</td>\n",
       "      <td>3</td>\n",
       "      <td>20</td>\n",
       "    </tr>\n",
       "    <tr>\n",
       "      <th>11</th>\n",
       "      <td>2021</td>\n",
       "      <td>4</td>\n",
       "      <td>39</td>\n",
       "    </tr>\n",
       "    <tr>\n",
       "      <th>12</th>\n",
       "      <td>2021</td>\n",
       "      <td>5</td>\n",
       "      <td>26</td>\n",
       "    </tr>\n",
       "    <tr>\n",
       "      <th>13</th>\n",
       "      <td>2021</td>\n",
       "      <td>6</td>\n",
       "      <td>15</td>\n",
       "    </tr>\n",
       "  </tbody>\n",
       "</table>\n",
       "</div>"
      ],
      "text/plain": [
       "    completed_date_year  completed_date_weekday  task_id\n",
       "0                  2020                       0      164\n",
       "1                  2020                       1      114\n",
       "2                  2020                       2      130\n",
       "3                  2020                       3       78\n",
       "4                  2020                       4      108\n",
       "5                  2020                       5      138\n",
       "6                  2020                       6      105\n",
       "7                  2021                       0       34\n",
       "8                  2021                       1       20\n",
       "9                  2021                       2       13\n",
       "10                 2021                       3       20\n",
       "11                 2021                       4       39\n",
       "12                 2021                       5       26\n",
       "13                 2021                       6       15"
      ]
     },
     "execution_count": 21,
     "metadata": {},
     "output_type": "execute_result"
    }
   ],
   "source": [
    "df.groupby([\"completed_date_year\", \"completed_date_weekday\"], as_index=False)[\"task_id\"].count()"
   ]
  },
  {
   "cell_type": "code",
   "execution_count": null,
   "metadata": {},
   "outputs": [],
   "source": []
  }
 ],
 "metadata": {
  "kernelspec": {
   "display_name": "Python 3",
   "language": "python",
   "name": "python3"
  },
  "language_info": {
   "codemirror_mode": {
    "name": "ipython",
    "version": 3
   },
   "file_extension": ".py",
   "mimetype": "text/x-python",
   "name": "python",
   "nbconvert_exporter": "python",
   "pygments_lexer": "ipython3",
   "version": "3.7.3"
  }
 },
 "nbformat": 4,
 "nbformat_minor": 2
}
