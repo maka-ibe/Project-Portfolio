{
 "cells": [
  {
   "cell_type": "code",
   "execution_count": 1,
   "metadata": {},
   "outputs": [],
   "source": [
    "from api_token import token\n",
    "import todoist as td\n",
    "import pandas as pd\n",
    "import datetime as dt"
   ]
  },
  {
   "cell_type": "code",
   "execution_count": 2,
   "metadata": {},
   "outputs": [],
   "source": [
    "api = td.TodoistAPI(token)\n",
    "# Sync to API to get latest data\n",
    "api.sync();"
   ]
  },
  {
   "cell_type": "code",
   "execution_count": 3,
   "metadata": {},
   "outputs": [],
   "source": [
    "# when the api query has no items (tasks) to report, it returns a dictionary with two empty keys e.g.\n",
    "# {'items':[], 'projects':[]}\n",
    "# Therefore I need to create a function to check if the keys in the dictionary have values\n",
    "\n",
    "def has_values(dictionary):\n",
    "    \n",
    "    # For each key in dictionary, check if keys in dict have values\n",
    "    values = [any(dictionary[key]) for key in dictionary]\n",
    "    \n",
    "    # Create a unique list of values\n",
    "    output = list(set(values))\n",
    "    \n",
    "    return output[0]"
   ]
  },
  {
   "cell_type": "code",
   "execution_count": 4,
   "metadata": {},
   "outputs": [],
   "source": [
    "# The API has a maximum of 200 items that can be returned, use while loop to get all items\n",
    "\n",
    "# Items are retrieved in descending order by date.\n",
    "# offset indicates how many items should be skipped\n",
    "completed_tasks_list = []\n",
    "limit = 200\n",
    "offset = 0\n",
    "not_empty = True\n",
    "\n",
    "while not_empty:\n",
    "    # API call, retrieving between 0 and 200 items at a time\n",
    "    completed_tasks = api.completed.get_all(limit=limit, offset=offset)\n",
    "    not_empty = has_values(completed_tasks) # if false it will exit the loop\n",
    "    completed_tasks_list.append(completed_tasks) # add items to list\n",
    "    offset += limit # increase offset to get the next set of results\n",
    "    "
   ]
  },
  {
   "cell_type": "code",
   "execution_count": 5,
   "metadata": {},
   "outputs": [],
   "source": [
    "# Create a list of dfs for each result of items\n",
    "completed_dfs = [pd.DataFrame(completed_tasks_list[i]['items']) for i in range(0,len(completed_tasks_list))]"
   ]
  },
  {
   "cell_type": "code",
   "execution_count": 6,
   "metadata": {},
   "outputs": [],
   "source": [
    "# Combine dfs into one large df\n",
    "df = pd.concat(completed_dfs)"
   ]
  },
  {
   "cell_type": "code",
   "execution_count": 7,
   "metadata": {},
   "outputs": [
    {
     "data": {
      "text/plain": [
       "(943, 7)"
      ]
     },
     "execution_count": 7,
     "metadata": {},
     "output_type": "execute_result"
    }
   ],
   "source": [
    "# Check num of rows and columns\n",
    "df.shape"
   ]
  },
  {
   "cell_type": "code",
   "execution_count": 39,
   "metadata": {},
   "outputs": [],
   "source": [
    "# df.head()"
   ]
  },
  {
   "cell_type": "code",
   "execution_count": 38,
   "metadata": {},
   "outputs": [
    {
     "data": {
      "text/plain": [
       "{'Inbox': 2240336392,\n",
       " '❶ This Week': 2240338076,\n",
       " '❷ Next Week': 2250738735,\n",
       " '❸ This Month': 2250738747,\n",
       " '❹ Next Month': 2250738761,\n",
       " '❺ Further Than Next Month': 2250741928,\n",
       " '🧠 Project Ideas': 2250742579,\n",
       " '🚧 Backlog 🚧': 2240553789,\n",
       " '⏱ Routines': 2240717407,\n",
       " '🥓 JET': 2240338162,\n",
       " '🏡 Reign Property': 2240484947}"
      ]
     },
     "execution_count": 38,
     "metadata": {},
     "output_type": "execute_result"
    }
   ],
   "source": [
    "# TODO add project_name field from projects\n",
    "# our df doesn't yet have project name\n",
    "# create new dict of id and project name\n",
    "projects = api.projects.all() # Get list of projects from api\n",
    "td_projects_dict = {projects[i].data['name']:projects[i].data['id'] for i,data in enumerate(projects)}\n",
    "# projects = {int(key):td_projects_dict[key]['name'] for key in td_projects_dict}\n",
    "td_projects_dict"
   ]
  },
  {
   "cell_type": "code",
   "execution_count": null,
   "metadata": {},
   "outputs": [],
   "source": [
    "# map project names to df\n",
    "# yday_completed_tasks_df['project_name'] = yday_completed_tasks_df['project_id'].map(projects)"
   ]
  }
 ],
 "metadata": {
  "kernelspec": {
   "display_name": "Python 3",
   "language": "python",
   "name": "python3"
  },
  "language_info": {
   "codemirror_mode": {
    "name": "ipython",
    "version": 3
   },
   "file_extension": ".py",
   "mimetype": "text/x-python",
   "name": "python",
   "nbconvert_exporter": "python",
   "pygments_lexer": "ipython3",
   "version": "3.7.3"
  }
 },
 "nbformat": 4,
 "nbformat_minor": 2
}
