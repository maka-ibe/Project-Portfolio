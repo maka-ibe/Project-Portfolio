{
 "cells": [
  {
   "cell_type": "code",
   "execution_count": 1,
   "metadata": {},
   "outputs": [],
   "source": [
    "from api_token import token\n",
    "import todoist as td\n",
    "import pandas as pd\n",
    "import datetime as dt"
   ]
  },
  {
   "cell_type": "code",
   "execution_count": 2,
   "metadata": {},
   "outputs": [],
   "source": [
    "api = td.TodoistAPI(token)\n",
    "# Sync to API to get latest data\n",
    "api.sync();"
   ]
  },
  {
   "cell_type": "code",
   "execution_count": 3,
   "metadata": {},
   "outputs": [],
   "source": [
    "# when the api query has no items (tasks) to report, it returns a dictionary with two empty keys e.g.\n",
    "# {'items':[], 'projects':[]}\n",
    "# Therefore I need to create a function to check if the keys in the dictionary have values\n",
    "\n",
    "def has_values(dictionary):\n",
    "    \n",
    "    # For each key in dictionary, check if keys in dict have values\n",
    "    values = [any(dictionary[key]) for key in dictionary]\n",
    "    \n",
    "    # Create a unique list of values\n",
    "    output = list(set(values))\n",
    "    \n",
    "    return output[0]"
   ]
  },
  {
   "cell_type": "code",
   "execution_count": 4,
   "metadata": {},
   "outputs": [],
   "source": [
    "# The API has a maximum of 200 items that can be returned, use while loop to get all items\n",
    "\n",
    "completed_tasks_list = []\n",
    "limit = 200\n",
    "offset = 0\n",
    "not_empty = True\n",
    "\n",
    "while not_empty:\n",
    "    # API call, retrieving between 0 and 200 items at a time\n",
    "    completed_tasks = api.completed.get_all(limit=limit, offset=offset)\n",
    "    not_empty = has_values(completed_tasks) # if false it will exit the loop\n",
    "    completed_tasks_list.append(completed_tasks) # add items to list\n",
    "    offset += limit # increase offset to get the next set of results\n",
    "    "
   ]
  },
  {
   "cell_type": "code",
   "execution_count": 5,
   "metadata": {},
   "outputs": [],
   "source": [
    "# Create a list of dfs for each result of items\n",
    "completed_dfs = [pd.DataFrame(completed_tasks_list[i]['items']) for i in range(0,len(completed_tasks_list))]"
   ]
  },
  {
   "cell_type": "code",
   "execution_count": 6,
   "metadata": {},
   "outputs": [],
   "source": [
    "# Combine dfs into one large df\n",
    "df = pd.concat(completed_dfs, ignore_index = True)"
   ]
  },
  {
   "cell_type": "code",
   "execution_count": 7,
   "metadata": {},
   "outputs": [
    {
     "data": {
      "text/plain": [
       "(1004, 7)"
      ]
     },
     "execution_count": 7,
     "metadata": {},
     "output_type": "execute_result"
    }
   ],
   "source": [
    "# Check num of rows and columns\n",
    "df.shape"
   ]
  },
  {
   "cell_type": "code",
   "execution_count": 8,
   "metadata": {},
   "outputs": [],
   "source": [
    "# Our df doesn't yet have project names, only project ids, we want to add a field with project names\n",
    "td_projects_dict = {}\n",
    "for i,data in enumerate(completed_tasks_list):\n",
    "    for key in data['projects'].keys():\n",
    "        td_projects_dict[int(key)] = data['projects'][key]['name']"
   ]
  },
  {
   "cell_type": "code",
   "execution_count": 9,
   "metadata": {},
   "outputs": [],
   "source": [
    "# Map project names to df\n",
    "df['project_name'] = df['project_id'].map(td_projects_dict)"
   ]
  },
  {
   "cell_type": "code",
   "execution_count": 10,
   "metadata": {},
   "outputs": [],
   "source": [
    "# TODO Create statement that prints the following:\n",
    "# You completed XXX tasks in 2020. That’s an average of…\n",
    "# XX tasks per day\n",
    "# XX tasks per week\n",
    "# XX tasks per month"
   ]
  },
  {
   "cell_type": "code",
   "execution_count": 11,
   "metadata": {},
   "outputs": [],
   "source": [
    "# TODO first add a column that will get the year of completion\n",
    "\n",
    "# Create func to convert time to datetime object\n",
    "def convert_dt_object(date):\n",
    "    date_format = \"%Y-%m-%dT%H:%M:%SZ\"\n",
    "    output = dt.datetime.strptime(date, date_format)\n",
    "    return(output)"
   ]
  },
  {
   "cell_type": "code",
   "execution_count": 12,
   "metadata": {},
   "outputs": [],
   "source": [
    "# Convert date to datetime object\n",
    "df['completed_datetime_object'] = df['completed_date'].map(convert_dt_object)"
   ]
  },
  {
   "cell_type": "code",
   "execution_count": 14,
   "metadata": {},
   "outputs": [],
   "source": [
    "df['completed_date_year'] = df['completed_datetime_object'].map(lambda x: x.year)"
   ]
  },
  {
   "cell_type": "code",
   "execution_count": 15,
   "metadata": {},
   "outputs": [
    {
     "data": {
      "text/html": [
       "<div>\n",
       "<style scoped>\n",
       "    .dataframe tbody tr th:only-of-type {\n",
       "        vertical-align: middle;\n",
       "    }\n",
       "\n",
       "    .dataframe tbody tr th {\n",
       "        vertical-align: top;\n",
       "    }\n",
       "\n",
       "    .dataframe thead th {\n",
       "        text-align: right;\n",
       "    }\n",
       "</style>\n",
       "<table border=\"1\" class=\"dataframe\">\n",
       "  <thead>\n",
       "    <tr style=\"text-align: right;\">\n",
       "      <th></th>\n",
       "      <th>completed_date_year</th>\n",
       "      <th>task_id</th>\n",
       "    </tr>\n",
       "  </thead>\n",
       "  <tbody>\n",
       "    <tr>\n",
       "      <th>0</th>\n",
       "      <td>2020</td>\n",
       "      <td>837</td>\n",
       "    </tr>\n",
       "    <tr>\n",
       "      <th>1</th>\n",
       "      <td>2021</td>\n",
       "      <td>167</td>\n",
       "    </tr>\n",
       "  </tbody>\n",
       "</table>\n",
       "</div>"
      ],
      "text/plain": [
       "   completed_date_year  task_id\n",
       "0                 2020      837\n",
       "1                 2021      167"
      ]
     },
     "execution_count": 15,
     "metadata": {},
     "output_type": "execute_result"
    }
   ],
   "source": [
    "# Get count of tasks completed in each year\n",
    "df.groupby(\"completed_date_year\", as_index=False)[\"task_id\"].count()"
   ]
  },
  {
   "cell_type": "code",
   "execution_count": null,
   "metadata": {},
   "outputs": [],
   "source": [
    "completed_tasks_2020 = df.groupby(\"completed_date_year\")[\"task_id\"].count()[2020]"
   ]
  },
  {
   "cell_type": "code",
   "execution_count": null,
   "metadata": {},
   "outputs": [],
   "source": [
    "print(f\"\"\"You completed {completed_tasks_2020} tasks in 2020. That's an average of...\n",
    "{int(round(completed_tasks_2020/365,0))} tasks per day\n",
    "{int(round(completed_tasks_2020/52,0))} tasks per week\n",
    "{int(round(completed_tasks_2020/12,0))} tasks per month\"\"\")"
   ]
  },
  {
   "cell_type": "code",
   "execution_count": null,
   "metadata": {
    "scrolled": true
   },
   "outputs": [],
   "source": [
    "# df.head()"
   ]
  }
 ],
 "metadata": {
  "kernelspec": {
   "display_name": "Python 3",
   "language": "python",
   "name": "python3"
  },
  "language_info": {
   "codemirror_mode": {
    "name": "ipython",
    "version": 3
   },
   "file_extension": ".py",
   "mimetype": "text/x-python",
   "name": "python",
   "nbconvert_exporter": "python",
   "pygments_lexer": "ipython3",
   "version": "3.7.3"
  }
 },
 "nbformat": 4,
 "nbformat_minor": 2
}
