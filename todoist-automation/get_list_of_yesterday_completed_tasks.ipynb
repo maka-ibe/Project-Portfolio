{
 "cells": [
  {
   "cell_type": "code",
   "execution_count": 1,
   "metadata": {},
   "outputs": [],
   "source": [
    "from api_token import token\n",
    "import todoist as td\n",
    "import pandas as pd\n",
    "import datetime as dt"
   ]
  },
  {
   "cell_type": "code",
   "execution_count": 2,
   "metadata": {},
   "outputs": [
    {
     "name": "stdout",
     "output_type": "stream",
     "text": [
      "2021-01-05T00:00:00Z\n",
      "2021-01-05T23:59:59Z\n"
     ]
    }
   ],
   "source": [
    "# Get yesterday's date to feed into call\n",
    "today = dt.date.today()\n",
    "yesterday = today - dt.timedelta(days = 1)\n",
    "yday_start = str(yesterday)+\"T00:00:00Z\"\n",
    "yday_end = str(yesterday)+\"T23:59:59Z\"\n",
    "print(yday_start)\n",
    "print(yday_end)"
   ]
  },
  {
   "cell_type": "code",
   "execution_count": 3,
   "metadata": {},
   "outputs": [],
   "source": [
    "api = td.TodoistAPI(token)\n",
    "# Sync to API to get latest data\n",
    "api.sync();"
   ]
  },
  {
   "cell_type": "code",
   "execution_count": 76,
   "metadata": {},
   "outputs": [],
   "source": [
    "yday_completed_tasks_dict = api.completed.get_all(since = yday_start, until = yday_end)"
   ]
  },
  {
   "cell_type": "code",
   "execution_count": 77,
   "metadata": {},
   "outputs": [
    {
     "data": {
      "text/plain": [
       "['items', 'projects']"
      ]
     },
     "execution_count": 77,
     "metadata": {},
     "output_type": "execute_result"
    }
   ],
   "source": [
    "# get list of keys\n",
    "[key for key in yday_completed_tasks_dict]"
   ]
  },
  {
   "cell_type": "code",
   "execution_count": 78,
   "metadata": {},
   "outputs": [],
   "source": [
    "yday_completed_tasks_df = pd.DataFrame(yday_completed_tasks_dict['items'])"
   ]
  },
  {
   "cell_type": "code",
   "execution_count": 79,
   "metadata": {},
   "outputs": [
    {
     "data": {
      "text/html": [
       "<div>\n",
       "<style scoped>\n",
       "    .dataframe tbody tr th:only-of-type {\n",
       "        vertical-align: middle;\n",
       "    }\n",
       "\n",
       "    .dataframe tbody tr th {\n",
       "        vertical-align: top;\n",
       "    }\n",
       "\n",
       "    .dataframe thead th {\n",
       "        text-align: right;\n",
       "    }\n",
       "</style>\n",
       "<table border=\"1\" class=\"dataframe\">\n",
       "  <thead>\n",
       "    <tr style=\"text-align: right;\">\n",
       "      <th></th>\n",
       "      <th>completed_date</th>\n",
       "      <th>content</th>\n",
       "      <th>id</th>\n",
       "      <th>meta_data</th>\n",
       "      <th>project_id</th>\n",
       "      <th>task_id</th>\n",
       "      <th>user_id</th>\n",
       "    </tr>\n",
       "  </thead>\n",
       "  <tbody>\n",
       "    <tr>\n",
       "      <th>0</th>\n",
       "      <td>2021-01-05T15:40:59Z</td>\n",
       "      <td>**03a** BUS-4197 [(DE-7570)](https://justeatta...</td>\n",
       "      <td>4177667603</td>\n",
       "      <td>None</td>\n",
       "      <td>2240338162</td>\n",
       "      <td>4430222040</td>\n",
       "      <td>28966387</td>\n",
       "    </tr>\n",
       "    <tr>\n",
       "      <th>1</th>\n",
       "      <td>2021-01-05T15:40:56Z</td>\n",
       "      <td>**03b** Re-read latest slack message from Fred...</td>\n",
       "      <td>4177667478</td>\n",
       "      <td>None</td>\n",
       "      <td>2240338162</td>\n",
       "      <td>4431395486</td>\n",
       "      <td>28966387</td>\n",
       "    </tr>\n",
       "    <tr>\n",
       "      <th>2</th>\n",
       "      <td>2021-01-05T13:42:33Z</td>\n",
       "      <td>Complete WFH training Fwd: Help with Temporary...</td>\n",
       "      <td>4177354628</td>\n",
       "      <td>None</td>\n",
       "      <td>2240338162</td>\n",
       "      <td>4430173573</td>\n",
       "      <td>28966387</td>\n",
       "    </tr>\n",
       "    <tr>\n",
       "      <th>3</th>\n",
       "      <td>2021-01-05T12:50:20Z</td>\n",
       "      <td>**01** Make notes on Data Engineer JD's</td>\n",
       "      <td>4177236599</td>\n",
       "      <td>None</td>\n",
       "      <td>2240338076</td>\n",
       "      <td>4435958173</td>\n",
       "      <td>28966387</td>\n",
       "    </tr>\n",
       "    <tr>\n",
       "      <th>4</th>\n",
       "      <td>2021-01-05T10:59:35Z</td>\n",
       "      <td>**E1** Call Quality Surveyors on 020 8185 7454...</td>\n",
       "      <td>4177022640</td>\n",
       "      <td>None</td>\n",
       "      <td>2240338076</td>\n",
       "      <td>4436808693</td>\n",
       "      <td>28966387</td>\n",
       "    </tr>\n",
       "  </tbody>\n",
       "</table>\n",
       "</div>"
      ],
      "text/plain": [
       "         completed_date                                            content  \\\n",
       "0  2021-01-05T15:40:59Z  **03a** BUS-4197 [(DE-7570)](https://justeatta...   \n",
       "1  2021-01-05T15:40:56Z  **03b** Re-read latest slack message from Fred...   \n",
       "2  2021-01-05T13:42:33Z  Complete WFH training Fwd: Help with Temporary...   \n",
       "3  2021-01-05T12:50:20Z            **01** Make notes on Data Engineer JD's   \n",
       "4  2021-01-05T10:59:35Z  **E1** Call Quality Surveyors on 020 8185 7454...   \n",
       "\n",
       "           id meta_data  project_id     task_id   user_id  \n",
       "0  4177667603      None  2240338162  4430222040  28966387  \n",
       "1  4177667478      None  2240338162  4431395486  28966387  \n",
       "2  4177354628      None  2240338162  4430173573  28966387  \n",
       "3  4177236599      None  2240338076  4435958173  28966387  \n",
       "4  4177022640      None  2240338076  4436808693  28966387  "
      ]
     },
     "execution_count": 79,
     "metadata": {},
     "output_type": "execute_result"
    }
   ],
   "source": [
    "yday_completed_tasks_df.head()"
   ]
  },
  {
   "cell_type": "code",
   "execution_count": 80,
   "metadata": {},
   "outputs": [
    {
     "data": {
      "text/plain": [
       "{2240338076: '❶ This Week', 2240338162: '🥓 JET', 2240717407: '⏱ Routines'}"
      ]
     },
     "execution_count": 80,
     "metadata": {},
     "output_type": "execute_result"
    }
   ],
   "source": [
    "# our df doesn't yet have project name\n",
    "# create new dict of id and project name\n",
    "td_projects_dict = yday_completed_tasks_dict['projects']\n",
    "projects = {int(key):td_projects_dict[key]['name'] for key in td_projects_dict}\n",
    "projects"
   ]
  },
  {
   "cell_type": "code",
   "execution_count": 81,
   "metadata": {},
   "outputs": [],
   "source": [
    "# map project names to df\n",
    "yday_completed_tasks_df['project_name'] = yday_completed_tasks_df['project_id'].map(projects)"
   ]
  },
  {
   "cell_type": "code",
   "execution_count": 83,
   "metadata": {},
   "outputs": [
    {
     "ename": "KeyError",
     "evalue": "'task_id'",
     "output_type": "error",
     "traceback": [
      "\u001b[0;31m---------------------------------------------------------------------------\u001b[0m",
      "\u001b[0;31mKeyError\u001b[0m                                  Traceback (most recent call last)",
      "\u001b[0;32m~/anaconda3/lib/python3.7/site-packages/pandas/core/indexes/base.py\u001b[0m in \u001b[0;36mget_loc\u001b[0;34m(self, key, method, tolerance)\u001b[0m\n\u001b[1;32m   2656\u001b[0m             \u001b[0;32mtry\u001b[0m\u001b[0;34m:\u001b[0m\u001b[0;34m\u001b[0m\u001b[0;34m\u001b[0m\u001b[0m\n\u001b[0;32m-> 2657\u001b[0;31m                 \u001b[0;32mreturn\u001b[0m \u001b[0mself\u001b[0m\u001b[0;34m.\u001b[0m\u001b[0m_engine\u001b[0m\u001b[0;34m.\u001b[0m\u001b[0mget_loc\u001b[0m\u001b[0;34m(\u001b[0m\u001b[0mkey\u001b[0m\u001b[0;34m)\u001b[0m\u001b[0;34m\u001b[0m\u001b[0;34m\u001b[0m\u001b[0m\n\u001b[0m\u001b[1;32m   2658\u001b[0m             \u001b[0;32mexcept\u001b[0m \u001b[0mKeyError\u001b[0m\u001b[0;34m:\u001b[0m\u001b[0;34m\u001b[0m\u001b[0;34m\u001b[0m\u001b[0m\n",
      "\u001b[0;32mpandas/_libs/index.pyx\u001b[0m in \u001b[0;36mpandas._libs.index.IndexEngine.get_loc\u001b[0;34m()\u001b[0m\n",
      "\u001b[0;32mpandas/_libs/index.pyx\u001b[0m in \u001b[0;36mpandas._libs.index.IndexEngine.get_loc\u001b[0;34m()\u001b[0m\n",
      "\u001b[0;32mpandas/_libs/hashtable_class_helper.pxi\u001b[0m in \u001b[0;36mpandas._libs.hashtable.PyObjectHashTable.get_item\u001b[0;34m()\u001b[0m\n",
      "\u001b[0;32mpandas/_libs/hashtable_class_helper.pxi\u001b[0m in \u001b[0;36mpandas._libs.hashtable.PyObjectHashTable.get_item\u001b[0;34m()\u001b[0m\n",
      "\u001b[0;31mKeyError\u001b[0m: 'task_id'",
      "\nDuring handling of the above exception, another exception occurred:\n",
      "\u001b[0;31mKeyError\u001b[0m                                  Traceback (most recent call last)",
      "\u001b[0;32m<ipython-input-83-414e09e54c8e>\u001b[0m in \u001b[0;36m<module>\u001b[0;34m\u001b[0m\n\u001b[1;32m      1\u001b[0m \u001b[0;31m# TODO to get task url you have to create it as follows https://todoist.com/showTask?id={task_id}\u001b[0m\u001b[0;34m\u001b[0m\u001b[0;34m\u001b[0m\u001b[0;34m\u001b[0m\u001b[0m\n\u001b[0;32m----> 2\u001b[0;31m \u001b[0myday_completed_tasks_df\u001b[0m\u001b[0;34m[\u001b[0m\u001b[0;34m'task_url'\u001b[0m\u001b[0;34m]\u001b[0m \u001b[0;34m=\u001b[0m \u001b[0myday_completed_tasks_df\u001b[0m\u001b[0;34m[\u001b[0m\u001b[0;34m'task_id'\u001b[0m\u001b[0;34m]\u001b[0m\u001b[0;34m.\u001b[0m\u001b[0mmap\u001b[0m\u001b[0;34m(\u001b[0m\u001b[0;34m'https://todoist.com/showTask?id={}'\u001b[0m\u001b[0;34m.\u001b[0m\u001b[0mformat\u001b[0m\u001b[0;34m)\u001b[0m\u001b[0;34m\u001b[0m\u001b[0;34m\u001b[0m\u001b[0m\n\u001b[0m",
      "\u001b[0;32m~/anaconda3/lib/python3.7/site-packages/pandas/core/frame.py\u001b[0m in \u001b[0;36m__getitem__\u001b[0;34m(self, key)\u001b[0m\n\u001b[1;32m   2925\u001b[0m             \u001b[0;32mif\u001b[0m \u001b[0mself\u001b[0m\u001b[0;34m.\u001b[0m\u001b[0mcolumns\u001b[0m\u001b[0;34m.\u001b[0m\u001b[0mnlevels\u001b[0m \u001b[0;34m>\u001b[0m \u001b[0;36m1\u001b[0m\u001b[0;34m:\u001b[0m\u001b[0;34m\u001b[0m\u001b[0;34m\u001b[0m\u001b[0m\n\u001b[1;32m   2926\u001b[0m                 \u001b[0;32mreturn\u001b[0m \u001b[0mself\u001b[0m\u001b[0;34m.\u001b[0m\u001b[0m_getitem_multilevel\u001b[0m\u001b[0;34m(\u001b[0m\u001b[0mkey\u001b[0m\u001b[0;34m)\u001b[0m\u001b[0;34m\u001b[0m\u001b[0;34m\u001b[0m\u001b[0m\n\u001b[0;32m-> 2927\u001b[0;31m             \u001b[0mindexer\u001b[0m \u001b[0;34m=\u001b[0m \u001b[0mself\u001b[0m\u001b[0;34m.\u001b[0m\u001b[0mcolumns\u001b[0m\u001b[0;34m.\u001b[0m\u001b[0mget_loc\u001b[0m\u001b[0;34m(\u001b[0m\u001b[0mkey\u001b[0m\u001b[0;34m)\u001b[0m\u001b[0;34m\u001b[0m\u001b[0;34m\u001b[0m\u001b[0m\n\u001b[0m\u001b[1;32m   2928\u001b[0m             \u001b[0;32mif\u001b[0m \u001b[0mis_integer\u001b[0m\u001b[0;34m(\u001b[0m\u001b[0mindexer\u001b[0m\u001b[0;34m)\u001b[0m\u001b[0;34m:\u001b[0m\u001b[0;34m\u001b[0m\u001b[0;34m\u001b[0m\u001b[0m\n\u001b[1;32m   2929\u001b[0m                 \u001b[0mindexer\u001b[0m \u001b[0;34m=\u001b[0m \u001b[0;34m[\u001b[0m\u001b[0mindexer\u001b[0m\u001b[0;34m]\u001b[0m\u001b[0;34m\u001b[0m\u001b[0;34m\u001b[0m\u001b[0m\n",
      "\u001b[0;32m~/anaconda3/lib/python3.7/site-packages/pandas/core/indexes/base.py\u001b[0m in \u001b[0;36mget_loc\u001b[0;34m(self, key, method, tolerance)\u001b[0m\n\u001b[1;32m   2657\u001b[0m                 \u001b[0;32mreturn\u001b[0m \u001b[0mself\u001b[0m\u001b[0;34m.\u001b[0m\u001b[0m_engine\u001b[0m\u001b[0;34m.\u001b[0m\u001b[0mget_loc\u001b[0m\u001b[0;34m(\u001b[0m\u001b[0mkey\u001b[0m\u001b[0;34m)\u001b[0m\u001b[0;34m\u001b[0m\u001b[0;34m\u001b[0m\u001b[0m\n\u001b[1;32m   2658\u001b[0m             \u001b[0;32mexcept\u001b[0m \u001b[0mKeyError\u001b[0m\u001b[0;34m:\u001b[0m\u001b[0;34m\u001b[0m\u001b[0;34m\u001b[0m\u001b[0m\n\u001b[0;32m-> 2659\u001b[0;31m                 \u001b[0;32mreturn\u001b[0m \u001b[0mself\u001b[0m\u001b[0;34m.\u001b[0m\u001b[0m_engine\u001b[0m\u001b[0;34m.\u001b[0m\u001b[0mget_loc\u001b[0m\u001b[0;34m(\u001b[0m\u001b[0mself\u001b[0m\u001b[0;34m.\u001b[0m\u001b[0m_maybe_cast_indexer\u001b[0m\u001b[0;34m(\u001b[0m\u001b[0mkey\u001b[0m\u001b[0;34m)\u001b[0m\u001b[0;34m)\u001b[0m\u001b[0;34m\u001b[0m\u001b[0;34m\u001b[0m\u001b[0m\n\u001b[0m\u001b[1;32m   2660\u001b[0m         \u001b[0mindexer\u001b[0m \u001b[0;34m=\u001b[0m \u001b[0mself\u001b[0m\u001b[0;34m.\u001b[0m\u001b[0mget_indexer\u001b[0m\u001b[0;34m(\u001b[0m\u001b[0;34m[\u001b[0m\u001b[0mkey\u001b[0m\u001b[0;34m]\u001b[0m\u001b[0;34m,\u001b[0m \u001b[0mmethod\u001b[0m\u001b[0;34m=\u001b[0m\u001b[0mmethod\u001b[0m\u001b[0;34m,\u001b[0m \u001b[0mtolerance\u001b[0m\u001b[0;34m=\u001b[0m\u001b[0mtolerance\u001b[0m\u001b[0;34m)\u001b[0m\u001b[0;34m\u001b[0m\u001b[0;34m\u001b[0m\u001b[0m\n\u001b[1;32m   2661\u001b[0m         \u001b[0;32mif\u001b[0m \u001b[0mindexer\u001b[0m\u001b[0;34m.\u001b[0m\u001b[0mndim\u001b[0m \u001b[0;34m>\u001b[0m \u001b[0;36m1\u001b[0m \u001b[0;32mor\u001b[0m \u001b[0mindexer\u001b[0m\u001b[0;34m.\u001b[0m\u001b[0msize\u001b[0m \u001b[0;34m>\u001b[0m \u001b[0;36m1\u001b[0m\u001b[0;34m:\u001b[0m\u001b[0;34m\u001b[0m\u001b[0;34m\u001b[0m\u001b[0m\n",
      "\u001b[0;32mpandas/_libs/index.pyx\u001b[0m in \u001b[0;36mpandas._libs.index.IndexEngine.get_loc\u001b[0;34m()\u001b[0m\n",
      "\u001b[0;32mpandas/_libs/index.pyx\u001b[0m in \u001b[0;36mpandas._libs.index.IndexEngine.get_loc\u001b[0;34m()\u001b[0m\n",
      "\u001b[0;32mpandas/_libs/hashtable_class_helper.pxi\u001b[0m in \u001b[0;36mpandas._libs.hashtable.PyObjectHashTable.get_item\u001b[0;34m()\u001b[0m\n",
      "\u001b[0;32mpandas/_libs/hashtable_class_helper.pxi\u001b[0m in \u001b[0;36mpandas._libs.hashtable.PyObjectHashTable.get_item\u001b[0;34m()\u001b[0m\n",
      "\u001b[0;31mKeyError\u001b[0m: 'task_id'"
     ]
    }
   ],
   "source": [
    "# TODO to get task url you have to create it as follows https://todoist.com/showTask?id={task_id}\n",
    "yday_completed_tasks_df['task_url'] = yday_completed_tasks_df['task_id'].map('https://todoist.com/showTask?id={}'.format)"
   ]
  },
  {
   "cell_type": "code",
   "execution_count": 82,
   "metadata": {},
   "outputs": [],
   "source": [
    "# Drop unwanted columns\n",
    "yday_completed_tasks_df = yday_completed_tasks_df.drop(columns = ['id', 'meta_data', 'project_id', 'user_id', 'task_id'])"
   ]
  },
  {
   "cell_type": "code",
   "execution_count": 62,
   "metadata": {},
   "outputs": [
    {
     "data": {
      "text/html": [
       "<div>\n",
       "<style scoped>\n",
       "    .dataframe tbody tr th:only-of-type {\n",
       "        vertical-align: middle;\n",
       "    }\n",
       "\n",
       "    .dataframe tbody tr th {\n",
       "        vertical-align: top;\n",
       "    }\n",
       "\n",
       "    .dataframe thead th {\n",
       "        text-align: right;\n",
       "    }\n",
       "</style>\n",
       "<table border=\"1\" class=\"dataframe\">\n",
       "  <thead>\n",
       "    <tr style=\"text-align: right;\">\n",
       "      <th></th>\n",
       "      <th>completed_date</th>\n",
       "      <th>content</th>\n",
       "      <th>task_id</th>\n",
       "      <th>project_name</th>\n",
       "      <th>task_url</th>\n",
       "    </tr>\n",
       "  </thead>\n",
       "  <tbody>\n",
       "    <tr>\n",
       "      <th>0</th>\n",
       "      <td>2021-01-05T15:40:59Z</td>\n",
       "      <td>**03a** BUS-4197 [(DE-7570)](https://justeatta...</td>\n",
       "      <td>4430222040</td>\n",
       "      <td>🥓 JET</td>\n",
       "      <td>https://todoist.com/showTask?id=4430222040</td>\n",
       "    </tr>\n",
       "    <tr>\n",
       "      <th>1</th>\n",
       "      <td>2021-01-05T15:40:56Z</td>\n",
       "      <td>**03b** Re-read latest slack message from Fred...</td>\n",
       "      <td>4431395486</td>\n",
       "      <td>🥓 JET</td>\n",
       "      <td>https://todoist.com/showTask?id=4431395486</td>\n",
       "    </tr>\n",
       "    <tr>\n",
       "      <th>2</th>\n",
       "      <td>2021-01-05T13:42:33Z</td>\n",
       "      <td>Complete WFH training Fwd: Help with Temporary...</td>\n",
       "      <td>4430173573</td>\n",
       "      <td>🥓 JET</td>\n",
       "      <td>https://todoist.com/showTask?id=4430173573</td>\n",
       "    </tr>\n",
       "    <tr>\n",
       "      <th>3</th>\n",
       "      <td>2021-01-05T12:50:20Z</td>\n",
       "      <td>**01** Make notes on Data Engineer JD's</td>\n",
       "      <td>4435958173</td>\n",
       "      <td>❶ This Week</td>\n",
       "      <td>https://todoist.com/showTask?id=4435958173</td>\n",
       "    </tr>\n",
       "    <tr>\n",
       "      <th>4</th>\n",
       "      <td>2021-01-05T10:59:35Z</td>\n",
       "      <td>**E1** Call Quality Surveyors on 020 8185 7454...</td>\n",
       "      <td>4436808693</td>\n",
       "      <td>❶ This Week</td>\n",
       "      <td>https://todoist.com/showTask?id=4436808693</td>\n",
       "    </tr>\n",
       "    <tr>\n",
       "      <th>5</th>\n",
       "      <td>2021-01-05T10:59:35Z</td>\n",
       "      <td>Send Solicitor details to George</td>\n",
       "      <td>4463146803</td>\n",
       "      <td>❶ This Week</td>\n",
       "      <td>https://todoist.com/showTask?id=4463146803</td>\n",
       "    </tr>\n",
       "    <tr>\n",
       "      <th>6</th>\n",
       "      <td>2021-01-05T10:59:35Z</td>\n",
       "      <td>Send solicitor details to Daniel at Churchill</td>\n",
       "      <td>4463147630</td>\n",
       "      <td>❶ This Week</td>\n",
       "      <td>https://todoist.com/showTask?id=4463147630</td>\n",
       "    </tr>\n",
       "    <tr>\n",
       "      <th>7</th>\n",
       "      <td>2021-01-05T10:23:24Z</td>\n",
       "      <td>**00** Plan my day</td>\n",
       "      <td>4355453459</td>\n",
       "      <td>❶ This Week</td>\n",
       "      <td>https://todoist.com/showTask?id=4355453459</td>\n",
       "    </tr>\n",
       "    <tr>\n",
       "      <th>8</th>\n",
       "      <td>2021-01-05T09:37:54Z</td>\n",
       "      <td>**E1** Email George to ask about progress with...</td>\n",
       "      <td>4459378021</td>\n",
       "      <td>❶ This Week</td>\n",
       "      <td>https://todoist.com/showTask?id=4459378021</td>\n",
       "    </tr>\n",
       "    <tr>\n",
       "      <th>9</th>\n",
       "      <td>2021-01-05T08:24:33Z</td>\n",
       "      <td>Oranges</td>\n",
       "      <td>4462624101</td>\n",
       "      <td>⏱ Routines</td>\n",
       "      <td>https://todoist.com/showTask?id=4462624101</td>\n",
       "    </tr>\n",
       "    <tr>\n",
       "      <th>10</th>\n",
       "      <td>2021-01-05T08:24:33Z</td>\n",
       "      <td>Blueberries</td>\n",
       "      <td>4462624191</td>\n",
       "      <td>⏱ Routines</td>\n",
       "      <td>https://todoist.com/showTask?id=4462624191</td>\n",
       "    </tr>\n",
       "    <tr>\n",
       "      <th>11</th>\n",
       "      <td>2021-01-05T08:24:33Z</td>\n",
       "      <td>Bananas</td>\n",
       "      <td>4462624369</td>\n",
       "      <td>⏱ Routines</td>\n",
       "      <td>https://todoist.com/showTask?id=4462624369</td>\n",
       "    </tr>\n",
       "    <tr>\n",
       "      <th>12</th>\n",
       "      <td>2021-01-05T08:24:20Z</td>\n",
       "      <td>Dish scrub brush</td>\n",
       "      <td>4459082175</td>\n",
       "      <td>⏱ Routines</td>\n",
       "      <td>https://todoist.com/showTask?id=4459082175</td>\n",
       "    </tr>\n",
       "  </tbody>\n",
       "</table>\n",
       "</div>"
      ],
      "text/plain": [
       "          completed_date                                            content  \\\n",
       "0   2021-01-05T15:40:59Z  **03a** BUS-4197 [(DE-7570)](https://justeatta...   \n",
       "1   2021-01-05T15:40:56Z  **03b** Re-read latest slack message from Fred...   \n",
       "2   2021-01-05T13:42:33Z  Complete WFH training Fwd: Help with Temporary...   \n",
       "3   2021-01-05T12:50:20Z            **01** Make notes on Data Engineer JD's   \n",
       "4   2021-01-05T10:59:35Z  **E1** Call Quality Surveyors on 020 8185 7454...   \n",
       "5   2021-01-05T10:59:35Z                   Send Solicitor details to George   \n",
       "6   2021-01-05T10:59:35Z      Send solicitor details to Daniel at Churchill   \n",
       "7   2021-01-05T10:23:24Z                                 **00** Plan my day   \n",
       "8   2021-01-05T09:37:54Z  **E1** Email George to ask about progress with...   \n",
       "9   2021-01-05T08:24:33Z                                            Oranges   \n",
       "10  2021-01-05T08:24:33Z                                        Blueberries   \n",
       "11  2021-01-05T08:24:33Z                                            Bananas   \n",
       "12  2021-01-05T08:24:20Z                                   Dish scrub brush   \n",
       "\n",
       "       task_id project_name                                    task_url  \n",
       "0   4430222040        🥓 JET  https://todoist.com/showTask?id=4430222040  \n",
       "1   4431395486        🥓 JET  https://todoist.com/showTask?id=4431395486  \n",
       "2   4430173573        🥓 JET  https://todoist.com/showTask?id=4430173573  \n",
       "3   4435958173  ❶ This Week  https://todoist.com/showTask?id=4435958173  \n",
       "4   4436808693  ❶ This Week  https://todoist.com/showTask?id=4436808693  \n",
       "5   4463146803  ❶ This Week  https://todoist.com/showTask?id=4463146803  \n",
       "6   4463147630  ❶ This Week  https://todoist.com/showTask?id=4463147630  \n",
       "7   4355453459  ❶ This Week  https://todoist.com/showTask?id=4355453459  \n",
       "8   4459378021  ❶ This Week  https://todoist.com/showTask?id=4459378021  \n",
       "9   4462624101   ⏱ Routines  https://todoist.com/showTask?id=4462624101  \n",
       "10  4462624191   ⏱ Routines  https://todoist.com/showTask?id=4462624191  \n",
       "11  4462624369   ⏱ Routines  https://todoist.com/showTask?id=4462624369  \n",
       "12  4459082175   ⏱ Routines  https://todoist.com/showTask?id=4459082175  "
      ]
     },
     "execution_count": 62,
     "metadata": {},
     "output_type": "execute_result"
    }
   ],
   "source": [
    "yday_completed_tasks_df"
   ]
  },
  {
   "cell_type": "code",
   "execution_count": 29,
   "metadata": {},
   "outputs": [],
   "source": [
    "# Order of columns [\"task_content_description\", \"project_name\", \"completed_at\"\n",
    "# , \"labels\", \"priority\", \"task_link_url\", \"due_date\"]\n",
    "\n",
    "# TODOs\n",
    "# add column with label names\n",
    "# add column with project name\n",
    "# add column with url link"
   ]
  },
  {
   "cell_type": "code",
   "execution_count": null,
   "metadata": {},
   "outputs": [],
   "source": []
  }
 ],
 "metadata": {
  "kernelspec": {
   "display_name": "Python 3",
   "language": "python",
   "name": "python3"
  },
  "language_info": {
   "codemirror_mode": {
    "name": "ipython",
    "version": 3
   },
   "file_extension": ".py",
   "mimetype": "text/x-python",
   "name": "python",
   "nbconvert_exporter": "python",
   "pygments_lexer": "ipython3",
   "version": "3.7.3"
  }
 },
 "nbformat": 4,
 "nbformat_minor": 2
}
