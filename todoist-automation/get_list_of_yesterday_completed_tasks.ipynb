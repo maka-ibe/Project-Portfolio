{
 "cells": [
  {
   "cell_type": "code",
   "execution_count": 1,
   "metadata": {},
   "outputs": [],
   "source": [
    "from api_token import token\n",
    "import todoist as td\n",
    "import pandas as pd\n",
    "import datetime as dt"
   ]
  },
  {
   "cell_type": "code",
   "execution_count": 2,
   "metadata": {},
   "outputs": [
    {
     "name": "stdout",
     "output_type": "stream",
     "text": [
      "2021-01-08T00:00:00Z\n",
      "2021-01-08T23:59:59Z\n"
     ]
    }
   ],
   "source": [
    "# Get yesterday's date to feed into call\n",
    "today = dt.date.today()\n",
    "yesterday = today - dt.timedelta(days = 1)\n",
    "yday_start = str(yesterday)+\"T00:00:00Z\"\n",
    "yday_end = str(yesterday)+\"T23:59:59Z\"\n",
    "print(yday_start)\n",
    "print(yday_end)"
   ]
  },
  {
   "cell_type": "code",
   "execution_count": 3,
   "metadata": {},
   "outputs": [],
   "source": [
    "api = td.TodoistAPI(token)\n",
    "# Sync to API to get latest data\n",
    "api.sync();"
   ]
  },
  {
   "cell_type": "code",
   "execution_count": 4,
   "metadata": {},
   "outputs": [],
   "source": [
    "yday_completed_tasks_dict = api.completed.get_all(since = yday_start, until = yday_end)"
   ]
  },
  {
   "cell_type": "code",
   "execution_count": 85,
   "metadata": {},
   "outputs": [
    {
     "data": {
      "text/plain": [
       "['items', 'projects']"
      ]
     },
     "execution_count": 85,
     "metadata": {},
     "output_type": "execute_result"
    }
   ],
   "source": [
    "# get list of keys\n",
    "[key for key in yday_completed_tasks_dict]"
   ]
  },
  {
   "cell_type": "code",
   "execution_count": 86,
   "metadata": {},
   "outputs": [],
   "source": [
    "yday_completed_tasks_df = pd.DataFrame(yday_completed_tasks_dict['items'])"
   ]
  },
  {
   "cell_type": "code",
   "execution_count": 102,
   "metadata": {},
   "outputs": [],
   "source": [
    "# our df doesn't yet have project name\n",
    "# create new dict of id and project name\n",
    "td_projects_dict = yday_completed_tasks_dict['projects']\n",
    "projects = {int(key):td_projects_dict[key]['name'] for key in td_projects_dict}"
   ]
  },
  {
   "cell_type": "code",
   "execution_count": 89,
   "metadata": {},
   "outputs": [],
   "source": [
    "# map project names to df\n",
    "yday_completed_tasks_df['project_name'] = yday_completed_tasks_df['project_id'].map(projects)"
   ]
  },
  {
   "cell_type": "code",
   "execution_count": 90,
   "metadata": {},
   "outputs": [],
   "source": [
    "# TODO to get task url you have to create it as follows https://todoist.com/showTask?id={task_id}\n",
    "yday_completed_tasks_df['task_url'] = yday_completed_tasks_df['task_id'].map('https://todoist.com/showTask?id={}'.format)"
   ]
  },
  {
   "cell_type": "code",
   "execution_count": 91,
   "metadata": {},
   "outputs": [],
   "source": [
    "# Drop unwanted columns\n",
    "yday_completed_tasks_df = yday_completed_tasks_df.drop(columns = ['id', 'meta_data', 'project_id', 'user_id', 'task_id'])"
   ]
  },
  {
   "cell_type": "code",
   "execution_count": null,
   "metadata": {},
   "outputs": [],
   "source": [
    "# send email\n",
    "\n",
    "# import yagmail\n",
    "\n",
    "# receiver = \"your@gmail.com\"\n",
    "# body = \"Hello there from Yagmail\"\n",
    "# filename = \"document.pdf\"\n",
    "\n",
    "# yag = yagmail.SMTP(\"my@gmail.com\")\n",
    "# yag.send(\n",
    "#     to=receiver,\n",
    "#     subject=\"Yagmail test with attachment\",\n",
    "#     contents=body, \n",
    "#     attachments=filename,\n",
    "# )"
   ]
  },
  {
   "cell_type": "code",
   "execution_count": 97,
   "metadata": {},
   "outputs": [],
   "source": [
    "# from send_email import send_mail\n",
    "# from get_data import get_gdp_data\n",
    "from pretty_html_table import build_table\n",
    "\n",
    "\n",
    "def prettify_data(data):\n",
    "#     gdp_data = get_gdp_data()\n",
    "    output = build_table(data, 'blue_light')\n",
    "#     send_mail(output)\n",
    "    return output\n",
    "\n",
    "\n",
    "# prettify_data(yday_completed_tasks_df)"
   ]
  },
  {
   "cell_type": "code",
   "execution_count": 103,
   "metadata": {},
   "outputs": [],
   "source": [
    "# import yagmail\n",
    "# yag = yagmail.SMTP(\"nibe0993\")\n",
    "# contents = [\n",
    "#     \"Testing \\n\", prettify_data(yday_completed_tasks_df) ]\n",
    "# yag.send('nibe12@live.com', 'subject', contents)"
   ]
  },
  {
   "cell_type": "code",
   "execution_count": 29,
   "metadata": {},
   "outputs": [],
   "source": [
    "# Order of columns [\"task_content_description\", \"project_name\", \"completed_at\"\n",
    "# , \"labels\", \"priority\", \"task_link_url\", \"due_date\"]\n",
    "\n",
    "# TODOs\n",
    "# add column with label names\n",
    "# add column with project name\n",
    "# add column with url link"
   ]
  },
  {
   "cell_type": "code",
   "execution_count": null,
   "metadata": {},
   "outputs": [],
   "source": []
  }
 ],
 "metadata": {
  "kernelspec": {
   "display_name": "Python 3",
   "language": "python",
   "name": "python3"
  },
  "language_info": {
   "codemirror_mode": {
    "name": "ipython",
    "version": 3
   },
   "file_extension": ".py",
   "mimetype": "text/x-python",
   "name": "python",
   "nbconvert_exporter": "python",
   "pygments_lexer": "ipython3",
   "version": "3.7.3"
  }
 },
 "nbformat": 4,
 "nbformat_minor": 2
}
