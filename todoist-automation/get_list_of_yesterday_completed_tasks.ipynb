{
 "cells": [
  {
   "cell_type": "code",
   "execution_count": 1,
   "metadata": {},
   "outputs": [],
   "source": [
    "from api_token import token\n",
    "import todoist as td\n",
    "import pandas as pd\n",
    "import datetime as dt"
   ]
  },
  {
   "cell_type": "code",
   "execution_count": 2,
   "metadata": {},
   "outputs": [
    {
     "name": "stdout",
     "output_type": "stream",
     "text": [
      "2021-01-05T00:00:00Z\n",
      "2021-01-05T23:59:59Z\n"
     ]
    }
   ],
   "source": [
    "# Get yesterday's date to feed into call\n",
    "today = dt.date.today()\n",
    "yesterday = today - dt.timedelta(days = 1)\n",
    "yday_start = str(yesterday)+\"T00:00:00Z\"\n",
    "yday_end = str(yesterday)+\"T23:59:59Z\"\n",
    "print(yday_start)\n",
    "print(yday_end)"
   ]
  },
  {
   "cell_type": "code",
   "execution_count": 3,
   "metadata": {},
   "outputs": [],
   "source": [
    "api = td.TodoistAPI(token)\n",
    "# Sync to API to get latest data\n",
    "api.sync();"
   ]
  },
  {
   "cell_type": "code",
   "execution_count": 84,
   "metadata": {},
   "outputs": [],
   "source": [
    "yday_completed_tasks_dict = api.completed.get_all(since = yday_start, until = yday_end)"
   ]
  },
  {
   "cell_type": "code",
   "execution_count": 85,
   "metadata": {},
   "outputs": [
    {
     "data": {
      "text/plain": [
       "['items', 'projects']"
      ]
     },
     "execution_count": 85,
     "metadata": {},
     "output_type": "execute_result"
    }
   ],
   "source": [
    "# get list of keys\n",
    "[key for key in yday_completed_tasks_dict]"
   ]
  },
  {
   "cell_type": "code",
   "execution_count": 86,
   "metadata": {},
   "outputs": [],
   "source": [
    "yday_completed_tasks_df = pd.DataFrame(yday_completed_tasks_dict['items'])"
   ]
  },
  {
   "cell_type": "code",
   "execution_count": 87,
   "metadata": {},
   "outputs": [
    {
     "data": {
      "text/html": [
       "<div>\n",
       "<style scoped>\n",
       "    .dataframe tbody tr th:only-of-type {\n",
       "        vertical-align: middle;\n",
       "    }\n",
       "\n",
       "    .dataframe tbody tr th {\n",
       "        vertical-align: top;\n",
       "    }\n",
       "\n",
       "    .dataframe thead th {\n",
       "        text-align: right;\n",
       "    }\n",
       "</style>\n",
       "<table border=\"1\" class=\"dataframe\">\n",
       "  <thead>\n",
       "    <tr style=\"text-align: right;\">\n",
       "      <th></th>\n",
       "      <th>completed_date</th>\n",
       "      <th>content</th>\n",
       "      <th>id</th>\n",
       "      <th>meta_data</th>\n",
       "      <th>project_id</th>\n",
       "      <th>task_id</th>\n",
       "      <th>user_id</th>\n",
       "    </tr>\n",
       "  </thead>\n",
       "  <tbody>\n",
       "    <tr>\n",
       "      <th>0</th>\n",
       "      <td>2021-01-05T15:40:59Z</td>\n",
       "      <td>**03a** BUS-4197 [(DE-7570)](https://justeatta...</td>\n",
       "      <td>4177667603</td>\n",
       "      <td>None</td>\n",
       "      <td>2240338162</td>\n",
       "      <td>4430222040</td>\n",
       "      <td>28966387</td>\n",
       "    </tr>\n",
       "    <tr>\n",
       "      <th>1</th>\n",
       "      <td>2021-01-05T15:40:56Z</td>\n",
       "      <td>**03b** Re-read latest slack message from Fred...</td>\n",
       "      <td>4177667478</td>\n",
       "      <td>None</td>\n",
       "      <td>2240338162</td>\n",
       "      <td>4431395486</td>\n",
       "      <td>28966387</td>\n",
       "    </tr>\n",
       "    <tr>\n",
       "      <th>2</th>\n",
       "      <td>2021-01-05T13:42:33Z</td>\n",
       "      <td>Complete WFH training Fwd: Help with Temporary...</td>\n",
       "      <td>4177354628</td>\n",
       "      <td>None</td>\n",
       "      <td>2240338162</td>\n",
       "      <td>4430173573</td>\n",
       "      <td>28966387</td>\n",
       "    </tr>\n",
       "    <tr>\n",
       "      <th>3</th>\n",
       "      <td>2021-01-05T12:50:20Z</td>\n",
       "      <td>**01** Make notes on Data Engineer JD's</td>\n",
       "      <td>4177236599</td>\n",
       "      <td>None</td>\n",
       "      <td>2240338076</td>\n",
       "      <td>4435958173</td>\n",
       "      <td>28966387</td>\n",
       "    </tr>\n",
       "    <tr>\n",
       "      <th>4</th>\n",
       "      <td>2021-01-05T10:59:35Z</td>\n",
       "      <td>**E1** Call Quality Surveyors on 020 8185 7454...</td>\n",
       "      <td>4177022640</td>\n",
       "      <td>None</td>\n",
       "      <td>2240338076</td>\n",
       "      <td>4436808693</td>\n",
       "      <td>28966387</td>\n",
       "    </tr>\n",
       "  </tbody>\n",
       "</table>\n",
       "</div>"
      ],
      "text/plain": [
       "         completed_date                                            content  \\\n",
       "0  2021-01-05T15:40:59Z  **03a** BUS-4197 [(DE-7570)](https://justeatta...   \n",
       "1  2021-01-05T15:40:56Z  **03b** Re-read latest slack message from Fred...   \n",
       "2  2021-01-05T13:42:33Z  Complete WFH training Fwd: Help with Temporary...   \n",
       "3  2021-01-05T12:50:20Z            **01** Make notes on Data Engineer JD's   \n",
       "4  2021-01-05T10:59:35Z  **E1** Call Quality Surveyors on 020 8185 7454...   \n",
       "\n",
       "           id meta_data  project_id     task_id   user_id  \n",
       "0  4177667603      None  2240338162  4430222040  28966387  \n",
       "1  4177667478      None  2240338162  4431395486  28966387  \n",
       "2  4177354628      None  2240338162  4430173573  28966387  \n",
       "3  4177236599      None  2240338076  4435958173  28966387  \n",
       "4  4177022640      None  2240338076  4436808693  28966387  "
      ]
     },
     "execution_count": 87,
     "metadata": {},
     "output_type": "execute_result"
    }
   ],
   "source": [
    "yday_completed_tasks_df.head()"
   ]
  },
  {
   "cell_type": "code",
   "execution_count": 88,
   "metadata": {},
   "outputs": [
    {
     "data": {
      "text/plain": [
       "{2240338076: '❶ This Week', 2240338162: '🥓 JET', 2240717407: '⏱ Routines'}"
      ]
     },
     "execution_count": 88,
     "metadata": {},
     "output_type": "execute_result"
    }
   ],
   "source": [
    "# our df doesn't yet have project name\n",
    "# create new dict of id and project name\n",
    "td_projects_dict = yday_completed_tasks_dict['projects']\n",
    "projects = {int(key):td_projects_dict[key]['name'] for key in td_projects_dict}\n",
    "projects"
   ]
  },
  {
   "cell_type": "code",
   "execution_count": 89,
   "metadata": {},
   "outputs": [],
   "source": [
    "# map project names to df\n",
    "yday_completed_tasks_df['project_name'] = yday_completed_tasks_df['project_id'].map(projects)"
   ]
  },
  {
   "cell_type": "code",
   "execution_count": 90,
   "metadata": {},
   "outputs": [],
   "source": [
    "# TODO to get task url you have to create it as follows https://todoist.com/showTask?id={task_id}\n",
    "yday_completed_tasks_df['task_url'] = yday_completed_tasks_df['task_id'].map('https://todoist.com/showTask?id={}'.format)"
   ]
  },
  {
   "cell_type": "code",
   "execution_count": 91,
   "metadata": {},
   "outputs": [],
   "source": [
    "# Drop unwanted columns\n",
    "yday_completed_tasks_df = yday_completed_tasks_df.drop(columns = ['id', 'meta_data', 'project_id', 'user_id', 'task_id'])"
   ]
  },
  {
   "cell_type": "code",
   "execution_count": 92,
   "metadata": {},
   "outputs": [
    {
     "data": {
      "text/html": [
       "<div>\n",
       "<style scoped>\n",
       "    .dataframe tbody tr th:only-of-type {\n",
       "        vertical-align: middle;\n",
       "    }\n",
       "\n",
       "    .dataframe tbody tr th {\n",
       "        vertical-align: top;\n",
       "    }\n",
       "\n",
       "    .dataframe thead th {\n",
       "        text-align: right;\n",
       "    }\n",
       "</style>\n",
       "<table border=\"1\" class=\"dataframe\">\n",
       "  <thead>\n",
       "    <tr style=\"text-align: right;\">\n",
       "      <th></th>\n",
       "      <th>completed_date</th>\n",
       "      <th>content</th>\n",
       "      <th>project_name</th>\n",
       "      <th>task_url</th>\n",
       "    </tr>\n",
       "  </thead>\n",
       "  <tbody>\n",
       "    <tr>\n",
       "      <th>0</th>\n",
       "      <td>2021-01-05T15:40:59Z</td>\n",
       "      <td>**03a** BUS-4197 [(DE-7570)](https://justeatta...</td>\n",
       "      <td>🥓 JET</td>\n",
       "      <td>https://todoist.com/showTask?id=4430222040</td>\n",
       "    </tr>\n",
       "    <tr>\n",
       "      <th>1</th>\n",
       "      <td>2021-01-05T15:40:56Z</td>\n",
       "      <td>**03b** Re-read latest slack message from Fred...</td>\n",
       "      <td>🥓 JET</td>\n",
       "      <td>https://todoist.com/showTask?id=4431395486</td>\n",
       "    </tr>\n",
       "    <tr>\n",
       "      <th>2</th>\n",
       "      <td>2021-01-05T13:42:33Z</td>\n",
       "      <td>Complete WFH training Fwd: Help with Temporary...</td>\n",
       "      <td>🥓 JET</td>\n",
       "      <td>https://todoist.com/showTask?id=4430173573</td>\n",
       "    </tr>\n",
       "    <tr>\n",
       "      <th>3</th>\n",
       "      <td>2021-01-05T12:50:20Z</td>\n",
       "      <td>**01** Make notes on Data Engineer JD's</td>\n",
       "      <td>❶ This Week</td>\n",
       "      <td>https://todoist.com/showTask?id=4435958173</td>\n",
       "    </tr>\n",
       "    <tr>\n",
       "      <th>4</th>\n",
       "      <td>2021-01-05T10:59:35Z</td>\n",
       "      <td>**E1** Call Quality Surveyors on 020 8185 7454...</td>\n",
       "      <td>❶ This Week</td>\n",
       "      <td>https://todoist.com/showTask?id=4436808693</td>\n",
       "    </tr>\n",
       "    <tr>\n",
       "      <th>5</th>\n",
       "      <td>2021-01-05T10:59:35Z</td>\n",
       "      <td>Send Solicitor details to George</td>\n",
       "      <td>❶ This Week</td>\n",
       "      <td>https://todoist.com/showTask?id=4463146803</td>\n",
       "    </tr>\n",
       "    <tr>\n",
       "      <th>6</th>\n",
       "      <td>2021-01-05T10:59:35Z</td>\n",
       "      <td>Send solicitor details to Daniel at Churchill</td>\n",
       "      <td>❶ This Week</td>\n",
       "      <td>https://todoist.com/showTask?id=4463147630</td>\n",
       "    </tr>\n",
       "    <tr>\n",
       "      <th>7</th>\n",
       "      <td>2021-01-05T10:23:24Z</td>\n",
       "      <td>**00** Plan my day</td>\n",
       "      <td>❶ This Week</td>\n",
       "      <td>https://todoist.com/showTask?id=4355453459</td>\n",
       "    </tr>\n",
       "    <tr>\n",
       "      <th>8</th>\n",
       "      <td>2021-01-05T09:37:54Z</td>\n",
       "      <td>**E1** Email George to ask about progress with...</td>\n",
       "      <td>❶ This Week</td>\n",
       "      <td>https://todoist.com/showTask?id=4459378021</td>\n",
       "    </tr>\n",
       "    <tr>\n",
       "      <th>9</th>\n",
       "      <td>2021-01-05T08:24:33Z</td>\n",
       "      <td>Oranges</td>\n",
       "      <td>⏱ Routines</td>\n",
       "      <td>https://todoist.com/showTask?id=4462624101</td>\n",
       "    </tr>\n",
       "    <tr>\n",
       "      <th>10</th>\n",
       "      <td>2021-01-05T08:24:33Z</td>\n",
       "      <td>Blueberries</td>\n",
       "      <td>⏱ Routines</td>\n",
       "      <td>https://todoist.com/showTask?id=4462624191</td>\n",
       "    </tr>\n",
       "    <tr>\n",
       "      <th>11</th>\n",
       "      <td>2021-01-05T08:24:33Z</td>\n",
       "      <td>Bananas</td>\n",
       "      <td>⏱ Routines</td>\n",
       "      <td>https://todoist.com/showTask?id=4462624369</td>\n",
       "    </tr>\n",
       "    <tr>\n",
       "      <th>12</th>\n",
       "      <td>2021-01-05T08:24:20Z</td>\n",
       "      <td>Dish scrub brush</td>\n",
       "      <td>⏱ Routines</td>\n",
       "      <td>https://todoist.com/showTask?id=4459082175</td>\n",
       "    </tr>\n",
       "  </tbody>\n",
       "</table>\n",
       "</div>"
      ],
      "text/plain": [
       "          completed_date                                            content  \\\n",
       "0   2021-01-05T15:40:59Z  **03a** BUS-4197 [(DE-7570)](https://justeatta...   \n",
       "1   2021-01-05T15:40:56Z  **03b** Re-read latest slack message from Fred...   \n",
       "2   2021-01-05T13:42:33Z  Complete WFH training Fwd: Help with Temporary...   \n",
       "3   2021-01-05T12:50:20Z            **01** Make notes on Data Engineer JD's   \n",
       "4   2021-01-05T10:59:35Z  **E1** Call Quality Surveyors on 020 8185 7454...   \n",
       "5   2021-01-05T10:59:35Z                   Send Solicitor details to George   \n",
       "6   2021-01-05T10:59:35Z      Send solicitor details to Daniel at Churchill   \n",
       "7   2021-01-05T10:23:24Z                                 **00** Plan my day   \n",
       "8   2021-01-05T09:37:54Z  **E1** Email George to ask about progress with...   \n",
       "9   2021-01-05T08:24:33Z                                            Oranges   \n",
       "10  2021-01-05T08:24:33Z                                        Blueberries   \n",
       "11  2021-01-05T08:24:33Z                                            Bananas   \n",
       "12  2021-01-05T08:24:20Z                                   Dish scrub brush   \n",
       "\n",
       "   project_name                                    task_url  \n",
       "0         🥓 JET  https://todoist.com/showTask?id=4430222040  \n",
       "1         🥓 JET  https://todoist.com/showTask?id=4431395486  \n",
       "2         🥓 JET  https://todoist.com/showTask?id=4430173573  \n",
       "3   ❶ This Week  https://todoist.com/showTask?id=4435958173  \n",
       "4   ❶ This Week  https://todoist.com/showTask?id=4436808693  \n",
       "5   ❶ This Week  https://todoist.com/showTask?id=4463146803  \n",
       "6   ❶ This Week  https://todoist.com/showTask?id=4463147630  \n",
       "7   ❶ This Week  https://todoist.com/showTask?id=4355453459  \n",
       "8   ❶ This Week  https://todoist.com/showTask?id=4459378021  \n",
       "9    ⏱ Routines  https://todoist.com/showTask?id=4462624101  \n",
       "10   ⏱ Routines  https://todoist.com/showTask?id=4462624191  \n",
       "11   ⏱ Routines  https://todoist.com/showTask?id=4462624369  \n",
       "12   ⏱ Routines  https://todoist.com/showTask?id=4459082175  "
      ]
     },
     "execution_count": 92,
     "metadata": {},
     "output_type": "execute_result"
    }
   ],
   "source": [
    "yday_completed_tasks_df"
   ]
  },
  {
   "cell_type": "code",
   "execution_count": null,
   "metadata": {},
   "outputs": [],
   "source": [
    "# send email\n",
    "\n",
    "import yagmail\n",
    "\n",
    "receiver = \"your@gmail.com\"\n",
    "body = \"Hello there from Yagmail\"\n",
    "filename = \"document.pdf\"\n",
    "\n",
    "yag = yagmail.SMTP(\"my@gmail.com\")\n",
    "yag.send(\n",
    "    to=receiver,\n",
    "    subject=\"Yagmail test with attachment\",\n",
    "    contents=body, \n",
    "    attachments=filename,\n",
    ")"
   ]
  },
  {
   "cell_type": "code",
   "execution_count": 97,
   "metadata": {},
   "outputs": [],
   "source": [
    "# from send_email import send_mail\n",
    "# from get_data import get_gdp_data\n",
    "from pretty_html_table import build_table\n",
    "\n",
    "\n",
    "def prettify_data(data):\n",
    "#     gdp_data = get_gdp_data()\n",
    "    output = build_table(data, 'blue_light')\n",
    "#     send_mail(output)\n",
    "    return output\n",
    "\n",
    "\n",
    "# prettify_data(yday_completed_tasks_df)"
   ]
  },
  {
   "cell_type": "code",
   "execution_count": 101,
   "metadata": {},
   "outputs": [
    {
     "name": "stdout",
     "output_type": "stream",
     "text": [
      "Password for <nibe0993@gmail.com>: ········\n",
      "Save username and password in keyring? [y/n]: n\n"
     ]
    },
    {
     "ename": "SMTPAuthenticationError",
     "evalue": "(535, b'5.7.8 Username and Password not accepted. Learn more at\\n5.7.8  https://support.google.com/mail/?p=BadCredentials a13sm4378244wrt.96 - gsmtp')",
     "output_type": "error",
     "traceback": [
      "\u001b[0;31m---------------------------------------------------------------------------\u001b[0m",
      "\u001b[0;31mSMTPAuthenticationError\u001b[0m                   Traceback (most recent call last)",
      "\u001b[0;32m<ipython-input-101-55f9258dc7b3>\u001b[0m in \u001b[0;36m<module>\u001b[0;34m\u001b[0m\n\u001b[1;32m      3\u001b[0m contents = [\n\u001b[1;32m      4\u001b[0m     \"Testing \\n\", prettify_data(yday_completed_tasks_df) ]\n\u001b[0;32m----> 5\u001b[0;31m \u001b[0myag\u001b[0m\u001b[0;34m.\u001b[0m\u001b[0msend\u001b[0m\u001b[0;34m(\u001b[0m\u001b[0;34m'nibe12@live.com'\u001b[0m\u001b[0;34m,\u001b[0m \u001b[0;34m'subject'\u001b[0m\u001b[0;34m,\u001b[0m \u001b[0mcontents\u001b[0m\u001b[0;34m)\u001b[0m\u001b[0;34m\u001b[0m\u001b[0;34m\u001b[0m\u001b[0m\n\u001b[0m",
      "\u001b[0;32m~/anaconda3/lib/python3.7/site-packages/yagmail/sender.py\u001b[0m in \u001b[0;36msend\u001b[0;34m(self, to, subject, contents, attachments, cc, bcc, preview_only, headers, prettify_html, message_id, group_messages)\u001b[0m\n\u001b[1;32m    151\u001b[0m     ):\n\u001b[1;32m    152\u001b[0m         \u001b[0;34m\"\"\" Use this to send an email with gmail\"\"\"\u001b[0m\u001b[0;34m\u001b[0m\u001b[0;34m\u001b[0m\u001b[0m\n\u001b[0;32m--> 153\u001b[0;31m         \u001b[0mself\u001b[0m\u001b[0;34m.\u001b[0m\u001b[0mlogin\u001b[0m\u001b[0;34m(\u001b[0m\u001b[0;34m)\u001b[0m\u001b[0;34m\u001b[0m\u001b[0;34m\u001b[0m\u001b[0m\n\u001b[0m\u001b[1;32m    154\u001b[0m         recipients, msg_string = self.prepare_send(\n\u001b[1;32m    155\u001b[0m             \u001b[0mto\u001b[0m\u001b[0;34m,\u001b[0m\u001b[0;34m\u001b[0m\u001b[0;34m\u001b[0m\u001b[0m\n",
      "\u001b[0;32m~/anaconda3/lib/python3.7/site-packages/yagmail/sender.py\u001b[0m in \u001b[0;36mlogin\u001b[0;34m(self)\u001b[0m\n\u001b[1;32m    204\u001b[0m             \u001b[0mself\u001b[0m\u001b[0;34m.\u001b[0m\u001b[0m_login_oauth2\u001b[0m\u001b[0;34m(\u001b[0m\u001b[0mself\u001b[0m\u001b[0;34m.\u001b[0m\u001b[0mcredentials\u001b[0m\u001b[0;34m)\u001b[0m\u001b[0;34m\u001b[0m\u001b[0;34m\u001b[0m\u001b[0m\n\u001b[1;32m    205\u001b[0m         \u001b[0;32melse\u001b[0m\u001b[0;34m:\u001b[0m\u001b[0;34m\u001b[0m\u001b[0;34m\u001b[0m\u001b[0m\n\u001b[0;32m--> 206\u001b[0;31m             \u001b[0mself\u001b[0m\u001b[0;34m.\u001b[0m\u001b[0m_login\u001b[0m\u001b[0;34m(\u001b[0m\u001b[0mself\u001b[0m\u001b[0;34m.\u001b[0m\u001b[0mcredentials\u001b[0m\u001b[0;34m)\u001b[0m\u001b[0;34m\u001b[0m\u001b[0;34m\u001b[0m\u001b[0m\n\u001b[0m\u001b[1;32m    207\u001b[0m \u001b[0;34m\u001b[0m\u001b[0m\n\u001b[1;32m    208\u001b[0m     \u001b[0;32mdef\u001b[0m \u001b[0m_login\u001b[0m\u001b[0;34m(\u001b[0m\u001b[0mself\u001b[0m\u001b[0;34m,\u001b[0m \u001b[0mpassword\u001b[0m\u001b[0;34m)\u001b[0m\u001b[0;34m:\u001b[0m\u001b[0;34m\u001b[0m\u001b[0;34m\u001b[0m\u001b[0m\n",
      "\u001b[0;32m~/anaconda3/lib/python3.7/site-packages/yagmail/sender.py\u001b[0m in \u001b[0;36m_login\u001b[0;34m(self, password)\u001b[0m\n\u001b[1;32m    223\u001b[0m         \u001b[0;32mif\u001b[0m \u001b[0;32mnot\u001b[0m \u001b[0mself\u001b[0m\u001b[0;34m.\u001b[0m\u001b[0msmtp_skip_login\u001b[0m\u001b[0;34m:\u001b[0m\u001b[0;34m\u001b[0m\u001b[0;34m\u001b[0m\u001b[0m\n\u001b[1;32m    224\u001b[0m             \u001b[0mpassword\u001b[0m \u001b[0;34m=\u001b[0m \u001b[0mself\u001b[0m\u001b[0;34m.\u001b[0m\u001b[0mhandle_password\u001b[0m\u001b[0;34m(\u001b[0m\u001b[0mself\u001b[0m\u001b[0;34m.\u001b[0m\u001b[0muser\u001b[0m\u001b[0;34m,\u001b[0m \u001b[0mpassword\u001b[0m\u001b[0;34m)\u001b[0m\u001b[0;34m\u001b[0m\u001b[0;34m\u001b[0m\u001b[0m\n\u001b[0;32m--> 225\u001b[0;31m             \u001b[0mself\u001b[0m\u001b[0;34m.\u001b[0m\u001b[0msmtp\u001b[0m\u001b[0;34m.\u001b[0m\u001b[0mlogin\u001b[0m\u001b[0;34m(\u001b[0m\u001b[0mself\u001b[0m\u001b[0;34m.\u001b[0m\u001b[0muser\u001b[0m\u001b[0;34m,\u001b[0m \u001b[0mpassword\u001b[0m\u001b[0;34m)\u001b[0m\u001b[0;34m\u001b[0m\u001b[0;34m\u001b[0m\u001b[0m\n\u001b[0m\u001b[1;32m    226\u001b[0m         \u001b[0mself\u001b[0m\u001b[0;34m.\u001b[0m\u001b[0mlog\u001b[0m\u001b[0;34m.\u001b[0m\u001b[0minfo\u001b[0m\u001b[0;34m(\u001b[0m\u001b[0;34m\"Connected to SMTP @ %s:%s as %s\"\u001b[0m\u001b[0;34m,\u001b[0m \u001b[0mself\u001b[0m\u001b[0;34m.\u001b[0m\u001b[0mhost\u001b[0m\u001b[0;34m,\u001b[0m \u001b[0mself\u001b[0m\u001b[0;34m.\u001b[0m\u001b[0mport\u001b[0m\u001b[0;34m,\u001b[0m \u001b[0mself\u001b[0m\u001b[0;34m.\u001b[0m\u001b[0muser\u001b[0m\u001b[0;34m)\u001b[0m\u001b[0;34m\u001b[0m\u001b[0;34m\u001b[0m\u001b[0m\n\u001b[1;32m    227\u001b[0m \u001b[0;34m\u001b[0m\u001b[0m\n",
      "\u001b[0;32m~/anaconda3/lib/python3.7/smtplib.py\u001b[0m in \u001b[0;36mlogin\u001b[0;34m(self, user, password, initial_response_ok)\u001b[0m\n\u001b[1;32m    728\u001b[0m \u001b[0;34m\u001b[0m\u001b[0m\n\u001b[1;32m    729\u001b[0m         \u001b[0;31m# We could not login successfully.  Return result of last attempt.\u001b[0m\u001b[0;34m\u001b[0m\u001b[0;34m\u001b[0m\u001b[0;34m\u001b[0m\u001b[0m\n\u001b[0;32m--> 730\u001b[0;31m         \u001b[0;32mraise\u001b[0m \u001b[0mlast_exception\u001b[0m\u001b[0;34m\u001b[0m\u001b[0;34m\u001b[0m\u001b[0m\n\u001b[0m\u001b[1;32m    731\u001b[0m \u001b[0;34m\u001b[0m\u001b[0m\n\u001b[1;32m    732\u001b[0m     \u001b[0;32mdef\u001b[0m \u001b[0mstarttls\u001b[0m\u001b[0;34m(\u001b[0m\u001b[0mself\u001b[0m\u001b[0;34m,\u001b[0m \u001b[0mkeyfile\u001b[0m\u001b[0;34m=\u001b[0m\u001b[0;32mNone\u001b[0m\u001b[0;34m,\u001b[0m \u001b[0mcertfile\u001b[0m\u001b[0;34m=\u001b[0m\u001b[0;32mNone\u001b[0m\u001b[0;34m,\u001b[0m \u001b[0mcontext\u001b[0m\u001b[0;34m=\u001b[0m\u001b[0;32mNone\u001b[0m\u001b[0;34m)\u001b[0m\u001b[0;34m:\u001b[0m\u001b[0;34m\u001b[0m\u001b[0;34m\u001b[0m\u001b[0m\n",
      "\u001b[0;32m~/anaconda3/lib/python3.7/smtplib.py\u001b[0m in \u001b[0;36mlogin\u001b[0;34m(self, user, password, initial_response_ok)\u001b[0m\n\u001b[1;32m    719\u001b[0m                 (code, resp) = self.auth(\n\u001b[1;32m    720\u001b[0m                     \u001b[0mauthmethod\u001b[0m\u001b[0;34m,\u001b[0m \u001b[0mgetattr\u001b[0m\u001b[0;34m(\u001b[0m\u001b[0mself\u001b[0m\u001b[0;34m,\u001b[0m \u001b[0mmethod_name\u001b[0m\u001b[0;34m)\u001b[0m\u001b[0;34m,\u001b[0m\u001b[0;34m\u001b[0m\u001b[0;34m\u001b[0m\u001b[0m\n\u001b[0;32m--> 721\u001b[0;31m                     initial_response_ok=initial_response_ok)\n\u001b[0m\u001b[1;32m    722\u001b[0m                 \u001b[0;31m# 235 == 'Authentication successful'\u001b[0m\u001b[0;34m\u001b[0m\u001b[0;34m\u001b[0m\u001b[0;34m\u001b[0m\u001b[0m\n\u001b[1;32m    723\u001b[0m                 \u001b[0;31m# 503 == 'Error: already authenticated'\u001b[0m\u001b[0;34m\u001b[0m\u001b[0;34m\u001b[0m\u001b[0;34m\u001b[0m\u001b[0m\n",
      "\u001b[0;32m~/anaconda3/lib/python3.7/smtplib.py\u001b[0m in \u001b[0;36mauth\u001b[0;34m(self, mechanism, authobject, initial_response_ok)\u001b[0m\n\u001b[1;32m    640\u001b[0m         \u001b[0;32mif\u001b[0m \u001b[0mcode\u001b[0m \u001b[0;32min\u001b[0m \u001b[0;34m(\u001b[0m\u001b[0;36m235\u001b[0m\u001b[0;34m,\u001b[0m \u001b[0;36m503\u001b[0m\u001b[0;34m)\u001b[0m\u001b[0;34m:\u001b[0m\u001b[0;34m\u001b[0m\u001b[0;34m\u001b[0m\u001b[0m\n\u001b[1;32m    641\u001b[0m             \u001b[0;32mreturn\u001b[0m \u001b[0;34m(\u001b[0m\u001b[0mcode\u001b[0m\u001b[0;34m,\u001b[0m \u001b[0mresp\u001b[0m\u001b[0;34m)\u001b[0m\u001b[0;34m\u001b[0m\u001b[0;34m\u001b[0m\u001b[0m\n\u001b[0;32m--> 642\u001b[0;31m         \u001b[0;32mraise\u001b[0m \u001b[0mSMTPAuthenticationError\u001b[0m\u001b[0;34m(\u001b[0m\u001b[0mcode\u001b[0m\u001b[0;34m,\u001b[0m \u001b[0mresp\u001b[0m\u001b[0;34m)\u001b[0m\u001b[0;34m\u001b[0m\u001b[0;34m\u001b[0m\u001b[0m\n\u001b[0m\u001b[1;32m    643\u001b[0m \u001b[0;34m\u001b[0m\u001b[0m\n\u001b[1;32m    644\u001b[0m     \u001b[0;32mdef\u001b[0m \u001b[0mauth_cram_md5\u001b[0m\u001b[0;34m(\u001b[0m\u001b[0mself\u001b[0m\u001b[0;34m,\u001b[0m \u001b[0mchallenge\u001b[0m\u001b[0;34m=\u001b[0m\u001b[0;32mNone\u001b[0m\u001b[0;34m)\u001b[0m\u001b[0;34m:\u001b[0m\u001b[0;34m\u001b[0m\u001b[0;34m\u001b[0m\u001b[0m\n",
      "\u001b[0;31mSMTPAuthenticationError\u001b[0m: (535, b'5.7.8 Username and Password not accepted. Learn more at\\n5.7.8  https://support.google.com/mail/?p=BadCredentials a13sm4378244wrt.96 - gsmtp')"
     ]
    }
   ],
   "source": [
    "import yagmail\n",
    "yag = yagmail.SMTP(\"nibe0993\")\n",
    "contents = [\n",
    "    \"Testing \\n\", prettify_data(yday_completed_tasks_df) ]\n",
    "yag.send('nibe12@live.com', 'subject', contents)"
   ]
  },
  {
   "cell_type": "code",
   "execution_count": 29,
   "metadata": {},
   "outputs": [],
   "source": [
    "# Order of columns [\"task_content_description\", \"project_name\", \"completed_at\"\n",
    "# , \"labels\", \"priority\", \"task_link_url\", \"due_date\"]\n",
    "\n",
    "# TODOs\n",
    "# add column with label names\n",
    "# add column with project name\n",
    "# add column with url link"
   ]
  },
  {
   "cell_type": "code",
   "execution_count": null,
   "metadata": {},
   "outputs": [],
   "source": []
  }
 ],
 "metadata": {
  "kernelspec": {
   "display_name": "Python 3",
   "language": "python",
   "name": "python3"
  },
  "language_info": {
   "codemirror_mode": {
    "name": "ipython",
    "version": 3
   },
   "file_extension": ".py",
   "mimetype": "text/x-python",
   "name": "python",
   "nbconvert_exporter": "python",
   "pygments_lexer": "ipython3",
   "version": "3.7.3"
  }
 },
 "nbformat": 4,
 "nbformat_minor": 2
}
